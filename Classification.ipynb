{
  "nbformat": 4,
  "nbformat_minor": 0,
  "metadata": {
    "colab": {
      "private_outputs": true,
      "provenance": [],
      "collapsed_sections": [
        "vncDsAP0Gaoa",
        "FJNUwmbgGyua",
        "w6K7xa23Elo4",
        "yQaldy8SH6Dl",
        "mDgbUHAGgjLW",
        "O_i_v8NEhb9l",
        "HhfV-JJviCcP",
        "Y3lxredqlCYt",
        "3RnN4peoiCZX",
        "x71ZqKXriCWQ",
        "7hBIi_osiCS2",
        "JlHwYmJAmNHm",
        "35m5QtbWiB9F",
        "PoPl-ycgm1ru",
        "H0kj-8xxnORC",
        "nA9Y7ga8ng1Z",
        "PBTbrJXOngz2",
        "u3PMJOP6ngxN",
        "dauF4eBmngu3",
        "bKJF3rekwFvQ",
        "MSa1f5Uengrz",
        "GF8Ens_Soomf",
        "0wOQAZs5pc--",
        "K5QZ13OEpz2H",
        "lQ7QKXXCp7Bj",
        "448CDAPjqfQr",
        "KSlN3yHqYklG",
        "t6dVpIINYklI",
        "ijmpgYnKYklI",
        "-JiQyfWJYklI",
        "EM7whBJCYoAo",
        "fge-S5ZAYoAp",
        "85gYPyotYoAp",
        "RoGjAbkUYoAp",
        "4Of9eVA-YrdM",
        "iky9q4vBYrdO",
        "F6T5p64dYrdO",
        "y-Ehk30pYrdP",
        "bamQiAODYuh1",
        "QHF8YVU7Yuh3",
        "GwzvFGzlYuh3",
        "qYpmQ266Yuh3",
        "OH-pJp9IphqM",
        "bbFf2-_FphqN",
        "_ouA3fa0phqN",
        "Seke61FWphqN",
        "PIIx-8_IphqN",
        "t27r6nlMphqO",
        "r2jJGEOYphqO",
        "b0JNsNcRphqO",
        "BZR9WyysphqO",
        "jj7wYXLtphqO",
        "eZrbJ2SmphqO",
        "rFu4xreNphqO",
        "YJ55k-q6phqO",
        "gCFgpxoyphqP",
        "OVtJsKN_phqQ",
        "lssrdh5qphqQ",
        "U2RJ9gkRphqQ",
        "1M8mcRywphqQ",
        "tgIPom80phqQ",
        "JMzcOPDDphqR",
        "x-EpHcCOp1ci",
        "X_VqEhTip1ck",
        "8zGJKyg5p1ck",
        "PVzmfK_Ep1ck",
        "n3dbpmDWp1ck",
        "ylSl6qgtp1ck",
        "ZWILFDl5p1ck",
        "M7G43BXep1ck",
        "Ag9LCva-p1cl",
        "E6MkPsBcp1cl",
        "2cELzS2fp1cl",
        "3MPXvC8up1cl",
        "NC_X3p0fY2L0",
        "UV0SzAkaZNRQ",
        "YPEH6qLeZNRQ",
        "q29F0dvdveiT",
        "EXh0U9oCveiU",
        "22aHeOlLveiV",
        "g-ATYxFrGrvw",
        "Yfr_Vlr8HBkt",
        "8yEUt7NnHlrM",
        "tEA2Xm5dHt1r",
        "I79__PHVH19G",
        "Ou-I18pAyIpj",
        "fF3858GYyt-u",
        "4_0_7-oCpUZd",
        "hwyV_J3ipUZe",
        "3yB-zSqbpUZe",
        "dEUvejAfpUZe",
        "Fd15vwWVpUZf",
        "bn_IUdTipZyH",
        "49K5P_iCpZyH",
        "Nff-vKELpZyI",
        "kLW572S8pZyI",
        "dWbDXHzopZyI",
        "yLjJCtPM0KBk",
        "xiyOF9F70UgQ",
        "7wuGOrhz0itI",
        "id1riN9m0vUs",
        "578E2V7j08f6",
        "89xtkJwZ18nB",
        "67NQN5KX2AMe",
        "Iwf50b-R2tYG",
        "GMQiZwjn3iu7",
        "WVIkgGqN3qsr",
        "XkPnILGE3zoT",
        "Hlsf0x5436Go",
        "mT9DMSJo4nBL",
        "c49ITxTc407N",
        "OeJFEK0N496M",
        "9ExmJH0g5HBk",
        "cJNqERVU536h",
        "k5UmGsbsOxih",
        "T0VqWOYE6DLQ",
        "qBMux9mC6MCf",
        "-oLEiFgy-5Pf",
        "C74aWNz2AliB",
        "2DejudWSA-a0",
        "pEMng2IbBLp7",
        "rAdphbQ9Bhjc",
        "TNVZ9zx19K6k",
        "nqoHp30x9hH9",
        "rMDnDkt2B6du",
        "yiiVWRdJDDil",
        "1UUpS68QDMuG",
        "kexQrXU-DjzY",
        "T5CmagL3EC8N",
        "BhH2vgX9EjGr",
        "qjKvONjwE8ra",
        "P1XJ9OREExlT",
        "VFOzZv6IFROw",
        "TIqpNgepFxVj",
        "VfCC591jGiD4",
        "OB4l2ZhMeS1U",
        "ArJBuiUVfxKd",
        "4qY1EAkEfxKe",
        "PiV4Ypx8fxKe",
        "TfvqoZmBfxKf",
        "dJ2tPlVmpsJ0",
        "JWYfwnehpsJ1",
        "-jK_YjpMpsJ2",
        "HAih1iBOpsJ2",
        "zVGeBEFhpsJ2",
        "bmKjuQ-FpsJ3",
        "Fze-IPXLpx6K",
        "7AN1z2sKpx6M",
        "9PIHJqyupx6M",
        "_-qAgymDpx6N",
        "Z-hykwinpx6N",
        "h_CCil-SKHpo",
        "cBFFvTBNJzUa",
        "HvGl1hHyA_VK",
        "EyNgTHvd2WFk",
        "KH5McJBi2d8v",
        "iW_Lq9qf2h6X",
        "-Kee-DAl2viO",
        "gCX9965dhzqZ",
        "gIfDvo9L0UH2"
      ],
      "include_colab_link": true
    },
    "kernelspec": {
      "name": "python3",
      "display_name": "Python 3"
    },
    "language_info": {
      "name": "python"
    }
  },
  "cells": [
    {
      "cell_type": "markdown",
      "metadata": {
        "id": "view-in-github",
        "colab_type": "text"
      },
      "source": [
        "<a href=\"https://colab.research.google.com/github/sanyamja1n/Mobile-Price-Range-Prediction/blob/main/Classification.ipynb\" target=\"_parent\"><img src=\"https://colab.research.google.com/assets/colab-badge.svg\" alt=\"Open In Colab\"/></a>"
      ]
    },
    {
      "cell_type": "markdown",
      "source": [
        "# **Project Name**    - Mobile Price Range Prediction\n",
        "\n"
      ],
      "metadata": {
        "id": "vncDsAP0Gaoa"
      }
    },
    {
      "cell_type": "markdown",
      "source": [
        "##### **Project Type**    - Classification\n",
        "##### **Contribution**    - Team\n",
        "##### **Team Member 1 -** Yaser Zaidi\n",
        "##### **Team Member 2 -** Sanyam Jain\n",
        "##### **Team Member 3 -** Shraddha Shandilya\n",
        "##### **Team Member 4 -** Yaseer Khan\n",
        "##### **Team Member 5 -** Abhishek Bhargava"
      ],
      "metadata": {
        "id": "beRrZCGUAJYm"
      }
    },
    {
      "cell_type": "markdown",
      "source": [
        "# **Project Summary -**"
      ],
      "metadata": {
        "id": "FJNUwmbgGyua"
      }
    },
    {
      "cell_type": "markdown",
      "source": [
        "In this colab, we have implemented a Mobile Price Prediction using different Machine Learning Algorithms. This project will classify the price range of the mobile price. The price ranges from 0-3. We’ll discuss the price range in the dataset. It's a classification problem. Now we have trained a mobile price classification using different ML algorithms. This model classifies the range of the mobile based on the different parameters like from camera, touch screen, cores, battery, clock speed, internal memory, battery capacity, etc. After training the model using different algorithms, we compared all the models.. "
      ],
      "metadata": {
        "id": "F6v_1wHtG2nS"
      }
    },
    {
      "cell_type": "markdown",
      "source": [
        "# **GitHub Link -**"
      ],
      "metadata": {
        "id": "w6K7xa23Elo4"
      }
    },
    {
      "cell_type": "markdown",
      "source": [
        "https://github.com/sanyamja1n/Mobile-Price-Range-Prediction\n"
      ],
      "metadata": {
        "id": "h1o69JH3Eqqn"
      }
    },
    {
      "cell_type": "markdown",
      "source": [
        "# **Problem Statement**\n"
      ],
      "metadata": {
        "id": "yQaldy8SH6Dl"
      }
    },
    {
      "cell_type": "markdown",
      "source": [
        "**Mobile phones come in all sorts of prices, features, specifications and all. Price estimation and prediction is an important part of consumer strategy. Deciding on the correct price of a product is very important for the market success of a product. A new product that has to be launched, must have the correct price so that consumers find it appropriate to buy the product.**\n",
        "\n",
        "**The data contains information regarding mobile phone features, specifications etc and their price range. The various features and information can be used to predict the price range of a mobile phone.**"
      ],
      "metadata": {
        "id": "DpeJGUA3kjGy"
      }
    },
    {
      "cell_type": "markdown",
      "source": [
        "# **General Guidelines** : -  "
      ],
      "metadata": {
        "id": "mDgbUHAGgjLW"
      }
    },
    {
      "cell_type": "markdown",
      "source": [
        "1.   Well-structured, formatted, and commented code is required. \n",
        "2.   Exception Handling, Production Grade Code & Deployment Ready Code will be a plus. Those students will be awarded some additional credits. \n",
        "     \n",
        "     The additional credits will have advantages over other students during Star Student selection.\n",
        "       \n",
        "             [ Note: - Deployment Ready Code is defined as, the whole .ipynb notebook should be executable in one go\n",
        "                       without a single error logged. ]\n",
        "\n",
        "3.   Each and every logic should have proper comments.\n",
        "4. You may add as many number of charts you want. Make Sure for each and every chart the following format should be answered.\n",
        "        \n",
        "\n",
        "```\n",
        "# Chart visualization code\n",
        "```\n",
        "            \n",
        "\n",
        "*   Why did you pick the specific chart?\n",
        "*   What is/are the insight(s) found from the chart?\n",
        "* Will the gained insights help creating a positive business impact? \n",
        "Are there any insights that lead to negative growth? Justify with specific reason.\n",
        "\n",
        "5. You have to create at least 15 logical & meaningful charts having important insights.\n",
        "\n",
        "\n",
        "[ Hints : - Do the Vizualization in  a structured way while following \"UBM\" Rule. \n",
        "\n",
        "U - Univariate Analysis,\n",
        "\n",
        "B - Bivariate Analysis (Numerical - Categorical, Numerical - Numerical, Categorical - Categorical)\n",
        "\n",
        "M - Multivariate Analysis\n",
        " ]\n",
        "\n",
        "\n",
        "\n",
        "\n",
        "\n",
        "6. You may add more ml algorithms for model creation. Make sure for each and every algorithm, the following format should be answered.\n",
        "\n",
        "\n",
        "*   Explain the ML Model used and it's performance using Evaluation metric Score Chart.\n",
        "\n",
        "\n",
        "*   Cross- Validation & Hyperparameter Tuning\n",
        "\n",
        "*   Have you seen any improvement? Note down the improvement with updates Evaluation metric Score Chart.\n",
        "\n",
        "*   Explain each evaluation metric's indication towards business and the business impact pf the ML model used.\n",
        "\n",
        "\n",
        "\n",
        "\n",
        "\n",
        "\n",
        "\n",
        "\n",
        "\n",
        "\n",
        "\n",
        "\n",
        "\n",
        "\n",
        "\n",
        "\n",
        "\n",
        "\n"
      ],
      "metadata": {
        "id": "ZrxVaUj-hHfC"
      }
    },
    {
      "cell_type": "markdown",
      "source": [
        "# ***Let's Begin !***"
      ],
      "metadata": {
        "id": "O_i_v8NEhb9l"
      }
    },
    {
      "cell_type": "markdown",
      "source": [
        "## ***1. Know Your Data***"
      ],
      "metadata": {
        "id": "HhfV-JJviCcP"
      }
    },
    {
      "cell_type": "markdown",
      "source": [
        "### Import Libraries"
      ],
      "metadata": {
        "id": "Y3lxredqlCYt"
      }
    },
    {
      "cell_type": "code",
      "source": [
        "# Import Libraries\n",
        "import pandas as pd\n",
        "import numpy as np \n",
        "import matplotlib.pyplot as plt\n",
        "import seaborn as sns                \n",
        "\n",
        "from sklearn.model_selection import train_test_split, GridSearchCV\n",
        "\n",
        "from sklearn.tree import DecisionTreeClassifier\n",
        "from sklearn.ensemble import RandomForestClassifier, GradientBoostingClassifier\n",
        "from sklearn.naive_bayes import GaussianNB\n",
        "from sklearn.neighbors import KNeighborsClassifier\n",
        "from sklearn import svm\n",
        "import xgboost as xgb\n",
        "from sklearn.preprocessing import MinMaxScaler\n",
        "\n",
        "\n",
        "from sklearn.metrics import accuracy_score, classification_report, confusion_matrix\n",
        "\n",
        "import warnings\n",
        "warnings.filterwarnings('ignore')\n",
        "\n",
        "%matplotlib inline"
      ],
      "metadata": {
        "id": "M8Vqi-pPk-HR"
      },
      "execution_count": null,
      "outputs": []
    },
    {
      "cell_type": "markdown",
      "source": [
        "### Dataset Loading"
      ],
      "metadata": {
        "id": "3RnN4peoiCZX"
      }
    },
    {
      "cell_type": "code",
      "source": [
        "# Load Dataset\n",
        "from google.colab import drive\n",
        "drive.mount('/content/drive')"
      ],
      "metadata": {
        "id": "4CkvbW_SlZ_R"
      },
      "execution_count": null,
      "outputs": []
    },
    {
      "cell_type": "code",
      "source": [
        "df = pd.read_csv(\"/content/drive/MyDrive/Sample Data/data_mobile_price_range.csv\")\n",
        "\n",
        "pd.pandas.set_option('display.max_columns',None)"
      ],
      "metadata": {
        "id": "K_Ll_axYbtTS"
      },
      "execution_count": null,
      "outputs": []
    },
    {
      "cell_type": "markdown",
      "source": [
        "### Dataset First View"
      ],
      "metadata": {
        "id": "x71ZqKXriCWQ"
      }
    },
    {
      "cell_type": "code",
      "source": [
        "# Dataset First Look\n",
        "df.head()"
      ],
      "metadata": {
        "id": "LWNFOSvLl09H"
      },
      "execution_count": null,
      "outputs": []
    },
    {
      "cell_type": "markdown",
      "source": [
        "### Dataset Rows & Columns count"
      ],
      "metadata": {
        "id": "7hBIi_osiCS2"
      }
    },
    {
      "cell_type": "code",
      "source": [
        "# Dataset Rows & Columns count\n",
        "df.shape"
      ],
      "metadata": {
        "id": "Kllu7SJgmLij"
      },
      "execution_count": null,
      "outputs": []
    },
    {
      "cell_type": "markdown",
      "source": [
        "### Dataset Information"
      ],
      "metadata": {
        "id": "JlHwYmJAmNHm"
      }
    },
    {
      "cell_type": "code",
      "source": [
        "# Dataset Info\n",
        "df.info()"
      ],
      "metadata": {
        "id": "e9hRXRi6meOf"
      },
      "execution_count": null,
      "outputs": []
    },
    {
      "cell_type": "markdown",
      "source": [
        "Datatype of all features is either int or float."
      ],
      "metadata": {
        "id": "LhcCQsqecO3d"
      }
    },
    {
      "cell_type": "markdown",
      "source": [
        "#### Duplicate Values"
      ],
      "metadata": {
        "id": "35m5QtbWiB9F"
      }
    },
    {
      "cell_type": "code",
      "source": [
        "# Dataset Duplicate Value Count\n",
        "df.duplicated().sum()"
      ],
      "metadata": {
        "id": "1sLdpKYkmox0"
      },
      "execution_count": null,
      "outputs": []
    },
    {
      "cell_type": "markdown",
      "source": [
        "#### Missing Values/Null Values"
      ],
      "metadata": {
        "id": "PoPl-ycgm1ru"
      }
    },
    {
      "cell_type": "code",
      "source": [
        "# Missing Values/Null Values Count\n",
        "df.isna().sum()"
      ],
      "metadata": {
        "id": "GgHWkxvamxVg"
      },
      "execution_count": null,
      "outputs": []
    },
    {
      "cell_type": "markdown",
      "source": [
        "There are 0 Null values."
      ],
      "metadata": {
        "id": "6F7sOVyAcvJ-"
      }
    },
    {
      "cell_type": "markdown",
      "source": [
        "### What did you know about your dataset?"
      ],
      "metadata": {
        "id": "H0kj-8xxnORC"
      }
    },
    {
      "cell_type": "markdown",
      "source": [
        "Our dataset is consist of 21 columns and 2000 rows. The data contains information regarding mobile phone features, specifications, etc and their price range.\n",
        "\n",
        "* Battery Power in mAh\n",
        "\n",
        "* Has BlueTooth or not\n",
        "\n",
        "* Microprocessor clock speed\n",
        "\n",
        "* The phone has dual sim support or not\n",
        "\n",
        "* Front Camera Megapixels\n",
        "\n",
        "* Has 4G support or not\n",
        "\n",
        "* Internal Memory in GigaBytes\n",
        "\n",
        "* Mobile Depth in Cm\n",
        "\n",
        "* Weight of Mobile Phone\n",
        "\n",
        "* Number of cores in the processor\n",
        "\n",
        "* Primary Camera Megapixels\n",
        "\n",
        "* Pixel Resolution height\n",
        "\n",
        "* Pixel resolution width\n",
        "\n",
        "* RAM in MB\n",
        "\n",
        "* Mobile screen height in cm\n",
        "\n",
        "* Mobile screen width in cm\n",
        "\n",
        "* Longest time after a single charge\n",
        "\n",
        "* 3g or not\n",
        "\n",
        "* Has touch screen or not\n",
        "\n",
        "* Has wifi or not"
      ],
      "metadata": {
        "id": "gfoNAAC-nUe_"
      }
    },
    {
      "cell_type": "markdown",
      "source": [
        "## ***2. Understanding Your Variables***"
      ],
      "metadata": {
        "id": "nA9Y7ga8ng1Z"
      }
    },
    {
      "cell_type": "code",
      "source": [
        "# Dataset Columns\n",
        "df.columns"
      ],
      "metadata": {
        "id": "j7xfkqrt5Ag5"
      },
      "execution_count": null,
      "outputs": []
    },
    {
      "cell_type": "markdown",
      "source": [
        "![Screenshot 2023-02-11 141919.png](data:image/png;base64,iVBORw0KGgoAAAANSUhEUgAAAqoAAAN9CAYAAABbyVtJAAAAAXNSR0IArs4c6QAAAARnQU1BAACxjwv8YQUAAAAJcEhZcwAAEnQAABJ0Ad5mH3gAAP+lSURBVHhe7N0FuGVHmT38CnF3d3d3F+JGPIEkSCAQBhgs/xlgsMECDIMMMoGQECfEjbi7u7u7u8738avp6jkc7u2+t/t29+nutZ5nP+ecvWtXvWWrVr1Ve59J/r+/oXTgi1/8YrnnnnvKX//61/KBD3xg2NkgCIJgINhrr73q55FHHlk/gyAIgoHhf/7nf8o222xTllhiifKrX/2qnosSDYIgCIIgCHoSEapBEARBEARBTyJCNQiCIAiCIOhJRKgGQRAEQRAEPYkI1SAIgiAIgqAnEaEaBEEQBEEQ9CQiVIMgCIIgCIKexBgTql7P+uabb5arrrqqHH/88eW0004rL774YnnvvfeGhegf77//fnn00UfL4YcfXr7zne+Uiy66qDz77LPDrv4f3n333fLMM8+Uo446qvziF7+o7359/vnnh10NgiAIhhLeceg926effno59NBDy1133VXeeuutYVdHDeK8//77K38fdthh5bbbbhvtOIMgmHAwykL1oYceKpdcckk59thj+zwuvfTS8tRTT5UHHnig3HjjjfV47bXXBiRUidxXXnml3HrrrVWkPvzww+WNN94YdvX/gOBef/31SmwE8b333lvFcRAEQS+jibMLL7xwOGced9xx5dRTT628+uCDD1a+7EU899xz5Y477iiXXXZZefzxx8s777wz7MrIgcdvv/32mu9rr722vPrqq9UxwcFw5513lssvv7w89thj5e233x52RxAEEztGWajecMMN5ZBDDinf+MY3yne/+93yve99r3z/+98ffhxzzDGVxNofXyEjIrXrj7CCIAgmOuBCk+s//OEP5d/+7d8qh+LNn/3sZ+WPf/xjufjii+sEnWDrNc6cdNJJ6yEPeJ3oHiheeumlct5555Xf//73VZhbKbMy1uJs48Rg4gyCYMLGaC39I5YZZ5yxrLnmmmXLLbcs22+//fBjjTXWKHPOOWf54Ac/WD772c+WT3/602WeeeYpU0455bC7gyAIJm7g0FlmmaWst956ZfPNNy8rrrhiXSUy0XdYieol76K/1V522WXLnnvuWb797W9X7p9++umHXR08JplkkhrnUkstVT784Q+Xb37zm7UsRifOIAgmLIzyf/2feOKJ5Zxzzin33Xdf2W233cpiiy32d+QywwwzVAK2ReCRRx6phLTuuuuWmWaaqc6Y7S21ZP/EE0/U/UjOL7/88mXhhReu8dx99911D9Q111xT9tlnn7LRRhuVmWeeue5dveWWW8rLL79cJptssprG2WefXfe/rrPOOmWXXXap4Ww7sHXgySefrPFPM800Zckll6x2zjvvvNWeIAiCocZA/uvfcjmPIu+ipfTdd9+98hJPIr4899xzq4hdbbXVyq677lpmn332ypvC4k3L4wQt3lxmmWXKoosuWmadddbqkXz66afrNig8LgzngPuJYGlMPfXUVfzaXiCc7Vm4fq655qr/r40j2ee8bQgLLrhgmXzyyWtc7meXJXs2NIeErVq8wMLhfr9tXcDl4lt66aUrR1933XXl5JNPrnkUbq211qr/6z3FFFNUrsbvq6yySll88cXLtNNOW++xRYKdvK/CzT333JXL559//lpePM/slH/pSVc5uX+hhRaq+XbeeBEEQW9Dn+7+r/9Jv2vNqQNnnXVW3S9kxjwiMWc/ERFKBG699dZlhRVWqCITiThmm222umSFvJAuskEYSBORXnnllVXo2qdkvxNSZCBBiXBeeOGFcvPNN9ftAyuvvHL1xiKt888/v5x55plVhBKj9jwhKmkhVARGxIpXXsRB9CI690811VSVWBFexGoQBEMNk3jYaaed6mdfICjxHsFGJFqFWm655aqow2O4jRDExSbwxKXveJO4tW3AXk+8aekcbzbBeNNNN1XuE8bDTrjXIQ7iUFiC0B5TcV199dVV1OJaIo+o9Xn99dfXgYJTAX8SyEQq/uYswMNsJQJx8H//939XmwhKDgyiVLx415jgPNuctwUAd0vHgOTaFVdcUe0Wtgli6XhO4YILLqhcLl6C1r3GCeOPseC3v/1ttYGtxiVxGaOkQ6yyMat5QdD7oOWOPvro2r+32mqrem60lv5FiHA9wGS2jXQcSKRtsO9y2FbS4iU94ogjqjeVN8C2AQRqIz0hipB5DzpBuFoGMwiIH6mbjQuLnKQrLZ4CxEUcO7fJJptU0U0kI17nCdfBPAAQBEEwNtA8kossskgVVsQXYUi4ei7g4IMPrkKMoN1uu+0qmRN+BB4exG0eZCVoV1111bLHHntUDuRhxH3Oi094vwlEg4EVK4LZw1ycC0RrA/FJcOJXK1iEbn/gacXdVs/wM4cAh4R0Cc+11167emHnm2++yuG8z7ythGQn8Ljx4YQTTqjeUk4MdvK24nVvB3C+005l5BrHxuqrr149qMYaAtf4EQTB+InREqrIBFH86U9/qg9Tfe1rX6uHBwTM0s30u4Fkzc6JzY033riSrb1ZW2yxRSVpxNzXU5+IRlq8pYhO+M0226x6InhRG3kiNPeK33ekjwg/9KEPlS9/+ct1GW2BBRaoaQVBEPQaCEbCzeoPDnPwgBKL+M8WJ7zXeNMSN97knXWdl5FYJHRxHRH6pS99qXz0ox+t3lleRp5WHlaCEgeLz3KbsNK22tScDAQvQSmODTfcsG4R6A+8lxtssEEVx+IVv61YjdPdy/M73XTTVdHLm2r1rdvbSfDyAhsvhN9hhx3qyh0eX3/99Suvu0bMKh+22ufqmQiHcpFXQpkwJ2CDIBg/MVpCFZk5zFwJP6Tg8Lu//a0Ep1k8Iek7Mmp7VXlbEa3z3R5V4ZEX8YsMERyvA4/sHHPMUdMFafstDCB3nlRLZAgd6XkArD/7giAIeg04keDCg3jS/lIrRybvrjXeJADt3SQICVerUJbArSBZ0ren1QoYDysh3LjUZJ630+qW7ziyQRgeSgLZdzzaH4hSYRwcCO2Zg8bdHAoEsvFC+uzxydvaCfZaLbOVoT2/wIvsQS6CVP7kwVjSxgq8b6+uNIUVRjrKrC+nSRAE4wdGS60Rh/YSmal//etfr15Vh4efEFtfXkuEgYQQkD8B+PWvf11+/vOf1ydcERMi694uAG3WDH0J4SaakR7xyjNg1s2zy8P7H//xH+Uvf/lLXQbicRBfEARBLwHH2U6FH/FU4zrn8KZzlu3tycRp/uzEnk3i0b0EoiV3XlCTdLxqn+lvfvObum+T2O3kUnHjTVxtOd69ls6JPufBNUf7PVCIm/1EqPQ60x0ZOsO3eJqdzRtLcPOUEqp9xSv8YG0OgqD3MNoeVSRCHCJKBOLwvXk4u4nCeWIUEX7sYx+r7w78r//6r+GH5SX7kLpn7dJxALGLuAFBtQOcF7/9T5b6f/zjH5dvfetbdcmI96E9OJAZdhAEvQa8xGNqrylPoKV7nkEeTrzm02uc/v3f//3vePNf/uVfqnMA/3rAyRann/70p+WAAw4oe++9d520W1kyUe/cn9/EILHHI2tbFm8tD21f4m8wwMWNq9tYMVDhKByB67OJdPbYPmDrAsEtr8pjVER0EATjD0Z7/bsRihlvO/zuj5QIVMvvwli28RCW7wgTQZshE75NlDYgWrNoe5ksedkk7+ECDw7Yq2R2jcjEZyuBDfwEKRukZ9mLN4KnAtmNLgkHQRCMLghEohBn4TRPt3t9k6fjcV3zblq58jQ8UWblyVJ6403CDa/hTXtVPZTqgSh8Zyke9+Fl3ErwEXe2B+BK6Xg7gHu8ktCqk4en2DQq4s9eVA932XLgAar2IJM84G/2E9wELMcBDsff8tMJ2wO86cX+VQ+JeXBKWF5hgtuDUwS8QzkEQTDhYrSF6mCBcNs78MzeEaTXj/hLPSTk9SPNW9oJJGfvkX2pBKjwXq3iHktfbZ+ST2SJfIlVBEfYEsXEbvaoBkHQKyDYcJMJ9xlnnFG3Q3ka38TbPksv1Cc28SXetAeziVG86cCBPLDNK4rvcB/RSzR6EAvfEXXEHw4kgAlG9/nffgc+JQaJxlGdyBOVxCm7vN+aLVbRvBeV0CZA2UFUey4Bj7OB2O6EFTV8b28qMS6/tjyIk5C271V5yM9gPLVBEIx/GOtqzezeU5v77rtvJSJPnx577LGVnAlUJIbMuoUkodpet2LJx/v1iFBeB5vtkS6y8t2Tppb6kS0CtkcVcXpF1aabbloJrm1NCIIgGFcgLnlIvdOUCCPy8Js/AMB1K620UuU4r6HysNPnPve5+vCTh0N5P91jiwAR6D7L/554dx8R6O9YiV/C0FtWxEGoCoMLeTq9DxU/4ktP/3uynwAcFeBpdvAOO+TP2wQIbtzetmV5IIqXVxiClTDvBHvZsPPOO9e3CIB88NIqD89FOM/xEQTBhI1R/mcqs3SeTASDdMz6u8UfkjL7N8smIoVDYmbIlqo8lcoDIA6khUARbnvhNDJG4rwIrrFHeHuo2tIXYhTWNaRrT5fvZujStp2A14JtSA1ZumdEeQuCIBhVDOSfqXAgfrL87el1wJFEmJUfDzYRp5179fEYrsOb7iFQ8Sa+xJu4DSzb42YC0PK/5XZxetAK90kDN9vnKYxPfGiSTxyKq13nvXQfe9wL7T42EM3u9ecFngfAvwSxT1us2hI+7iVSDTdswuGW733nOZYPnC5Oq2buYaftCcJJT75wfvMw2xagHHmkpW+McF55KBtjlPuUo/PuC4Kgt6FPd/8z1SgL1SAIguAfMRChOiGBULRlgFD1aisPclk1Iz6DIAgGg76EapRoEARBEARB0JOIUA2CIAiCIAh6EhGqQRAEwSjD3lPPEXjAyd+c2tOabWNBEAwVwiZBEATBKMMDXx6I+sQnPlG23Xbb+jaXCNUgCIYKYZMgCIIgCIKgJxGhGgRBEARBEPQkIlSDIAiCIAiCnkSEahAEQRAEQdCTiFANgiAIgiAIehJ9/jPVWWedVV814i/9giAIgoHj2GOPrZ+77bZb/QyCIAgGBpL08MMPL1tuueWI/0L1T3/6U/2/5QjVIAiCwcF/+MOCCy5YP4MgCIKBgSR94IEH6uvuRihUb7nllnLEEUfkXXhBEASDxOc///n6+Zvf/KZ+BkEQBAOD//rfe++9yworrDBioXrPPfeUv/71rxGqQRAEg8Ree+1VP4888sj6GQRBEAwMhOo222xTllhiieFCNUo0CIIgCIIg6ElEqAZBEARBEAQ9iQjVIAiCIAiCoCcRoRoEQRAEQRD0JCJUgyAIgiAIgp5EhGoQBEEQBEHQk4hQDYIgCIIgCHoSEapBEARBEARBTyJCNQiCIAgGga7/yZnooTzef//9lEswRhChGgRBEAQDgH/Nefvtt8vzzz9fXn/99SEXZm+++WZ56aWXyquvvlree++9YWd7Gy+//HK5/vrryy9/+cty55131vIJgqHEKP+F6hNPPFHuvffect999w07U8qkk05apphiirLAAgvUY955561xTDLJJMNCjBg66NNPP12ee+65sswyy5QZZ5yxEsFrr71W0xH/0ksvXSaffPL8vWsQBD2JgfyFKsHz+OOPV6596KGHhp39Xw6daqqpyoILLliPOeecs54bKF544YXy1FNPVaGz7LLLlmmmmaZ6uoiqu+++u0w77bRl8cUXrzw9UF4O/g9vvPFGeeaZZ8oNN9xQFllkkfo3j8ryjjvuqHU6zzzzlFlmmaVMNtlkw+4YOIx1xrlHH320TDfddGWxxRarcfUCHnvssdqu3nrrrToGzzzzzMPH4GeffbaWx1/+8pfyqU99qqy00kq13QXBqGBI/0L1wQcfLGeeeWb5zW9+U4444ojy5z//uRxzzDHl+OOPL2eddVa55ZZbKllKdKAgUG+66aZyxhln1O/ufffddyv5XnzxxeWyyy6rM87BxBkEQdBrIB6JklNPPbX89re/raIWhxrsTzjhhHLOOedU8WOSPlC+I3SIqOuuu66cd9551dPVOBSfOnfNNddUsREOHTW888471Zt622231YmGslS+V111VR2fnPN7VKBO1JN28cgjj9TJxbiGNsWzqy0a10866aQqpMcXb28wYWC03JJm+5tsskk54IADykEHHVR+97vfle9+97vVE2oJQOMmLIMgCIJ/hFWnrbfeuvziF78of/zjH+vE/2tf+1r1VuFPHtdRFT7B0GOGGWaonup/+qd/KhtuuGGZfvrph10ZffCc80butttuZYsttihzzTXXsCvjDsTzK6+8UoWzFVRC/Mknn6zngmBsYZSX/i+//PLq7je7/PjHP17mm2++Gt7+lGOPPbY25oUXXrhsttlmtTObKd566601bjN9y1srrLBCWWqppeoyB0/qFVdcUW6//fbqQV1ttdXq8r8lBOctW4l/+eWXr27hJZdcsi5jCXvzzTfXTmQJQudebrnl6oFU7rrrrjoDRPYvvvhiTXemmWaqy16WZ+aYY46aDrhuiYO3mF2WdvpbwiHAbVMwszbzRTIPPPBAnYHOPffcZY011qhlIm86uzAGHvmTBtst7bHTp3JDAgT+qquuWuaff/6aDoJwiGOttdaq9tsiwUYea1sspNNZDuqklQNSVQ6uu0d5KFPpTTnllGXjjTeu10dlqSoIgn/EQJb+8REPHN7zHYfOOuus9RovKu+q/m35a9NNN63bnSy94hscik/wKj60FIsbxYWX9XH8hEdwG07CobgB7xBDxDF+wwG4AZfff//9lZtxx4orrlg5ltMBr0gbZ+AenCbtxqGWu9kJeB7f2s6w8sorVx7r3LrQ6aHDdW3bAw7EVW0pXf7wob2PzUvJrlVWWaUuicsH77E84Uc2Ccc+/IZ/bXGYffbZa/zyJS35xNtsF9+aa65ZJwtNcBJgyleehVM+OHb11VevY4X7jDPscr/8W+3zW/kstNBCZd11163lpk5cVwezzTZbzTcbH3744epRx+fi7xxn1YHyY490tQH1Km15MHbItzFGvStjY0JnHMB2q5qgLbSxjV3GZWWt3KRnrJaedmHca2UG7jX2aj/Gj6mnnrqWq7DaHrSlfyuq2qr6E7c6W3TRRWta2hIbs90kGBlone6l/0m/ywXaAe59QmfPPfccYaPSmTRwDVmjJXaEl4iGjWh0Cg1V50eeGrMGrGEjFB0PqWj8Om8Tle5FROJEbMjZPZZddAKN3h4ZaVvmQnpISBgdGwkIhxx08muvvbbGLU3xsVPHlSZyaSSLRIRHfkgIAXcTQAMb3X/22WfXDgxsRyLSYZuBRz6kQaAiDiQojMFIHPY82YekU4vv3HPPrcITMbFVmVlWEjfhidjsD7aEJw/KyCDWykEc4u8uB+eQ6emnn14JU9rqSlkq/8HsgwuCoH+ceOKJ9XOnnXaqn31B38OFBKDvOLTt69M/iTicgOdwKAHoHD4gOHA0nnHgWf1X38cB+MGStPjwA/7hJCBIxa2/EySu4earr756OPc2DmUTrsFD+Ee6eBFnA24SXxOaRC9e9btNmIlPoqeTQ9kl3+KTH4JKHvAR29qeTGPLlVdeWZfBlZH84jtxsR+34msCijgnCN3jEKc8yz/ukxf5w+3413W2y7syVn4OfKn88LQxDGcKg6PZrS5A+Ron8S5+lV91Ig/qwdghfXYrB3zeOF5Y+cb/BKw4OsdZ4wQ7jXXyyFZjjHJXBupHvtnGXqua8imeTrCHgNYm5FV66ld84mFri6u1J/ERvca9ZpP7brzxxpp/ZUnkikO+1a/6UD7iMAYRvNqP3/Lfxlz3qaP+xtMgaNBejj766Nr+t9pqq3putIWqRtqEKqJBqAhGYma1iErHJ6x0pt13373suuuuVXQhGR3SrNss1ExNx9NZLK3wxurMvKvIxj1f/epXazjxI5/DDz+8ErlBYe+9965kwjZE414dkafT5/bbb1+3KhBnZuBIUKcSrw5kdkkUs4d41TH7g46rnOSBh3bHHXesSzY8EfJ08skn19k1gkIyRx11VLXZctFnP/vZOkMnZi+66KJqs0N5I3D3SdtvJMwmYc2ekTSiFK7N1JHCYYcdVvOlHNQd4lUO8mhG637lxYuz/vrr15nvBhtsMHyQG1FdB0EwcAxGqOJQAqH1bdxBhOinJrnO6+PEIpHj3Mc+9rHyoQ99qIrDCy+8sAoAnKFf40IE7/jCF75Qz+n/+AZnrb322uVzn/tcFQ74Wpx/+tOfqvd15513rtyMG02+8QqvGQ7xm+gQpqXDFqKL/YQvDiX08C17cGgTdyDPxBHhhTvZhQtxMhHnXhwpPlzlGQj53GOPPcrmm29e48DRxCNvIuGKG3H7tttuW3bYYYfywQ9+sApFvEksElPKVJpENE+y+Hgzldv5559fbeShVD7qjjjDjx/96Eerx5VN9g0bF4xzxjyCkmfXuCWstOTX+GaVyjgmHuOe8wQ/O9iFa41h6q/bQdDahDogGAlKeTSGGGfZLg/qQlmCcG2S09AmNj6Nb+zabrvt6hhsbLQHGv8rX/FpY+pYeHXOLvlWxsYo45gyVwYcHupaHsRnbFG2F1xwQW1X4v3whz9c7TUGiVcZsJHADYIRQbvrFqqjNb0xs9I4v/71r5d99923fOYznyn/8i//UmdwGrGlC6JTA9dJHBp6mxG7rqG3WddgoAMhdLNVAk28iEdHEbfOIwwC8RtBI1cdDsEiDp/IQ+ckWIVHCOJESAMBgpMmspAXJCm/8o/QdFR2AvJ2DQkQtzqvpSxhlBlyarYjcjYhcEtTSI1AZaN45UscyBVhKUvlwHZ2CC+vwopbeKLU4ICIhFMPCCciNQjGDfRpguzLX/5yfWKacPvWt75V+z0hhNf0ZxNgE22CjAjCXbgCp+i/zdM5GOA9fIK/cAcu40WVLq7AHXgIR+I14k56eAdXsQOH4JbGobjGfcIJ0wnCmMgkanAaLpSevOAkjgn34VJpEdryzRbjCP72iR/ZZMwgMp0nSKWHt8WLW4kiYxQb7fkknkzuhZOHxoHiMgYJK055xd/SEj/bCD1pGGMGAp5F/Itf29hCuBoL5FkeXRsI1L+JhDoSL5vZov7Fp630BeOMumxlIx55Vj7Ot3FOORkP2aWOHMqBSOYVlYayYDPHk7jUgYmMsCAO5aastCdxEb/iFV4ZtLBBMFiMllDV8HUcDR7BEEc6gA6q85sZ6kQ6g8aKlM3kqGUzVDO+JqIGK1QJNPeaTZuletuAtw+cdtppdcYnLeTDDp0MCbNDB2I38tPRfbc8QuwhWJ27idiBQDjxmi2616f8i1u+DCAtXmkiPgTFDmGUHTuRGAIiOBEE8comxOicoy0Vis956UJnOShX5WCJn9dVObBBOSATtjnUhzgiUoNg3KFxEUGKQw3yOLRNQoknnki/8Riu8lYUHOqNAZaW9X/9e7BoQhR3XHLJJZVD7av1fAJPK/5uy+N4jTBtHOpgEw7DIbiJWCVg5IlowWedEA/BIk3XcCFexENtz6VyEK9xBUfhME+a27PrrQXyr1yUiTGDHW18kW7jOHY1kSh+abkHRx533HH1OQreaBwrPmXBft5ctrHBfW3ssDooT9IbCMTBDsIO/ypLn8SavLUVs4FAPoRnkzyySxxsU97y1RfEr2yEdZ94lJOycN7YpbzUAXt9iquVLXGtXqUnbfkRF8GqnGyjkL6wLY4Wxm/2aTfSVvf92RkEI8NoCVWNUgf+/Oc/X775zW9WT8C//du/1WUgBGvZA1EgO0s2iAZBEFKI1t7RtnwxWOgcyMWyFI+ELQCWv23ottUAIbQOp8O2A5pQREA6lQ6nQxKW8qQjD5SQuiEN8evc0m+zUx3X+WYDNCLUiYXz3SAlX5ZLDCCIxQCGJIlOs1hC1uDWyFl4A5YBRhm0crAvDaF0EkRnOQRBMG5hUmz5+Ctf+Urlz29/+9t1VYoXTF836SYGTGYt2VrC9gorfOfT/kGCYlSAl/CzeIlevNHibUv6ndyBvxp8x1c8o7gS/5hcu6dxKG7qBI4jqB3dokUc7iEwcSUvnj2PJtzGCgLadirbCsTTHxr/igMatypL4xHRaxuW+MRt4s8eduNVdnXyo+9sayKdsBsI5B1H8/Ya/9htTCTc5BN3jwseluZA0lUO7DU2Ksu2ckdwyxvHivFF3pRdEIxJjJZQ7QaC0JF5BXRGQgvBIlskQcDuv//+5fe//319ldVHPvKRKsxGBTqbNOxvQvAHH3xwOeSQQ+rhNS8//OEP6/4uZNEX3E+oigPJInydj+3IpJOUBwPkr+MSvYSo8hAXwnTe9QYEaaBABDq/dHlOhSOc7dMykBm0zGiRhWUzZSpcmwXLg71Z3/nOd/6hHL7//e/Xtysg2SAIehu4gjDCizxezRNn37+9irYKcQr84Q9/qE/E7rLLLpULRgXSwi+WxX/wgx8M543GHdLB2f2tLuFQHlCii6Dh/cRp7CFim1hswIXicrjWyYWNMx24j7PBnlXbHX7yk5/UMeNHP/pR3cIl7v4gTiIL37JPHolR5Ud4ffrTny4///nPy4EHHlj5kheXPfiXwMbZnXYB2zgDmqAdKMSr/Iwr9rQ6eFgd3SK+12ByZPw2dnMw/fjHP65bUz75yU/W8uPVN5kRhsAPgjGJIRWqCEJnRggEWFsC8N1BbJmBE4g6sc5AfHWiEZZZcOes2/k2O0Yk4jb7RiDOIUuCDvG6zzJO5/19oc38xYFodTgki1AHMusEy24GE+mxz2d7EIGQ5AmVBpt1atfkRVqWsZCXMMireRWQpZkqDyqhLZ/y6zuhKj1bBoQnQOVDfMpBuFYO0hlIOQRB0BvQV/EfcYUf8RqxhQ/wlL6OQ9vSun6PczvRyaHdYtA5B+ATnIybXcMd+A8X4TJL9O4fERdaksZB4iBcxM2+bpEKxJk0XMebBKl02O9egoiXTt4bn+ExYrjxWRsDGohAfNjKy328l+IWjn3iF05ejD3yiGeVtfFHOFwqDWXNQ42r3afc2WaFyhihDvpDK/fGtwQ125UFGzke2KMOBzq+jAsoJ95TdaS+7O39xCc+UR9WdhCr9hPLi3wpoyAYkxgtoYoYiClL+Jdeemk9PK1qKUlntSEd0SJDn8jEqzd4V3V+IgpRtI6NLJCZeM2mG5ERjq7xLEiLEPbbXhlka8nJjFn6no7leSAUEU0nUXeDWEYabJMmgWgA6Itk+4P75IvgbDbIm0EE8YnPp+V7ZNnKytsClBNiU06WlqTPJvbIH9sNAn47L7/Kyz3iVS7yj/h9Kq9mQ/PAIFxEPKJyCIJg3ICwwl9eEaXfNm6wyoOHLB3jEsLKZ9sOgEfwBzHRKY7whvtwDdGn/+NQ5x041+oRIWIFh3DDMcRdJ4fiMyKE+BoRdxAybBOXvEijCb5usMtY4IEb3CwNeXXIU3MWGANwHqHnnPHCdRP7ttTc8isewlJ5NW61DxVP4nY8iTvZSBzy1Cpre3DxZRPEuJdDAMcqL9sOxKNMlJeta8q0pdvQvLbKQT20tx6ws3lp5VkY9zdh38uQR2VDlBubvAnCmya867cdHoz2wJr2GGdIMKYxWq+nQh6WALziw34feyS9u42AstzsVUyNxAg6m/VPOeWUSgKIROdtHkEPYunYjUht7keQzosD4UrPRnjeROLMJ2JByOI+/PDDqxCWniUy15EbIkMkPI1IqwFxIhekIq86JbvZMbIZL/uVk/gJaJ5Sr3lBbmBJzhOm8maAMYsn6u0xszyPfJGjJXtPdAqnPNhkEEGebHaNCFUWCNo1Hg9LYAYFZN7EqnJrD5UhYmRv+4NrPB4GHodz0pNWEARDi8G8nopowrl4wYOg+BSH6Lv6vn6uf+M0fGP/KA7FebgL1+JQnIAr9Wl9HBfgZffhPf3daoz0pOUckYobeP2IU9zhoSVxC++Je/xKBBJZ7GjL+g3Sw+2ug1chWU7Hbd3AqThLHGzk1MCZ3hyD3zzv4NVX0lQ+xCG+N66Y/BPAeEx+pUNkchJwXOBge1jttSUUN9poo1p2xgB242vC3pYGD/S6TxkT+srNli/OAkISx4rL3lg8jZeJNcv48u4eIls+TCTa+MYxYA+s7+pD2SqHNpkwDtiPLA1x9gVtQtmwTTnII7vbcwpN5BoP2Sleb3IxVnTCOErki0c9KzswForf/V4fRZyDchXeuGPcUjcmASYV3jbQWedtnFJnykca8slO4y47jaHGK3HKP/vlWxkEwYigXel72mZ7PdUo/zOVxqeza/QNiEiDJSw1SoffOpMOYvalEzdyBcSloevYyEk4gg6xOKezavTIyAZ7HQo5IFLnxccOJK5T61DSRTo6rw5rZigdGZd2JxADQtdBdXhkyV5PhCJv6XYDybMBwRPm8osU2aYM5A1BSl96ilinRyzygFTZbqbNTp9+N7C5zd7lX57Y55w4hBU/spAeQlAO6kI5yK97lB+CYofr0nWwm2AfmRgPgmDwGMg/U+EEfVWfxQkNOBdn4jf9t00o28SYwPBd/27ixHecg/fwBP7AicLhDxyAM/BqEzfEGd5pQtM1nN7ido/0pYEDnScycCj7OmG8IGyk7Z3XBFB/Y4d847XGhfbb4yG2SFMe/Mal0pUX8bLJNbb6Ll8EKY7mLGgDWluBIxLZSkRK07givVbW8uXAqcKJW/6UTSs/1+SVbeJrTg7jjPJSN+4TRj6avc41XgdCnCPDGGQ/cMtjX1AHOFpYAtu4wRY2qmN5B+kpI2VDiLbzDWxnT4untRVjg/iVh3HA2Kt81K/w6kZepem7+1ob7IRyanXELu3Ld+Ldb+Hd75zyYr+0Ose5IOgL2k33P1ONslCdEKCzmQXyaPACEKpmfs7zPFgmQjzdQJI6sw6MoN3jxclIIeIvCCZuDESoTiggcPAkHmwcSqyMaZic4248TXy2v6DtFtHjEs2B4K00hKPy4aHsXNULguDv0ZdQnbCVaD9QEAiEd8JM1+zeLBfREedm1paO/vmf/7l873vf+4djv/32q0tUSDHCNAiCiQ1EGO+cLWDtTSQ8e1aXgr/fO2ucAQ6N7hW9IAhGjolSqCJY+13tj7Ls7+8FeQEsTQRBEAQjhn39vJlek2Wfor2JVpkstQelbkew39hrnYh63tRe8/gGwfiCiVKomtXa4+k/ie1tIlT72oczIvC6Erf+19merOy9CYJgYoE9kfjPe6ztu/SAZtubODZg5cs+UNyNg+2l7KWtajzLHvjacccd60PFnmkwRmQFLggGj4l6j2oQBMFQY2LaoxoEQTCUyB7VIAiCIAiCYLxBhGoQBEEQBEHQk4hQDYIgCIIgCHoSEapBEARBEARBTyJCNQiCIAiCIOhJ9PnUv/+c9t/GeZVGEATB4IA/YbvttqufQRAEwcBAkh533HGVP0f4F6peq+IdcBGqQRAEg8Odd95ZP73kPQiCIBg4SNLbbrutvuZvhEIV0Z5wwgl5j2oQBMEg8clPfrJ+HnzwwfUzCIIgGBi8R3XnnXeuE/0RCtW88D8IgmDUkBf+B0EQjBrywv8gCIIgCIJgvEGEahAEQRAEQdCTiFANgiAIgiAIehIRqkEQBEEQBEFPIkI1CIIgCIIg6ElEqAZBEARBEAQ9iQjVIAiCIAiCoCcRoRoEQRAEQRD0JMaKUH333XfLm2++Wd5+++36MtcgCIKgt4Cn33jjjfo5Ip5+7733Kpfj9Pfff3/Y2QkD/v9moOUQBMHYwVgRqv639dRTTy2XXnppefbZZ4edDYIgCHoBRNktt9xSDjvssHLDDTeUF154YdiVf8RDDz1Uzj///Po3248//viwsxMGiPCbbrqpHHHEEeXGG28sL7744rArQRCMK4yyUH3kkUfK2WefXX75y18OP37961+XP/zhD+W8884rDzzwQO30Zqivvvpqefrpp8vzzz9f3nnnnWExBEEQTJzgqXvwwQfLlVdeWS677LLy+uuv/4P37rnnnqvi8Yorrqj8OSaBp1955ZXy2GOP1U/CtT/wNuLyJ598srz11lvDzg4dXnvttXLXXXfVv/GWhnFkTIBH+LrrrqvC3HgGgymH8RHamb9IP+2008oTTzwxweUvmDAxykL10UcfLRdffHE5+uijy7nnnlu/X3LJJdVr6vutt95aXnrppQluaSgIgmB0gRd5Jq+66qoqRAkIIqkThCoeFeapp54adnbCRxNThKp8jykxRahef/311XPahOqEjs6yJVTH1CQgCIYSo7X0P+ecc5YPfvCD5YADDigHHXRQ+d3vfle+853vlBlnnLHceeed9UAGQRAEQRAEQTBYTPrdv2HY94qzzjqrLuvsueeeZZJJJhl29h/Bo2q2ayl/zTXXLHPMMUeZdtpp6/Hwww/X5Rv3L7zwwuWZZ56pYaebbroy//zz1yWVyy+/vJ6fbLLJyvTTT1/jtLxlPysPw6yzzlqmmmqqOgO844476gzw5JNPrt5bcU066aRl5plnLh/4wAdGaGcQBMHYxIknnlg/d9ppp/rZFyzz8+LhMt9XWmmlMs0001Q+a+BRtfSNAxdZZJHKsfj25ptvrtuujj/++HLOOefULQS8jq7jQl4ye0xtKbDEe8opp5SLLrqo7recfPLJK292cyYPL07nbZtiiinKvffeWy644IJy0kkn1XPSxcn4Gm/jahy/1FJL1a0A+NzzB3i5k8+bR3i22Wbrk89tExPOfeJ2TfnJ33333Vft4OyYZZZZavkoM/k65phjahj7SZXTTDPNVO0WD8+0c9dee21NQ3xssJ/W+OS6Mjz22GPrKiCHiniVD9uVna1rvkufjcrBd+XcyqG7DMXrITPbFtgmXeNpZx7cJx35POOMM8rtt99ePbpsnX322Wse5QHU4/3331/jUra2KPguT2xW7uq85dkKpq0Mrc6tbPKaalPKRpruPfPMM2vZOtSH/CiXzrYXBOMK2rKVeu1yq622queGtGVKoO2zap2jLxGpQ+lolr5efvnlYWdL3ctK5CIR311Dwo1kdHZ7ohAnMtAJu/d1BUEQTIggTPChfauEFfHocI4gdA4/4te77767ciyBIwxBIgxhxBHR35Kv83iVmCLKHHiaA4Gw6WtPqrDSYsdA+Ny+XHtA8bmj2UqUE8xtHPHZDnYQ9eKSB/mRL6KSXcReyysB7TebCVb3NluI3La3tjP+djQoB2OOshJWvMYdafe3t1P9qAOiUz79Fo/0jFfqjW0O14lO8bGxvRGn0wa/5cn2BAK01S9bCFj5M7lwr3JQjsQs4S+M8wQ3gSo9Nouzu2yDoNcxWh5VHZl3dMkll6yiVMfUSXRUs7zVVlutzvh07E6Pqs6mo/k999xz15kk6Gw6tThWXHHFSmw6nvg23XTTsscee5QNN9ywpq1zI4EFF1ywegmCIAh6AYPxqOJQfMgzaXJPTBAYDpzZJug8qq5fc801lf/w4z777FM22WSTKkyJMPfONddclT+FE+8WW2xRdt9997LGGmtUwSIsjypvRSdvNo8qQSWeddddt+y8885ls802q7zOFqLJChnRx6vaPKp4mCDqi89xv7DsJWgbn2+++ebVrg022KCma8yRv7XXXrssvfTS1QMr/s997nOV840vvKcEG6/jvvvuW7bccssy33zz1XTE6R55k543Eohvu+22q+ksv/zytRxPP/30ssACC1R7rAQSdMsss0zZeOONa1h5aOUg32uttVbZYYcdqr3yovzEK90pp5yy5rPBdXawceWVVy577bVX2WabbWo4wtxEYYkllqjiUH1deOGFdYxUh9Lv9tSqE3ESpGzndVcnxkJ2qA9Q5iYTViKdUy7yvN5669VxUtrqzO9ll122jsnG1s9+9rM1benKUxD0AvSPIfWoIgSvKfn6179eiWO//fYr/+///b9KHIsvvngVkd2deSBgaJvZSwNRiW+GGWaoJIV02hYDHViHDoIgGN+A4yzFfvnLX64cSny249vf/nZdquU9BMS9zjrrlF133bWKLEvpDqKJ+GieNGKHCCUMm0eQgCNyiC5ik/DrC+IjnoTxHX8TcuInrAke3DwYdPI5IbXRRhv9A5/7bHxOxHfCb+nyPs4zzzxVdCuLlnfiSxjjDlFGNNsKQBQutthiNQ/s93u55Zar4o3wHhGmnnrqWsbutwVAWsrE8xfu7x5z5M9YxXO56qqrVpvYoC44cohjwlcYAtz4RZCzR7x+c+705RxSl6usskqNhy1sM7YS5uJTNhw88r/++uvX+JSngy22HBDfxK32EQTjG0ZLqOq8ZnM6kZkwEtVRPGSFXHVanoFRAXLTsXVAM9TjjjuuHHjggeX3v/99JXazU6Qn/m5iC4IgGB9AdMw777xl9dVXH86h7eBBI3CIHSBYCCXeMN6zgw8+uPz3f/933eto2bdxIQFDXLqXp43YPfzww6uAw6sj2o/oPFFL5BBOfhNc7CQieVvFMVh08/mxxx5b+dzrDK3ijYjP/ZYuocV2+SO02ec3e5WNe63wEYLGJnYTdsIRq34br9hB3I0I7hGv+JV/S6ul010GbDQhMO41z66wyo8gdxCh0iYWxeec+mxl3d8KZqsDeWm2uEcZSFPZ+CSWCXJeYWGEbftepcu2wU4ygqAXMFpCVedBpp/4xCfKl770peoV+OIXv1iXg8zk7a1BCKNKbKBzWfqw6d2DAza2WwJyXvr9EW4QBEGvg6ghUj/96U9XDv3KV74y/Nh7772reCW6gBgh9OzT9BpAq1keLrXczJPYwNvIU8eBAPZGejDKA0/2WRJyg5ncE1B4tgmpMcnn0ugrfucczZYGv4ky5+Sp7XH1u9Nm8Ju4I+wcQ41mY1/ptoNQbGUvTGe40YW4utNuZcMuafsMgvENQ6rydAizyIUWWqiSjqUeM7lRWZpvnZi34fOf/3z5xS9+UQ455JDhx89+9rPyyU9+shJ98zgEQRBMiCAw2jYBnk37EP3Jyh//+MfyjW98o74msIXDtwSK5Wf7JL/1rW+VH/3oR9XLx/PKe0n0DhTiawKr8fJg0e6zVP+FL3xhhHxuDOmE+4wt8sSWTpHJJh5K44y8GwuaIBSuiULX/OaNbuPUUKLZ6JBO55jnOy+semthxgTktVMIg3QdbFA2o1J3QTCuMaQ9RgfRKczuEQJi5A3o7pjOWfLwoIA9Nu5BnPYoNc8AUrJswTvAC8Aza/lJnMLaY4S4pZnOFwTBhAxCiyCz/I0b8Wfbp8lDaj9qC2e5n7fV0/XCW2IW1n1ElHiE6wu4uL1VgLASFv9aIeM0aEvhnejk87Z8j6PZ0c3n9ksSy2y2JM2h0c3n0EQXe9lqOdseU+F4YOWXbfblev0TGBvYaP+m8cdWBza0cvPdPldlYXtaQ2eZ9FcuI4P8idfDwspPHm1DkA/pypvtB8pAXoYKxj7lb8lfHVx99dXD3w7gkF9l5SE75cMGeZTnbkEdBL2K0RKqlmt0Qu/oM9N3WM7xxKQOZAsAMuoWkogTmehIlrG8psM73xAOghFex7dx3mZ2xCecZS77mRCw/a+IdFSJJQiCYHwCLuWRxIcECD7EhYRJW7nChz4JQa98akvsOFoYYoVY6m8VirAibHC47QX2v+Je8XroCXd3Ox4an+PjTj732ihirZPPF1100cr7xCa7Gp8bR5pXlLeTU4KNXjMlH/LEQ2yfpgeDCHHp2M5ADHs4i0iUN58EqzLwOirjkvAEN2FsxU+4Ji45QaRBYLJ3VMYUZUIs2hssv+KzrUHa3sCgbNhPIBOWQwnlJM+EvLqzFaRtq/CmB+mpO3nXhpRte4uCbRhNUAdBr2KUX09lhqhje8WGjf2IABma0ekMXv/hdRhmj8J6UhKh6VCWd5znQUWGXhmCGHUoM3ZYYYUVKikLqxMhXC9dRs4IyIMCwohnRHYGQRCMTQzk9VTEEA8kXgR8SUB0ikBPcVtxIuwIvMad9v4TIkQQDyNhx5uGJwklvEmUEGbCnXrqqfVd1ISiJ/q9OolnrZM3CUE8jZOF84lr5YWo8SyCVyjhW+MDu9nlSXTeusbneNrL/Pvjc8JQ3glZD3kZNwhFQlcZtAeWOEEIUjYQeYSogy2E+Z///OcqxJSh9L1aShzGHnEQory7xjN5INjY6M0HBJ2xCJR3e+E+76wylp6yIGjbw0kgLZ5Z5cYJo7464bf8iVMdSVf5Kyfht95663qdIFd+0lBf7Ceau6FO2ORVjp7kJ3IJdbBXmSgVxtsD1BlvNfuMya3OtQt7oL1urIl/+VO29i0bS9tWvb5sCIKxDfzQ/XqqSf528u+mjx6GQnDIpnvm3AmzMJ2tES3owBo7EtDwW+MXVodAMq61De2IRMfSkZ1ry0oIt808Lf8gMumIwzXEoVPyDggfoRoEQa/AvlA48sgj62dfQLtWjwgynEasdHMZQYPzLEvjOnzYlrtxKg4lzJx3rzgJNCKU15WgbPyKy/Ex3sTB3dzOBnESx+1+gsZBHEnfvfi82SV9g4n0++JzPC18N59Lh2398TkoF/EJy952v/PScD+RxlZijID3veWLDcLJD3uJX/lQPk2wSVv+TAbEqywJU3lRN8rLOXkB54Rv5dxs7QSbWjn69Fv+Wvm5Rx3Ku/jE43pfY5h0jH3yKo/GR3kE5+VLeYpD/sTb8sxOcbpP2j6VjTg7y1aZaHvKJONo0AvQL71/2ITyV7/6VT03ykI1CIIg+EcMRKgGQRAE/4i+hGqUaBAEQRAEQdCTiFANgiAIgiAIehIRqkEQBEEQBEFPIkI1CIIgCIIg6ElEqAZBEARBEAQ9iQjVIAiCIAiCoCcRoRoEQRAEQRD0JCJUgyAIgiAIgp5EhGoQBEEQBEHQk4hQDYIgCIIgCHoSff6F6mWXXVa+/e1v579/gyAIBomf//zn9fMrX/lK/QyCIAgGBpL0e9/7XllvvfVG/F//v/71r8ukk0467EwQBEEwULz//vv1MxwaBEEweODQL3zhCyMWqldccUX54Q9/GI9qEATBIPHjH/+4fn7ta1+rn0EQBMHAQJL+27/9W1lnnXVGLFTvueee8te//rV84APZwhoEQTAY7LXXXvXzyCOPrJ9BEATBwPA///M/ZZtttilLLLHEcKEaJRoEQRAEQRD0JCJUgyAIgiAIgp5EhGoQBEEQBEHQk4hQDYIgCIIgCHoSEapBEARBEARBTyJCNQiCIAiCIOhJRKgGQRAEQRAEPYkI1SAIgiAIgqAnEaEaBEEQBEEQ9CTGilB9/fXXy7333luOPfbYct9995V33nln2JWhwfPPP19uuummctppp5Wnn356+H9tT8iQxyeffLJcddVV5aKLLipvvPFG/UeHIAiCocZ7771XedY/Fl533XXl5Zdfrn912GswtjzzzDPl7LPPLtdee2156623+rTTOXl66aWXyptvvjlg7hTfo48+Wk499dRy6623lrfffnvYlTEPab322muV6yeGMS4IGkZLqOosROgDDzxQbrjhhnL55ZfX4/bbby9PPfVUJQ2E0Dr3BRdcUB577LHy7rvvDothaIA0CeHLLrusvPDCCxOFYJNHA8dtt91Wy74/Qg6CIBhd4PpXXnmlXHHFFeWuu+6qgml08Oyzz9YxgagcyvHAmGMMMIG/8847h49B3Wj5ueWWW8ojjzxSxd9AQCxyhlx66aXl/vvvH/KxrD/IA743zrHXuBsEEwtGS6g2AfrnP/+5fPvb3y6f+cxn6vGLX/yievkQQWZ+QRAEQSeuueaa6p29+uqry6uvvjrs7NgDwWns+stf/lJFLRHYy+CYuPvuu8s555xTnUGEfhBMLBhloWpGd/PNN9fl9llnnbXss88+5Ze//GX5+c9/XtZff/3y3HPPlZNPPrnOmCNWgyAIggbCqx3jAlNNNVVZeOGFy3777Vc22WSTMscccwy70pv4wAc+UJZffvmy8847l80226zMNddcw64EwYSPSf6/rnWRL37xi+Wee+6ps12doz88+OCDdTZsb+jmm29ell122TLbbLNV4rE05Nodd9xR9t577zLLLLPUZZJjjz227LHHHmX11VcvU089dZ1Jm9U6XnzxxTLttNPWDrjooouWGWecsUw++eR1yYPQbeEsuwBiWWCBBcq8885bz1v+tnfq4x//eFlkkUXqko8tCeyZeeaZa9hJJpmkHv3BcpaZqn20thOAe5dYYoky++yzV3vsaZKe68iOPWbn0003XQ0355xz1u/A42wLhLIi3CeddNIaj3AzzTRTmXLKKat93eUg7/PNN1/NxzTTTFNtNjF4+OGH67KPPVXulceHHnqopiXf7pNGEATjDnvttVf9PPLII+tnf7BsjD/06ccff7xyHV5YcMEFa//Xl/ENPsY99lTiE8B/Cy20UJl77rnrNcCTtlbhkRZunnnmqdwnPjwiTXyD46SNo3AMThJX4y789sQTT1QvnnRxnfHgrLPOKquuumrZdNNNa9zdfCqslTRcJU94a4opphhuqzjs7bzkkkvqHntOjnXWWaeKsPnnn384f4nHvdLHa8oE5zknb8psueWWq2MLKCfx4WJjy3HHHVfjXmONNaqzBFfKGzuMGfKD720PwMnyohyUIa5mv/wrr+mnn76m7z58reyOOeaYsswyy5Slllqqxs9eY0WrO7Z2lo26xdvyIw7lYIuCcp5ssslqfcq/slNubJCuNI2HbDM2OeTPOOO6dIVXHurTb9fUeRvz5EMY90lT2q4JZ8uD9uJ+eTUGqyflNMMMM1S7la121ca8tq2vc8zTBl1XbvIpT+I2GZAH5UoDsEM4tjivrOSdTcpF/RnThDMWAluVDW0gnLRdUw/KQ56VxZJLLlnjUlbsdo3dbBKvMOp58cUXr+krm5aecLzq2h+bpNnat3Jhs/TUdesz8qas1DvbjfPiUPfCKUt2d/bRYORQlttss01tW7/61a/quUm/+zfUb8OAiBT2nnvu+Q8k1Alko3JV2EYbbVQbq0akojXgJqw0eBWHHO1dRS4aAGPst7HXx8b3888/vxKycCoYOblPA9dI7I0677zzyrnnnltFqUaoM2i80tIwdMgVV1yxNkIN3TIJG+UDgbCvvzw1krckdfrpp5eLL764puOcDmsAQbgao3gRrXJiD9vkxXXh2A6I04b+M888s+bPfih2i08Yduoo7hWfshdOGjojAm1khEykK4xJgLJFBPKuDlZaaaXhg0kQBOMOJ554Yv3caaed6mdfwH8G2xtvvLHyH44w0SYYcBE+NdjiBoJXf/ddWOGIEoMfLm08SVBceeWVlZNwBf6SBl5qooUQwrONa4T3Wxx4yaArLoMybj7++OOH8yABglfFtdhii1Vu6uZT8RMkjavFgfcN7vgOZxGReFEa4iUEODnE2zhaeJx+wgknVI5zDc9J39K3ONjgPvYSgPJiDCAOcC0hauyQVxzNLlxKOOBK/Kxspae8jVvst+9f+bHfeICPpUEUK3NhOGjYLQ51h5PVHRA6bO3k4lY/8sORI6x6tEXOyqS8its159Sz+jY+sE1ZK0f5MEYS4c3ezrGRvUSutI2N8nb99deXM844o5adMiLMxKc+5M2zI66rE2Wk3ORVGBBGGapLcUtHPOzTbox5xn2OIauo4lGvysg4x1blpL0pV2Nr2+esHtjpfmMeEcwe+WljsDbDVuUgHLGtLNgsrPTkSRjpsVvdKFfXOd1s75A3bUn9qx91oh9deOGF1S72sVmbka82uVNv7G3juLjk3f3qQFn5Li11p5yN58Z6ZROhOjjgvaOPPrq2m6222qqeG2WhqhHoMCqhzVAa2gxx5ZVXrkJV41JpTaiqWL+RjQ71wQ9+sKZHbOmYHooSL+LUsDQkDd0MhudQeOTbvIkaCVuQ1AorrFA7PRIQ12qrrVbj1TD7y0+bNerk7uMh3mGHHcp66603PB0Di4bbBhd2bb311mXLLbesHgF5cn/rUMLbFqHDyjNPstm9+DTi1ll0FOXgvCUd5YCUxa+85Bk56EA6C9t23XXXsu6669aOLt86e4RqEPQGBiJUCSaDPRFAHOI1Xkrf8QjuM7gRh4SZifaGG25Ydt9998ppzuNgQtXAbHDFk8QfPv7oRz9aw+MRvGhAxctEGKHBm2UQ4LnA0YQeQeC8uIgEvPehD32ociEvKm4RDg/yXkm3k1NxHpvYj1Px44477ljHAVzmnLQ23njjao+0bBMThncSd7b42qdVObxmPDHoyx+OJmB4YYkc8frtHrxqgCOqjAtW+ti/9tpr1zSVubIkaIwP7mOHcxwkRJ88Eio4WxmxmfA1jikD+VQ++JtjRJ0oH+lz4OBs9SeOBveoMzyunNltGd+2AzYTUcQPW7bddtuy/fbbVxHeJgdsINCMg/KhDgg7ZaFOifYPf/jD9V5jiTHcGMvZYYxRbsS/cjCG8NIqW/WiLX7kIx+p9/JiSU9a2p/7fVdO7lenykQ86kNdKwftVr6Ui3bGeaWerQpKnwdamWiTxjirqmxkl3vFIW/GfmPxmmuuWctf+RhzjYHKVxuRJrEobuWk3xhztT1h1L80tQHQF7bbbrvaV8RtTBamaQ3tnT1WQrRH5cYWbUQZGO8JUGWuv+gTdIbyM1EQTp2oPxMQ5WQsl1flrF1lXB44+hKqgy49kTRXuE6kMzZSaVApSEzDaATZCQKreQ5UPpGF+Ag6JKtidRazK+kQaBq56zqS5RYEgaik0+IXnw6PaNy3yiqr1A6sIXXb2A35kh8NT1gdVDoE4VprrVWJojU2aSIUcbOXHchYhzMwsJ1Y1rl0QHaIC2kisbZ0YQDhKW0iWJ7kT3xISv51GgOG79Jry006qQNZBEEw/gEP4AsDm4muQc2ASUjgCdyBc/AhfsA1OMAgiQcQOR7FMw4iiaDDH41vxGlwx6F4CZ/gOffj06WXXnr4KhTuw1s4SRjx4zVxSRff4DhCqD9IX3wm+T7F78Bnxg35NS7gV+cIDKKtW/QShWxyDQgH5UTcCKec2Cs/zhMmykn6ykzZSUfayk1+lal4CSr56wQOFg+uJdyUoTFJ3pUTJ4O45V360uK5Fb8yVtZ+S5vzgAjqD+paWRpT8D373GuslIbfzitz5SJv7GVjg+8EpHpVlq2c2azO5FddyS8Q++Jkp3SN2/JqzGztyb0+1Zu4tQNlJa02nrcxT5kYt42txnPtD7QZeWtjOaGnzsRnMiCtZkeb7Gi36lHbM3HjqGn2yJPxU1zK3rgpLJukLx5hfNIB2oQw6lA9KDd1JU7xaJdsM26KQz0Jp5xaeyFWjfnKr+VNX9Um3Muulj/lpw5afcsPW1o5K5+mG4JRxygJVRWsIaikUYHGr/JVosahc2ooGg8BqFG1GaFGpKO6JqyGr5NpBDwLbUkICTYXfVuC0diR4cgaCuLRCXR4xKjDmKVaEpNHDVIn0xGE1RiF1Sndh2DYzT5lw26dhVj2SWSakYrTbA5Z67jyJS2NXDizS7NFn+5RRspBOGWmg0tX/pWDciPggyAYv4BH9F+DoUGQZws/4DsDIl7DM02o4jFh3afPE644CUfgPQM0bjEw4w7LvTxM+AXf4ETfhcVL7rM/Ey9Zsm181QQDPiYiHUQO0cgGafcnVNnGO4incLvtCuKXtyYa8JgxZGRonIxXlYG8sVE+m2eu5VXczhsHiEDAybicABSPa+5z4HTjRSeca+OS9Igt97hXPXFYGAeMQ6434eYwLqgjcfs0Njr6g3pUTjjc4T75bN5g6bY0fDc+sK+z3MTfvIPy6V71xBZjYxOE6s19xgwiU1jh3C+vvhPj7JZXthFZritvbceYxkbl0MY8tmmD7HadLaCNKHPlIk7lrFzl07k21qsf7Zc92h9bpOcQp3GujfVNPGuLJhPScrhHn+GlJrq1X+e1BWkLLw6agFdUePYTmdqJMNJSxtq9/qKtyhsx6n5l7xC2CU/596k9KD99SxjlLF/KUzkoe3nVloPRw6CFqg6k8agolTcqaGJXp9KQxNnQOgESQkA6ikNH7axwaWv0raEJ21zvvmsgg4EGZpZuiQBRH3roofWVW//5n/9ZGzAb+mtwzkuP7fKm0cofwXnUUUeVz372s+VTn/pU+fSnP12+973v1eUldpqt6cSWMbwtQRhvT/jc5z5Xfve731XPMEErPlDunWUVBMH4Cdxn8OW5wWPHHntssQvrJz/5SV0+NeCOaIBr3IkbmjDCJ4cddlj56le/WnnE8cMf/rDu5ROfQZ5n0jLm17/+9cpHOAc/2YtqQCcUiIvGZ/hmoAOtcO4lUNnxjW98o+y7776Vz7zC0GrXYCBt/C6vvHtEmTwQU4QEgY+rCRDnjQME1ajA+NLGGvF2QjkQHsSgcW+oodwGy+vqm63Gh+6xkXgiyJoTp9Vh+2yC13f1rHzb/X4TWM6JtwmwbrT4tEFjXSsz51tc4BoIJ+7Oa9JxyAdxadzuayJDDxCNyl8cVgbsF/Xgt/bl+NKXvlSfLaEBtAUC2MqEdmLv6A9+8IPaF7RzbVzeiGEeVuO+dvTrX/+67L///nXs5+VlK1taPrvriGZQTuxXH/LayqUzn8HoY5RVj8ajYjSa7sasodg7Q2y1zcmdaJXZCLY1ZtDgm9DUiHU0h9+daWhoSFF49xOuZoxbbLFF3S8kPK8Cb+RAIA6EhBjtQfnyl79cO8IGG2xQZ1nyQzx32trALvawRd6aoGTPbrvtVv7jP/6jvrrLE2z/9V//VX7729+WXXbZZfis3X6cz3/+88PDtHA//vGP616g5iVoeQ2CYPwGztCXDai8g8Tcv/7rv9Y9WbxDBkrc2h8a/+EsXGfAxMn2/xmUG48YfP3+2Mc+VoWLwV563/rWt+rkuIX7zW9+U/75n/+5LqfiUraJ32cn7/YHYfCTSb2HWyyHE8Am+j/96U/rfkxL74MBDiW42GNMsE8Uv/LYERnOE+CEMdEg/7h3VCCtNtYo0060spA/5d4LUN9s5eHtHhubvcZh9nbXXxNRzrtuDG5h/HafvDrXKWI74VpLR9kRcn2h3Stcty3SMaYqb3XpMOZ3p+c+9jhc48k1zv/oRz8a3obbuEq08sCCsrHqajKmvXu2QzuxR1sfY5P4iFn7pE3wTK5oAIKXdiFC5bNbp4Br4mC/MuirnIKhwSgLVQSrYdlniVARiYrUqJzjDbR0rjF2w4zPrNg9lm4sb7uPR4CwNHt23SwW+fA4uMY9L5xGI0xbtnJNY0FqCFJDRcg2O7uOzEYGjU5YopQwtM/HviTLE+xjp0apo5n1mZWJ1zn3um5W1sjVzF48OhV7bC63MZwoFSeilUdh5dE5Mzsbww0k0ndvC6MDs88MWodVBuyS9yAIxh/gEP2Xh7Fzn6CHMk1ueZdwnb6NUw3m+MZ59zrPM4pnG9fgYpzM82TpEd/gEgM1TsQ3+Aif4FPp8OZ6MFVY9+BM14VjHxt4Kzki8DjukTbO6wvygQfZxQ58hst8SrMvAdiXAOgEYeEQxjIvMcBO5+SdTQRsKweibVTgPsJPPMq4OWDYJw1bsoxnOLcXQEDy7hoj2KSempA2NhrHeMiNTd0wRhH06lketUNjmrxqY0SaclaeykR48bQxTzqdY56y68/T3Lym2oyxna2tTfOQO2fi0dqmQ7uTDnvcp9zbxI0gJkC1dVsbbMnQhu0rtRTvvLyJgwZhMyGqbxmHaQ8Tm7YtT5tig3SN9+KRF9fEoc06lA97aRZ26QfGY/mwpUGaEapjDqMsVAkrhKGiCMK2rxJJ+a1Bmpm0vSqdIMzM7jV4RK1TuU/F6zQavw7oXo0GqWo4Op5wGiyR6lURGrHGo5E4dKomDtnguoapc3TO5jrRyN8MypP67Nco3a+BaqgaeJs16cxssPG72a0jsVunlG/ELN/s5mVAHu5RTp48bZ1OHg0CykH+DEDCsoFnQt4IdgONc/Jj24B0pS/+dJAgGL9gsMN7nui39UefNzASAESIgc8n3sIB+AjP4FgcYn8pDsGjTYQaqJ3DE+LDJTgFN+FAceJTcbpfPI1v7OETlnAx2OMm19iIb4TBUU2o9AU8SrQ45E9YPOU+cRAHjYPFzw4cKxwO7OZnvIZ72UwwyYO4icnGnXib2GDzqC77g3hxt/LE88qMzcpTWXnFER4nCHsBbGx1royNC9qIOrOS6Gl2eVA+3eUqr8rTBEYdCG8saW3M2KosjWM+pdU95hmnO8c8bbAvGOuNX9ITt7JsY5f2pjzb/lNxEK2uEcvCSVNeHNqgMZVN2qn6aPZoG1Y92aWdKQdP/dvm4pp+Iw/yyxZ9S9vT94STF2Gc03a1r7aFgoh1nwmRPtPKSV6cbwI44/CYwyi/nkpFazAqEjG6z/4PbnVkqxOY6SAQFW/WgvRsZEYGyKfNnrwzzesrdBDx8gQI5zpyFYdZrQ7lL+/sOZGGTd9mSjqeDqPBWrrS4N2nA2nI0mCPxidsN+RTeNfN4LzmxfvgCGENXpy2E+hw7EBgBCIS8F48eZa2ZXoeDATaGrkOZU+qcPLJHktg7CFmdWSE437vcrOXyzv5TADkT1m5rnMhdB3PXhwzfCQuPzqvBzCamA6CYNxhZK+nwjf6Kc8QHiMSjz322PruTPxgS1Dbu2pwNaAL75o9715vB7gPL4kHPxAWRC0exZN4wuCLR3GYT2F9Gphx9imnnFLFMh7CSRwQvJX40CTdxF04HG9QxuUtnHvaGOETFzmITlxmH6HJNuGAB9t4IX88f3hUOGOD9PBmNz+LFxeyRTz4leMCV7MFt4u7vctbeGVmrJFPnmI8SaxJR749FNOElbJSbvLDPuXDNvk99dRTa50QJQShOmGjMhY/bpYX8TdPJqEkfrYonwZlJx+cIfiaM8V4ol7xOvFjPHGeWANjjfGH3epPur6rH+GkoTzdpw0ZY9SV38rI66Hkh13GF3Y1B4p0lY9P14137iW+jDf2bnoCXt7oAXXFHjYY541l2lZrg+IyJhKF0lTuxnL1qW0qKxMWY7f7jV/ywYvpfmXFLvkhTrXJk046qY7FxnH5F7a1X+cIU/uvtXP16F75Vn7CmFCpO+WiLtUpW5SLcPKpDuTNvnB9UL7UlbG3bbsTl7bR+ow01aNxnE0trzy42p5yFq/xOBg89NXu11ON8j9TAVGnYlSQjua7hqkzqyyHho64CEmEq/HzxAqHeJCvw8xKw9XIuOo1jkYwSECDE06HY5c4NBRp6Jg6sI5DsLnXPTqW+3yCjmJg6ATC00F0TJ2ATfKv00lbQ9UQ5UlYeSUWXbdMIE3lQHhr3OxqBIWYdDrxsQ8UviUL5Ci/0pBmyx9SaEQmnAavE8ij62Z0wuuoyko56hCNVEZWZ0EQjFkM9J+pCCz8QNzgT1yAg3BaE3M40+QVr+EMwkwfx0cGW+fwEgiP43CJ+Ay4JvniE7YJKsKoebbwIZGIa4g1QgZwDAFDkOExnCYug7+0G381odpAyIiXl9N4gKcIKiAS8Bl7hMNn7GgCw/luoQpswZ/sIRilrQwaJyoTXjkcDNIVr7IUXr6VhXBNYEoTCA6cjUvlR/ngdHUiPWKYSCHO2SeuVn44Wpm1cm0eR/ETwuJraEKV2FEOypANyk/+Wl2wRf7AGMMWY6f6l1/fjQ/CsIt96ly64pBOGxu1IfETYq6xS/lLH9isTNwrv8Yx9Sxfyk35qe825rHTUru66B7ztEHjrDJjl/vVpfSlI+/KrAleNig7drpffbKdVuBNJXiFc76N8+wSn35jnBSf8nGPMtGGO+tWfbSycY+8KTfjORvZxy7js/TE6Zx0Wpp+y6u6kJ5ybOnJY0tPHsWjXTtHN+hXweChHXT/M9VoCdXxBTqPjsbNrzF2AskQth564sVtZNcXNFCd1mwPvKRbY+yLXIMgmDgxUKE6MrTBkXfUH4uYGHeKnyAY0yDk2phnnPNQnjFvQtEGQe+hL6E6UbQ2syj/HvKzn/2sHHLIIX93HHjggfXpeg85mWUFQRAEQRAEvYGJQqia/fGcWoay5NB9OG95vXsZKwiCIAiCIBh3iP9+ELD00fastg3UEbdBEIwJWGK1Z9Rqj31zbS9qEIwtGOPamOfZkWxzC8YFIlQHAQOFTffeh+rgpc1enSAIxgSs9njI6CMf+Uh9mCYPZwRjG8Y8Dwd5g4+n5TPmBeMCaXFBEARBEARBTyJCNQiCIOhpeDmNVwB5hZOj62U1EyTk0WuVvBbKa6I8DR0EEyMiVIMgCIJBgYDyTknv9fR+zzENIs1L/9v7podauInL6we9f1aeiOKxJYal412d3vspbfl0zjtSvV/cO2m9VlGYIJgYEaEaBEEQDApeFO/fjPyTjxe0j2kQaf6lyT9ZOXgZCbmhApFKKPqHxPbvimNLqBLJ8uMflOTNS/GbMPe3nd7H61+V/JFBEEyMiFANgiAIBgVCileVZ5P3cUzDQz3+GctfKvrzA++89kT6UIEobV5VeRpbIrVBei3tVp5em7jCCivUP5bxD1DtHw+DYGLDRPHPVEEQBGMLA/1nKtTLS+YvKXnRCBXixF9Keh2Vv0bm2fO3yV4R5G85CTRL7byL/rnKWwH8W1VbJhaPOL02j7ATj3u9VogA8reUPIfSdE/7u2ZhiUFx+ztJabVzBBwPqqV+fxfJ++cfs/xvuzcTeG2RV2ixRXh/I+mvKy1XS5N9/pLS33fKH4ij5ZvnUF5d97efwneLUPH4lyT/Mihv4nOfNPylqXzIv7Td6+852e+fBpWzslJm7uedZbc8ike5y7P/jr/66qvrX4dusMEG9T/opasOfEpPOYrTvdIjLP2VpnyzS1z+jlQ+5Ud9EfSW9KWhbsTh3xCl7Sl6ZeuvXHly5cM/JK622mq1XsTPZn/nyS55E59z8iPvys5rzPyxTftbVvUsPeKWTX4rG/ZoX8qHzfLlvLDyIyybpNfKLwjGJvBN9z9TTfrdv6F+G4azzjqrdv4999wz7wgNgiAYJE488cT6udNOO9XP/kAwEaH+3tnfpFpGb/+t30QiUXnUUUdVkUR0ECJExYUXXlguvvjiKnaILpx9xRVX1OVjTgZ/F00UETcEE/FBcNnv6PpJJ51U0+WUgCZwCEe2EEReS+SVWOwkpE455ZTqvCDmjBM33nhjtZ/gJKiITOKXiFUGp512Wrnkkkvq1gACiS3yYCByTh6kJS7xE1PyTagSX51gg3TYTgh6r6f9pJdeemkVeISoeM4444xyzTXXDBeD8s4m5Src0UcfXQW2clA+xB3Bx84//elPtWztg2Wf/Mif/N588821TP0m5tkobUvzhKXyJYjl4dhjj62fRJ5Jgv+jv/LKK8txxx1XTj/99GqfNJUHoXjDDTeUQw89tNx1113D/+deObvXd2U055xz1vDqyL22CNh6oU7YRrASx8KBOvjzn/9c7XBd3k899dRqvzTlTd1qV9LUHlwXTr1KvwnyOKyCsQn9SD/FSVZQIEI1CIJgCDEQoUosECbED0/lLrvsUrbddtvqlSROXCeGeL8IViKNGOFlI/B4wZZZZpmy0korVU8YsUOoet/lDjvsUNZZZ53qxeMhIzQIQGn533bx7brrrmXrrbeugsX+R2GaICHqvC+6iRm2EIUE4qKLLlpWWWWVsuKKK9bwq6++etl8883rgEKEEnWEGI+d/Gy66aY1D+IUnvAh9IhyQnG77bar5WRpm4BliwGKwOx8uTwb5Jn9xiVL4n4TYcqRB9K7rTfaaKNqexN788wzTy07QpEo4+3mrSHwpU9EEqvyJE738A7vu+++VYASeh7eEt+GG25Y3yXKVmVI0Cpf9xLW7JIG0a0slLnzZ599dk2Hh1Y9r7/++lW4E7rCqEflSIzLx4477ljzohzcJ3/SJFR5Xwlhdq611lpl7733rvayQ9kQlwSrtkKMs0ebUs7qCZQb+8UnD9oFUWxLxfbbb1/f2UvotgmTiZD0gmBsoC+hmtYXBEEwFoGIeSB5M4kBQoLwIzqJBCKKuHIQHQQUAcLbySNHXPjtvOttKd99xNXKK69cr1mSF7/wvKmEJkFDGLkuzXbwPg5EjAjTlsx57whBnlefRBFxLG/iZEfLU1t+d/BwWvpnE8HWxC/BxX62DNRJ0ryIlt/lS7ricj8hKg32EG7sI8gsKRKEa6+9dr2PGHMoLwKZcBWGHQSdNOSXWBSmTR5GBsLTJMJB8DeBr0x8tjSkyQ7lqhwtu/uUbifkRfkSr+ztjE9ctg0QtcS18lYG4hE329VHC6ct2UKgPagLthIGSy+9dC0bEx33NQEeBOMSEapBEARjETyHxBOBSUgSMYQDj5hzPImEp5WtJjZ4CYkJQtUnzypBQzjysgnLQ0YUEcDEqXQIQ3G2PaHiJkCIFekSPPZjNtE0qpCWNIhDgpAI4om01Mwm+XRNGMvkRBkRxFPJe8d+IpKXkBDs9KaOCAS7cuDB5cVswpUXkFhTVr4TYbYzsIeY49VVhkSe8CMSYzzbBBy7pCGegYg3daxueIPVDQGszMVH+PI2s1t5DAStDJWNuLQL9c+mVgbKkyhXH8LxisuncmnlrszUA7tMFOxvVV/aoG0A6ouwNWkQNt7UYFwjLTAIgmAsg4giFCyVH3DAAeUzn/lM2WefferDrD//+c/rsq0lWt5HooiQ5HklMIgmYpNXTzxECQH2i1/8ot4vnv3226/84Ac/qMvLPGzuI86Ip06RJQ7ihQgjSkYHbCGK7RNlh+XzT33qU+XLX/5y3VtKBDUvqmVoHkF7PP/zP/+zfP/73y+HHXZY3WJANA1ECA4ERCUxbimdF9le1B//+Mc1Pa+i4qFUxiMD0TdYm8RrokAsu7fd75NwJCwJ6O79uP1B+YI667aHACbIiVnlp02MDO7XrtSF+tdWtMWvfe1rdQugLSmddgfBuEKEahAEwViGwZ+nyrI4Yfn1r3+9fPOb3yzf+ta3yne+853ypS99qe5lJGKIDt5JIo73yxP1PGcEUIvL8rv9il/96ldrPA7x7L///nXPI28pL2r3kjXxQ1A5BiJuRgR28E7y0LLjG9/4xvA8/fCHP6z7Qwmj5gW0VG9/6mc/+9lqI0HpISFbFIitoYJ88dZa+t59993LP/3TP9V9qsrjsssuq2Vr0jDUICabB1Y5N6EJbDJpkG7n+YGg1VXnfeIiUqU5GFEtLG8vT7ay+eQnP1n22GOP6gm2/5dYHYiQD4IxiQjVIAiCsQgignghnogznlLLwB548YDTeuutV0UcTycxwuvX/o3JNQLV64nsVXSdh5JAtMTruoeYxOXBIl5E2waE4b0D9xGCBIhlYg//2CpgWZmQJYIs3/N+it8nz6Cw3YLOb4c8tSV2opm3dIsttqgP53ggwr5Hy93s4NnlXbXcb8+nB5TsT3VvW3oeKuEoj9Ih7nmolQfvKvsswStX15tIl19pdwvBTsircvKpHHmr1Y3Dd2Vl76eldvtP1bXybPtzXVMHHmIy+fC7oZVnX2k3r6k4lBFPOTtbfN4GoB3I18iW61s+3WOrCMFquV9daEPy4lrbIhAE4xIRqkEQBGMRRATRQbgRnddff33dH0h42EfqCXlL4rxZROKtt95aPVz2JO622271PqLH9gD3O0+ceLKdN1JYcdnz6l7eV55ZQpZA4SkjfoUhDL2lwJP6BBsvI/vE4T5CxXI+oeez04tL3BBJbUsBzxwh5bc0hGcnwWOLA3uIXSLLa5AsLxPczvEGEkTEnXiHCuwlBs8///zqrWWL9NhN5HUuo8t3E35Eu3ubgO2EcMqJrexWhspLmRL8yqqJfh5w4ZQDQaiMiUqTA082q2t1LH2CtgnfvpbveWcJX/ES2PbaCitPylZ92RZigjMyoQoEr/vseyaatUF1J+1mTyubIBiXyOupgiAIhhADeT0VbrUntIkY+zq9x9IrpoiP9hQ4Lnaep4xXkneUyG2C1m9iiHeW8Lj88svruzWJMoLI3kPL7USk9IifJk68NsneVsKXR9PT902oElVssre0edbYzOsmToKU6CVwiWF28qTyENt/SYgZS9xPiNt60B7sIbjERbBKwzs8xdM8xh7ikZ/O8YeI7ev1VGwj9DwUxSYgNL2uy295J+TdTxR796j3uxLSRJj0eHV5eglAItMkwZYA5U+AEm8mAvLHdhAWiF558Lot97GFXR5uUp7KStzOe2+t9NURIWuLBLvVH1vcZ/JhwkEAqwvn2uuplK1yFKd821Pq3awmAepM+/AKLOmx26u+2OG+tv/Y5IegVkbKWbsyiWG79qCtic95cfHsa2+ddREEYxJ4Je9RDYIgGIMYqFAlAIg6gsR34sADNsSVgyghQITlKSMoiS/3CE+QEH/CEVB+Ex1EHkFIgLXXKRHErjncT3g5316N1ZbledHYIwxxI4w4hGt2tQeA2EKwEUJEHNsJYrZIz3fXxE0UtS0I7mk2iIdQkw+iiHAjEN3fDWUh3/LmaLa29N2jrByuOefpeGm2cvYpT0Sk9Joodq972CbfbPCnAvLAPvH4bKKt2SKv8kAMy6fykRf15R7XO+tMWuwStz2z4nS/OFvd8JqKq3nK2dPag+t+s9c18bXybWJWHsTnuny2+gIigE3aGjuUTasv31t92RphsuReeQ2CsYW+hGr+QjUIgmAIMdC/UA2CIAj+HlZ9uv9CNUo0CIIgCIIg6ElEqAZBEARBEAQ9iQjVIAiCIAiCoCcRoRoEQRAEQRD0JCJUgyAIgiAIgp5EhGoQBEEQBEHQk4hQDYIgCIIgCHoSEapBEARBEARBTyJCNQiCIAiCIOhJ9PnPVP5D+Jvf/Gb9G7YgCIJg4PjlL39ZP7/0pS/VzyAIgmBgIEl/8IMflPXXX3/4P1P1KVR/85vf1P8LDoIgCAaHd999t36GQ4MgCAYPHPr5z39+xEL1yiuvLAcccEA8qkEQBIPEj370o/r5jW98o34GQRAEAwNJ+vWvf72svfbaIxaq99xzT/nrX/9aPvCBbGENgiAYDPbaa6/6eeSRR9bPIAiCYGD4n//5n7LNNtuUJZZYYrhQjRINgiAIgiAIehIRqkEQBEEQBEFPIkI1CIIgCIIg6ElEqAZBEARBEAQ9iQjVIAiCIAiCoCcRoRoEQRAEQRD0JCJUgyAIgiAIgp5EhGoQBEEQBEHQk4hQDYIgCIIgCHoSE4RQfeedd8q9995b/vKXv9TP119/fdiV0cP7779f3njjjfLaa6+Vt99+e9jZIAiCiQcPPPBAueqqq8pll11WuXAo8d5779V/QrziiivKtddeW//je1Tx1ltvVfvefPPN+u82QRBMGBgyofrqq69WQrvkkkvKxRdfXI9LL7203HDDDeXhhx+u17v+rXXIgNwee+yxcuGFF9ZPhDUUQHiPPPJIFb9PP/30GLM/CIKJC7jk+eefLw899FDlTZPtbn4x4X7iiSfKgw8+WPlzXOGpp54qd9xxR7n11lsrJw4lCMpHH3203H777eWuu+6qwnVUoOyefPLJytU4e6jGgIkJ6uLll1+u9fDMM88MeV2PbXAyaRMmQvpSxu/xF0MmVJHpcccdV/bdd9+yzz77lE9+8pPls5/9bPnBD35QTjvttCpWeSjHJ7z44ot1pn/OOedUItWR09iDIBhdEGS33HJLOemkk8rxxx9fXnrppX/wAhJwJt/C4Negb+BkY4vyPO+886r3l+AKBgdleN9995WDDjqoluGzzz477Mr4CSKVs+zQQw8tjz/++ChPgoJxjyFd+p9++unL6quvXr72ta+VAw88sPz6178un/70p8skk0xSzjzzzLq088ILLwwL3fuYffbZy+abb1523XXXstpqq5UPfOADNS9BEARjE5kg9w+cPOmkk5a11lqr7LzzzmXTTTcts8wyy7CrwWAxIbU1eWlHMP5ikr9V4N/V4Be/+MXqKv/rX/9ahdlAYTZ7zTXX1CWij3zkI2WFFVao5GFme/XVV5fbbrutTDnllGWzzTYrCy64YHXLW6YhBhdYYIEyxRRTVI+CJQdLYfPOO2+ZddZZy1RTTTV8W4FZkfimm266GsfCCy9cZpxxxrpEIW17VHffffeatntHBNl+7rnnqteCt8IeVPHOPffcZYkllqjfLR+ZlbEV8bHVjFNYszPpmnUiytlmm60sssgiNaylMrZOPfXUZZ555imLLbZYtXOyySYblnoQBBMq9tprr/p55JFH1s++YLuSPZ833XRT/f7xj3+8chbObLAEe/3119dtRx/84Acrr/F64SwrVHgGZ84555yVQ/Gh+52z1InXbIXCmc67LpzwfU24xe0+HIe/8NtMM81Utx/w+OLvXXbZpW5TsG1hmmmmKXPNNVflSmlagWITblxqqaWG83+zFzeKY7755qu24FRp8nrhd1wvfrzZCVyNc8UtTzhXmc0xxxw1nvnnn7+OH9KRHrvw7iuvvFLzAbjcb5wvT2zA58Yb+bO31X3slidOl26wQxzC33///fUenM4OY4b6E8Y1nzifHcpaWXLSsEf5s0Fe5EPexKX85N0YxI5pp522lqWyVn6+K2flYGzuTFe5uiafylJZSE+ZsqGz3sVnjHdNfTukqVxt71Afiy++eFlppZXKyiuvXMcv5dsJ+ZNWq9vmgBKPtJSv+pdf7Vc9t/JS7+KUfoO2oVzFZywVH3vcZ6wXp7jZr/0pK/pB/SlDZWX8lVdpKAOOMflhw0YbbVTWXHPN4eXaV/sPegPa8TbbbFPb9q9+9at6btLv/g312zCcddZZtSHvueeeg6pMjVGD0LiWX3752tk1GB1Pp5e4/asLLbRQ/a2znXjiifVeZKMj6IiW2E855ZRKGjPMMEPtkAjbEtj5559fO5EGqrG6rlGLWyN373LLLVc7pPv7g/DuJ57tpT3jjDNqo0bQRDHbNWbfCWDx6nQIwTYAjZ8Nd999d7nooovKjTfeWPMuv8iHMBcnu5EAwnLv5JNPng4SBBM4Gq/ttNNO9bMv4CB7KZvYJApwVqdzgKgyUcYhBmEDfNuOhAsdTcjilSbYiCID/gUXXFCXwglijgRiAK8Z8PFZNxdJx33GAPfhRHzODoIBby+zzDKV13AcfiT28DDuxn1sw414GMcSbTjy3HPPLVdeeWW9l9iTl5lnnrlypnKQL9/Fjyc7IW1jkuVodomPbcpOWIJN2bGJ8JcPHE5AKaPG1Xja/UQM0cRmXC6+yy+/fLh4IyLZ110+BJE8Ks+zzz675tXYQCzJi/sIOGOEPLU6UaeEvrwrB6LSuCgOY5A4mh133nlnFdvypK6IQffZ/sEJZE+z+OVTuvJtDBSnsNI1zkrH2Cbv4mvlxCbnjj322DpmiccBylQZKjcTHO1InRufxd8JabWldWUqzZtvvrnmUz1qF8rSMyryJX/aoHjVpzg7JyTamPqVT8LdfcZ842+bRChL9msLykw7Ffd1111X66W1UWh9RJ1rww7tlP7o7mdBb0EfOvroo6tm2mqrreq5MSpUkWGDxqYhI1wdGolpbEizzdia4EQqGhSBpzMec8wxdaa05ZZblg9/+MM1Dg1bh6O6dQykJb6BCFVp6zAIR4f7xCc+Ubbbbrs6c2uzXjbqSIib7Tq5PCESedXobQmwzKTTybfOIW3bBSxBOa+zI0AzVJ6HdJAgmLAxpoSqa8QePllyySWrFxYnElziQfDI3XeCw32bbLJJXWVab731qmgkJPAqfsObDWxwvT3Zv/HGG1eu5YUyHjiH8whJXIcD8Rnx4Lz72YtXCTr5weM43/nddtut7LjjjmXZZZet59mKXwmakQlVnEysEUS2lu2xxx5l2223rXG45jBetHiIFR44eeV8kL77tt9++7L11lvXcnSe8Ft//fUrX2+wwQbVFkJQvMq7W8wbm0wMjDP4XX5WXXXVmo4yEraNEa0u2CE9kwTlJn7eRteUA9uFUUcGZeOc+NSFuLQJY6B6t8rIfmkbY5Wz+mriS50YK5Wj+v7Yxz5W1lhjjdoOCGL1LpyJAtFoHFTeO+ywQ/Wc2t4m38J/6EMfqmXsfvXcWQ7yxj7inkBce+21a1thv/FOPuVLPrVfZU38alPaozGasO9s69qXOiZQjZvqRfrakTJz3fgsbeMsUSsc243d+oO2ppyN1ausskpZdNFFh5ehZ2fESdR3tvug96COu4XqWFFNOrxGqWNoSGZMA4EGhTw23HDDuv9IA9f4dC6dToczq9dhBwMFYfalQzqIZASx4oorVsLSORRSfzDbRg46DnuIZWJbh2avDqTDO4fEkac8SzMIgqChTXB/+ctflh/+8If14dN2/OEPf6heMYM/GHDxChFCQJj84p4mVAg1E2+iEd/wpOFQg/XSSy9dRQLBhr86nQiAQ9liYi4NHIu/Gs+NiA/7Ay60XUG6BCp7xUncyhNxNxDga/bhURyK+9lIIBkXxNu9NN3gPMEkD/Iifcu/+J7H0jV8jcddE78xhfiXbieUK7uVq/FM/pQTAUbkEZKDce4Ax4a8tPHCGKROiU7lIz1pqTOClp3CKlfhiH3hCEL1p4zY4bqw8krEEWiEsbDyJU75Zr/yI+44jdhjHPPboaw7BSUYx02GCEg2q9s2BrJfuZpMsUW9+c0GtkiTLd3tD9QVAcseB/vFLe/KXnzy2PJAXGvXwrZ8sI14bnmQlomLPtA8+MH4h7Hq3tPYHN0E0B80KgSJBCw9WLJB6masZska5agIQJ2kNV4dXQc2k9PZdUwdSrr9kY4Gr0O7l43iQg7O6VQ6ps7t0/IH+xwDzXcQBBMH8BfvE26zQmSAbwcvlEEZZwI+IVIIPYKUd8/SKHFpwm3iTmDhI0IMP/EC8jRZesVNBv++vEru47Ui0sQvDM8m3vUdLw4W+JA4JOh44NqeQWk4OC0GAjbgXHa5j3cQX+N/4opAYWtffO28snC/eHC//LiPXe28cE2UKe++xhSTAfc4eI6VqzrD8QTYqAhV44z4xKFOlBlBKm/qVD03odrqof2WHjGm3oyHykb+xOFoY5ByE6e2QGTLHzudF4cw8i/8QEB8ikd7I06lRWSyX30rU22aPfKh3NSRcASkcH2VUxOqJhU+/ebocbCvTRKkLx5l7lM4KwTEsLjVjXQz3k44GGtCVSfQGTVaDWsg0Jg1ODO3I444ovzrv/5rfe3VF77whbrHRuccrEgFjZ5INdM38+S1OOCAA8r3v//9unRi1ibegZKOcPI30PBBEARAKFjO/fnPf15fC3TIIYcMP773ve/VpU2cCQZewtZ+QB7Yz33uc5UPcZf9qA3i5HU1wSekfvGLX5QvfelLldsI4L54StyNxwz2AxUtIwIO5d2S7r/927+V/fbbr9px8MEHV2E+UBDenAeWx4ks8X31q1+tZcBxQcwNBqPK1YQiD676Uq6/+93vyje/+c36hhvlSkCNLlr5g/Lrb3xjP1FqLJVuS9tv5zvz18bdtprZJj6jO2a531gqvQaiv43v0jIBau1qdNJqYHtLtzNOn0Src/Ip3ZbPYPzHWBGqZnxmWMjQLN8xEJiRIQCvtjJ7+spXvlJ++9vflv/8z/+s+3QQR2cnGSjYoSGbqVk+8AotW3U9rStOG7TtqxEmCIJgTKEN4sSJwddnO3BbG4xxlhUfD+DwtHkLwE9+8pPym9/8puy///71qWYQzgDtflul7B00wf/Od75T+c4+QHssu8VdS8O9QzHIu5/X0z5QXj/OBWKczfbW4vOBQlzKgUfOntwvf/nLdWuEbVqWgz10Y4wZXZtHBuVCiPFKK1evYfznf/7nKqKVqQd3hFGOo4pW/qD++xvfpEHEEqjajQP8dr7TBnWtzbT21cTd6IKt0ussd+K0CdTWfocS4mtl5LPl06c24HxfYj0YvzHGhGrrSDaGW6o3A7X8QAg2r6qG1pasfNfQLHU5NDgdjMC1tGWJxP4q+4F4QcUzqhA3r6klf3uBLF94aMB+GCLa0oElhs7OHgRBMK6Ai0zcTaB9J5Y8HLLuuuvW77xJLZyHbwhEn0Qi3hSOZw0f97USZWC3BCweD5PiYCLEihYOxtENbZkad/JeCYer7VtkIxschLV4LMvy7vLycgzg7uZ1GwiMC/bfegCoCXBxWbomiowPY2OplyjmCeY8Ua4e2PEwlbFJGRlTQDmySzkrG4fxxNK7751QH+5Vfm1cUv7KWDw+5cv90le+xkrflbc0hLMVQN21OBzCWS6XrjHNKqLJykDEo3j68+YSvLzcDh5z7Uz5Cy8debJFwfXB1PPIwG55lH5rE/SDMtU+9Q3fbesQpk2+5KVT1AbjH4ZUqLaOofMgKY3WDN5eKo0KYbZN7BqxTojICEad0xK/QwfU8AGBErZ+C6vTIQvxa6TSHCw0ZiTrSUqzcfGxVefX2QazPSEIgmBswMDbBmDch8OINJzpu4HYgT/tXfXqIJ4+nNnEKV7Du93eJuftlfRwkf2kxBjOFr9PYqqBCCEYGl8L43APjgZ2NK+wdN3PDnG5h9Bo4UYGYdnklX/GEnt35VEZNIFNxIxpD5o8eJWTFT7OF2OGciVKeVqbgOf5NV4RcfIrnDwTUsJ2Qr25JozD/lvjISFMAHOcGOOkrYzFqRylr7yVjXDGVfVnXBVOPMZU4YUzXvL8CjMioao85cVYKG99jbHaCjHI8WR8Nylq+ZQuMW3yxC5xDRXYLU77V7UpHntlKm2fbFH+9qqy0XcwCZAXYtZ9wfiHIX09lQZraQpJisf73tprNsz+zUCRnAaEcHUKnchfrJ5++um1M+l40vUUn03VZoo6i71Ip556ahWWyE1nALNrnZPNA309lXTNLM20kIS/fhW3jf4auGU0TzGCTs8mxCEfCIJ9Ogz7gH1mlQjUOYc8uk8nQhhm3t2vhAmCYMLDmHg9lYGfiMQhPIu4FWfhV6KIoMFn+I9owW8Gb+/TPOGEE+o7JcXvqWw8TGh2poXTCC38jPNsfxK/B4ZwFo7F2XiZUABp2xvb3gfqurxIh+eUDXjaMwAnn3xyHRfwpLQbh8qX9Agj6YhfPJ1glzg5QcThXZts4zW0hcDYgptxuXjYSkTx7IlbevbtGkvAWIGTCRd2EroEDFuNIez2NDmR1TkGNkEsDeObPLVXHPIYq0NptPFI2fkTGg4R9ey8PLBZ3glS6apnr3pqe4hd22KLLeqDScY6+TS28F5zqhx++OH19Uxs8WotdS5dZSSf8mac/POf/1xfU6Zc7a1lo7yJT32JX7mpcxCfNsRG9c8W9clzbVxsUCbSkqYylD9tTDsQXh3aluG6Ni49daBOlEFfMFaqK4exUhtrkxzjMueScdXY3lZlTVpMXtrEwZhtZdQne9nZ6sG7VsWhD+krnfUa9Ba0+e7XUw3ZP1NpjDqRRtWi1EE0OA3UoeG2ODVA99gSoBMiW51GI9KgEBhxKLzrSNGsUuPVwdyvU5glavyumVEhAfFquBqpcJ3QyMWt0yImHcms00wXEZkpilPnZZNOb6BwH3uUjUYuXxo9uI5sdDKd2nl2Om+WabCxXQFJRKgGwYSNgfwzFe7CDYSb78QGQdbJuTiNwCFQDNJEqgGdmMJLzuMlXEVUNT4kCoQjVHGSZWN8JA7cScz43T1Y40qchZPxIhGCW4kDtrmHt4qQJNbaShielKZwbMDh8oPHef/wsrw4bwzAg8IZiLzFQBzNxvbkdieMJ8SgvBhj8Lu4eQfxvTwRLsYJ4hSP4+C23O4aXld+wBacjP/Z6bq8KzO2ykun2Glgh3wrG3a4n83GBeFbObGtjVnSl2/jhbwTgcZC8RLc8qr+2MauZjuhzA75Ud/eISt+YxenkDowXqpvbUD9y4NyUu9EuzFJ2uJTTspAuspPPo1VylB9NKh/NnM6yZuy9cR+t2dU/UlLPpWFtKClJW55U2euyZd2J099QbragcNYqUykL09sIaDbZEM9GNvlQf/Q/rRTW/ikr6zl03n1TAuoW3lRXmzpbvtB70Db6v5nqiETqr0AWUEEZqc6tkaqgXdCYzeLtim/dYYgCIKhwkCEajBxg4DjhSRQPRthW1xfIPIINV5p45a/IO8W0EEwIaEvoTp+KdGRQOc1O/baKa+a8sLszte9ODwt6l9S2tJCEARBEARB0JuYoIRqAwFq1mkZpvuwhGFJIjPSIAiCIAiC3sYEKVSDIAiCoFdhr2b7W1n7RPsD54q9qJb97W3lhImTJZjYEKEaBEEQBGMRtp7Zb+r9th7y6Q/twa5tt922PmSUh3GDiRERqkEQBEEQBEFPIkI1CIIgCIIg6ElEqAZBEARBEAQ9iQjVIAiCIAiCoCcRoRoEQRAEQRD0JCJUgyAIgiAIgp5En3+hetttt5WjjjpqvPsL1SAIgnGNf/qnf6qfv/vd7+pnEARBMDD4C9U999yzLLfcciP+r/9DDz20LLbYYnmxcBAEwSDx4IMP1s+FF164fgZBEAQDA0l63333lY9//OMjFqpnnnlm2WuvvSJUgyAIBonjjz++fu6yyy71MwiCIBgYSNIjjzyybLXVViMWqvfcc0/561//mqX/IAiCQcIkH5BtEARBMHBY+t9mm23qP7I1oRolGgRBEARBEPQkIlSDIAiCIAiCnkSEahAEQRAEQdCTiFANgiAIgiAIehIRqkEQBEEQBEFPIkI1CIIgCIIg6ElEqAZBEARBEAQ9iQjVIAiCIAiCoCcRoRoEQRAEQRD0JCJUgyAIgiAYDn9Y+e6775Y33nijvP/++/X3UEG8DzzwQD2eeeaZIY07mDAxykJV433rrbfKa6+91ufx5ptvDnkDD4IgmFDw3nvvjZBDXfN3gmML+Pqdd96pQmJk6eJ1Yd5+++0qZtj7+uuvV953f3h//Ib6e/nll8tTTz1V63Qo26H4LrzwwnLBBReUO++8M20lGClG+b/+b7311nLxxRfXoy+sssoqZeeddy4LLLBAmWqqqYadDYIgmLAxkP/6J1JvueWWOlhfffXVw87+PdZbb72y7bbbVg6dfPLJh50dc8D7N9xwQ5l11lnLUkstVeaff/5hV/4RRPSTTz5ZLrnkkpqPJ554okwxxRT1vjXWWKMe00wzTZl00kmH3RGMTyBSr7jiinLTTTeVrbbaqiy88MJlxhlnHHZ19PDKK6+U4447rgrUxRdfvKy//voj1BrBxIUh/a9/je3FF1+sM/BGTmuttdbww7npppsuRBUEQdCF5rHCob4vv/zy/8Chiy22WOXQsTWI84gSnM8++2z1evUHHtSHHnqonHvuuXUcIGhXX331suKKK1axeu+991bx/dxzz8VbNp7CxGieeeYpyy23XJl55plrvQbBuMIoe1Qvv/zyOvt+/vnny8c//vEy33zzlckmm2zY1f8DdYwAEZrlIcnxsJqdIWH3TDLJJMNCB0EQjN8YiEfV8vhll11WPVa+41CezM6JPa50DcfiSEvzBOQMM8xQpp9++ioecCvBSzziWl7Mdl1c7nft1VdfreE5FvwWnzDCTjnllFVUXnvttdWLxo5VV121ihTfhe3k6Mcee6xyvzFiiy22qCJ13nnnrdsArr/++nqweYcddqhxsEP6xgBpyxfub+kbZ+TD+ADyKS5eW7YJZ8xwrzC80YTULLPMUqaddtrh3mZ5Fc9LL71U7xWv68LJu/tck77v0hE/GzptVEatfIxTyrQz/w2tLN3DBnF2lq37pKV+5Md5aTmmnnrqGgcbms3qVhjX2CzP7BKH/IhHWu4Rt7HT92ajsGwSTjlJk13SE0ZeO9Nr7aFNSpptykxbEoeDUBWP+NRrS8+5lp54tRU2qQf3Oe+6c60s2aCcuz2q0lN2rRxck39pt7SCiQN9eVTHqFAVtYZqdm2J66qrrqqdmQGbbbZZWXfddf+BnIMgCMZnDJVQxZU8nH/5y1+Gi7nbbrutbLrpppU7eTKvu+66cs4559R4DPS8mhtvvHHZaKONqjBwv6V5S/TE5OOPP15uvPHGKlKE2WCDDapYOPjgg8tFF11UPaXSIjCls/vuuw8XTIDTiVlxOPfBD36wLLLIIpX7XXv66afrNUJk1113rV5i16RvX+LNN99c8+v8JptsUg+2ELfXXHNNTeOFF16odhiHFl100boFwgqde6+88srq8Z177rnLLrvsUgW172A/pXhOP/306tUlcFZeeeUabqGFFqpi/IwzzhguuAgmS9rKYaaZZqo2GqceeeSRmmcCavPNN6/ebgKrGwQ7m+RrzjnnrA8GqQdh2awuCDj1c99991WxJT7pLb300rWcCTM2s8t2OmGWWWaZWnbGSXYpr7vuuqvGY6sdAbjCCitUMatNGEvZ6DebzjrrrDo+K0Nloz2YUMire6V32mmn1TFb+7jjjjtqftilzk08iMVLL720tq8PfehDZbbZZqvxHXPMMTU95TrHHHMMT09ZfvjDH65tWDkY6+XJ9hB5UJZsUJ/i7haqzS664/bbb6/XrChsv/32dRuhtPqaLAQTHvoSqpN+92+o34ZBo9OJ99xzzxE2jEcffbQ2Qo1upZVWqjOxTmGroZkFanxIQ1wapEan4eogOiUyMbsOgiCYEHDiiSfWz5122ql+9gVkTBARV77jUFzYyaHOEzIEnE88ueaaa1YRSdw9+OCDVZDMPvvsdavA2muvXcMQL03MEa8EH5FDUBJBRAZhJZyDCMTJ7iU+hSFgCRYCwTn8jdOJZ0ICfxtIiB/cD8LgdL/tq11yySWryCKuiSF2GgOIS+elLR9NUN99991V5BAoxgliDIwzxhuihm3i5aEzThGF8sKDR2jKK5sIYeGJZOJcePYTg8QVG4UhGOXp/vvvr+lLUzkqE2UIPJyEWjds2yBAiUfh3ase55prrmqzOIlH5US0mlhIm83NU00MspnnULrsIZLZ0ryJ0lF/xlPxbLjhhjUubcKkwD3KlreVSBevclLWJifGaPYQ68pduzFJIhq1pdVWW62WufhMErQbcQgnD+JvkyhxEfzA88p+ZU/0yr90iHUPSSkLbWjBBRes9ep+eXdfE8fKx73auLcAaIPrrLNOjUudaTvKwaFcggkf+unRRx9d25z90TBam5+Q4MMPP1wJgsA988wz68HTqsEiIg1NOB3ZgwFmZzqkhmdm6wiCIJgYwRNlgOaVaxx69tlnV09dE0pgcCc0eaUIBytVxADhQWxst912Zccdd6xCltglyAg54QD5EyDEmbA8Z0QQnsbBPHLuFTchKRyxQ3gSLQ3SYzNuJzBd7wQhYm8joUtMEYoEN8ErfvxPwBNJhBcnBvED7CYKCVGeVlsHiB3pEzru4cE1eBGyBByhb3whdHn82MebKR1lRawSW65LDwgeZckrTfgR6fLBXt5H6bqXOCXciGTl1xfYxm6CUP54AJUtwaX+CGKTCB4iHktloV4c4iZSCT1i0fgob8rdJEbdyDdx67eBm13qWZwEsfplWzuIQcKYDR5mVo5sIagJUeUDbCYQxaOstAn1JozyanXSoHxMCIQn7Hl4icsmqLUf7UkdsFd7JajFzYbmfZUPXuZOKBP1ozzkUR1svfXWVbCKW5667wkmLoyWUDWzMqM/4IADyr/+67+W/fffvx6HHXZYFavIrM1ekSkSciCcLbfcspKIWVMQBMHECEvllpv//d//vfzLv/xL5U+fRx11VBUBDTiTl8lAzgtJ6BjcCUrCBMcSE0QewUG8ETk+CZVll122ilBilZgkUnizCC08TXyMDISQcIQq711/4q0TPH0cEwSL9MF9zrPZGNLSNjZwaLCR6GEnL6BxwqfzBJBwzdPr3uYwIYqJTd5c14R1jzCWltlNoLGDGCS8pEO0ElWW252DFpfwxFt/YIv7pak81YE0eXXVWRvjmueYKGYbcaruTRKa19V58RHI6ky98AYTyu7lmSSI2SaMOvTpt/hd/+hHPzp8Sx0R6742xionQlVY5c9Gn34TvcSm+E0ehO0Gm9SPsLytJ5xwQhX/6kYZKGfngSdVXpWfehC3/MgzGzrbjjDy7Zw22yZo0vr0pz9dJyXyEUy8GC2hiizMcH/84x+Xgw46qBxyyCH1+PznP19nwhpmI8HOWbkZrXsRaoRqEAQTK3Ag79EvfvGL8sc//rHyJy79zGc+Uyf3Dc1zBwZ0XiifRAaB0+C7cw5CpYnAoQAbCDECkwjp5PT+wE5jADH+s5/9rHz2s58t++yzT/mP//iPumw8Mshzy/eIwONmS8Khhx5aPvnJT5ZPfOITtQy/853v1P2SPK/Noyq+TtvZSBASXsK773Of+1z57//+7+FL1INBi39E5dPqkDf9z3/+c9lvv/2q3Z/61KfKt7/97bpKSXwT18IZMx2ddd0JaRGA7jHJ4ThSzsZi+0pNCEbmlVS3RC9val9hpSF9olO71b6ISCLdfS1PtiP89Kc/rXlqNtAIzpvgdApVcSovnlqHeCz7mrhpIx7wM8kYUVkGEz5GS6jqOGaglk/M7C19OMwizeg0ag1PI2sNE1qDd62/jhcEQTChg0fPoG/faONQn7xxxGBDfwM1YdCJJhaGUqB2AmfzrOF+S7XdW7eIHGLJQzGWm62o2bPI++s+4psTo40RQwXlw+vGu6csHUQU76IlcGMUgd3QylN5WY4mSHmpm2fR0bn/dkxBmRB67FMubLbkbXtEe2CpjaEjAhFObFvh5A3lXRUfLzzPK+/0yOJQFg5jcl9hXSNgeZiJVG3A9gsTkdYO3afd8uy3PNnWYCuIh7DYQxB3x8+r3Lk3WfsQP6HKS0vgBhMvRkuojgg6F5d/c9m3xuzwXacyy+veCxMEQRD0Dx4og3gTi7xuhCkhYUnZQVC4ThQMFjhaXN0gLogYQgS3ExCEStsn6T5iz1sGTj311CpUiUBiwzUP93zhC18oX/3qV+s+S0u7QwHlYemYOLO/kQfPFor/9//+X32Lzb777lsnAMRQJ5rN9mRa7ra6x65//ud/rnHYD2opfEyAzcSj7QVEnCVu5cLmL3/5y/W38iJiiVkTAvVqvGQ3r6RzzTtpTFXW9o2y2cPQ4uLVJNbFIU1o94vLpzJQhwQokat+jd/d0MZ4N+2Ndq9JAY+wiQnbWj3YxmDPqzJkg7pQ73vssUcV352imS3aqnbjuwmCN03YwmDLiL2w2tmItl8EEz7GmFBFaDqH2ZzZkGUZsz6dS0Pn3jf7s2E8CIIgGBhwK88fbvW6JnyKYw34Hs7hveSpFYagHAyIBTzduTzbCWLEfkTeRg9sSdu+Q2LHfcQp0SeM9IllIshWBAJFnMQOgcNZMRQQN8FHPElbGRBufkvj/PPPr2KUHd1gj7wqO2VG2Pttn6Q9wgTUmACbrUYqT9sSiHs2Gx+Nieedd14tS+BxNyGRB2KUYGSf7/Z0NvsdBKY8aCN+C2OPK6GnjkA5cBIRgO73W5thAw+4CURf7Ua98Y5Lm8eTp5rH173KXdomC+zxVgH5UAdELMHpDUDS7GxXrfzV0SmnnFLjVw6EbBPWQTDGXk/VGprOb5am09mT5B18ZmDCc/HrhGZhQRAEEwKG8vVUBKjB20MzuNJyOW4lRvAmbvWktUm/1yThZZ5DD7PYPkD4SAPnSoOwkAZx0gSu5XjeRMKGGPEgbBNA0hS+cyyQdvPWEqk8poSVvaDuYysPJo+bcO4lUMRLWPvePGjEjQebpNu2BxCdvHquE1TEpnzyxslz8+xxfigPwor9xJn8ElzKQlrKxqqeOIGIlQYR7QD5No55Q433htpLqRylCZ48Z6N8dJYDG1rZGsua8FS2hBlxqGyNdfIpDXVJBJpkSJ9gVc62HhB3xkeiT1vgTVWWvrNR2Spr4yihz0bn2iuglAEPt/JVF7yr6pewZJOleJMFZa/uhRcPkSi89uZBM0v17JIvabQHoYlYb6Vge9saIV/OS6N5f7ULeVffbGWHcvLglvbEhrb3V/1pJ8qAreqgUycoU2+hELf7ggkf+v2QvZ5KJGbNSEJH6uzADRossrRfRYNrT4sKr2N378MKgiCYGEDQECHtyfDO5dAGv3EljiUOiIAGIgP/EoQEABFEpAhj6ZWoI4gcnkInNgi2lgaBYfDHzcL4TeBKS3iij4fUoOHoBPFJcFiaFpaIalsQpCEO6RF4bCOQ2S/PxB3RJG1hiB3xSVtZCCfPwFYijwhTRsSTc2yV/1YuzvtNPBlXlGXbAiG8+9kiLvsgida2JY1NbCFEiXhC133yL37CTV77Ajtb2RrHpNXsE6f71Yff0mGXfLgmffn2NoZ2P0+i8VF5C8NmaQhLPCof8TfvaLsmHulY8re/WVlqD8pa3apjYk9Ytsibe90jLeHUoXYjnLGdMJU39rWtAO4Th7JSb8rcdULTd3EoQ2WmLoSXH4JffDSAPNEF6sShfYi7lbU6anXnHg9YtbSCiRej/M9UQRAEwT9iIP9MFQQDhSGaF5lIJf58EnK8oMcff3zd+0kYEpgjAw8sD6c/BvCGAUKTIAyCXoFJWPc/U0WJBkEQBEEPom3dIEgtifNc81za0uAgWnlGeVWDYEJFhGoQBEEQ9CCsajYvqoe7TjrppPquWHuCLatb6rfcbvtDEEyoiFANgiAIgh6E/Zz2dXoQilj1wJWH9TysZe/o5ptvXh/KEm4gIHrt92xvZBBnEPQ6skc1CIJgCJE9qsFQwhDtqXgPSDks/XsAidD0sFTzuA4E7vUwmwecbBloD6gFQa8ge1SDIAiCYDwCIUlQeuKeJ9TT/Z6gb0/xD0ZoErUenvLgVV9vmgiCXkSEahAEQRAEQdCTiFANgiAIgiAIehIRqkEQBEEQBEFPIkI1CIIgCIIg6En0+dS//zo+6KCD8tR/EATBILH//vvXz5/97Gf1MwiCIBgYPPW/77771r+Bbk/99ylU//jHP/b7/8ZBEARB/3j66afrpyezgyAIgsHhiSeeqH/xO0Kheu6555bPfOYzeXVFEATBIHHEEUfUz7333rt+BkEQBAMDSfr73/++bLbZZiMWqnnhfxAEwaghL/wPgiAYNeSF/0EQBEEQBMF4gwjVIAiCIAiCoCcRoRoEQRAEQRD0JCJUgyAIgiAIgp5EhGoQBEEQBEHQk4hQDYIgCIIgCHoSEapBEARBEARBTyJCNQiCIAiCIOhJRKgGQRAEQRAEPYkI1SAIgiAIgqAnMcpC9e233y4vvfRSefLJJ/s8XnjhhfLOO+/U/20NgiAI/g94EYe++uqr9fC3gd149913yxtvvFGv+z628f7779f0X3zxxX+wkf2uv/baa+X5558vTz31VD2ee+65Gva9994br7m/M38t7xnLgmDcYJT/6//GG28s559/fjnvvPOGnfl7rLHGGuXDH/5wWXjhhctUU0017GwQBMGEjYH81z8hd8MNN5S77rqrft9hhx3KjDPOWCaddNJhIUp58MEHyx133FHF31prrVWWXHLJYVfGDgjQ66+/vh7zzz9/tXGaaaap4wInxMsvv1zHgGuuuabcd9999Z4FFligrLrqqmXzzTcvs84663jL/erkmWeeKZdeeml5/fXXy84771ymnXbaMtlkkw0LEQTBmMCQ/te/mfZbb71Vpp9++rLRRhuVD33oQ2WnnXYafqyzzjpllllm+TviDYIgCP7XY0cAEYOEKGHUjbZqJQyuHZvgSXzggQfKueeeW8WyFTIeRnaz65FHHiknn3xyefbZZ8uiiy5atttuu7LtttvWwYWAPeuss8rDDz88TjzBQwH5ZHurn5b3IAjGPib97t8w7HsFgtE599xzzzLJJJMMO/uPePTRR+uS0HTTTVc9CBtvvHFZffXV62zasdhii9Vr4njllVfqstD9999fnnjiieHbAqaYYooqZClopI30CGCzdve18wgPSTjefPPNGgfykL54zfCnnHLKEXqA3Ssu4RHwY489VgmVbWbOrrMlM+YgCEYHJ554Yv00Ye8PuI3Yw0e+r7TSSsO9lQ04zjYqvLXIIouUOeecs4bFn/iLx9VnW5qeeuqp6324jJgUtzTwp3hwrvjx7oi4XVzivfXWW6vXl4hecMEFy4orrljvxbt33nlnOeecc6qXd4MNNiibbrppzcPMM89cefXaa68t8847b5l99tn79KqyEdfj3oceeqiOJ/ifIMfDk08+eQ0njPPsF6/wzvFuykPLB5tdU2biEF4eHn/88Sq6hWO7/Evbuaeffnp4GRrzlBn+J1DFdfvtt9cyaOOcMcaRMSIIxhz0z6OPPrquyGy11Vb13GgJVWRAOCKoGWaY4R+EogSR3C233FJOOeWU8tvf/racfvrp9bf75plnnko4COLee++txCdO5CcuxGpJ6Y9//GMlBwSGdI899thy+eWX1+0H7JUhpIiI+gMikwY7/vu//7scf/zxNe677767XHTRRZWALL05giAIRhVjSqjOMccclSstRx9zzDHlD3/4Q+Uz8eBH26xwJM4VL6499NBDyxFHHFG5FefiaVzZH7fjbLxrOd+2hGWXXbYKN2kvt9xylWMJS1wqnU022aTytXTZboWNMMXT7iFcpdkN9xKJZ555ZjnooIPKcccdV6644orqQbYS5xBf8+ry3hLHF1xwQc0bW4hZYZQfm40FF198cRXyp512Wi2jk046qZYPXif08bz84H3lYywQ93XXXVcFvzBsuPDCC8tvfvObel5ezz777HrNMdNMMw3LRRAEQ42+hOooL/0PBEgV4RGmCOKrX/1q+da3vlWXiMyKr7zyykpEiMaBvCyxNDC4EafzwiAZIhl4bj/60Y9WMh2RSGWHGTISE8/ee+9dvv/975cdd9yxFgbBajCQVhAEQS+CAMOZhNNSSy1VufTf//3fy9JLL13FGO+nFSJeRAKLZ3H77bcvfBG4F7/xEFrZwql9AVfyJPJeEprLLLNMFZ+dwpagw5fzzTdf9TQSqQ3Eo/O77bZb5Wf82g122E7ARnnyLMM3v/nNss8++1QeZ6Mxo40LwuBvXl1jx2abbVa9x52iHnA7kWlMWXfddevzFp///OfrBMCYQTyL7+abb65ODmXw6U9/uqa9++6717HFflweVF7iL3zhC3WvHDFuvNhwww2rhzgIgrGL0RKqlk+IvDPOOKN6KHk6m7cTcSKz2267rX7aCqDDWyLyYIBZPUIRDjkOFAiT6OWNtRQlrrnnnnuEyzE8CYjKUo+Zum0KyG611VardiCvIAiCsQ2CkOeSB5BXsXGogxeUaGyisi1fe2AJd+GwLbbYoiy++OKVw3AxB0BbLsfPHoJaf/31K++usMIK1SPYnzdVOkQhEUkEine22WarfNsJ4TgVeErZI23i9aqrrqoP4fKSEppW5oTrhLAEIbHNW8w+opJ97JQmT7K84G3hcTsvJtEs30S6dLuFKjhPHMsrsUlcSsMYZMuYsYZnVj55oF2XNhvstSXyld1cc81V1lxzzWoPb7axa6GFFqqiNwiCsYvREqpmrzfddFP505/+VH75y1+WX/ziF/VAusgAURKISGbllVcevs+HsFxllVUqeSAlnwP1ZiInxGO5CdGIE5H1R76AuNlhm4F7iVz3WJZiCzJue6KCIAjGFog5+zl///vf/x2HOg4//PC6HN4epLJ8jUdNtIkm3lNCF6fyMOJSItBvXtC2kmSC7jsxRrzxeHbzHf4lNjkOcKUJPWHY6S3tRuPc5snksLAd4ac//Wn19FqmJ/o6QXgSoEQqeOi27WPFx94WI002s0fcbPGQFs4XVv7643thxUGQE5XGB0JTnDylxgJiVHl5pkKa0hYvpwdhrcyMXWwNgmDcY7SEqqUhM80DDjig7jM6+OCD62G5xbIP8kMoSKLT4+k7cnAeMSDRgQpVIFbFOyJx2glxIzxpIjnpDvTeIAiCMQUrOvZhEab24jcOdXzve9+rr4QywQY8xpt5ySWX1Ne2fO5znyuf/OQnK/8ShQ3iJEp5H3kmxf2lL32p7tnkyeyL+/CwPaO2atlKYAWM0BsRTzYhR/QShp/5zGeGi9T11luvz2V/aFzfxoWWBl7H0c6Jm0D36XrnMTroHJM6xbq0iVdpGyuMSRGqQdAbGC2hapnFDBapITczcIcZe9tAjxgcnZ3ed8TocK2vJZyhBGJiKzSSDIIgGNcwcbaiY4m5k0MdPIE8fUQV3uJ9tbzO20gYfvCDHyxbb7119UpaXQLhCDC8bPnbNcvbltWtXHmIiCBt2wkaeBttQbCP37uxeXN//etfl0MOOaR6fJ333VYEaRB1Hmpqq2H4lUA2FrDbKlp/q1RNbLrPWOCz/W7jQhOoQw1xtnQ7x6TOtH0XbkykHwTB4DHGFKJOjqh4A8yMLQFZljJbRW7IFsygHcK2mWybzfq0BDO6s1skSjiLx3JZW9bx21JQm7kHQRD0Iogn+yo97INHbZ36+Mc/Xj2q9qnaX9lgyRy/4lQrW7vsskv5yEc+UrnYPk3L++LoRBOuuNIWAlu3pOXBJsv07mn7TsVDCFtCd832A/zJRhwurv4427hAeBO6rrsf/zbuJ37ZZkwQZiidGOLiMeUplkbbEiFt2xGUje9tTOoWtb4HQTD2McaEKkIgDs2umyeASEQMCM4s3T4qm9bbK0yIRvuDhEd2xK2lKufaPq1RAWLi5bWPyhOvnv4Uv3TaQ1bdHoYgCIJeAZHE24c/icm2TxOnel0UIdnC4TjPCXhdk2vE18i2O9m370l92w94Tj13cOCBB5Yf/vCHdWuCp+J/9KMfVQ8tz6/wBKqn54lawk/aOByvtv2y3WmyAx97IAza66bwO6+utxqwV/zEsHFkqCBtItv+XsLUFgq2StsYc9lll1Vx77kFHmHhCVT5MD5EqAbBuMEYe4+qe/12HvEI73143lnqL1rNlj1VaZO8hwQQL5Izq7X0hDSQLO8rT4L35lkGkx6haenLMtPICBhcFz97EKi4pcEOoplQtZ8LgeU9qkEQjA7G1HtUTep5+ghRE39/X2oibwKOBwkpWwbsDSVmca5w3gHaXs2Hbz2Q1YRYA470233tcI6IsyWAU4GNbfXLJw7Gx7yuHqQydnBAsNuT+by+HATi6oR4235QzgjiVF68XktZ2LLgYKOxCEcbG9jdl5dVvuWtPcDrNVbtbQWEvXImqj1YpXyUMyh75UIs29LAHh5oYYwD0jEeKWPjlvuMZ+3+IAiGHvrzkL3wHwHo2Ga99lf1RSB+IzhEJXGE6h6CExkgI8Y4h/wc0kQqviNCM2+fwrtPXAjV0/se5kJsiNTM3tIUsuo82kDgXkTFDktjzvHkSlt+PQEqLUQUBEEwqhiIUIXmHcVNhGjzkjY0jyROIr5wJQFFtLm38RouxF3EmS0AwuFd9xOSvIGEJQ71zmlx4b0R8TvgSgdPLpHc7sO/Tai6zhYCUXzSZQ8+Fd7vvtIh9owZ4nKveOSTwDUuELiuSdv9RKu8NQHdF+S1pa+cjCHiVQ7SYy9PLa8q+8XDI22cMo61tOVV2vKqjMFkwVsHjDkRqkEw5qDPdgvVSf528u/WM7wkmafR+/C6hWevwSwagRx11FHVW8uD0A2eWA8deLm/8MireVeRlJdOu99Lp83YFU4QBMGowl9Kw5FHHlk/gyAIgoHB5NAfbVj98XYT6G0lOhIQm2bHPBde0WJvVffhX0e8d5Ao9XeD/hqPB9VM3ZKQJ2DNrNssOwiCIAiCIOgNjNdClcC0RGNJx7LM8ssv/w+H5SLXLTNZFrLv1fsEf/vb31avse0IXt9iSYinNQiCIAiCIOgNjNdCdaCw14hItT/LPijvEvSQgQcV7OuyNcC+JOGCIAiCIAiC3sBEIVSB59UDC94paJuAvyz8wQ9+UF+7QqR2P5kaBEEQBEEQjFtMNEIViFX7UHlXeVa9BcBve137e5I0CIIgCIIgGDeYqIRqEARBEARBMP4gQjUIgiAIgiDoSUSoBkEQBEEQBD2JCNUgCIIgCIKgJ9HnP1P5v2b/CJAHjIIgCAaHb33rW/Xz+9//fv0MgiAIBgaSlA71N8ztn6n6FKoHHnhg/a/kIAiCYHDwL3jgzSJBEATB4PDyyy+X/fbbb8RC1d+MfuUrX4lHNQiCYJDwjmb4zGc+Uz+DIAiCgYEk/fnPf17/+n6EQvWee+6pfy/q/aJBEATBwLHXXnvVzyOPPLJ+BkEQBAPD//zP/5RtttmmLLHEEsOFapRoEARBEARB0JOIUA2CIAiCIAh6EhGqQRAEQRAEQU8iQjUIgiAIgiDoSUSoBkEQBEEQBD2JCNUgCIIgCIKgJxGhGgRBEARBEPQkIlSDIAiCIAiCnkSEahAEQRAEQdCTiFANgiAIgiAIehIRqkEQBMGQ49VXXy0vvPBC/Xz//feHnQ0mBvhndnXu8JeYQTA6iFANgiAIhhxXXXVVOf300+vna6+9NuxsMDGAOH3llVfq8eabbw47GwSjhlEWqk8//XS55pprymmnnVaef/75Qc2aHn/88XLuueeWq6++ujz55JPDzgZBEEwcwJe474orrihnn3129ToOhkMfeuihcv7555drr722PPvss8PO9hYIFALVZ7xqEw94U19//fU6QbnyyivLvffeW8/RDMZ8k5fBaoZg4sYoC9WXX365NsDrr79+0CRrOeiWW24p9913X3nppZeGnQ2CIJg4YOB+8cUXy1133VVuvvnmKuacGyiI08ahvFZB0GugCSz9t3bdNMN1111XJzARqsFAMWRL/xqjhvfee+8N35vy7rvv1sM514Rp1xydYUeG7vh9tvj9dq1d7zzfTf4jC9NtYwvnnpZG53nfnetEi6P73s50WjwO19t3R3dY31v4zvNBEEw4aP28kw+6eUYY3xuntHC+N7Qw/fFPu96Odr3F1z6d77y/E512dNrY0hgI+rKjpdfi6j7fmY8G5zrtaOEaWn4643L47Vr3/S3tTvRlS2c4ny2eFs7RmXZnnC0+1zvPd6IzzhHZ1h2mpdvQ0nI0uzrDdcY30DRbnJ1xtXCTTDJJmWGGGcpWW21Vttlmm7LiiisOj1OYvr777ITffaUbTJyY5G8N4e9awhe/+MVyzz33lL/+9a/lAx/oX8cKY9nJDOnjH/94bZiWoy688MIy//zzVy+rGf8777xTll566bLaaqvVzzPPPLNcfPHF5c477yxTTjllWXbZZcv6669ftthiizLNNNP0mybvw+23316XyhZaaKHy1FNPVW+CTrLyyiuXJZZYokw77bTl0ksvrXboLM6vvfbaZZFFFimTTTZZ9TywSRz3339/mXrqqatNH/zgB8u8885bO8cjjzxSl9Tkx++bbrqpprHwwgvX+GaaaaYaB1vY5Nyaa65ZVlpppTL55JOXN954ozzwwAPloosuqvbJ/xxzzFHWXXfdstxyy5W555672nb55ZeXhx9+uLz11lvVOzL99NOX6aabri6ZsFd+pAnKWHmLW1oLLLBAPR8EQe9hr732qp9HHnlk/ewLBuG77767Lo8+99xzlUNxH87ADfq+pVI8iX8M9qusskpZbLHFykknnVTD4LApppiics+GG25YNttss8oteMVKl61ZOGPOOeesPOh+nGfrFY7Diehfmttuu21Nn024UNp47LHHHqtprrHGGjUOHM0e2xYs6/IGsx93uY7n2S6uU089td4/33zzVY6feeaZh+X+f8FO+Qe8J015mn322eu4sOqqq1Z7brvttvLoo49W7t1ggw1qPvAo8NKx05jiXuVqfFAWiy66aM3fJZdcUsvh7bffrpwtv/LuOl5m/x133FHzwkblud5669VyUL683WyTBluEV6ZrrbVWtVE48RoXeAvx/TPPPFPt23jjjWu8M844Y/3uE+TnjDPOqPlccsklh+enE8rYvcY06RuT2ng111xzlammmqqOH+paurzzRN8yyyxT68thTFKG4jEWsdPY+cQTT9RykgdjirI13rl2ww031LYjTWkob+G0A/G1cbK1MXHKl3JTnspDWbMblLUwxkRjGZuXWmqp2mblg46QJ3nTjtipXWgfytd4Z3wMJg5oXyY4NNCvfvWrem7S7/4N9dswnHXWWXX/yJ577llJrz8Io7FbxtdAhUUY9qxq3AjRMemkk1bRiog0OC5/gtE5pIAsGETcatD9peke4hDBzjrrrJUwpSM8oadTISW/pYsokYXOrZGLW4cg+NiiYwqnYwuHHN0rT8S07zof8SsPCFHHER7cK33nhWWTTowsiFvlo9NJB9lJw3X2uFcnR3o6vHSQm/PtKVn3KC/EK98O6TknziAIehMnnnhi/dxpp53qZ1/AVTiCkCOicCgBiD/wD84ykccJjX9c1/99xxHuw6H40zHPPPPUSTpeIcbwj3jwEwGCN8RFaBFJBBh+Ew4Ps4fgEbd7mg241+DhfudwpDTwPZ5yHjfhOOFxIbtxrXtx3oILLljPdUI8hA7hLL1ZZpml3s+uNr7gcWk42EDEOEf8EjwEJl733ZggPzjTb3GxSxq4W7wEJh7G49JQLuIUTnh2KGf3E1zqSR0Zd2xTc68yF95YZiwhtnzeeuutVYy1sWm22War+SYShZU2rpfegw8+WOM07smLOmhgmzpojiA2tbFIGbDbb7apA+ON+NWD8/JJKCp38RpjiE/iWB0I51Me2SJ+4492YWLEXmXRwklP+bfxTH0Zj4SVT2kKxwbty73KyX5U+Whlpt2yTf0R6ISvtIlS4692Iw3htENlRLxKU5zBxAHt+uijj67tgVcehkyoEoJ+X3bZZbUBml03VWxmiCjMolZYYYU6e0QGvJEbbbRRnYVrzCNKDxFouDqR8GbWZqiLL754JQjXdLYtt9yyztQQurDiRRw+iWgd02x5xx13rLbpOAiDFxMRIFYdx2xTOJ4G4YhhHgQdzqxROmasZvE6o3t1Wt5aBM1G+RcHIiNMkYeO6LdZLgJUDtJYffXVK2EpA8SiMytH9sofcpCewaib8IMg6B2MqlAlQvAkYWWAxh2bb7555R+CBAc5jzeJOvB9k002Kcsvv3yNkxeridQ99tijxkGwiBM/ERyAy/AQT5nBAHeKH3eJBx85zxNKgBJpuIl4YyPeE+/WW29dNt1008qfxAWRyDbCg8gakVCVHh7E7cYFfInXpYPPCTUcz9tmPBFP41tCh7AihohmYXAyD5yxiHdTPPLY7PAd76+zzjpVRDavMI+mFT33GxzFa8JgBQz/EmS8w/hXGGEJTDayByeDciGc1aVya+kYF40z7BJWfk0o2MVeZWd8aiAg8T1PsDaxww471DS1A3VDdBpDiUL1ZQzWDnbZZZdaTtqVvBlbpMebyVbxKl91xj511byrxmb3sIt9nWkqC/YTi8ZVY5l6A2kqe3ngLCJWm0hXbmBca95TbUA8H/vYx2qbbeOdcyZB2g17tGGCnZ3asrwGEwf6EqpDtkcVkKDGqAFquH5rsGaSGqFGrPOMKjRmhGr2r0GL3ycSRDaIxexOR0Fq0tURdGQdUsdEtMIJ416dyD3Ir80IES2h6hrBSJz6ThS7lw3u14HE4TsilwYycD9S80nAuteAwBbk1LyybaCwVCYNNktXRSEX5No8rO5FThGpQTDhApfo55b6iYLGUzgHl+CCxh+dwG1NAOEIAhWn4F2cZ/nWvUQnjjMIECcEnzC4FMdID3fhOuf9bvxEWErH0vJ2221Xtt9++8pt0hMfewkuXIjDBgLiTVo4HJ+6nwgkyPE82/Ei7sfnPuWfgCTy2SOc8PgWl/suP/icd47Ya/zd4lKm8uGc9NyL6+WDHdIwVikvXKwMlBd73C+v0lEvxKmyVQ6uE414XH0JK2++E7UEH04Xp7DSE6YTHBpELweLcVRc4paWuAlNNvutnnfbbbc6sVBXDtfEy/Y23rpffqXZ7BKX3+qLPcrIlglbV9gsLm1AGakndit3tvlty4ByFLexzL0cNNqvMh8ZlLf6YpfyM36yl1DVFols6UsrmLgxpEJV49KoNHAdof12IMeBNN4RocUnbvG130ipdVLndQCfbZaKdAhIHcyS189+9rPy7//+7+VHP/pROeyww+oyhtkkogf3irPd335LVxrOS1s60veJMHViEA4ZtGvu1aHdgzjZoyzEI5zrLQ3CXucURodlFzivUzebgiCY8IAj9HE8gw8ax3XyTF8gDF0jzm688cZy6KGHlh/+8IeV5/7rv/6rvgKLV5YgwD3i6+RM6YBPAkna0mv8JQxOAvdKx/MIv/vd78r3v//98pOf/KRccMEF1RPYn439AV/Ks7SkLz12dZ+Xrk95dRB0xCrP4y9/+cvyve99r+b517/+dV0Va5wurHhaPsThN4ElDedb3K47mtDG6fJDvLaVuWYjPnaOB5Mtraw6y09YIs797CH2fBoHOFcsawvXiSaQpcs+R4uboCaYjQfKiN2cH8cff3z58Y9/XMvA3mjbAdRXywc7hO8sTzaJWzry6Zzy4jE96KCD6vj405/+tK5EmgCxS7iW384xTjwmEgS8sa47T31BeuqAGBefPCsf47S8EuitXoKJG0MqVMcFNOKBNGQdVkdDEAQgQvWp4+kQCEBn6w8DTQe6w/ndyK+TPKAzXmF0fh3edwRkFq7TmyXr1M4HQRD0B147gz5+I+QM/kQKwYTnOsVLN1eNDESuJV7LwZZ/iQpc2sRXm6yPDgZqV+N04lv6jdMJKXnl2cPpfcU12Lz3Fb79ZsOIypR3kydXvbCxbffgpSUWuyEu4rFznADxEpoEsvoUh8mHJXbjhHgdPN+ujQydtqpX91ly5yEmTMWlPJsnFZpt3U6nJqQ5WYxT3WXQH9QPz6l88exqT9KUPx7egQjeYMLHOG0F3R1xTKF1cEs1++yzT/UC/PGPfywHH3xwPf7whz+UnXfeuQrWUYU0dCodGHH5bPnTsS3jtxkysdlXR3bODLIt9diL1PZamXVGpAZB0B/wBG+eff+8Yb///e+Hcxy+23///eu+yVH1UuEzgoXH1v5RfCrOAw88sPzmN78pH/7wh+sy/NgCPpTe7rvvXr2o3Zz+qU99qi5hy++oogklHr9OJ4NPwtNBVI2Im4lREwSfnA/EmLj628plrOIxJfw6xxGf7iNC1YOHo84555z63f5eXmWe0K997Wt1T2g3WjwNxiljErDfyqLnOnh5P//5z9c6Va777bdf9f42Meq6dtYpVtu4pzyUVXda/UFebStRPlY9PY9hj7AyVQaj0k6DCQ/jTKhqyBp052x0TIE4tJ8HzBLNGHUKh43cOrsZ5EBmof1BR5cG4jED9fCCT3Ga7VuKkk+b00c2UPAGIAJE5F4EkU4bBEEn8AkOI15wBM7gncI5HhLiWSRi7D/ER0QAb+jooHMiLj1cRpzgKV49nDc2IL+EHk4k/nh3eeSMKYSOh1o9ZKV8Rmd8wbuEFM8lL3JbhfPpt/L0IBiPaX9gq+VwD8e2LQnGiv72XxqvCGz1SNQas+SDl9z9f/rTn2pdWqaXX+LRPfLJIeLBKfd0wv0evJJ2u8+EQz6IRF5aZUm4qlcCUj6VpbLVhlyXFtvUvy0C6ltc4rVFwBYT5dJfmYufLa0NiVMZmHD47R8rpcGmwXhmgwkb40SoWt7WcYlDM3OzOJ1idAhlRNDwLb94cEAHROLHHHNMOfbYY+u78RC6DoRQRhXuRVaEqMGCJ/SUU06padi7JW86uA45Ms8o0tBREQYy81vc6bRBEADvHM8WkUaEWv7FQR5MIeAIEMLB07OeWDc5t690dEFUiJ+AIwTF7SB6CCA82r29aUwAFxpDLJ8Tfd444G0LeN3rvQg1Y8rocqYyxtvGDqLR+8XtAZWGLQdWunC6Ma0/sAGHi4dIE9aytnGprzHHeWOIvClPb+KRL/XJ60mU8jgS0MQvO7xX9y9/+Us577zzat7VgYP4Uxc+TSiMS+KRB+1G+h5+lk82GSc5SPzN6cknn1yFsfg7haWHq9hHvCoH6bKRQBafcasvyDe72/5medFmxCk+ZeSa7+zoS8QHEydGWZkRfEQUQaVBOTTQ5lVsBOFTA9WpNFIN2XdLCToAsrPEbWaqgxGvnUebUZpduh856aitg4ufHeLsPE8MNoGH1IXxag7EIs4TTjihEpuZqTiFZXdLg82dacibzuOzU2iK270+XfNqEk/NyhvS0NmRuA3wnuTVCcXX7utMp4EN0rIxHSmMaK9VEATjJwgS/IS7cAoOxQc4FAfo7+1oHNc4lFC0RYjHy0S/vQqIUOXhE947PY877rj6+j38SYzga3G4Hwc1TvGJ/xrHdYoE4dnpfmFwmcN+RsKNFw1XWwliu3yJT17cI51ujgPh5ImtvjcYW9zDxhaXw3nxORq/41uvZOLRI5Y8VOQViWzG4+wVnv2+N7hfPqXhfCsH+W5pS08eCFGvtYImCHlshTGmeKZAXPLRaXMnXBfOod6I1s5xpBPSVQ+eqiceCUrjVfvjAq+DIlDFIe/gNV3qml1gzGCPcidUpaUMrCDyWhK+xlzPPhiv5FmdGm+0KQKUWNWu1Gkb18XFfu3MOWXtDyg4f6TX3vijHKXXxlVQD/IvLXaKW37E6VrbV8zZoxyDoGGU/5nKbJXL36cGKazfZkQabBONojdrEk6DbYQkrGUKsAlfw9URichONHLyCg6vvhCHxt/IQPxEodkecnJeumaibBHGOdecM6tsSx/ATmTUOpOZo/gQi3MtD+5zOOeeRjLSEK+O2eJo5dCWnRrhue47dN/XWdby4qlNWxK8DkvnR0pBEPQ+BvLPVIATcQQewKG4Anfgp26Owxc8ZLjCeefciztxRxNKLV4CoHk4G8fgILwlHvE517inxee+lob7wHlxCkNktLD4W1zixIngu3vZIy7X++I4ECcbXXe/+wAHKwdpKJfGmeISHpxXNriy8a1PtolPWeB8abrWOQ6AuKSP09nqvDDOOycudSAucTpvXGBTy5PydK94nXOt02bxNYiTw4WHm3d2k002qSK9M0w3lIP7Wt0rW3bKm/TBefUgXWXBlpa2Q31ZoickiV/jCbEo7jb2tXahrYhHPpWNshNfS0u8A2ljwikzdoPfrrGvMz9sE969tm3QAFY4vcN9ZF7qYMKFdtL9z1SjLFSHEhqu2bmlA8TbCTZo5MQaDyNimJChOiypIBezVX8GYJZLrAdB0PsYqFANJg7gdO8ItdRtBc87bXlCmzAf07B87+Cx5KW1paCXQJjwrrbXRPqjDJ7VJpCDiQt9CdWxo0RHAjMrSziWV/zndefx0Y9+tOy66651WWJCF6lms+3v7nyacVsCmdDzHQRBMKGBQOU59CCW7RmcMbZ+EYy8jBM7CBKeVPtmHbyznDI80hGpQSd6QqgG/wt7g2x091Qnr7bXzFimGVsz7yAIgmBoYEmc+LJ39M9//nN1Plh6tzI4oiX/iQW2V3hDwH/8x3/UB47BPzVmyT/oRk8s/Qf/Cx5VS0SW/u1Fan93Z/9QEATjB7L0H0DzqHruwva2xulWyMYmpxtPeC7tSbWFrFdW6Aj59jotHlQriLzNvkfIT7zo2aX/4H+ByDxR6T+YvUzbEkhEahAEwfgHYssSvyf0bW2zfc3DSGOb0wlA+1JtO+ilbWTKgW327HpThTcQKK+I1KAbEapBEARBEARBTyJCNQiCIAiCIOhJRKgGQRAEQRAEPYkI1SAIgiAIgqAnEaEaBEEQBEEQ9CT6fD2V/wH2zxl5+i4IgmBwuO666+qnv3wOgiAIBg6S1F/+7rHHHiP+C9WTTjqpbLnllhGqQRAEg0R7ebn/cw+CIAgGDpL0rLPOqv9U2lP/9R8EQTChIC/8D4IgGDXkhf9BEARBEATBeIMI1SAIgiAIgqAnEaEaBEEQBEEQ9CQiVIMgCIIgCIKeRIRqEARBEARB0JOIUA2CIAiCIAh6EhGqQRAEQRAEQU8iQjUIgiAIgiDoSUSoBkEQBEEQBD2J8Uqovv322+W5554rTzzxRHnllVeGnQ2CIAj6wrvvvltefPHFcu+995ZXX321/utLf3j//fcrxwrjDwt9f/zxx8szzzxTXnvttWGhhg7jgs/lS5pPPfVULRd5Hijc+9577w0voyAIxg7GK6H67LPPlksuuaSccsop5fbbbx92NgiCIOgLL7/8crnhhhvKL3/5y3LnnXdWkdUXiLDXX3+9iri33nqrCjEC9cQTTyznnXdeue+++4aFHDqI/+KLL658fscddww7O2Yhn5deemk544wzyvXXX99vefQFopZgV0YEq7iCIBjzGGWhevfdd5ejjjqqfOtb3yqXX355ef7554dd+T8gOx0b0fnP1kMPPbQSnk4+KhAfD8E777wzqJlwEARBLwF/mWwfcsgh5Qc/+EEVTS+99NKwq/8H4XhCTz/99PLrX/+6HHnkkeXRRx8dMP81LyDx6Z7+xBWResstt5Tjjz++crTf+BbX4twxwbfiZ9uY4nN54Ek+/PDDy4033ljLAOTHMVix+cILL5Rrr722nHTSSdXTPBiRGwTBqGOUhapZpc5/5pln1s779NNPV+LpBPJx/pprrilnn312ndnr7N3hgiAIJibgQB7F6667rnIjoYpTu4UTQfXkk0+WK664opx77rnlpptuql7SoebQSSaZpEwxxRRlhhlmKJNPPnn9Pb5D2SlT444yHFUHScMHPvCBMtVUU5Xpp5++TDrppBNEGQXB+IDRWvrXcYlRS0r2GSGGTiCGBx98sDzyyCOVXAczexXWTJs3wV4i97/xxht9zoKdc41HQlj7ndrylbCu8+wK41M4grmFG4xdQRAEQwUcyjN366231kl9N4fiJx7Oxx577B/2cTaOxGl4D6fhy772UAorbl7GxpPucz9MM800ZaWVViq77rprWWyxxcp0001Xz3ejMx5xNL7tK81ONFvHBp8LJy02OtfKSNpsF4fD2CUMW6TjurD95WOWWWYpa6yxRtlll13KvPPOWwV9yxNb+irb7rx1wjXl1sqk+z72yU+Lv4WTht/udcij8/Lx5ptvjhHvdBCMS0zytw7xdz3pi1/8YrnnnnvKX//610qi/cFyv8MM30x8s802K5tsskmZa6656kxTZ0Eef/7zn8vDDz9cO59Z6Ec+8pFKiO7pD0zSEXkZ7CdC4nPMMUeZeeaZaxzuXW+99eqBVO66667qtRXWfQsttFBZa621ygYbbFAJ+P77769ei5lmmqluUXjggQfqTHvRRRet4dg99dRTl8kmm2yYBUEQBKOGvfbaq35apu8PBNNll11WOdREn+j50Ic+VNZdd93KdUCQcQAcffTR1fvqnimnnLJ8/OMfL0sssUQVKbfddlvdt2+PJ5Gy9NJLl3XWWafyGs8fvuO1Fceaa65ZhY/08PGKK65Y0yO+xMXzaHUMly+44IKVv20FmG222cpyyy1XVllllWqTtK666qrq5cXzCy+8cFl//fXL6quvXjm229PY+Jwdjc/nnHPOv+Nz97NbWHx+9dVX1/Jxn/jZvuGGG1aeJtzPOeecmhYe5wzxSWALt9FGG9WtaRdccEHddiYfM844Y7Vv7733rnkk7qSrPIwPBKI8b7311rUMhe+GNKwiyv8OO+xQbZE2W9hILBoPle0KK6xQ86NsjSvdZdLEtDKU1/bMhXJWJ6uttlp9JsN5aSovWz6MXdqK8jLOsf+iiy6qD4epb2OeNOeff/4Rjt9B0KvQN7bZZpvKcbaMwmi1ZB1D5yZOzSZ5TttsFPEhSQdCQSID6TiISgdGpvYXIWcEQ9zOPvvsdVbZZow6KaJAsLwRiBdBS0+HRihIqtmmoyP6VVddtZKIDi8N5CLeIAiCsQmCaIEFFqgcSujwnDbgN/yJw3AfMdTAq0bQXXnllZVXiUgTd5z80EMPVSGJ0/AxccnbhgdnnXXWKuZwpd+4Dy/6LgyeJNr68srhZZxKaLKVmHLwvooH54qjE43P3Udgilf6jc870zJmiIODgjBvfK6M+uNzS/GNzwlCadx8881VhBroVl555Sryll122ZqmsUE45WcSoDykQ5yKl5Omsw46YSySvnTVjXypH3l3j3IgEqVFCDvvuvs6oUxcN2414SmfTdS2sY8wZqP8qMNFFlmkjoVEqAkK0S8fSy65ZK2HeeaZp4Y1JmY8CyYkjJZQ1ansaSJCdUYdxCdyREA6mRmzGTlSGsieHp0YCehwyHCZZZYpn/rUp8ruu+9eOzIPKWIWDrF4AIDH1rLMnnvuWcOakbruGsLzHZCama5wn/nMZ2p8SNIMW4dvIjsIgmBsgEghnogN3kMCjCjBWUSfCTjRxctKVIFrPGjEiuvLL798+ehHP1r222+/yn3u56VrIgmvEVXSIYg+8YlP1PAEsr2bvI/4ekQQB/uIK7xu6ftjH/tYjQuP4k8ikbjqBFt5evG5MJ18TnTxShojhGMDzlYG8oqn99133+GeVnHwMrLFWILPiczG5+KTd0KXuOWB3WmnnWrZ8pRuv/321W73NfHI9g9/+MNlt912K4svvngtV6JzoGOBcPJnXDJZUCZWDU08CFr2EuCdcA/Ba5JhrCOmlck+++xTv8uDelHexie/OYS23HLL6k2XD3GakBh//Vafm266aa1z9dM9YQiC8RmjJVR1FmJRJ0IcnoT0W+fSYRDXfPPNV0XqQOFecSALndAseNppp61EgKzNkpGbcGallkaQD5KylCQce4QTB7GroxO3iAg586o20SqcDo9Eu2e+QRAEYxJEDhFpGxL+6RQoJtnEjmu4rQGfNUG19tprD1+qJnp9x4c41P3iwneEE5GIj4XjPCDgeOEGIlSliW95AJtXFi/jaB4+cRPNBFgn3Nf4nLeXsMTRnXyOizv5nI08hPKM67v5XFh87lw3n+N4fE6ojYjPlZE8+OQJJeItuxPE7HCv7yODSYSyNVng8fTbeCdv8qtclUEnxC0NDhZ5XWqppWoelKfyITjlSxmJgyNIGbBRPpW3tOTVIZxy0gaUmbLRpoJgQsFoCVUdWafQMXUiM0WzYbNqpIVYdDidZ6AdR5zicfDY6phEsENazjXPLMIili2B/Nd//VfZf//9y1e/+tXywx/+sBx77LE1fUQhHLjX7L3FhxwQiziQiTSDIAjGJnCS5WlCg4ghYEz0iVFik1AlWHBoE0/4ykHc4DHciNPwpQPX8dYJ47w0Gv+B8MK5V7wj4z7p4lGi057In/3sZ8P59qc//Wk57bTTKvc3R0UnGp8TyNJstnbyeYsfF9tz61VcLf4f/ehHw/lc/E34yUsnn4sbn8uPuFpZ9QX3safd32wB943o3k503tsZl+8++4qLfcaltjzfysChDRDPBCzx2eJ2+C4Mux2dabZ0HUEwoWG0W7UOYkZqVolM7Ztqm9uR09xzz12vd5PXUKJ11EaICIs9Zqdmtum8QRD0KogN3IkrCUd7FHkFiVVoomUwHNq4cKCCa6BoXAvilgaPHocED23bnjA6aPF38rmywec8wSPj86HO89iEtiC/6psQ7Q+d9RAEEzqGRKjqUJYjkImN9jaRWwKyrIS4dLrBoM0MzZx5BdqsFGk514hIpzaD3njjjctXvvKV8vOf/7z+A4tPs/AvfOELdTlIGHBvI2+H2bvZrcGhzViDIAjGJhqHeljKXntPeeNQXrfGoTiqhQXhHZb2m6e1cVrbTtA8hs4TufiviV08iFuFx48j4z7piovTwdL017/+9fKf//mff8e39qtaPheuE9183ji4k89b/GzxFhae1E4+t0rW+LyVhbw4Wt7FzSPturhaWYHrvQJ55Ak3OWFjdx5sC+hry0AQTKwYMmWGTM127SGydGMZyAxYh+wkjJEB+bqHF8HSiA30lnsQsmUwT2Ui4kaa9inZG2uTv7QRNG+uvU4ekmoPUyFFryGx5ws5IwSi2tOV9vvYuoDYgyAIxgXwJx7yAI5XK/GoeoKc8OrkUBxpxcgSsQdyeGDtycRx+NHDNDhUGJ/4zjYCnIj/GkfamyosTyguHRGkKQyHhHs9sISfxYVjca2Hu5oXuKGTzwkwfI7LHfKJf3ExPifc2l5UfO65gW4+d08nnwvb+NyDWN18Lizx6ugV4ccuS/z2nSp/NsunPHiFl1eCyWv3ft8gmFgxZEKV19ReVeRp6QLpeM9bm/0OFAjZ/WbOvAvI1N8Meg+gToz4hHEgTmIYCSJLYf7whz+UE044oZKWMC08ELjOt3DI1uy2bdyPRzUIgnEFgs5WJRzaxAxh6HvjMPDdnlYP8Ahvwn3EEUeUAw88sL57FOd5uh8fN2+pT2LW2wAOO+ywGt4EH3cORKiKg32ebCeA7aM9/PDDy0EHHVROPvnk+uAs8djtTWWrsQFP41h8fvDBBw/n8xZeODZ4eFb+PePgL7q7+byFJ0DxOeHb+Jy4lU+vq2oPHnnYSzm65l8UPaxG2I5LKEtjmwfh2Ms2Y5x68V3e1B37gyAYDaGKVJCkpSmdzcGr6ul7T1PyBPAQIFlE5TtS1AnNIpFrX4e9WWa+noQ0uxYvckVqZtjOiUf64vUbuUnbkhlvrtm32SnbGgE3IhSH2SpCN8v21CQSbeGCIAjGNPCRyTzBSfjhSVznt1cm4VAcSNAQNvaBEi+4D+857zpBaukYP1588cV1VYmnziudxN94Gcfha9d5YXElziM8iWEitAlj5wnCZo/7Xed0II494S+MNPGt5xKEx/HdPCqf4nEPQSyf3vHaF58TZn57RVPbAtH+zIC4JGCFE6eDTZ18btxwv7zKu/jY5E0IvL/N8+yaspTf5pxgv7jVRX9OC7azSxmJW74IYQ4ZcbZ72EYoi0ucJg6dcN19yt52D4Kb/erFmKSs2Ky+2CLfzeHjXrayX90439L13ZjHxsE6iIKglzHK/0zVllLMonVancd3SxiI02+dRccSTnjnLQ/5Jw9PifYFxOvdee1VHwjKveLR4R1MRhoOcN0hrGvsdo1d0jTrPuaYY+oLsREAAmGruKTR7AyCIBhdDOSfqQBXtuVoXIW38FXjVhyGn7o5tPEtNN5zHfc1TnOID8+5ZuLumt/uEbaFc/jtPJvwYQsrbvH47RBOfMI5/GYLW90nbF9c2uIfCj63f9dbABqfE2z98bnwnWkS+eyHZrfzLV/COS+e7ny0snOIx3X3iJ9t0m9xtXFQ/OKTh260cI5mX8uDo6XXXefuU58+O8tcOOdbvlr4IBifoN13/zPVKAvVUYU9Rvav8pz2BbNIM0qzXZ12dIEEmlD113pm255QDYIgGBMYqFANBg983oSqF/pbTePhDIJgwkBfQnXolehIYMnCHqKdd965z8N/GFtqGgqRGgRBEARBEIy/GOtCdWzDkoglkLY0Mya8xEEQBMGYBz7H4W17gt9BEEzYmOBVGzLzwJT/UvaAAo9uEARBMP4Bn3soK3weBBMPJgqPqicy28u0zcSDIAiC8Q/h8yCY+JB18CAIgiAIgqAnEaEaBEEQBEEQ9CQiVIMgCIIgCIKeRIRqEARBEARB0JPo84X//mrupJNOyqucgiAIBolPfOIT9fNPf/pT/QyCIAgGBi/833HHHeu/zo3wn6n8o8oKK6yQd9QFQRAMEv6bHvzDXhAEQTBwkKS33HJL/Ye/EQpV/8PvX6IiVIMgCAaH008/vX5uu+229TMIgiAYGEjSE044oWy33Xbj7r/+gyAIJmTkv/6DIAhGDT3xX/9BEARBEARBMBBEqAZBEARBEAQ9iQjVIAiCIAiCoCcRoRoEQRAEQRD0JCJUgyAIgiAIgp5EhGoQBEEQBEHQk4hQDYIgCIIgCHoSEapBEARBEARBTyJCNQiCIAiCIOhJjDdC9ZlnnikPP/xwefrpp8s777wz7Ow/4r333qvX33333fpXXL6799Zbby0vv/xyef/994eFDIIgmLDRzYcDxZtvvlm59o477qi86d9ixibeeuut8tRTT5UbbrihHg888EDNx2DyMFR44403avqPPfZYeeWVV4ad/UewzfjCduXtu3vvv//+8sgjj9S6GBf2d+P111+v+Xn88cfLq6++OuxsEPQuRkuo6nQD7XgjCtuujSjMNddcU//W9corr+y3c7kXwSITh98vvfRSvfe3v/1tuffee0cocoMgCMYW+uM6GNG1wYBQwoGvvfZaFUoDxbPPPluuvvrq8sc//rHcd999I53gD5W9IK7nn3++XHHFFeUnP/lJOeCAA+p/f48LwQwEu/TPP//8Kjr7A7uNL88991wVgwTrk08+WY4//vhy5pln1nPjwv5uEKjyc8EFF5QHH3xw2Nkg6F2MslA10z7kkEPKV77ylXLRRRdVYuuGTklUnnHGGeXHP/5x+f3vf1/uvvvu4TNL1whPIvJzn/tcPb7//e/XTmQG+vbbbw+LaWBAprfddlvtgJdeemkl6aEk0KEA7+6JJ55YzjvvvCqcgyCYuID/XnjhhXLUUUfVyTcx04QgTrz99tvLQQcdVM4+++wqbhqH8TCefvrp9cC/I+M2/Cuuc889t4o+gnWoIS8499BDDy3XX399FZijC6KaOL7qqqvK5ptvXseFnXfeucw444zlAx/o3UVAdcXu4447rlx77bU1H0EQjD5Gude/+OKL5c477yyXXHJJue666yqJds8WkS8SRmAXX3zx8GUkyyI8nmbsiFQHn2uuuco888xTppxyyvLEE09UktLpB7NkNckkk5QZZpihzDHHHGW22WYrk0466bArvQOzbLNYs9oRLSMFQTDhAqfhTMvJPHCNO4kbk/nLL7+8ciOOcM1BaBKFnAIm8fhuZMCHc845Z5l11lnL5JNPPuzs0IFdxoJ77rlnuF2jC3EYJ4j5JZZYoqy00kplkUUWKVNMMcWA8jyuYLyZdtppy3zzzVdmnnnmnhx/gmB8xGhNT3VExMEzSJB2LqsjYiKTKCM8Lck3wYmIhL/wwgvrDHyNNdYoX/3qV8v+++9fdtlllzL77LPX5fpbbrll+BI+IEVxIkZxPvroo5XskTtRbLaN0FZZZZWy4oorVtHbF7E12xC/eOx9ZQ9yHMg+ImGI60bMwjvkUZydS1TS4SVhs/A8qo2EDVA+ByPGgyAYv4E3p5lmmjqhxll4AH/hAFz20EMPVR7BGe0aznHN75lmmqkeOMaqEV4heK1C+d5WksS98MILl9VXX70st9xyZfrpp6/piw8n4U73NLGMi33i8cZpjpYGvhUWZ+E6vNXuYZswvovbfd1gr4m6MCbq4sO7OF6aruNTHCmulmfx9bU65rp7hVdelujZJ142utfRJgS4Xpm2/IFPeZEP97Uxpa+xQLmJT3rCyUMnf0811VRl3nnnLZtssklZeumly9RTTz3szr+HeOSnxcM235VNGzfAb/a6rp6Uld/ddjWIt3NskY9mp/y1Mm4Q3jjW7Gjl0zke+fS7c6wUX2c5duZHOGm1euhsjyB997GxjeE+1bF8BUFfmPS7f8Ow7xVnnXVWbWh77rnnCGevGpjGpuFpqDyijummm67e57xOY18P8nHN+eWXX75+Ns/ACiusUNZee+06E51ssskqgZv965jQCN3eIB1Pg77xxhvLSSedVLcIiIcgnWWWWeqM+6abbqoeXGS/0EIL1U6hY5nxE7DiYptztiQcccQR5fDDD6+iWFjeBwQzoiUmHVI6lvDly+zZvWyx5YCtPAEGJJ2Q55jwttyvfC3DCUvE69gLLLBAzX8vL2sFQTAw4AXYaaed6mc3Gq8SE/o/QbLkkkvWcwZ4K1T4DA/iNvxALBAJHixaddVV6zm86/exxx5bOQwnEmvuwUv4R1z4R1p4ipiSppUwWw/wn61b+BAHWrIWN9GA56xq4W+c9ac//anyOd7nncWj0pVf3l+8jKOly2HgsxNtafyYY46paZ988sk1PfEYN9jtIR9byuTFGIA3jRPNM2yMAMJHnth+6qmn1u8+//KXvwzfD+pQZocddlgtI15q44fVNqId3ypX+T7ttNPKgQceWO/14C1x1cYCYthqoHIQnzTFKT7pEqdsNwbgdGmJVzruca9yN1kwRhF5N998cy27o48+upxzzjn1PnXOLmHkz4ole/7whz/UMlbXbOGxlV53+aoXY5rxz5Y6W0eUs7rWLuaee+7h+bnrrrtqucuPrXLq1iqmOFr8ylo+tA12aCu2eKgTY7v2xF5l2vKjzSgX4WxRMf7JjzLS7pWHNm7frrz71D61J1s71HMwcUPb1zbw31ZbbVXPjZZQ1eGE0bgISo1bg0QAZqlmgDoNEtJJEKTO2jqhToOgzfrdIy6dTwfRmMXhPNJDYMQnYnDPYostVuaff/5qi3A6na0DwkkX0ZrVto7WhCpbdVr5NEAgZd5XnUQnkqdGPP3lHyEhZB2MHQpUekhXhzXrJsh1PvlAhOKXFvJj74ILLliXtNZcc81KDIhsROUdBMH4gZEJ1QZiCBfh22WWWWY4V1n6bx45YXCMT5xL6OEM/GRCTECa5LrfPThMPDiUkBAGB+EifIm7xI+riAzch6vwJ1HBFkIYF0mPyHEfjmYHTy5biECT8SaYxItfrY7heJzYJt743vUmhP1efPHFq834ULrSx83N6yt9+dhoo42qI6Ol3RknwcVhYNLPKYFf2UkgtrGCSHLOYRySJ7Y1ocomwlR+lIUyZAchZnwwrrHNeEUw+628jEk4Xb6cl6YyVn7yyCHSyrsJVflVP8ZEop4wNZaxXX25Vzjxsp3YJByVp3vZpewdTdR1jhnKg5hVnmxZeeWVy6KLLlrz6h6C0n0mONqAtqftyLNw7lHmDvarV3EZK90vP8Ys46N8KEurn03wEsbK1nVtw2TJWMgu5aXOtF/OHGkYA6WtHOTTGGoM///Zuwuw24q6ffyDdHd3d3d3g4RSAooBqCAq5mugYL+KLaigryIgJSldIt1d0t3d9fv//cx7hnezfZ7nPKf3Oee+r2tde++1Zs18p+655zuz1lYWGQvHX2gn3UJ1hJf+NXQkopEhBx1Tw9UpkC6i0Ik1Ro3PNUKNaG3E1MgHhGkkC8K5B1zTmXSW97///WWHHXaoxIhUdDydqYXtD+wyU0ceCmKzzTYrH/nIR+pyDdJFXG35oz8gK7azE8HpiPJkNskGZYFo2jXx6eRrrrlm2XjjjasXebXVVivrrLNOJWHk0VkGQRCM28Bl+Ac/4ggDOqHie+NUwgy34RQc4tM51/1ue1gJJ1zIuUAAOucaTkL6DbiRqCK68DRBussuu5Qdd9yxCgvCGO+1e4QXjhjBVzvvvHPZcsstK2fjdnlwft111633r7/++pXTiK9Ob18TlbaI8RwSXfhbfJtuumktA6LHYZxYa621apyEzFZbbVXFKhHaGWeDuPEwgSOcrWNbb711PU/8yBPOlUe2yR+B5pqxgGj0nZBij/IQDr8TsGxSBg3SMVZ86EMfqg96EXTtGY3OcH2BQGxeanWN+9XbdtttV8cEYs8Yyi7167c62HDDDctOO+1UNtpoo1omxhVpddZtJ5Sn8YZ98mOMIx4JesKz2ckeDiTlpu2svfbaVcxrO2xQZ22sNB6rqz322KOWLxGqLtkrHDuVrbGMQG75Uj7K23ionN0jfuJ8iy22qGWufkwKOJmM98bPIOjECKkjsyqdBokQWsjLbw1No9QheQsRXYPOoVHqCAOJSqIRAXWC4OVN0OmQNTIxC9a5dBaNfCCBCcIgFYSDXHVo6eg44kfuSIKN/QERIGvh5RfpyI+0xac8dHCDjPgQg45O4AZBEBB5+AvP4Qf8xfOJn4gA/IRjcApuaZNg/EJ8GfjxLbGz2GKLVYHQvHa+ExDC49uGJpRwEy9d87bhPwJIup3Aq0suuWQNi3PxHj4nsNlPXA9GVOB59jahTSAbE/ChfHI2KAfOhoEEWF8QB7txubiVDS8tPlcuRLMwDteFZbMyxc/GKGLNPl75VYbu5R3G663cQdk6xKMs8DyBawxQby1cf5Cusld2JiK8ieIyNrDfGMouhzpRX9qF8Uo7kBcCn1DUDsTTF1wTf2tfvMnEo/GaneyVFnGsfo1jTdwqC/k2bvm0OumcstRGTBbUmd/KiZgWTjrK1qRJen6rY0JVubY27NPYLZx4fG9ecDCRilANujHCbjwNV4NsHlAEqbGZRSFSjV9n1ElAeGSg8Q7kRRS+u8HqmJ2d03cdTJy+d5Jyf0CaOr99ND/+8Y/L3nvvXfbcc8+y33771X06Zv0IbCDBKy0Ej1yENRPUCeVJp0OUzsk/8tIZhWdrEAQBDsGDuBFv4EzeOxNkgsR5nEFgETf4xCCPT4kAPOYeewG/+tWvVg7ba6+9ykEHHVT3E5ps49BOZwABiCN94iTxdKKTWxuca0cn+grbH6THDnxvRazxNfiUT9eak6PT5sGgL9vE15lG+2zf2eTwmyjsdIr4TvCKwzjQPJDQ7gf5aPkB8Q0Nyt8Yc9xxx5V999231tunP/3p8rWvfa0uibdtEMQhTyMPuT2k3/ve9+o7Ze3rbR7MTls60ZlPaHY6J/02TnaH64Y0HMYtZdLGa/dou9qQOuuvfKDzt/LRZuXzgAMOKJ/85Cdrm/X6MXtV7ZslpAczjgfjF0ZYqGqIyFTHMpO3rGRflBm0hm2WhYgb+TiHBBAx4jUrb9dAY0ZWGiwMbVm8kxwG6nSd0HF1MrM4drORp8CWAss+hGY3iXei5dls2syTODezFJ9ZpuUr+XdORzarFL6TDIMgGL9BPOA3Qo1nj1A1SBOjzQPIAUCkEquEJ65q3IRPcA1+cd7Bk8Yb2DyE3dzpdztGN3B1X2KuCaL+rg8r2jgw2PGgO81mx2BsGtr1brBJ/al39WX84Vnk4LDdgYeTJ9QYyRHC62mcEc69nB/25RpfOsfNoaHZOdgygRa2r/w5Nzx1ps1ql5xbLf+89VZKedq15YyTQTdGilDVsAg9Da89/Wk5oC0TmX11AgkTg7yQljWIudbozc6IVOcJSp24kSoBy0Nplis8Uid0/W52DK0jCmMAsBRib+o3v/nN+icDBx54YPn6179eZ3iWNXSmgSBPBhQ2WLKz90ae5BkJOW+A4XF1TvhO29g/LEQTBMG4BXyAi/CF/YNWoXAeziRiXTOg4xZ8iB/9JnRcN6jbw/nZz3628hce46myOrTNNtvUiXPnoC9uPIR/OQlMshvv4tCBVpEGg/5Ei3w2jx5+x/eNw30SXbgd5w6Gw0cGjCnN02gCoDxaWfBqG4P8dt0BwrmG21s4ZQjicgwE+eKd5Myw35Mn3LPMvODf+ta3ype//OV6Xr2JVzqW2+2v/dznPleX/IlYq4EEq+t9QZkq5878GCfluTM/Q4O6YC9bjLvyD+JXXspIWxrIqdMJ8WmzJlG8qd/4xjdq3rVdHmX7aY293XohCEbatNrMHolacvKkKA+A/aM8l93EI6z9ORo8D6wN7TqDzmXpQ0f0ydOgUzcCQGietCcMdTxLIJ6yR3zIHrF3EnNfEA4RiMObAHR4HVpcRDbb5aF720E3pIM0dHrps03cjjZj5Fk2+BDb3eQgr/LfF7EHQTB+AIcQppZEcQRuwpk4zyc+MdnFF0QDjiMMDPgmxl4VhMea0MK7ONFBoHTyC6Eifh4szoR2H66z+kMMDy+aIMJp3ZAuPiRqiBsPH+FL4fGjp+SJIGOCvDXHxKgE/la2PND2YbIBj7OJZ1v58WYrY3UExioPFnn+gr1tS4Z6Ui/yNxDUqbInMC3/25Nr3GnlYOxpy9+ue0WXJ+nVf3+itC8Y00xuxM1O33lh2SdP7B0M5InHU/mwSxthBweTtiPvnftLh4ZWRm2s1d60PeWuTXhjwbDmNRg/MNIYwVKFBqvhapDEqM3mfc22zJh0AMvsOg6S+OUvf1l+8Ytf1Fe76LSWAWy4RhJN6CIX9wp/xBFH1L9k9R2ZWCJp+4oGAvHLRg8hIAR/d+fvXb27DzkZLKQztHiQDlvkWfryi/jkFxEQ2GyXnjBNQLPRQwzIxB8eeLcqYWyQCYJg/EITD/gBT7SlT5yHS1wjZF3DMfjDdatXtiqZBBOd3gH63//93/Xdlbil7fvshDjFY3lZOhwEhx56aDnkkENqHETCsIItbMTnXqfk71rxaKfYkC5ObA9mEWjeyfmrX/2qvgubALcvl2gcrLdvRKFslJEHuayMcVz4K282ea8pwe2NBni8k7uJNO9cNV55byvu9tR8X86IbhgzlLtxzdhImBrDpGncM2kQh3SMKcZRovnwww8vP/3pT+vf7RJ5K620Uq3/5sDpC+4ztrHzlFNOqeKaJ9Pq3mDLWJ3x6HpbDccQ4Wys9G5WEyt2qDPlOBiIz3YGy/xEvnfeypf3xBLmJjuja6ISjF0Y7veotpm4TsVdr7HqOA4CTQM2Q9Yp2rKBawjJ7JrI0xmBMEVeOhNSsCeHkNRJNFx2tGvuMQNFLEgDieuASFCc7BKeDQQpSJ/HFklKu4lHQtVs08xQXpCtvLBTR2/7xroPYdnlYIvBBnG0J0ylz1YdD9GJUzk473Af+80k21KQTuxaEARjNwb7HlXQ54k6XIQv8SaBAm3AxjF4D0843IPrcBz+sPpk9Ybny2pO45zmvcJD+I6Yais+wKNlfz2BKj7hHASae/EcwSYuIpk9JtTEGX4jOnBpEz7iYltzUjT7nWvjgvDsJFTwtzD21HI04F+/pdnGDJxNCLu/G7zMBJRryg6HNhsJKeXIgynPwhgD5LV5o40FLV/O8/LJWxvTiFjlJh3X3YO7jY/KW5zqi1A1DsmnsMrc2CU/4F7xCKvsm0PD2NOemlee8qrc5Fc5ic94xpuproQxphGObOkWnMqCx9d98sQOabDTQ1nuk3f1Kl75N25JD5S3Q3tUnspGmQonLrbKt/jlRXzKV1raqPFMHuRVmtqS8vRdvlp5O+RHGzAOqmvOG3HKl/iC8RfaTfd7VCf498n3rD3b78Stb/Y2UINBBm51aIgab/vtmt/OQzvXGbadb9cc0DqZo4WDdj+0+xwtHZ+OznDOt3DOd6fd0m3xOHQ2L9H27ym2GfSF3Xffvb4nDlF3ptdps3M6vN+tHBraNZ995TUIgrEXu+22W/088sgj6+fQ0MkV3VzgGo6Bdr0TjcO6w7R4Gj/53o4W3vl2jUfL8qvJ+cc+9rEqQPCWcJ28CWyFlkaLpzMP3XY2tHCdaXfa28I4+kq7Ey2Mz6HZCC08dJ53rh3gfKdNnff5Dn53hwPXpd0dP7RxQJgWZ2eaLQ+d9zlaeOe70+sE8efpeZMMQpsDp93naPG3tKHb9natszzbuWaL8512dN7Xzjd03wN+D60NBOMvtBnva6avrLLDcAvVcRVmm/ZPmenx4vYFs0NLKM0zEQRB0DCsQnV0ArfxfPJq8rLx0BkC8D3vG0+eF7Xzio2P/D82owlVXlAeUZ7xIBjb0JdQDRN1wfKK5RD7b/yzR1+H2WpEahAEYxt4rAwE7aFV+w4dPKo8cZZu2xJ6EARBLyBsFARBMJ7Avk37Ae0F9Beh/jDgz3/+c90naALuIVaCNRj7YLmeA0X92bscBOMKsvQfBEEwEtHLS//o3v5AD954oMZDMMCLatk/3tSxF7ateXCL19zDcZlwBGMjsvQfBEEwHoOIsb2JZ9VrmexTdXgjAKEakTr2Qr16UtpT9RGpwbiEsFIQBEEQBEHQk4hQDYIgCIIgCHoSEapBEARBEARBTyJCNQiCIAiCIOhJRKgGQRAEQRAEPYkI1SAIgiAIgqAn0ed7VL1Ddeedd87/7gZBEAwjTj755Pq57bbb1s8gCIJgcCBJjznmmPou1QH/6/8vf/lL/a/gCNUgCIJhgz9MAS+sDoIgCAYPkvT2228vu++++8BC9bbbbivHHXdcXv4cBEEwjNhzzz3r52GHHVY/gyAIgsHBP1PtuOOOZYkllhhYqOYvVIMgCIYPvfwXqkEQBL2M/IVqEARBEARBMNYgQjUIgiAIgiDoSUSoBkEQBEEQBD2JCNUgCIIgCIKgJxGhGgRBEARBEPQkIlSDIAiCIAiCnkSEahAEQRAEQdCTiFANgiAIgiAIehIRqkEQBMG7eOedd8obb7xRj67/g+kpeDE4G1955ZV6vPXWWz1t74hAXsfVvAXB0BChGgRBEFQQe/fdd18588wzy2mnnVZef/31KpJ6DWx6+OGHy0knnVS+9a1vle9+97vliiuuqPaOSyBOTRyeffbZ8uKLL5a33357yJUgGH8w3EIVSfzzn/8sf/vb38qDDz74HwTx/PPPl1tvvbVcddVV5ZFHHhlyNgiCICC07r///nLhhRdWQfj444+XN998c8jV/8UzzzxTbrnllnLllVeWJ554YsjZUQt2vfrqq9Wexx57rIqkXvPksfG1114r1113XXn00UfLzDPPXBZffPEy00wzlQknnHBIqHEDhOlzzz1XLrnkknLTTTeVF154oScnDkEwKjHcQvWBBx4o5513XvnTn/5UCcOMr5PQdK6bb765XHbZZeWhhx4acjYIgiAgAJvn8sgjj6xcaXLfyaFPPfVUufHGG8ull15ahWPwv1B2xDRHCGG66aablp122qmK1UkmmWRIqHEDTZQbb7UB37MFIBjfMEJL/zoNEfqPf/yj3HXXXXXZKAiCIBgc7K0kWE36eVjDoUMHoUbA+ZxiiinK9NNPP855UhsI7znmmKN8/OMfL1tuuWWZffbZx9m8BkF/mODfnf0907PPfvaz5V//+lc5/fTTy/ve17+ONcs/99xz66ell3XXXbess846ZdFFF633IV9LVmaBq622Wj2GBssctgnccMMN1YaXX365TDvttGW55ZYrSyyxRJllllnKBBNMUM/ffvvtNZxtB5NNNlmZZ555yvLLL1/mn3/+Mvnkk1cPr+USnboJ6mWXXbYstthiZcYZZyz33HNPuf766+vgYMlN/Msss0y1f6KJJnr3HnmQhjDuW2WVVcrCCy9cl5mCIAi6sdtuu9VPntL+QJDip7PPPrvyEA7deOONyxprrFH5Be64445y7bXX1mX/DTfcsMw222x19Qonzj333PWAp59+unrcOAvWXHPNylX4E3Cl6zhs1llnrfy2wAILVN4TxvaCaaaZ5t10p5pqqnLnnXfWbV24e9VVV61caX+ka/hvkUUWqVwMhLbr7JQGvsXF4iOqCEqczjMsz8YGy9drr712TW/SSSet8YChyBjALlsebrvttnqeUOMtNQ7wpuJ+nmhlMfHEE9c8sXPllVd+t0waWpziEmcrl3nnnbfyvXiNF+JVVvhe/p988sky9dRT13FhySWXrOOKvChjS/CuKR/3GVcWWmihmo7rysL4I173G5fUnbxLgydYHMqLEBX3SiutVOabb74qvDshzpdeeqlcdNFFdcxR9iDvzms38mUF073KiL3q2ljZ0MrhmmuuqfUx5ZRT1vR57eWB/SussEJtG8pUOGVgS5+8TDfddPUaO7UnbdP4a3uIuORBHcgnO8SpntW71QLhtFt1teKKK9Zw8u5hOPFJT9lJS7thi3y4R3s2FotLumyaYYYZ3s2rMpCefClXda082pYQbVY88iUubV75iUv+jeviUY/Kjbdem2aTa9q+trvRRhtVu9VrMOqgn5mUaeu/+MUv6rkJv/1v1G9DcNZZZ9WK3HXXXd/T0Luh4WjIGprKFblGgAAIPZWr4eiYc801Vz0Ggo5kvxES0iAtgxGLGqW4NH4HmzR8nRPZIkrpCuseHQr5+Y7M2CA/wrFTHOK7/PLLa0f13b06PSJB2q0TS4M9LYw4xIukzOI1/CAIgk6ceOKJ9XP77bevn30BX3YKBdyEx/AgoUfwGbQN8HiHSHAPASkcnnMP4GGDLk4zEcdRBBfxireaGMCDBnDXm4CVht/iNgATQ8IZ7D2HIB3hhCE8cCHBSigAfsTHTcxKr3GlewFP//3vf6+CG8fidKKMkDBWNDivTAh3glJ6BEKLE6+7ny3SVTaAs+ecc856tDQb5F36BAwhhOeda3ESMAQT2wlM8bYlduUsH2xgq7GHXRdccMG7ZQfEi/pS3ldffXWtD+VL8Chv44nDeCF+QpUjR9zS8cku4t/41FkmxKX8nnHGGbWdSIv9PPDqXJloQ9JxqDt1SGB1jk9NqHIsEZjyy0aHchaHuIxtysSWPeMwO5WDa86Lm8gzNhqv3c+eNk4rf44j+ZKO/BqD5VE8wjnEoy6lq93ee++99btwyk1elYMyabpAO5PHVmbyyiZlywZtXv2oG3EI47x6016l5x4P3d199921noRpbUxY9dy2lZx88sm13Pz2Scwrn4z7oxbK+uijj65tePPNN6/nRkioaliwwQYbVBJS+QhVw1G5gxWqDEOUOocGiTClT1WbqekYreEileOPP7429rXWWqvssccedSbn/vPPP7+SloPtOgo7kCIvh9mchomQNGr3S8ceJ7bKj8aK8BCOmfWCCy5Ydt555+rt0GnMbNln1iedIAiCTgyLUMW1Bnb8gj+JL5yHQwmITqFqgCROCEWCpQlVQkY48fEyGXgN/ITU6quvXrbbbrvKpYQCAUqAbLLJJvUczyYec56QwXfiw38G/BYOVxo4Lr744srD0jbwn3LKKVVI4GBcyluGz3mKcaSBnbiwPYzNvFLiNB4QP22McY+ywOGEJYfHJz/5yepJJt4IJkKQx5QnlJdSeF7UD3/4w9Vr1sRzgzKWNlGH23lw995777ryR1jKs/SVv/LjAZfuZpttVj70oQ/VdNhiHCCI5EU86kAZ8xpvscUWtb7YxwMnvLFmm222qeMNwWMMUnfiIDiNMezec889q+fQWGYCIm0OEPltMO6pf2MgESgMEFvaB4/ttttuW+tH/j2cR2wpe+2kQfmKS56N1dqX9rn11luXpZdeurY99a48CDLhlLc288EPfrCuiKo/beKEE06ocbnX2MgTKRxhx/stXbYJp20ZX9URr6U0iGXtGQjLo446qrZb+dBW3aMcteelllqqTlzYZ9w13otP+9MWlZV2JH1t0Xn7lXfccccqhvUB7V2etFeTlb/+9a+1nasj9ey7tOgC5SucSRoBzSOrvWizxn/6YyBdFIw4+hKqI/x6KqSFdDQ0jdR2AJWM9AYLhGJGgyw0Ap1Cp9MwxbnVVltV0vBbJxMeYWnEbaanISJlsySiUxjgPmabRissokGsSAaR6BSISlytg7BFYxWH2TWyQ2y8FXvttVfd5oBQgiAIRhQGPwMk0UKMnHPOOZXniIHhBU4zyOJmogRPm7DjMCLBZJygEI6oIaRwtjQNFM4RFvizednc58CLBnY8SrARB4Sj+AwuuFl4Ao2XTdrEAEEkPjwrvc4BXzx4lnDhUVYW7Gafe/E/Lsbv4h0M5Ef6bCUycLz4xEvgEaTyI8/SZpPyUU6+GzOkq244PYgsZSMOS+DGD/VlrDBuyM/666//btkqCwKaMG3bBNS18UU+xKdsicx99tmnlnenuBwI0lUuJgbKWpmqB/kEafQH9xoTjbHGRPk0phlfmzdZHRt72S//7lFHPOfSU4+Ev7IgjP1WVoShMCYRTRsoT+OndJQbgese+RfedWUpPfbIl/FVPTevNXuM3e239Exk2O0+aQHPdHM40QTqeJdddqlhiGflzib1rJ26T3357TzbtQX5IsyJcPZoM/IQkTpmMMJCVSc1q9FwNAwiVWUj2sFCI9QoNSTkooPr0BqGjitus1adsYlI5xtJIBXfNTweXOTUSN49rUNqZO5nm6WgU089tfzhD38ohx12WPUAWM7QkDVynRPRs8Hs1fv6iHAzN41YfEEQBCMKHGMgxDdEGtGDQ3mvhhd4kQgiPgzGjTPxoc92Xtr4DDfiYQc4J6w4hMOxfuNZYQkCnj7ChrfPawpxqbfAeL6BR9c14YSXJoHT4mNPJ6SLW/G3MMaAZp90CRu8LE2fgwFhJTxxw37pS1ecRBNxZMxwTVhjjvypC+FwvHSdkxdjFDvdzz52uZd4lU8eSGMFb9Dhhx9eP+1D5g0kfsRJLBNERJpy4n0ngqWlTsQ3GAinTNsWNIc6c8BAk5yWzzbGStvEhH3KS1nIk3FdPpWH+MVpbBXe/fLf2o/fxKAyMr7KL4jD/dqAcEQhQWtMFh9Bq70bf4844og6FlsxteJpIkQTsI0olleefmOxyRxb2aK9SJ+oZhMP6jHHHFM96SYp7pNX+eK9buGbXS2fzulzNIJ8qQ/nlLO2KGwwZjDCQhVUoMZEUGoElkG42DUKDX5oEEYjQlQab2eD0GA0lNZghNWhHN3hNFr3t47mEKYznHMauMasIXuHof1TOoZOg8zE1WarBKttDghH52jvhWVrEATByALRhHcMnJab8ShRhrNGBrq5cFjQ7sW70PiV4LJMbEkbl/rEpRwOnel1fh8ILY2WDuBjB+D3wa7WEZXGAkcT4A2EC1HTnBggjW47CRSHsUzarS66wznPyUGotj9LMF5YtmYvUSQdnmdi1W9jkKV6B7FK3A02byMbrbyVU2ceO+sBXG/105l/v+WP/YReX+1WeG3bJEH+lbewBL5lfOOwQ7lxeKkj8Zq88WzyghOvtg4IY6tgW70lRnlX9R8TE/HZRmL53kShTTLYJN1u+9UxMc7uVgeutyMYsxgpQhVUshmVPTtc7/braESDEXQaTZt5aZydDbyRjQbkU1gNydFJPq6ZfWlUbfbT3cD8dr8lEnuVfvrTn5Y//vGP7x5+O8/lrzEjMXuqPv/5z5dvfvObZffdd6+NnjfWDDsIgmBkAfeZGNsPZ/DmqbQdqg2cYxI4udMJgB8dnBP2ZP72t7+tHtVOPrVn1SrbYIGfcXrj9wZpEoo+G78PBsakNq64p3NckRdjk3jbOOJ3EzMNhBSRQ4TJb/eYAs65RoR+7WtfK4ceeuh7yuF73/teef/73189iuImpuwPPeCAA8rXv/716hAhvux9bZ7I0Q3l3crWGNkXWj5b/bRykye/2/jLWdW8150QTh0qT5/AY629H3TQQe9pP74rH6sMzWNru95nPvOZcuCBB5aPfvSjVWd4wIr3ni08oLyqtgT8+Mc/rvtZ2cEDy7nU8iht9d9pv3bAgaUPDrZ9BaMPI02oagBIgYseeal83keVPzRo0BoZAem7JXhLDIjDMoIlEjMjDdNsTFoInNdWGGlw8SN2DZ93V4fqhnNc/PbxGAjcx0vrHg2XR5UA1WjFxeOqE7T7NHqNXJoafRAEwchCG+QbhzYewjdgEDV5xoN40XlhrPjgv5EJaeBX/IcnLW23dNjJKYGLCTg2EFg8lDxbrtu6wNs6WJ4kKt1vvyKvmYeQiER55PCwd1XepWmcGQwIDuVpuZkt8oK/OT14rI0rPJnOSdsnu5uXjvASjsjhBSWWusWXvEpHeciDNMBYIe22FG5J2baG5uXjfRWfccXY1/LaxNOohLpUnsZYZaHueMF9NwYThn2JVXaaSLmft9+SvXuUk/HUuK3+bdOTL2OqfBpT5UsdcGBZ2hde21EGxl22SLPVL5u0NXXCMcRD6lMY7cB9bbLBHnXmYSr9Bdp4bexW7q2Onacd1LNPcagb9aae2e6+oLcw0oQq6KgakE3z3PUakIYwNGh8SNjGdg1VIzLD9BqQNtPUyMVPVJqRIhKdi5gUTidxThxIo6+O5hxvqYFABzMbc69lBOQhXTbrVIhDwyW2Lc142t8bCVpjN0sPgiAYmcCD+MXDLrjKINvEC87Bb7iLkLNn3gBOTI1sT5yBHecSq5ZY8SSOJMyImSZUCRdigAAhwpoQa1zKYTEYiMPYwSuJp3EtbhefuC3nEotEJyE1GIgTXxuP2K3MxIfP7XUktIhswqhtXSNe5FfZ4nxiSXqWngmY7nFFvNJRL8qFwJf/znQIb+moR2ViVU4Y447xjZBT153bEEYl2MImT7l7GwM7tSFlRahpg32Nn4Sq7SnKSrtku3Jyf3sbhfbgME6bdBCgylNelacxlzA0Vqtv9clxpC68+UA4n+pKWdIP2rt6IUK1Q+kZ79WLMmO3+JSj+KUjHsJWXukFkwYi2v5g9WRs13fsjZWe+F23AhCh2nsY7tdTqWgzRY1IJ9ZYNG73tIpGdEhX49cRkZ+G133owO5FfD7teWobpjVg8XsTQHvKUGNDXBqtV00gMulapve0qMaLEDRaHQapOgc6k3Skad+p2Z2ZNVt1GsswOpDwbNORzdTaxmxPLbYnIQcqnyAIxk8M9vVUvEA8ToDjCIHGoQZN3iIeOXxEROE953GiQdbrfwzoTZAJT+AatA28zZvYuA9nGsxxo/RwIY7jMW1CwwNGRIgxALeD1w7hYuLGa7RwILFCVBn0hcPF7CEipEFUEgj4WrryioeNBeztizsJJHnkJMDdf/7znyv/soddXlVjHAEChBCRR+mwvVtcSUOcyoANnA5/+ctfKu8rI6+IspxMKCk/IkV5GgM9HEYMEWZeT+QBIJ5T455xgAhzn3RBGRO8ytbY5UFdjhR2EspNACkv5ag8PWwlDDEvDSJdPJ1lo360AXlV9xxArhO7HDfskkfg2WQzuzrHPJCGuIythCJbCTp7adkgn8qi5ZNw1Z5amtJSb+4zporDfmTjp7226tlrrDw9L11tmQ0mLMZXDzeJk23e4qPOtGtlos6JUGWm3E1S6AZtVN1JT30JIz1lx6Nrzypd0N6+oD26VzvUB/UT5e0tA/KgrTikJ5y8H3fccdWbajzXvkw49E39x3l6QvryH4weaKvdr6ca7n+m0il0SuKzkVbrYCradTMinYgIRIQIQPhuaDheIdFeY6ETuEfjFC+DNX6dQRri4EEQjg3u0QAJUISjoyEIjY0XwjUdrEG87Gv3+y1MS0ejdA5BGkh86uRskYbOqyN2EkoQBAEM5p+p0C6Owy2+E2B4p3EKvsFxBFbjQFyGl3CS823vpPPubVzsXp4s3IsPcRUI7zxuFM51XE2QiFMc+I3wZBvBiHN9F8Z1dhIXzoM0xYnrcSlIz+AunDFEuuLAsbhzoHGFPcLKX/MS4273sY0NIF2CTx5wduf40w1xiov4xvvCEZjKVLzGC2HEyfnS8i4tcTvYrp7cLy7CSBxNJLqmXN2rLHyXT/cRZz6NU8pR3hzqvoVhizhb/hqaXfKqzIUBY5d8qA/xQueY11nv0OqZiDNpIMBaXbBdvMqXLc7Jg3TFoR5bGiCdNv6qW+UnPaJQXfktTukJo9xbW5WOtiGcdLRV8Wl/ytZ34ZR5a/Ns17bEJYx7Wr072tiuPKWlDsTTbJee7/IgLtfkTx5aGxeP/Aunj2nT4iK22cDWYPRAHXX/M9VwC9Vhgc5DqFoG0ci6oYFssMEGlTw7BWUQBMHYhsEI1SAYnegUqsQ4Dy5PJIEZBL2EMSZUgyAIxhdEqAa9hgjVYGxBX0I1SjQIgiAIgiDoSUSoBkEQBME4DPtZ7X/1ILCHjj081PYZB0GvI0I1CIIgCMZhEKoeJrKc6ml6D3i1B8GCoNcRoRoEQRAEQRD0JCJUgyAIgiAIgp5EhGoQBEEQBEHQk4hQDYIgCIIgCHoSEapBEARBEARBT6LPF/77b3v/j9vfX9IFQRAEfcN/kcMmm2xSP4MgCILBgSQ97bTTyjbbbDPwP1P99a9/LSuttFKEahAEwTDihhtuqJ/LLbdc/QyCIAgGB5L0mmuuKbvsskv+QjUIgmBUIH+hGgRBMHzIX6gGQRAEQRAEYw0iVIMgCIIgCIKeRIRqEARBEARB0JOIUA2CIAiCIAh6EhGqQRAEQRAEQU8iQjUIgiAIgiDoSUSoBkEQBEEQBD2JCNUgCIIgCIKgJxGhGgRBEARBEPQkIlSDIAjGUvhjwXfeeaceQTC2wb8Qvf3227UdjyyIS5wvvvhieemll2oawdiNCNUgCIKxEE2kvvDCC+X555/PgByMVdB2X3vttfLkk0/Wz5ElVt98883y+OOPl5NOOqmcdtpp5ZVXXslEbizHcP/X//33319uueWWcvPNNw858+/IJpigTDjhhGW22WYrCy20UFlsscXKNNNMU88FQRCMDxjMf/0bOO+7775y0003lTvvvHPI2VI5d6KJJiqzzz57/a9rPIpD++JiXqNnnnmmXHvttfX7euutV6aYYop6/9gGIpv366677qrjzxNPPFEFx8wzz1wWXnjhWhYzzTRTxpJxCCZYdMTll19e1lprrbLggguWySeffMjV4cfrr79eHnvssXLiiSeWSSedtPbHqaaaaqzsF+MjRup//T/yyCPliiuuqDOWa665pgpWwvXWW28t119/fbnuuuvqb+73zGaCIAj+D8j4oYceKpdeemk544wzKmc2DnXgT8ftt99eXn311T69pXwMxByBZ9Af2Uuoowts5hG+++6761hyww03vOsEufHGG6sQ99nyGIwboAu0bZMt4jIrAkF/GG6PKoJFIE899VTZfffdy5xzzllnuxqb81dffXV58MEHy8c+9rHqFTDTD4IgGNcxGI/qW2+9VS655JIqRolNHDrDDDNUznXtqquuqqLNRB+H4tfJJptsyN3/B/TdHAH416rW2AZjhvHisssuq6J7gw02KEsuuWSZeOKJq9f5/PPPr58f/vCH61gy7bTTDrkzGJuh7bb2q+0OpDeGBfGojt3AB90e1RESqkjWbGiPPfYoc801V20IotNIXL/44ovLrrvuWhZddNGauBmye3hjhVt66aXLiiuuWK9PMskkQ2IOgiAYezEsQpX30HccOuOMM9YB28D96KOPlgsuuKB6VHEoj6O9fMI+/fTTdYkU59peddttt9XzBJ69fn5b2ZpnnnnKAw88UD23PJErrbRSmXfeeauYtdxqH5948PAqq6xStxtIv8XBy8uz6Zz73L/MMstU7rZke9FFF5Xpp5++huewWHvttatt9gRuuOGGVXgbE4jP8847r25hWHzxxavobmOLceHZZ5+teWWz7QvCWOYX5uWXX67jCOeHLQCrr756mWWWWarthK2xStkoO9fYN+uss5bnnnuuemHvuOOOMvfcc1d7H3744Vq28qFsQDnYZsCR0srB1jV5VmbiF49xS747y4Ht9957b/nnP/9Z88o7yOu7xRZblDnmmKPmu602smfKKacsK6+8cll22WVrPJ3jq7ilpz3YCiI+eTRWGmMtiy+11FL1PFvuueeeGl7elJn4iLFmky0lxD/RpryXW265mjc2SEsdmQzJm3JRj8pk6qmnrmWuLSkHeRJGW+B4Un5t3G6Tie7JkfTdYwJmoqXdyof2usIKK5RVV121tgVxm4DQCuuuu261Xz3RD9r1EkssUevByq04TFDcL002u085vPHGG7VNiEMb0ab7EqrqQH26T523du2++eabr4YJxjz6EqojZwrTBR1Bg3aABmJZR2PXCTQkBzLWKTXOFjYIgmB8Bw5F2I0XDaxEI2GFT4HQMdgbrO3tJFb9JhSuvPLKdx0CRJi4CBziTniDtPOEDBFIMBBZBn3ijkCWJuHCk0uAipNAIAwJAQJSWPcRBOIkWIkBaROwbCJE2Y7v2cGmBt+JGQfBw2NKNBG48kfQEC2rrbZaFU7OiVvabHAP8dXEtXTkgRBr5SAcGHOUp/wqR9eloxzc77yxiC1ElutEpnPCKIe2J5j4ly95ItiNY+7jcGGj8+417smz++WVgBNWGXaWAwjX7lP+bGKzslVn8qIOlan45F1ZEPjyKN/ul4Y6YItw7FI22ojvBLT4ndOWCLQm7twrfeGasCN63SMuh/Jwr7bAlm7Im3ZBdGs37FePyku64lM/2p72Ik/CNc0gTflljzYof9qn8pKeayYAritr+WRfE/DKobuNKUt1IYzr8qu9mgyw04QuGqR3MeG3/40h3yvOOuus2hnN4rtnSp3QUTVUjW/++eevYZGkBtMaGlFqBqnBIxDhN9tss7LddtvV2a/z7tdwFlhggbjmgyAY68GTA9tvv3397AtECQ8VTjRo41ADpe9EgoEeh/Ka4VADubA+eRs8fMILZOAmQNy7/PLLVy71273u4xlz8E4QqYQMDxsO5kniiSKACNLpppuuijEiEI9b6froRz9aPXHS4YHjuRSGOBVOvGussUbZfPPNa7xECl7H5eI2LrCbsOG94o0jXNrYohyILWEICjYTngRIAy8ij6Iycl7Z8NCyi/dy0003rQ9dNXHN86gcjENEVSuH9ddfvwrh5lFjrzpaZ511qgdXOfDaOXjtLrzwwipgCOS99tqregKB0CJ0CCR1pRx4gddcc82yySabVFukzU552XbbbWv5SFsa6ko5Nq9xg/PElHahjNlsvGS/c64ZYz/wgQ+UjTbaqJa99uKadJq3lfAiDG0ZEQc7mwCXrjh4sIk347BtJ9Iw7hvX1YO2REgSibyZym6HHXaoXnNxCasOeXTF3wkCkq1sE7+2tvHGG9d4XXO/tiXvhCptwMtMA5ikaL8mCk3I+q2s2ABWIji92Lj11lvXvqDtat/iVK/6jfLXDrU5eVb2zr3//e+vfcj9oK8ob/2JeB1I9wSjHtrJ0UcfXduqfgMj5FHV2e0f+q//+q+y5557lo9//ONl7733LkcddVTtdEjAEgjycmi0yEqncvjt0EA1DgYGQRCMLyDSPEy1//77l0984hP12GeffcoJJ5xQxZCB2JI8cYe4iUKijSghEPoaVN1n+bt5J93rt4GYd5JI4EXjHSPKxE8wEgZ4mSAwmEtLGkQssUYAEB8GfecJUaKwxWewF5e0DP7NeyeP7CXgmiewQbrGBvEOBvJm2V0ZEYbSkj+CSV6MIdI0/kiL3ZaDlQP7hDcGsdkhv53l4D73E+LElvBEnHSJv3YvwUWQKwdhlIN0lAOR67e6U47Kzf3KwPK66/Lc33jHJsJN+bLZb3Wu7oyVzotPvVhOZ7Pyaw4h6bFZevLGZqLWZIAH0UH8aR8O5Sc+cbm3QXnYVvChD32o5kcYh3YkbZMmgrAviJO96oX98kwwulfZyr/JRCeIRPVAeGqLJ598cjnuuONqfm01kBeOLQKbMLUNgIBVL+LVP9gjjHbVCXETsQQw3aKOxUF477TTTnU7B1EbkdqbGCGhqgGa5Zq1bbXVVrVjOswCNQCzTA0WYWmcbcau0bQZt06kc2QmEwTB+AYDPrHA49Q41CcvISFGFBEHBlmDPcFlwPa90xvXCecJqM5wfovHObzdBm487BrRZHB3znVi5txzz617xH72s59VwcBj2UQgrsbtTfC2+AgHgtT9hEzbn8hhge+F64R4jAlsGAza2MFee0P/8Ic/lIMPPrj8/ve/r162Zp/rnfl2j99sbmXQXzkQOzzIxJQl5mOPPbam8dOf/rTuO+aZa55wcJ967CwH6YjH/UcccUQtw0MPPfTdvcH9CTwQh3IVr7j8bjYrq1anzksH5JnN8s/j6x2i7P3JT35S/vSnP5V//OMf1VtqHCYCCTYCj93iajaLv0H6yoVX+dRTTy2//OUvazn8/e9/r0JXev2JbfGxWZzsVM9EqHPuI1K7y0AYadIU2op8AnFP8IqzCU2e4z//+c/vtk/twJYM9dI9CRCvsrOnluDVHuVHXXK0tYmX+IPexAjVjIZnprXLLrvUpZFPfvKT9fODH/xgXZYxw1H5GmR/jVJH0WE05iAIgvEJvF6WID3RbjXKYXXKahSPEWHaOYDizRHBQPcb3AkBS8mWfImBdthXabm3k8fF1Y4GXI73CREilXCwfMs753w33OseYwEBI/5ubxhHh3hsWyC0xEuUWuL26SDOCBhxDAYDlQMoC3aIs7Ms7JVURuqNABauxdU+3UekKzO2uc+n/Z+dAndYMDR7G9ijfCxxN5ttQ1BuvMsEsPZEBA402RGPcrdMz+6WDwdvOe/tsEIeOsuoL7hO3BKWbG0ToSZa2UVoy6O9tOzSDkyiiOom8DvR4jTps9dZ3CYL7iduffrdn03BmMcon0JoYE2MamSdMAtEaBpeGkkQBMGYAz4mQM4888zqmbP/89e//nU5/PDDyze+8Y26JQCXDwSigohzEJZtX6XfREQ3iAhePAJV2kRcpxg2ZhAhPIQ8eQSp5W3eXtvGvvWtb5XDDjus/OpXv6r72aQzomBT82raX/njH/+4euz++Mc/1uOQQw4pn/nMZ+ryfLeDhb2ELEHHm+rJ9S9/+cvld7/7XfnNb35Tl9Et448KsJvwVG/f+c533rXXwZv7zW9+s+6zVUdEnfp29AX5IEjtv5XHnXfeuZaxcrBNpe3XHRa09NjZn0hW9zyeHmQzYTJR8J2QBPfwsFp54E1V9535tCXEFgP56wR9IR88s5b6tWf1Yn9yE+C2FHRrlKA3MEqFqgapwdjDwzOgMSAvwhQh2dSOcJwfaBkhCIIgGLXAv4QCYYm7mzcLN/Om4u6heSwJCSttxAKhQ2TaCuBcW6buhPC2C9gCZmuYpXFL1MQeUSNNy8w+7c/kDWtjRdvKIA6ChhdzeLyV3Wgi1Z5Ny8jSB+LKA8I8pTyrPI59gSjigJEH9jqUp/BEWH/3jQjYLB3bSNQVL6r02UyAEX0eaGO/cibYhDGRaM4iZewAeXC/e9Wb8vDpnP250hgIwhGYwrbJB880jzIt0Fd7EMb+Uls65McWQnt8pcWrKx73mdjIh/bFdnnUJnhGpdktOOVFHN7OcNxxx9W2Am0bRRPQ7okG6U2Mco8qEtHhzSJ1Bk+O+jcrDxBofIhAY9GRgyAIgjEDXG3wJhoN/JZFPdDCq9aWvJ0faPULjxOPHiwiPIT1oAuhQ3x0Q/gmsDzTQFAQq/YQ8qLaW2mMEIc4OT1sIfBJ+Jx99tnV2UFMEoCdomN40YQqjynbxM0eZeFpeUKVaOqvHNxPnPPuupd9Dt5gNipDZTMy0SYWHjQj5ghCYyybW9pNxCs/eSPy1PEpp5xSzjnnnDqpUNYgPoLWlg3nPFHv3eqcS7yb7pWH/spZ2RCTtiDYB+rhQPXqPntFiVXjfidsTyA0TVSUHY+5B/q0yfYmAcv62oL6J0zVvzyy33UrAX1BnSh38RCsNIg3RxC78uiIDuldDLdQ1WAQko7cFwF1wkZ6HQgZWQ6xlGSDt4bpnD1aaSRBEIwvwHU4D4c2r+BAaHxr0G5hxYF7WxzttzCW6BsvO+8Qpj1Y5DcIg8Oddx9x4qlr8KpCD6oQAzxdllx5wdzDnra3tMXV4Jz9kA73tAfC+oP7PUBjOZkA8YL33/72t3Vpl8iRFw+XeejWWMLp4dkIwsdStLfMEE/y15b+Wzk0gdxs7K8cfFcO7lEvvrOHeCbwpGPpu22LaE+bd5eDQxlZ8iesjXce+vG6HVsWCDRl3NLthnulzYbOehY/mx3t3nZe+HYfT7a9zfIsTTYT/DyqxBhb2U4EciARp7YFeLCIaJOmQ3kQhOIyeRCHB9aIXlDObOzPCykOZU888mJqRzy6HpLSvtjR2Y7ERQ+YEBHa0uZB5/lV38KxVVr+vICA5Rk9/vjj61YMaRCiylY5tPpU174T5zSItmjyIy9HHHFEnewQ7cpN3fdXL8GYxXD/M5XZkiUisyoNX0MbqJI1Ih1cYzSrgrZ3VYMaKK0gCIKxBYP5Zyq02zjUdxzaKai6wRPXljkJAIOv+/Aqj1eLgzdRvJY//TbAg+ttudb9hA3OFaf7xdeEkJUv5/C1+PGzdEF8BnQgXgkAYqCTv3le7TclHsTrwbAmbPpDy5ZOXpMAAOf9SURBVIs05bU9tyAtY4RD2sqHzcIYS9yj3Fz3XXpNCCrboZVDEyfd5SBPwirLNm75rdyMW8SUPItfXrvLQRkQuNJqdrkOvrd8dda3+KUjTmkII2yzg43ilz+fxl7lxD42t/jc38pHe2hthkhuZehe190rvDBEJY+mcrAnlWddmvLQ2ql0xCF9h3plYyds5fMOWteIdRMWdrpXuTncwzZpt3YkPukoL/Y6oLUH9dzK3W/3Cd/yqFyUG/vEIR/NRp/qRDk67zuwSbmom4HaZzD6oN+PtL9QDYIgCP4TgxGq4yoMJ4QF75etXZbAPdzTxE0w5kFYE6TqQ/3wYhOkvKXEKq+n16XxXg8PCFXL6+L1flKCIwgGiwjVIAiCUYzxVajybHmgyfKt/YM8ggYbryrs9BwGfcB+1+de8kTRkBOjDo8+/ni56tprywv/760y3cwzVY8nz6ZtCm+99EpZb4WVyhKLL169l8OD6+64rVx07TVl1pn/LVQXX6IsMvfcQ670OHiGp5/avoUhJ4IxgQjVIAiCUYzxUagaRix1ezDHA0eWbf11qD2Owyt4xiu89kYp511RyjP/+zDTqMQb/xYCz7z1VjnrhUfKxbffVL3flsBXWXGVsv5Ci5f1J5q6TDzhhOV9wzm5uO6158tFrzxbZp3q30J1kn9PVt43lrwjfcZ/t9ONVi9l8v98O0Uw+hChGgRBMIoxvgpV+x49se3BJkv9HqTqaw9j0Adee72UMy8p5elRL1S9q+Ct8v+VR958tTz23LND9uZOWGaZedYy+zTTlVnLhGVE/N/P/r+3ypPvvFUmm2iyMuME7ysDv3m3hzDTdKVstlYpU/zfv3MFox8RqkEQBKMY4/Me1WA48eZbpdz0r1JeenXIiWC0Y6opSll2kVImyUNVYxIRqkEQBKMYEapBEATDh76EapRoEARBEARB0JOIUA2CIAiCIAh6EhGqQRAEQRAEQU8iQjUIgiAIgiDoSfT5MNUJJ5xQNtxww7ykOQiCYBhx8cUX18+11167fgZBEASDA0l6/vnnlw9+8IMDP/V//PHHl3XXXTdCNQiCYBhx+eWX18/VV1+9fgZBEASDA0nqL3h32GGHvJ4qCIJgVCCvpwqCIBg+5PVUQRAEQRAEwViDCNUgCIIgCIKgJxGhGgRBEARBEPQkIlSDIAiCIAiCnkSEahAEQRAEQdCTiFANgiAIgiAIehIRqkEQBEEQBEFPIkI1CIIgCIIg6ElEqAZBEARBEAQ9ibFGqL744ovlmWeeqZ/vvPPOkLPDB3/GJY633357mOJy3+uvv17tcPgHhSAIglENXNM4q+vPBEcI4nvhhRcqn7388stDzvYu2GsMeOSRR8prr702UjhYnCO7XAfCW2+9VfPw2GOPlVdffXWE01UG7B/WcfGNN94ozz33XHnyySdHa/6DYFgx1gjVq6++uvz973+v/6Otk48IdGwEIZ5XXnllyNmh48033yz33ntvtcNfzPodsRoEwagGUYGvnn/++SoqRhYIlUsuuaScdtpp5brrrhtytnch/1deeWX59a9/Xe66667KwSMC/P3SSy+VZ599tpbr6ODzp556qlx11VXl8MMPr39XPiL1SVy2sUw+Bmu/cA8++GA599xzy/HHH1/zn7Es6FUMt1C95557agP/2te+9u7xjW98o3zrW98qv/vd78pFF11UZ+kji1TNnonKkTGLFsfNN99cCfqmm26q8Q1mNimM2TA7eB/6u6+F++c//1kuvPDC8tBDD9XfQRAEwPt15513lqOOOuo/OPTb3/52FTGXXXZZFZJ45oEHHqgCrfHqYPhqMGAHPsRnxHCvQ1lY1SJYceqwlAPP4dlnn12uuOKK8vDDD9e45Nvv888/vzz++OMjLHwHg1bmPNnSG5G6bO2IA4czR9kMNj5jM5HbBO5A99122211LLv22mtH2FEUBMOK4RaqOjWRh0x1+rYc7rj//vurELz++utrZxzWJYnRAZ2y8xiZEB8SuP3228utt946UgV7EARjPwiDRx99tNxwww1VgFoGxhM8Wz6t3OBXBzGFQ/GK+2Bkc9b4AAJLefJiKuPG/Z3H2Ah2D01ojihstTCW3XfffVXcBsHoxAgt/c8yyyxlvfXWKwcddFD5zW9+Uw455JDyi1/8omyzzTZ1tnvKKadUEWv2SKh1diafzjUCHgyEc7hH/GajPrs7qe/Oib+F60x/qqmmKquvvnrZaqutypprrlkmnHDCMsEEE7wbt/Atbr/7s7Ol0Rm2xdF+d37vvj8IgvEbc8wxR9l0003Lj370o8qfePTggw8um222WZ3kn3HGGeWJJ54o888/f9lkk03K9ttvX2adddZ6byengc9urvIpTONBn8IMCxcJK073dR7Ot/j97ozfuU50hunky050x+VocfVnb+c9/aXps5OHW15gmmmmqeW/0047lbnnnrtMNtlk9fxAtjS0eFt8nWXsXH82d6LF0e7rTgPE0x2/MM5PNNFEZYUVVihbbLFF2XDDDcsUU0zx7lgmTLO/xe2QXru/xd/y0G2/o/O+zvuDYHRhgn83xPf0ps9+9rN1xmkP5vve17+OvfTSS+ueJjPTPfbYo8w111y104gOsbpumWqHHXaoSwv25cw333xlySWXLFNPPXX9bV/UbLPNVlZaaaUy55xzDpiefaH2JOmIOooZ3tNPP13TJZaXWmqpMv3009ewCJ5H4h//+EfdoqBTSXvjjTcuCy64YBWmPL5scM9aa61VO6B7LJ/wErvHgLDYYovVJaNFFlmkrLzyynVfjy0D7l122WVrGVieEw87kB27TjjhhOpRtZw2++yzl/XXX7+su+66ZdFFF602BkEwbmK33Xarn0ceeWT97AvEAB7hUfUdh84444yVm3CPFSvL0bxYH/rQh2oYXIvbTLJdv/HGG6uAXXzxxeu9PIY4FUeuuuqqlVOdszSMC3HXJJNMUrkMF+JO3MwO8eEm57vB2XDLLbdUzsTdtj7hu+22267yPV6++OKLy913310mnnjiyrHimWeeeapTgPixdMxzLA73L7DAApX311577Wov7mcrzjR24G33sVVell9++RoXbhUPAf+JT3yicjRvNE8pflYWbOAcsUyt/FZbbbWaruVx4SaddNKy8MILlzXWWKNysnPSxt/K0TimXNxvPOBFhKWXXrravNxyy9U4lL+8C88TrnyNS8rdmEJAzjDDDFU4dsJWMKuN6tf4YuxhJ7vFzV51IV7edHGqvzvuuKP+Vq7GE2OeMpE33nl1u84661TbbI1QhtKwbUT5GnuNR2ySD55ReRCvdIUXD7GuLIRnw4knnljLQTmLW/uTvk82d+cvCEYE+G/LLbesfZ/jE0bIo9ofEIwOoQPqIBq3czaQIz2dAfERtMLoYIOBTqrTIXPiDyEQiYQ1kkCaOh+yQ0riFobXQvo6JTFqHw/CYwvB6T6dEJmKa+aZZ64DwHTTTVdJBYn4FJ+wSIB4RYbsEL/ziA2pTD755JWsxcPrPO+881ZBjpCDIAgGAi7Bn41DCQHch6PwHC7DmcKZKONEXIrfhHGdgCAIiTBhCA4CBx+Ji/DAaSb9QwNOxZv2cuLbKaecsoodtomfUCKkG8/hV8JV/AQgm3AjkW0ibwAyGImTUGdP43G8LS62LrTQQjUcMUjY4Vu/O6GMiEQiGS8rEwfbcDvxpRzYK+2ZZpqp2mhcIHKVLftsV5NP5WFCIF/GKHEZC/A5O4l+4wFbpMtm5SLP4uUQkR57mpOkL6gj46AyaePFtNNOW8cPeRWH9JTRBRdcUL+rO/EDcWmcEw87xCUf7Geb/HAUscsY5T55dZ8yVy/KiCA3SZGeslHuxmt5lAfjtwmNOKRvrFN2JioDOZaCYGRihFoaQkEOiFKjRigOgo+Qs6xC7JnlmjkShq4jNqSqAyAtgm4wjR4p6dg8mbwWZtRmfUhOh9ZJCVAEo0OaYX/84x8ve+65Z1lllVXqzBjRdG84Rybsdx3B77777mWfffYp73//++uM1XWdukGnRhCIeZdddqlpmJkjZqSB2NjGW2CGu/POO1cPA6IMgiBowGn4C/d0ciih4DwPJmFIaDb4TnjwMhJjwuM8jgBigzeOZ9D9RAkRs8EGG5RPfepT5cMf/nDlYxwsTekPBviOACKoNtpoo+pxw4tEMIGEX8X/0Y9+tHoer7nmmiqW8LHrxgRC5yMf+Uj5whe+UO8n0NiOT9nIJmPJiiuuWPbee++6usdrR6QRsLi/k4cHA+KMh9AWrw9+8IPVi2oLxdZbb12Xyo1RnWOPMQSPE/JEnPv23Xffst9++9WxBr8TpoSe/DdPt/HN9gHjBk8q0Stv7O0caxrafdI3Toh/xx13rPVNgIpf2Rmv2GKcVHfiN9a4prz6Eu/KyXhojGXLxz72sVqe6sgER74a3K/8CVFb9vbaa69aNuJQDsa/D3zgA2XzzTevYxlPl+vLLLNMbYfKNwhGNUZIqJrFm+3913/9VxWDxJkO4UlWHd5+qjaLR6wat05nGZ+Q9dv5wc7MxIM43KOD69RtqUfHQro6l45rNr7EEkvUmbSZKiIRTicVtnVun0hYx+apJW6lg0TdJ36dtRM6NTK29MIO4YhQAwpi0vmDIAiGBgLNMvb+++9f+dNBjNg6hIOIAnzTveqEa3AOHiJsTjrppMp9BI1lbTxE9OG8xoW4ioD1G4ihTtEyEHjQ8J2DRw1X4n+Ci2eyLc03zyUHBbFGZLJBOMK5rWARUPJmLy67iFljAjFEaDvHs0cc8lQSU9Ib1dxqDJEOL6MtB8rSShhbOEjYwqtNsAorn5b5m0dUnakD93DiGFu6hSSoP3lTnhw2ysiniYbxULlx7Mi3uI1DxiXxKh/3u6ZMu8U7+41x4rPFQpzEunpRd2xucK2NZdqGOuRoUf7sVod9Ce0gGJ0YIaGqY+psPIZmYu3gZTTrbh3WzEvnQE6+64g6m2UEHW6wcK/4dGpxONrmd53K0cSqZQ8PJRx44IHlO9/5TvnlL39ZZ8IIUedr5KET+s7LKn6dtcWPjMXveydcR1yOFs5AYnbZ4guCIBgaCED7A63iNP406cepvI5ESuOZTuAcE3XiiTjCOcQMceI8HsJpvKbnnHNO+f73v19fe/W9732vvj6Qp7UJv8EIEdwoHQf+AyIM13oX549//OMaP679/e9/X715lrE5LNjEo+teYX/605+WY445pnqBxYU3xUXMGieEkz/njQ84X/7x9rB6VIcVylEaPpVj43+2EG9sYadyE46dzuF/34X13ae891e24lOv4m/lqYxbvqVvLCOYjVsesjOWeXBZ+dmzSsgStNLpBPvA+Kz8Whn7dEijQZpscHTbD+wYTPsIglGJERKqOjLBaYmcON11113rpycQESjSaZ1Cw9dJdAwdoZMARjYQiA5shq6j+zTDbPtV+yJ+djjXiCIIgmBUA0ea7Ft98tAUDiVSeRp5uYiNbq5q6BQfjiY2OkG0tH2IDh5NIsuqFE9om2APK5p4aVzbvJC4lsASvy1dxgheVitVPLnss2xtBYsn2HaHTq9df7a4PiZEU6c97Ts7iEOfoxrSUT7KTBk7eHN5QnlIifqBxjKfw1O/QdBLGCGhOlggF8sgZoY6nSULm+sR28heytE5eSHs9+FFNbs/7LDD6vHb3/627texHYFgBp3YPY2wkWwjQ5+jmxiDIAiGBryES+0FbUvM7WFVnNp4zZK/vY2dPNi4EEeauA8PmhiyNE5g+6eozjR857SwjEzMEuT2Vtp3yvvq1YCEnm0PRFiLE/92egjdyzPsfBNeg8Xwcjc72Ebkd9rCBrY417yfoxLyyhtti8QPf/jD/xjLlKWlfROUThjL2KdNKL8mqNt4ljEtGNswWoSqGaAnIM2gLf/zuJoNWvqxj2pkzUx1bHuIwEzdA1VIHMEgQ6898ZBC58NUSIk3AqHq2MR0WxLjhfUQAI/B8AJRiGt0zL6DIBg/gJtwHE61/96qFtGIZz3EQ0RZQcJ9fnsoh2cVF9kXa+nYeZw3PCCGeGRxru1UnpLngJCe+M8777xqi2t4/uijj67827gU77aDqCKY7cH0b35stX+WUMThvLSWsIWxzN6JtgXLGMNbrFwISeOKwx7OTrGJ99nYX76JPvkyjhD+ysiEQHj5YEvbS9otEEc2eKSloZ6ViTFMmciTZz08yNbX2GL7Gk+rh9nc6z55tk1D3RgThwfKUXqd5RkEowOjVKgiBR2rPW2vAyFVG+/N9O1h0pE8/TgyhBzSQ3Y8qj55GzyUgCTN3KXHns5ZuXv8NjNFhAjSw17HHXdcJVseCsJ2WCBOAwWi0bHtl2ULARwEQTAiwGEe6PHUt6V1AhWnOnApTiVm8I/ldg/I4KBjjz22Ht6tSdQRHLhqeEBc2l/bHtIi6sT917/+tfImrmMnQUs0EUr2xeLVI444oq6oge0N7ieq24OrXs8knIdyvTOVI4GDwxYC8XVC3PLJ8eFVUccff3zd/0rEKYvO/BF90iHWCD2c3LntAJrAt2/YeemLT76Ut/Q8PS/vbVVuVMF4yYHiMCE5+eST67t5vSvX1gll2lf92S5i1dCYxmbvQVWe8kxoD89YK7/K3t5jb2DQxiJYg9GF4RaqOqzlnPbwUX/gUUSKZtJeZNyePPSkoZmw2R0x6DADJGo7D4SMcKShAyKytuSik4pDJ0J2zgtjf6y0zOZt3vdErJf4I6o2ExYP+32Kh11Il23CEqu8qzojIdsO97rP4bd7Hexre7J0aIdBggdA53YohyAIApzROHQwogfP4Thh3cuDiBeJU0LGmwF8xze4Fq8Kb28oruUZ9Ccu/i2QYCT6xNXJhd3eygZcJq5Orse1wnsynvOBMBU/MUUkiluc+BYP4mQe1zPPPLMKP44LXO3VTMJyLBCtXkfFAygcgWVc8BpAT9azU/q8q8IrEzbwcHobDG+qB8fafcK7VzmzVx7sB+Z44KkliH1v+2jlE6fzpnohvucvxHPqqafWMYRHWl6MLe0hL3l0f6s/dcMueZOvNkZ0Qli2NY+p6w5hWzm3Mle2Xm2oTnnBCXGfxCbPb6s/6QkvHnax0+u3tAP/0W88a69wbOXR2pS8+93s9N05cbLVeU4c6bX3vIqLDZ0iPwhGFYb7n6l0cDM6Db911NbQOyH6tiSkU+kcOgIBy3upAyJRM0Vk1+291Gk9/YrQbNCXjnjEoaOYtfNaspUdbGCTpRrE4pMNjRzave5hg/NIRxg2mmG71uy2XGLJyhsMLK+5VzhoxCBsyw+CQQTilRfxOZCHdOQ/CIJxF4P5Zyqc0TjUd1yCW/qDcLgMt+ESvOd+fNLJhzgIJ+EgXCS8e/Gs+8F5XOheYdtyLhEo7m60tHx2c31n/I0XxdO4Vlj5kwYeFA87W1o4ke2Nt11v44X7xCFcE1ctjLiUmbyIr/M+EL6BzU1gKwNl5B75Z2fLv+8tb3437m7l1mxxtHJzjV2deW1jEki7exw1VrBTmM56YJM8uL/ZAtJo5csu55WbPMpXqxtxuM9nS0N87nefcyYS0rU/mdhnm2vKstnZ2pHfrX6EcZ/JgDJvdSetIBiZ0P66/5lquIXqyIJORqCa5euMOlMndAizYjNEs7xRAUVg5uzhLp3b+10RD28ujyy7nDNDbaQaBEHQFwYjVINgVIGg5GDxPEZ796vBnxfbeEboaqPNixwEvYSeFKq9AEXAq+vBKYKVKDZTtVRvyd6WAMtqlo0iUoMgGAgRqsGYBC+qscyf8dgWYnuCwd/DZTyl9q966wJnDMdLEPQS+hKq44cSHQqIT9sK7FPlPf3BD35QvvSlL5W//OUvtZPbr6TQIlKDIAiCXkZbhfRXtB5s+9a3vlX/PdIDdR6wspWuLekHwdiAeFSHgIq3p9VGfk9G2oJgxml5xCZynX98Ko8gCIYP8agGYxptL64HitueXPtXPXTnIa88KxH0KuJRHQBEqKccvdrKk6ce3vLErN86eERqEARBMDbA3tP2P/7eiGA8s33NftWI1GBsQ9RXEARBEARB0JOIUA2CIAiCIAh6EhGqQRAEQRAEQU8iQjUIgiAIgiDoSUSoBkEQBEEQBD2JCNUgCIIgCIKgJ9Hne1TPP//8ss8+++QF90EQBMOI//mf/6mfH/3oR+tnEARBMDiQpL/5zW/qX9YP+Beqv//978sss8wy5EwQBEEwWDzzzDP1c8YZZ6yfQRAEweDhT5f22muvgYXqtddeWw499NB4VIMgCIYRX/3qV+vnD3/4w/oZBEEQDA4k6ac+9an6F8ADCtXx8S9UgyAIRgbyF6pBEATDh/yFahAEQRAEQTDWIEI1CIIgCIIg6ElEqAZBEARBEAQ9iQjVIAiCIAiCoCcRoRoEQRAEQRD0JCJUgyAIgiAIgp5EhGoQBEEQBEHQk4hQDYIgCIIgCHoSEapBEARBEARBT2KcF6qvvfZaefHFF8srr7xS3nnnnSFn3wt/znXbbbeVCy64oB6vvvrqkCvvxVtvvVUeeOCBcs4559TjzTffrP+iEARBMCrxxhtvlJdeeqm88MIL5e233x5ydsTx/PPPlyuuuKKcddZZ5aabbhpytnch//7i+7DDDiv33ntv5eARAe5XrspBuXb9UWNP4fXXX69j2csvvzxgG3jiiSfK5ZdfXo466qjyyCOP9Dnuyadr//jHP8rJJ59c85+xLOhVDLdQffLJJ8vVV19d/va3v73nOOmkk2rjv/POO2uHGpONX2d88MEHy6233lruueeeKlr7gnBPPfVUJb777ruvClKkoCNfeuml9Rpi0OF16LvvvrsevU5sQRD0JvDiY489VgVFJ3+eeOKJVTj885//rBxjgo1j8C1Ovfnmm6uwGlm8g+cefvjhmhaB0+sg2B999NFy3XXXleeee65f50NfIPJuueWWOhY8++yztQ7k/4477ijXX3995Xbc34tQ348//nitf3WlDfQHbUadmnjIszISXh6Ncc6Jz+f9999f868cIlSDXsVwC9W77rqrHH/88eWb3/xm+d73vld++MMflv/+7/8uP/nJT8r//M//lPPPP7889NBDtQOMCTEnTR1Px0RqOmN/ntK+oGMjBXlBbCM6cw+CIGggHnASr9cBBxxQvv/971cO/dGPflQOPvjg8uc//7mKVZNl3EOcER6cAwTVmODUsR3E/plnnlmdD8Ym4wNRp1x5lZ9++umeFapsJT55k4ltnuXBQlvjbDEJuvLKK8eKCUkQdGKElv5nnXXWsuGGG5Yf/OAHdSnm8MMPL4ceemjZbrvtKrnyECAEs+DRjQkmmKC8733vK6uvvnr5wAc+UO2cfvrph1wNgiAY85hzzjnLFltsUX72s5+9y6G/+tWvyuabb149hqeddloVFgsttFDZaqutys4771zmmGOOym3BiGHCCScs0003Xdl6663Lhz/84TLvvPOWySabbMjV3oL6XnbZZcsOO+xQNttsszL77LMPuRIE4z4m/Pa/MeR7hb1KzzzzTNl1112r2OsPBKgZKmy00UaVSHWeWWaZpUw66aQ1DktVzgv3r3/9q3o0EYFOh4QvuuiiGs45R1/pmQ3aQmAmaUZJbCIYcdkvevHFF9f4pp566vppVixdXtCZZpqpLq8hejPlFsayz1VXXVXTN8O0/CEu6bCBLZdddlm58MILq+dY+Ha/Gbi882pMMskkNX3Ld7wjZr3yPvnkkw+xPgiC8Q08V7D99tvXz76AK2xLwlf4BofON998ZbbZZqu8hUdwF85bbLHF6mQfV+LSaaaZ5t3lb5yFhyaeeOL6/ZJLLqnXxCkOfGU7Ey7job3hhhvqEvKUU05Z77PixQ73SnfBBRccYuH/Qbr4jdcRT/LosQvXc0jgTzwoDcvLvMA4UPwTTTRR3SLlPlxrpY1H0295anwOtmZZAXPd9jHpSUdZ4V5x4X3x4+UVVlih5rOVhXgax7PLONDO85qKkw3C4292Cc8WY8QMM8xQbTYGSEeelaf7eLKVPU/2tNNOW9OQb882iO/2229/d0wx9hi3Whl3jmvOW7p3n/TVEfuUvzLUHtSl8jPmSMNYJJ/GIXUnb1NMMUW913dxtfJnh/IRD6+r8Vf+PFNhDHW/sVeZil+e5F38rsvvjTfeWK+JXx6CYHRCHzv66KPLjDPOWCfsMEJCFZEil+WWW66Sp84LOoFrSGfxxRevHUEH0imQoXhdO/vss6tRc801V+38faWnY1uGP++882qaCyywQO3EbERCth/MPPPMNQ6kgJyQUiN433VkpEhI64BIDvnokOJESkgAceiw4ke4SF2nRvbsm2eeeer9iAY5IRhxIDRkz1bEK4+tLIIgGL8wLEKVcPAdhxIfjTdwCW5yfamllnp3su/g+cOpxBNBgpuIiiZIiJ6555678hiRiieFxVN4kYDBc0QazpXOQELVPcTSGWecUcPhdny6yCKLVFGEYwlAPCsuIlA+2CUdeyFdv+aaa6rIxf2WouWROCSGcC9OJU4JJnEpH3GBMOIz3nQKVekQhkQa4cxD7Zxw8kw44n3lhs9xN3tgqqmmqtfkzbhhbJGOvMkHW5RdKzf3KS92qKu2ZUD6ykTcTcQT1cYC+esc19S1MYMt8mwwVnfq0+BsXHPOaqVxx/azc889t9a58vFb3ox57T4TEHmVB3XrPmHErz6VI2eKT2MpG9ilfWhf2oixzP3KvQlt7cPEif19jc1BMCrQl1AdqWpKAjqBTq6z6vA6viWLJZdcsnZ6M0Qd2uwTsSy66KIDLmW1WXIjVR1ZByQgER5yRhJIRNpITDgdtJP4gX06JdKE3XbbrW5b2HvvvasNrrtn5ZVXLnvttVfZZ599yjLLLFO+/OUvl49//OOVyMx2kYMBAil+9rOfLd/4xjdqgRLjOjmSCIIgGFbgIPyG1wgTHjOChPBpwEFE4iqrrPIu5+A1XjUiygSdAMOJhBpxg5+++93vli9+8YtliSWWqJ4zAszEezAgcIgagsnWLtup2CR+8ay22mr1WYWvfvWrZfnll68OD+KQwMbThNT8889f+EV+85vfVA8y0UuE4XJ5JWSJxlVXXbUcdNBB5ac//WlZe+21K98S4PJDQA0L8D9Of//731/23XffsuWWW1YnzCc+8Ymy0047VcFmjGlQ/sYv+VKmG2ywQd037NkLThdij5NDeQgrDx7WVaaf+cxnaljjhzwRrd32KjMi0yBsLCQqebUJd2OmNH0ay+TXWMIJ1IRlJ4yFylU82oI9zp4ZIeClYxx0ny0jxrB11123bnFQDttuu221g4NGeiYpH/vYx8qBBx5Yy0dda1ucOPIZBGMSIyRUdS7kiKC+8IUvlM9//vPlS1/6UvVyIkCkwNNpVoakFl544TpbtqGduOQpcL6ThLuhsyFqolZHbbNCM21prL/++pVokAthrOP5jah9ds4EXWczkSltwlMH1WEtu/kuvIEAuTl8J7al3eIT3kBBfJv5SquJWKSjcwdBEAwNeNByuAeq9t9//3oQe6ecckpdIdpkk00qx/jegIMIUpyFUwmKU089tQoWS73OERe4kuDhXV166aUrD+Nj13EnDsWlg4H0cB7elC5uxKW4jhgiTtkp/rbXk4gTP3sJLr8Jb06HlVZaqWy88cZlzTXXrPyqHBwrrrhiFdocB8Qcu/Ey4Uf04tdhhfSNIdLx2VbNfHY7SIwRRBqHBycFR4qxhy0cLj6JSfbICxHJZuWufI0N7Bc3ISmMOuhE87QqP+XTxCKvuvtbuRqn3K8seH87x0lxssEkRX1IU/riVf7uAflredeG5FvdtbyzRb0S2u5Rh34LI21Cutv+IBjdGCGhigA6Dw3foTPrOGbGOo5OorMjs9YpbWIn7oR1b39wjUDUgcRDkOrAZpuEoZm8Dty8qu28Du++TvBUIABkpFMiX/fqwOwR/2CAaOVHGo34xCVdnVo6mYUGQTA0NO5r3OnASbjFRJgIIoa6J/M4C3cSU8QEkYqXiBbchIcIUXyLM3kqeTmJYtuanCOk3DsYEDjixcPsYTfhiYsJN95QDggeUitnvKAEF65lJ/GDE13jHeVllSeiCm8SbOLjuGi86jrxhVtxqmVt4mlUQjrsUC4EPpHMPrZYQWMLO9hL7ON+4Qg+34U15vkkqnlUu8cC9WS8Id7F1faJEoucHs4TocY05WfLmfLXNhrUr7FMuDYWaRPGPDaqo8GAIHW/QxrikBflz255zFgWjGmMkFDViddaa63yta99rS6NWKrxybvqSVadTocFHcLstHVSyyg6RLs+NOhI7jXT5SlAJDoj7wASQZhmwsihCcfOjt0JJOueNkgEQRCMCRBi3khiSRx3ejWV1/x97nOfq8vjhGH3hLsBz/Hk4VEeN95OnExsADFDwNpbatnfcrrXYP3ud7+rezxN6odFiHTypXvEj489a2ALlfitrnlzgWV/QhgHE1q2HrDNlgNvNfjjH/9Yl9cJNeJQXGA86ORteXcOXxOpw7r0P7zoa4xodsj7iNhiLGzjk4mEbQ8EJyFszHSeSG2rhMQ84dgJNrQ6YFN/Y10QjAsYba0bKdp4TmCajdpb04TlYNBmiTquPVFmkzpwE7B+O6/TCofEu4Vo+61zI+hGjkEQBGMbcClPJs8pXmxPyfPI4TrihVd2jz32KH/4wx/ePYhEr8LaZZddqjjq5snBoMXPU2qvv9cSdqbhcN6qGUHHy2iblu1hxLg9o/j39NNPr06GFme3ACRijRGO0SnIiMDuMYJtypl9I2ILwWs8s03CGEiQEqLKiHfWp32vPNKEOo90t0Onlb+DnaNLwAfBmMBo6fWEKS+opySJS3txdDyzbh0VKQwNliUIUJ8exiJMLd9brteRkYgZOoGqo/flhZCmONxjb0/bA4QELb2Y3XeCXYiyc8YfBEEwpkGkEqUe2DFZt+cTN7aHcQgYy8H4kKjizbQdi3Dl4cSPxI5rwwP3NU8uPiW8xM+ri+OlLw3CjlfXU+eEF2HMBp5ksOxNZIlLHB784qXF784TcbyObauD/HSCHXjdcj3+dh+ulpa4ne/mbsIOp/cF6Vjxc3gKnrdTHoRXtmwxvrC1ea6HFcqGV9U2B3Ulj+pHOapLcatXzh11yhHTPZ6JQ9krR/e3CQo7jWtN/HdD3h1BMDZhlAtVJGEZw1IT0rA5fp111qlP5ROL9iohl6GJVYSkYyJfHVh4ndr5tj/HqzUIUUTSFxBa2/CPPJFie30VcmRfA2IQ3ieRjQwQQQRrEARjEjiICGuvI7Klar311qsCEI/hWhNwIgYf4kt7Q70SCd/hveaxG15PHG4krnAvISd+cbfDK5jEj9uJOw/RetOL80QYxwA0MU3AErjsd1048bAZ7/I04vtuoeo3IWccwNHCy5vVNSKTE6KNLW0M4YEm7IxLRFvn2CNflt+NT+JTVmzx6ZBX29aMMcMrVIHd8tv25sq/c0SqOlM+xh7fne/2ehOqbODRtm3AGGbvsbIzripzYaBNSJSTvBv7xK+NBMHYgFEqVBEAomjE4cEnm/3NJD0koIMh1fZ06kDQ2XRae7KQVtvU3zosL4GOr8PrkH1BWGn7tyqE5F1dXtvxi1/8opJF531mt4gYOQrnrw518MxGgyAYkyCWrEYRfx6mwon4D68RhlaccCqvIKeAh3T8w9XXv/71yndHHnlkXWrmxRxesdVEn/21xJKX9HtWweuv/P2reIkuok/67PR2Aq9P+uQnP1n/tdD4sOmmm1axird5hddYY436+kDh7NP1KigcbI9r4/tO4Gm871kJItVeX29O8G5RXmec3u5xP48vgS/9E044oY5BnWOPcUZZKjdjxQUXXFC+8pWv1DiJQNe8rUBc3eJxWKB85Fv5GM8cznVuAbBtou1Z7SstHmavpVL+2gI7/+u//qsKa3ERuO5tgtdEhqBV/94S0Z/XNQh6DRP8myze48r0XlAkaO9QNyl0wozerA1p9vXOUhC1GbvZK0LQMXUuncgsmUhFEgjF0pDZXrcQ1MGQnHfTuVea0taZkZtOSAw7ZwbcHi6QBjRPqSUUhEegInNE3vbIsl3crjkQn3h5K7zPsKWHuOTJQwIg38LJgzjlR9pEtDiDIBj/YG8mEAT9oXlF8RlOwSVESn/iB+e0vah4jyeOV8xk2oHfXCNScVJ7Wp7XjCAxycZnbcLPYYDz/GYHPm7Cshs8stL32c310hQ/nsTx8iJ+gg7fC2sMYCsPJy8rm4hoNhJkTVA57zoeVy7KCO+2Vxzi9JaeMcWDtGwWv/uaDfKEgxvwNpvYJg/GN+OMuHE924wDykQ5Kj/p8LgaP5Q7GD9sN2OLMO5zzT0tr2xWzuzxXXkR9d316pr8qi9gh/uFU7e8omxWR8YUUE/qoTM9S/3KlZ3KxfjlmjDKRZ5MKFoZaQfy1tqHenewUz0oI2VjLFPe2pq4BtICQTAyoW94takJGCciDLdQHVkgInVK6SGn7uUIncmeVq+6QlhBEAS9jMEI1SAIguA/0ZNCNQiCYFxChGoQBMHwoS+hGiUaBEEQBEEQ9CQiVIMgCIIgCIKeRIRqEARBEARB0JOIUA2CIAiCIAh6EhGqQRAEQRAEQU8iQjUIgiAIgiDoSUSoBkEQBEEQBD2JCNUgCIIgCIKgJ9HnC//POuus8tGPfvQ//vYtCIIgGBjHHnts/dxpp53qZxAEQTA4kKT/8z//UzbbbLOB/5lKIP89HKEaBEEwbPBf9eB/7IMgCILBgyR94IEHqrN0QKF60003lT/96U/5C9UgCIJhxH777Vc/f/nLX9bPIAiCYHDwF6p77LFHWWaZZfJf/0EQBKMC+a//IAiC4UP+6z8IgiAIgiAYaxChGgRBEARBEPQkIlSDIAiCIAiCnkSEahAEQRAEQdCTiFANgiAIgiAIehIRqkEQBEEQBEFPIkI1CIIgCIIg6ElEqAZBEARBEAQ9iQjVIAiCoML/v3T9B0wQBMEYRYRqEARBUB577LFy0UUXlZNPPrn+O2EQ9BL8Y9FLL71UXnzxxfLaa69lQjUeYbj/QhWp3X333eWee+4Zcubfqvff4SeddNIy66yzlrnnnrvMNddcZZJJJikTTDDBkBBBEATjNgbzF6oG3UcffbTcdddd5YEHHhhytpQJJ5ywcuhss81W5plnnjLHHHOUiSeeeLRwKC6/6qqryuOPP17WWmutsvLKKw+5Mmbx5ptvlqeffrrceOONtUyMLdNMM82Qq+MW3n777fLMM8+UG264oY6n6n/RRRet7aK7DRBsDz30ULn99tvrmLvEEkuU6aeffpz863My5Y033qht4K233iozzTRTWXjhhWu5DA+eeOKJcu+999ZjueWW67dNvf766+W+++6rxxRTTFHTnHHGGcurr75arr/++hqP9gnKXZhZZpmlLLTQQjWcvhwMG/r6C9UJv/1v1G9DcNZZZ9WOsuuuuw5IjjfddFP5+9//Xsn41ltvLTfffHP9RLxIRcNSUZNPPvlwN6YgCIKxDSeeeGL93H777etnXyBIiBHey+OOO66KjcahHAA4GG8SHga/0SE+nnvuufLII4+Ul19+uQrCOeecc8iVMYvnn3++3HLLLeWPf/xj/U2kOMZFEGPG0N/97ne1fbzzzjtl8cUXr5OVzjZgfH3wwQfLueeeW8tFnRFHM8wwwzg73hKNV155ZXnqqadqHonL4c2r/ka/HH744bUtEZf0SqfmUcbPPvtsOeecc8oxxxxTHn744Tpx0CeffPLJWu70EsFKD2mjJnvsm3rqqavwnXLKKeOoG0Yo96OPPrrWx+abb17PjRD7qdwNNtig/OAHPyiHHXZY+e1vf1u+//3v146lE5133nmVZCQcBEEQvBcGvi222KL89Kc/rRx6yCGHFL6D+eabrwrWf/7zn9V7Mz5zqIGfAFAGvM/KhddlXC8TkwarmzzvzWvXQLRZ1SSSiNRxHcQe0aevbLvttmWVVVYpE0000ZCrwwfth3eWaOWZNinohDbmvLanLkwuO8GeDTfcsPzwhz98V/987nOfqyvJPL+Eqzijf0Ycw730f+mll5brrruuzvz32GOPWjlmNyrTrId3gEjlmSVozdabx9V5ntalllqqLLbYYpWsVWiLTwOw/GTWooOaOVn+AI3KzMaWgnnnnbcuT8XFHgRBr2AwS/8GyEsuuaR6zXzHoc2jw6t2+eWXl9tuu63yqfimmmqqKtgMfoQaccJrs/TSS1dunHnmmSuH4l4ihhfWIItHgYd0xRVXLLPPPnv1zkkDl0rDsqb7wR5AA/T6669fudV34vCOO+6o4d0nLO+dJVN2NdEkLmOGe9goL7yylqSds8wqLXnC+84vsMAC/Y4zhib8r5wuu+yyMtlkk9WxA+9/8IMfrB6rJlbEf//9979rp/uMO9JRRs2zpayNTXfeeWcVHyAvnCuWGtniXuMQEcjeV155paalPBZccMHqUWNb27pBlJhMCDP//PPXcubZlJ571bEx1XgmD+prySWXrHXS7RG091I5HnroobUulN/qq69e1ltvver5Eyew3RjMI29stVVjm222qXHLg1VNeRSXLQLqyXjr+rTTTlteeOGFcvXVV9dyMxbLhzzIm3DalvyJgx3GYGXkWitzeXNdeat/UD7K3BK5diZe7UedqzvnpAHiUU7Kgs1ski/1qBzF0SlG1YuyFJeyUH5+u0+eOMfaUjx7V1hhhfrZlzaQ9wsvvLBOBMW10UYblU033bT2wdaG1cUpp5xSrr322hovu3fYYYdaBuryD3/4Q60fKyc0jPuEu+aaa8oVV1xRy8s1de5aMDgo+5G29I8ENU6VibB0UpWhA6ssHcU1lYrIdFQVruO7zqWugSGQ1qn/8Y9/VBe6jsUGjbaRrTjcQ6S2BqkDIWSNtBFREATBmMRglv6RMR7Dbb7j0LbET3A6jwNdw6EGeYIAhxr4DZSNQ3HvdNNNV+M9++yzq1gTHkfiSzxKdBiQcSWxIG1xGehdkybhgVM5AQhIglQaBl68LF024Wd8TEQQQMQrYXrGGWfU68QgUWp8IK6NBeJmizjkjd1t+VY8fQ3kxhLhODjkYd11162/pWcPLzHFVulJV16IxmanvAgrnLIlcORbfggs+Za/5rEmUtjEZvkVF9GkrIlBdUHUGa+MbSYN4pJXeRRXE4XGI+GlwwFj/JNvYUwypEfcdOedjWyXNhHEdnET0+qZfe4Vn3TZIW888A51LA3pmrSwv423ykP9E27yc+qpp9Y6AeGUBxvlX5n47ryyd782wiHlfteN5QSftNS1Nte8u60M1B3Rpu3Kh/zJr/jUhfBNXEtPHYqPKNQ2OoW8NkdYCue8SZeH/9SVdiGfbJUnYeRVXbGlG/KqnEF/aH2otQFtSn5MkuSbKJY+EW4CpD2byLiPIFVP8qBcWr/Tf1xTx9Emg4f23b30P1KFqgRU4AUXXFAbgspVURqpTfoaxE477VRnJWa5ZslmPwzSqMz+kAIy+MAHPlC22mqrOttyHvnqILwL73//+2vcSEGH1WBtJk9jCIJgTGNEhKpBEa/Ze0hM8B4ayAkCA7LB/8Mf/nBd/uR1Mrk3EBrYcWgTnrhwxx13rJ4JXi7CB/82ASF+afNa7b///mWNNdao8RCcPEDuEY6YNVgTQHvvvXdNF9cajHl9CRfh8PbFF19ceVmaO++8c43bGPG3v/2t5oPXCv/zTBIj7nG/QZ5t3VAu8kIQEQ68vISNMYbgIfSUmXPGF55S5bDPPvtUG4wrRKs4iBBjDSGvfC0df+ITn6hb15Rz21ogL+IxDvLoqEOeSmmpA2JPXpSd/Ev7M5/5TA0j79Ii7pQz+0866aRaL5aIP/7xj5dll1221ru6VH/CdXr85IugI255nI2Fyoot8iaseOVXOOeNwfJK2PlUZwQ0MfiRj3yk1pn65IHVLtQvge+3+Ndcc81aX6uuumotg+OPP77Wx0orrVR23333arsyMuazlx2+E43y4roVgc022+xdAUrsyp9y0qaIasv2G2+8cc2XOldO8rDMMsvUtuc++SbQ5Us764Q2QAvoI2wQzm+2mJBst912VRuY2Dkvr+pTuG6oJ7YK07QDIaqclE2bWJmMsFVetHltuj+h2tqrdiFd/daEr1NsB0NHX0J1hPzRiOb8888vX/va18pee+1VicweDQ1O5a299trvViTRufXWW9fOpBKb614D1QkYB2ZAGq6GqBP5VOEaLoJwn84qnAajk2pgGm8QBMHYBB4gnsgvfOELZc8996wc+tWvfrUOogbc1VZbrfIggYM/CTDeRBzKY4MTDbI8Sg3En/vwI2GBM034DfS4ltjC0TiUw0D8wonXQI1f8SmPUhNUllHFQ+Tw3OFk4oBTQ9p4HJ8LKx6/CQC/eQPxN3uJAKIRr4sLdxvgu2E8YC8nhzDiIQak4ZOnTl6IT2KRw0L8xg7CkICVLnHrnPwpU+JIHgkO+RYXQSYcQUOAKB/lq8w5QdxLcMg/u+RZmbNb2sQ4O9iojhzSVgbKkjB2j3yIw+DL4WIsVAbdUPY8c9JQVsqToFMfhKx8E4JskaZP6bPHeEi4iYMId68x2Kf8uF+bE7dyYoM42Om3MpBXYlI7Yl9rQ8pKXpQR0UaEEvzKUhjlacKl3k0Q2KmNyIOJkHDiUbatbTZhLl75U0dsdc9gIT1i22RCnNo1zQHi7A/KTLryrF0Spupeu9OmtT12sqfpk04oB/pHf2365+CDD659S/1rZ32tFATDjhEqRR1Rw9BQNBINWQdS6SpXJ9ABdBSHhq1ijz322DrT5CXVMDXmBuEpaXGYifhEahqu+HWcdl7H0CEdfTWkIAiCXgbPFV4jiJqHEIfiNr8dwuBA1wymvH3HHXdcfWqZt6oJtgZCACfjSvfiVIM3IUMsGYgNsuIjHPC4w29ixeCKT4Vli7TxuXhwrzDua0udxBHhYyzA82x3zaewDvzNHudxd+P3/ribgCEi5M93AlX6ykl8PFdsIyzYQCzKK7ta3OwmGJooJSoJRuUtDmHkmyCzpNs8b03Q8hAbp4xXntkgXIxhRIw4xMseXjd1IjznjXSVgzSWX375+lu9nXnmmdWjKw7n1JP0u6E81JEyVW/yIH/EobyyTZkoU/lVhsK3+4gzQpF33R5LT6yfdtpp1X4iSnvRFpSTOpOXVi9sYjf7XFNGylXdua6dSYMd2of8s0M+hNVO5F1ZO4Rt9dbagPiEMc67RlgrN21Snk04pD1YaLfi9yludrIfOvtFN5QB+4hRZSBP7FC/xLO2Jz/sUd7d7VSZsVMYbUc7crClTU5avQQjhhESqjqR5QIPYH3zm9+sSyDrrLNOrXiNVqNTSRqspRWd9K9//WvdhPznP/+57l3RMAaCONoRBEEwLgFXWnn64he/WDn0U5/6VPU+4VYDoQMMfJaAeV+POuqoyqE+LfEaEIcFOBmfdsbfDWHa0R3O9ybymqOgL4wIdxNBhJll/+YVI06JGeJDngkcgoIYMMYQE51pES2EhDImiNznIFA6QcQSNk20K2uizmTAK4jaeKX8peN+4XkTeZrb5MGSuTGOkCR6hLGvlvfZb9eIXq874qThoOm2pRPKmZjjHSTKeULl17I2wUcUEWfKX94bfCdUiew//elP9RVM2orxlkgVb18ThM76GqjO2n3CtHG+oQlWYdRLy19nGN/Vh8mUMiIICehWZg75Gx1gSxP82oFyU850iYON+qJ2011ewtM/VpG/9a1vlQMPPLDsu+++1burfk0U5GmgOg4GhxESqp3Q+FUokjUj1al1eIRjL4c9NTqcJa7f//739alG+2DNFoMgCMZ3GOCJKgLIYGly3zjUgzE8d4TR17/+9cqhP//5z+vT75b/hwUGZ4Pu0EQmTncQPp1CyD0GboMwsHtkg6fUGKIMPNn+X//1X3VrxKc//enyq1/9ql4zrvA0Ej3GHp+dYoJAIJZ4fOWDqHP43gn5IRqVM/CQ2Uv5ox/9qL52iFBthwmFOiDIeB9tK7Dk+53vfKcu/xKP9n4SKtIWt+0Vlvo9DiIf4lefBBrhOxDY25amiVUi1cHr2bZ9dIOAsg/4e9/7Xn1lUqf9tunJG/v7uncwaPcpX+2iU4gpR4fz2kV3WTeIo3kr1TFRR0RbLm+e3NEFZaGMlaeytd1FWTf71PNgIE/C2kqhDrQn9dstcINhx0gTqq2SCE9ufQRr35AZsO8OMxfbATQKYTRohBcEQTC+A4dagsShPk34iRkDHq8iLuVhswze9uMRYcPCoQQA8UMQi5NIaCJNeryDBBaB0Za3iWbCC4cTIDydPGDC4HThRiakwXNIjBKCHqz1UI8HfnbZZZd6eHCG3bxeys2+Wfa1J+HlgY0eBONJlDdjjnKz9C5Pwig7wsSriuRRnoQjXtjBuyduY5awhIf7eHfFy6NNlIiXsCGWiWx1pZws9/POuoeIbdvhxKPMh+ZtYwd72NC2zsm3duDohHIQN++gtiHPTdCyX1rSlA9hHcMDotnEwGHyxLMtXuWlvfJ2a1/Kjj39oXky1Zf7LLmzlTd1eG0bHkhLWapD7c4kQjuyR5yNgxXNBKlyUO/qyH3yPzrzMq5ipAlVaHuE2kzPLAl5IEYdRwUiBZ1b5zVr0Uh1oMw6giAY32Fg48XBoQQFIcBziT8N4AQSXvVkN0cAMTIYwdNg8BSX1S2cK34eQE+0e+clvhYXwUbkeABHONc8zexNLfibHbxfTTCPTBgTjA3S4F0mTD0x3w5PsvMkS5fYln/L6/JGeBOQDnmSP+KDZ5MYIXwJSU/2t3DKklAiLjlb2nIvoUy0yHfzaPPgEp3SJIQ9pe66eIxp4lB/xDuxQvhLq8XT3rnKFmEI0YGgHrQJE4YmBMXfl6dPWCKyvaZKWHWlztin3RDobBwRGOfVuwfkTBTkSd4cykhZe3hPGQrbH9gvjHJQniDege4ZVdCWlKlJhzyZSOgj3WXcCfWhPWg/ylg/Us/KWV/VjtwfoTriGKlCVYXoeCrYLFAFIhIeAofN/wcccEBdkjCD1SB1Qh06CIJgfAcOxYkEFX4kAohHT2F7SMO+SU8Z//jHP66DowFWuMF6VcVv8LSPjnfP0/P77bdfXbomNAzWzYNEQHgYyAvnibvvfve79XkEr47B2cSiZc6RLSyIb0KVIGQj0dUJ9vMqKw/5Fpag9kAUkfGNb3yjLtHbMkB4eG6CeBN+k002qV4y448wluIJfqLLmxKE8eS6Vy0Rmb/+9a9r+diDyHNoXCOuCGNL+uCfiZSLLQnEq3jUFxu9Goow/ctf/lK3LVj+F4/tA8bEwYh89SEuZcErq04666kTxKq2Q+DLu+X+z3/+89V+TiLjc3d5Dg9MpFq58vJ+5Stfqdv6CFXXvIpMWQ0k0thiMqTsvWmA15cXtq98jWpowyYP6lQ7ki9lrS/2B4Lfv2/Ku20pjoMOOqgKVkLdHz/0tdUkGHYM9z9TIRMiFFHoRDpFa5Q6plmsMCpcg0S2OqjZslmfBgoags6q85hBm6UgAufcJ37xuE8allfADMxSgWUG55BPGkQQBGMag/lnKrSLu3CY70QIXsShfuPQ5tnBoYBviScikcemLbm37wZaQkkcjUNxIq5snlfhcC2vF4EnDVzd4nAPj6owOJUt9g4KJzx+JhTbUin+JigJWflxDxElXWk4Z8m6bffC6eJvS+/iaVzfIO/SZBfRw65O8cImcSsLcYmXwFE+LU/CsJMtxgdlC+5jj3DKnp1ssFQtz8pOHtnARnYob/YRseKTHrhfPFYK5UUa8i+v0ha3e3nd5EVdEkTqpqXXPWaxT1nyDEuLbcSO+MUjj+wwfrYJirDqQZzKSt6JqFYWxk72S695+dxnvBW3+JSv+4zTylVYaRhzQVzslw6b5LVNEqThPugsS3lT/65pX/LtsxPy5J2+yonXmPhVB01LdELZsFmds1udD00zCCfP3VCODvVMvygT8chPs1eflAdlKT75F5f6Zy+PtTjUDbBZuagDfUP5dec3GDrUb/c/Uw23UA2CIAj+E4MRqkEwvoOg9FYHr86yjYQXkjgJxm/0JVSjRIMgCIIgGC3gG+Pd50310BIPd/MyB0FfiFANgiAIgmC0wLK5B47s2+VNtefWFg9L90HQFyJUgyAIgiAYLbAf1r5YD515aM2DX/bjdu5TDoJORKgGQRAEQTBa4CGw9maA97///fUhKg8zBUF/iFANgiAIgiAIehIRqkEQBEEQBEFPIkI1CIIgCIIg6ElEqAZBEARBEAQ9iQjVIAiCIAiCoCfR5z9T+U/+nXbaqc+/MQuCIAj6xymnnFI/t9lmm/oZBEEQDA4k6bHHHlu22mqrgf9C1Yt4l1hiiQjVIAiCYcSdd95ZPxdddNH6GQRBEAwOJOltt91Wdt9994GFqkDHH398/us/CIJgGLHnnnvWz8MOO6x+BkEQBIOD//rfYYcdqrN0QKH6r3/9q5x++ukRqkEQBMOI3XbbrX4eeeSR9TMIgiAYHAjVLbfcsiyyyCLvCtUo0SAIgiAIgqAnEaEaBEEQBEEQ9CQiVIMgCIIgCIKeRIRqEARBEARB0JOIUA2CIAiCIAh6EhGqQRAEQRAEQU8iQjUIgiAIgiDoSUSoBkEQBEEQBD2JsUaovvXWW+WNN96on13/URAEQRCMhzAWdB6DhbBvv/12ee211zKmBEGPY6wRqldddVX5+9//Xi6//PLy4osvDjkbBEEQjK8gMl966aXy/PPPlzfffHPI2aHj5ZdfLnfeeWf5/e9/X8eW119/fciVIAh6DcMtVM1An3vuuXLjjTeWE044oXb43/72t+WYY44p119/fXn66adH6ixVWk888UR59tln60w4CIJgbAZ+xJPXXXdd5c3f/e53lUePP/74cvPNN1fOGxc8ff4SkXPh6quvLmeffXZ58skn/0NU8mw++OCD5cwzzyz33ntvFaCDwVNPPVVuuummcuWVV9bxYbDl9c4771Sx+sADD9Ry9rs/EMGXXXZZHesef/zxIWeDIBhdGG6h+sorr5T777+/EsTFF19cLrzwwnLBBRfU77ye//rXvyoRDEQAQRAE4yMIKvx4zz33VL785z//WfmzcegVV1xRr+FZQm9shry+8MIL1XNJiBKUtnF1glA1npx++ulVqA7WO/rqq69W4fvII4/UshoVwp6QvfTSS8sNN9xQHnvssSFngyAYXRhuoYpEeU4ffvjh8qEPfaj85Cc/KT//+c/Lpz71qdqxEa+llSypBEEQvBcm8PgRhxJxe++9d/nZz35WDj744LLHHntUT98ll1xSeTYrSP1j/vnnL5tvvnnZeeedy8ILL1ze976xZjdbEASDxAT/noG+Zwr62c9+tnpDzWwH6vTnnHNOueuuu8pEE01UttpqqzLrrLOWCSaYoM6Mzz///Dprdm7dddctE088cV3W4Tkw80W8M888c1ljjTUq0Uw//fRDYu0f9qfefffdZaqppiqTTjppXfKxJCONVVddtSyyyCJlmmmmGRI6CIJgzGC33Xarn0ceeWT97As8hmeddVYVpHgLh0433XTvelotkdt7Oddcc5V11lmnClueRitYjz76aOXa2WefvXLoPPPMUyaccMLq7bM87X6cSwCvvPLKZdFFF62c697bb7+9cqe0ll9++bL00kuX2WabrdrEIylu4Xg32djSWGCBBWqclu95MdmDf4Xj8WXnmmuuWeacc84yxRRT1PgahBXvqaeeWseMj3/842W++eYrU0899ZAQpW7puuWWW8pxxx1Xtt1227L66quXySefvDzzzDP1vOV9+ZtxxhnL4osvXlZbbbUy7bTT1q0TbJDXJZdcssw999zVHuOMsnCwl33yLI/LLrtsmWGGGeq9tlwYO2aZZZZaNspJHpZZZpmy4IILVi8qp4t8TzbZZDUs29Zee+0an3IPgmDkQf/dcssta1/7xS9+Uc8N9/RTB0VA9h4hPqSKZAnJpZZaqh4EqEQRiQ5PrCIURGqvz7XXXlvuu+++6nUdzJINwnnooYcqeYmD5/a2224rt956ayWmIAiCsQGEpkk+DsWJOBSnAeFKRBJkxJgwPKvEGv7DtXiX+LOcjledEwcvbBOzzuFWgsy5O+64oy6T41GOBLxJBHIutKV3zgTimQiVhrjtl3VNXISmNO2rJS4JP3EJQ+hJa2SAYGS/dNjYaTdHSvNEGwMIeHnxXVkpR+MNm9p9bGXfGWecUctSGGOTa8KIV/6EE7/ykhfn7JcVL5t89zmY8SoIgpGDCb/9bwz5XmGWTwjuuuuulUz7QxOgZps8r5NMMkmdAbvHbNUs32EvkjDIZq211irbbbdd2WCDDaonFKkKb7ZrFj5QesiDRxUBb7HFFtUDwZOKUBEU8BwMFEcQBMGoxoknnlg/t99++/rZH4gdy/+8dXjLSpGDE4DnEH/OMcccVURawSIa11tvvfLBD36wevR4JO1p5RzgFCC6Lrroovp7k002KRtuuGH1lhJyvLvzzjtv2WyzzcqOO+5Y4yY6OQoIYsKNAPWsgTTw9Prrr195nQgk2HhB8TDeZ+8OO+xQNt1007oqRtQRyuzA5508LJ9EJ6EszBJLLFGmnHLKGobwa0/uc14Qk4sttliZaaaZqoD0YJkyef/731922WWX6u0kJj3ctNBCC9VxSDj284AS9jyvJ598ck1jp512eje/whmLTAJ4iuVJeRmvVllllbL77rtXD3MTyOxYccUVq6fWOMY73crVeJVtBkEw8oEvjj766MqBtvXAcPc0hLHRRhuVD3/4w7UTI8Ivf/nL5cADD6xi195VM0+i13UEhqAslyBSS0ncu5ZhENFgBKblGctLbdnIgWQtSZn9W6pCXEEQBL0MIod4QsQf+MAHKk8efvjh5Stf+Ur57ne/WwUjwUXEEVi4FHHjULzH62pibpkcBxKUQIwSW67hWiLXZB5HEl6u41tL5JwFvLq8iQQrnib2xEco4mnpWfImBDkE2EGYrrTSSlXsEYPCSs/9wgnTF1wnRL/zne+UT3/60+WjH/3ou8d+++1Xfv3rX1ch635ikSAmIsVtvJBH4w7xTmTyqBLnnZA+Yc5244T8uq8Jf3mWf5B3W9DkV9n4LZwwxitpDPahriAIRh2GW6jyniI7M1EH72Zb7jdztnSC/JAggkIWyNUnQvDdTBV5iGswQDCIxGwW8bZ42sw8IjUIgrEBOAuPEX2NP302IWpvpa1RxBrxRjDhPx5D3OfAtUQp8UZMipNAE6ZxLdHX9pKee+651aHgNVh/+ctf6jK/rQS8oUQfQUxI8gj/4Q9/qIdXD7bXMhGBOJY4lbY0eX/ZJV3XpNcfDwvLLnnkqWxjh4OX08NQ4iLi8Tmb2McLyl6vPzzqqKOqF5l3mWfV2NKJ5p1Vts0pIj7xOtfiB+XlN5uUufPKTL58Wu7PmBIEYx7DLFS5ZXXgtk8UYVnSt2yy1157VS8psrJ31IFs/O70mPpOZLq3EWrn9SAIgnEVOBQnEqA8nlaKLLN72t+DRhtvvHHlVtulbA3wHef2xaEm7kQWDm3o5lJijgj1yiurXfZptq0EwhJobXne9ipC0GukhPXdatXI4GjimmPCw2af+cxnyhe/+MV3j3322acu73c+oCTP7VkGNjuIbY4Qzg3h+rOpifkmSoMgGHsxzL3YDBO5NuJAdmaxCMPs1TKNGbK9UfaTIhQzVETYCfG0pZXMWoMgGF9AgJnAn3TSSVUw2iblHFHFG2opmofVRN6KFF7l+cOh7YDGxTjU/X0BL1s+F9/Xv/716k1t3lLHQQcdVLdTEbyWye2r9ZqszjC2JOy7777V+8uO0QF2S8vT/Z///OfLH//4x/fYdMghh9RnHdjdCeLVeKM8ssoWBOMGhlmoIhCzawKUR8CLkJFpE5zEp/O8AAjW/iWEY1Zu+cl5+4oIXEtMZvlIu1vIBkEQjIsgSHEiDjWZt03KChVhRWARnzyguNSKE48r72lbwncdj/J+HnvssfXBH97QvoCDxQHu58nFyc75bWmdx5XgI/DYIS4cT+A6x0YHfh9dPG2Z3h5YeWWn8aV5j51rnuZue5SpPaztjQUmAcrV/lp5sM1BXMMD8TgyVgXB6MUwC1Uka0nF5nYb0YlURHveeefVZRlPUXoIwD4mT2XamG4PFWL0yhAPCXjPatsf5fUmQRAE4wuaULUn01I3AeUpdvzp8DYUk32ciWcJS88DEI3eEGA53uG7ewm3/oCHCT5p4WXp8OLiYXtPnSOOiUACj7C15cB1tviXLG8HIBZHp0AjVNsDX0Qmh4h3y7KLMGc3gd1tkzKSD+LefcYj+WjPTBD/w+plJdqNdUSuPbxEsjKPYA2C0YPh2sDDq+qFyF4ETYR6FYglJEtLlmR4TD0o5clQHdzG+RVWWKG+/sS/V/3oRz+q+5888e+85S6zXMSDSDoP53gBkLtlne59Sb7zNgy0XykIgqCXYLKPHy1tE6secvKmwAMOOKAuteMyD0p5yIhnUzgvwPZg0X//93/Xf7AiaC3b42LbBJoToZMLCWJi1z834dG//e1v5Wtf+1rlYM8QtAev8DQu9iYXr6P6zW9+U2057LDDqjPBdXG1+KXVCefwcPf5hsbTbd9oN1f73ez3SXB6zZW3IvCiWn1jt39AtArnWtubK+12HxvZaluAOP7617/WfBx33HFVqHbubW3p+d0J5zvHFOmoC44V49Ypp5xSH+TKtoIgGD0Y7n+mchshadneclGbYer4iNeBAMWBIC3T8L4iPeEQhtmy714n4n157QXLnUDASJrwte8VEbUnX3kCiGI2IBXxIZZuEgyCIBhdGMw/UwHua/yFQ5uHEMc1DuXhxKGWnC1n2xLgHhzHW8pzKIzfzvN84lYe0sbfBJX73es6ribEcCsRjKfdL4w4eHMt/+PtJvzYgnNxdONvPNzuw+viFpewnWOH8BwR7pU2Dy8R2SkQpSUONratCeIwHvCMEoZsYwPhyCb5Fy9bfcqPspCeuNp9ronLi/45VfzltwmAeKTnPjazR1mpD3lxThruZTfvNTulYSwaGQ+YBUHwXuiD3f9MNdxCdWQB+ZipWmJCEEivE0jBO+7MaAnRIAiCXsZghWow8kFIEpWW6G0f8C5VoprItKLnAWDv/l5uueWq0A6CoLfQk0I1CIJgXEKE6pgDrzRPquV5Hk/vbOWdtWrn4TOvu7INgvODtzgIgt5CX0I1SjQIgiAYJ9DeVmBpn2C1l9ertY444ojqafWXql6zJVwQBGMHIlSDIAiCcQL2jNrH6q9g/Se/Zf699967fOQjHymbbrppPW9LQPaWBsHYgwjVIAiCYJwBEephMm+V2WqrrcqOO+5Ytthii3cfoPIgWRAEYw8iVIMgCIIgCIKeRIRqEARBEARB0JOIUA2CIAiCIAh6EhGqQRAEQRAEQU8iQjUIgiAIgiDoSUSoBkEQBEEQBD2JPv+Z6tJLLy3f/va38665IAiCYcRPfvKT+vnFL36xfgZBEASDA0lKf6655poD/4XqL3/5y4jUIAiC4UCj1HBoEATBsAOH7rfffgML1csuu6wcdNBBIdogCIJhxH//93/Xzy9/+cv1MwiCIBgcSNIDDjigrLHGGgML1X/961/l9NNPL+97X7awBkEQDAt22223+nnkkUfWzyAIgmBw+H//7/+VLbfcsiyyyCLvCtUo0SAIgiAIgqAnEaEaBEEQBEEQ9CQiVIMgCIIgCIKeRIRqEARBEARB0JOIUA2CIAiCIAh6EhGqQRAEQRAEQU8iQjUIgiAIgiDoSUSoBkEQBEEQBD2JCNUgCIIgCIKgJxGhGgRBEPQc/Gniq6++Wl555ZXy+uuv19994c033yyPPPJIueSSS8oVV1xR3nrrrT7Dvvbaa+WBBx4oF1xwQbnpppvK22+/3W+cQRD0DoZbqOrgOv5jjz1Wbr755nLVVVeVK6+8stx4443l0UcfrQQTBEEQ9A0cSoQRWXgTf+JRfPr4449Xfh2f8c4775SHHnqo3HfffeWJJ56of63YFwjOJ598slx//fW17Px27zPPPFPuvffe8txzz1UxS+wam5SxvwkXLgiC3scICVUi9fzzzy8/+MEPymc+85ny6U9/uhx44IHlrLPOqgTTH7EEQRCM78ChePLMM8+svLnPPvuUfffdt3zve9+rXj/8Or5yqLJ54403ymWXXfauB5TYHCx4Va+77rpy1FFH1UnA888/P+RKEARjG4ZbqJqpmsEi2u23374S7fe///3y0Y9+tM5kL7744nLXXXfVWWwQBEHwf+Dx49W74YYbqsfvwx/+cBWoBx10UNl5553L/fffXy699NLKs0TX+IYJJpigTDrppGWDDTYoW265ZVlppZXKJJNMMuTq4EDkZ3k/CMZ+TPjtf2PI9wreUEJz1113rWTRHyyxWJIBZLLsssuWBRZYoMwyyyzl4YcfLi+99FKZaKKJyhxzzFHDtKUZxHzbbbfV5a73ve99ZeKJJx6QgBC6JbA777yzxjHNNNOUCSecsApgy2Nmy+KZYoop6qeZ84MPPljjn3baaasNA+UjCIJgZOLEE0+snybw/QGv4S5cRZBttNFGZckllyzzzz9/mXHGGatQxXGu4VDhLVvzEuLQO+64oy6H4zccSpTh7dtvv73yMv4jhHHf5JNPXr2T7nEvHhY/D6X4J5tssmqTME8//XT1Xgpzyy23VI7Ft8IRfHfffXf19DovnWbLU089VePB5cI3uEc6wjz77LP1nHDyIx5lAPIgL8Ky2zV243NhxTvVVFPVsM4Jc80119SxRBnKu3uEU4bXXntt3Uph3Hj55Zdr+TTh2sYt44XyVGby47f72RIEwZgBzjj66KMrD26++eb13AgJVcQz3XTTlUUWWaRMOeWUtYMTjO5zIL655567ilaEdOqpp9atAldffXUlC2GJSeITSfQFxMLjcPrpp1fvwkILLVSJTtrI9MgjjywzzDBDmWuuuWr6iNQeJOSz2GKL1bD9xR0EQTCyMVihSuTZo4qQcSgx2DgUZ+FQ/DfvvPNWAUlUnXLKKXUp3HcOAbyLP5H7PffcU0466aQq4Ig3Yg03Ogixc845p/K7+wlH9+DvmWeeuX4nNvH6GWecUcN6MMmKGYE4/fTTVwHqPCFLKN566631N74ljMWDz9nUIF55/Pvf/17DyN/ss89exwZ24m/xs2PqqacuL774YuV6q3FzzjlnfUCKqFZeOJ532TXbJcQpDuVA1BOk0p511lnLCSecUD3SxhnlohyVr3zIuzGF0BeHfCovY4U8iGOgsS8IglGHkSpUEQ0CQSQITCdvYhVZEagI1jX7jJDyMsssU7bZZpuy8cYbl3nmmacSKaMQl9lzf+mJgwA1255tttlq/GbPSArJmEFLS/rS8SAXklt00UXrDDmkEwTB6MJghCrea95DPNg4lEjFoQQVDiXOhL3wwgsrB66wwgo13vXXX7+KKtyKO4lVgvCiiy6qgmzdddetK124EVf+9a9/rXGut956ZccddywLL7xwFa9Enu/uxafnnntuWX755ctWW21Vvby41pPy+J5nl8gj/ngnt95667LJJptUniUSHcLj6Ma5PtlPGLpOMHI28IpyXtgiRkiLuwlq8ROtyy23XHVOuIftxgyiE8ezSTlst9121V6Oiyb611hjjeqd9l3ZCLfZZpvVyQAhrCyV95prrlnHI6uBypwHdsEFF6z3+R0EwehHX0J1uF2NCHTFFVcsq6yySl2S5y095JBDyp/+9Kc6K0fCbYaMRBDW0ksvXZZYYol6EK0Os9+BhCTPQpvpImDEivAQHUGKzJCmZTFp8jwgIUIV2USkBkHQa8BRJtcrr7xy5UUevb/97W/l0EMPrV5GS9a8iCbfRB4OxWdEWTeHIvTGc8QecbrUUktVAeoejgeH9IS30kSc8WLiUp5UnlNpEHZEXuNq4fCrMLjcd+kRm+InUhdffPEq8HByW6rvhCV9zgh5Fg/RS5AKJx08Lo+EpvN4fqaZZqq2tNUwg5fw+P+FF16oeZBHn9KWZ+ON8O4nfAlmeTRWSZ+YV07KSFm4l3gVj9/SVx7sC4KgdzDcQlVnJxLNVBECgrIUZFnfzNTeIeTYiAnhIgyfhKd7zHwRhd/9AbEgOoLWvQgdoSIrxLfOOutUMiZUkQwyFd5e2Sz5B0HQi8BrxJiHhHgu8alJtn2hONRKEW+rczjUkjchhkOb59V3/OfZAOJMnCb0PLGEGr40eceVeBFHWwWzbYCnEj/blsXRQCAKJx1L4vibw8F36eNccRCLuJUwJAKlyy5CkOfTEny3UMXD7MLTzRZ87fxaa61Vz7NDGrYHyJs08HgT4E2oCiMdIpOXVfrKo+V3MGhlZAySNvvFJT35Hx8fXguCXsYIKTmEYja7ww47lAMOOKC+pmqXXXapS032olqiQYDIC+E00vGJIHg9EdJAy/4NwiEUM3+zarNfe5sIXYSHbB1m58gL8RCyQRAEvQocRnTZavWd73ynPvW/7bbb1n2Y9pISi3iN4OzkTweeI1YJLxzarnVO0HlACVTi1FtZ9txzz/Lxj3+87LXXXuWPf/xjjZ9g5UzgBLAHdv/9969hPvGJT9TXDtozaqkdt4pvWMEefMxG+TAmEKrEJ48swWuMIFIJaYIT33dD2sRqy3tnPoMgGHcxzD0dUXgK3yZ6RyMcs1pLQpaLLE/5jngQikMYR4PvyNHsdTDkh8ws3SA0+6SQpj1LPK0ErN+Wy4hT4Qby0gZBEIwp4FBexdNOO63ulyTciC6cRXRaercXFa+5RrjZa9/Jn4A3Cb+BOJSos28UJ++3337lRz/6UfnJT35SDj744PLzn/+8fPWrXy2rrrpqFZJE7xZbbFE8ttDCOH72s59V0Wp5nB3DCjbIGw8y5wavsfz7jr95Z+UDf3NAyC+bu9FEuHIQfnhEcxAEYx+GWagiCzDLJxh5Tdu+JCLRrBkpIRRE0paHiFvLWIQmgep7+4cQIrObhLuB1AhQnlgPFbgHsTpn2Uycl19+eU2reVObrUEQBL0E3EiEtiV2S9/OWX7GdXis8Rd+w3s4zzI8kYZHLct7mMrDR/39ixUuxsEEsH2lROmmm25atxsQryb7+JJjoX3aN2pLgQelPHzF+WBpn13D68WUL3ET3x7aYi+7/LYML0+8yMpAOo5OKAucTsD69FBV26qA+5VLX2VgXBHG+BQEwdiJYWadNvO3JwipeGLVfifL/YjT0nxbJrIHqC3ZIxPC1rI9T6vXR3kNCqFrb+nQhCqitkyGtKWF2MTtPBIGryMRBiFGpAZB0IsgtAgxE22Cs73XFK8Rr5bgHQRW41BeRt7G9g5qPErgeoiVh9K1voB7CVBCkbjjGMDT4vCaKU/eE8l4VRqu4Wb2NFtsG+DtxLlD4+mBwA5CU7qAp3loeVXllU3KBYd3e27xuTwoM3YaN+THPcrNd17axvstvPGqPdNgDAqCYOzDcL2eynmzYYRBZNqP6v19lrLMlpGNp0u9EQAZ8XoiDK8i8d464RGgBwkc9qoilYEgTURp1ox07E2VBs+D2TKvLmLlAZhvvvn+Y0YeBEEwOjCY11PhM9xoBcoT794LikN9Eo/4lcfTFoAm8DxEZKuAfaReQ8WL6BVLwgkvHgKT6MSPONWBC9urnXDv8ccfX7mY6PQgFk8rcYinfeJwPI3P2cIR4Al/8XI2uM93WwHwevP0clDgckv5ffG5+whqYhnv89SyWxzEprHEtgf2yDNeJ8yJWL/lgY3itiJn65nyInwJcvErU3FwYBgv2CUMAS4e+WNnZxkpV2OHCYM3APAeG9uCIBj90I+7X081wb9PvmeK/NnPfrYSiQ30CKQ/8KYSh2b2luKRpA6PCBAKEkNa4uA1sFXAWwF8ShLxIBQETHjyhpoRI5NOIAwb7oX1vXlteRo8yIVokB872O11KmboBGwQBMHoxm677VY/vWZqIOBQTgF8hkPxIOBQ/OnAczywxKDnAQg3Ig2v2vNJWPG4+i0uIgy3EpZt+xNeNsF3r+u4Gj+a0OPQxtPCiEM4wg1vE4Ye9sLp+LcJVWlYsndfE6qcD1baxCvtbjThSBBK1/3ySpC2VTn5JRQJT+d5d40JBG1Lj4fUdgd8z8Y25ihP4wl7pW98kl8eZ4OefPpsQpUgFk75GFeIcq/aYkMcHUEwZqAf+9tkE8lf/OIX9dxwC9WRBeIUGR1zzDGVxLqXZxDi6quvXj2lZupBEAS9jMEK1SAIguC96EmhKnkzZ7NtBnaDR4DX1FLO6LAnCIJgRBChGgRBMHzoS6iOceXXhGjbRN99WG6yTBWRGgRBEARBMH4h6i8IgiAIgiDoSUSoBkEQBEEQBD2JCNUgCIIgCIKgJxGhGgRBEARBEPQkIlSDIAiCIAiCnkSEahAEQRAEQdCTiFANgiAIgiAIehJ9vvDf/0h/6Utfqu84DYIgCAaPQw45pH5++tOfrp9BEATB4ECS/vjHPy7rrrvuwP9MhWi9bD8IgiAYNvjve8j/xQdBEAw7Xn755TrRH1CoXnXVVeXggw+ORzUIgmAY8e1vf/s9n0EQBMHgQJJ+4QtfKKusskrv/Nd/EATBuIT8138QBMHwoSf/6z8IgiAIgiAI+kKEahAEQRAEQdCTiFANgiAIgiAIehIRqkEQBEEQBEFPIkI1CIIgCIIg6ElEqAZBEARBEAQ9iQjVIAiCIAiCoCcRoRoEQRAEQRD0JCJUgyAIgiAIgp5ETwjV559/vpx33nnl0ksvLffdd1958803y+WXX17++c9/lttvv728/fbbQ0KOOPzrgfifffbZ8tprr9W/6wqCIAh6E8aHW265pfztb38rd91110gdD8YUjDvvvPNOefHFF8tLL700SsYh5XTllVfWcfS2224rb7311pArgwe73Odv1c8666w6Phs3g1EL5a6cL7vssnLaaaeVxx9/vLzxxhtDro5/GGahqnO98sor5cYbbywXXHBBOfvss/s8LrzwwnLdddeVF154od4zEMR36623VhJ66qmnavi777673HnnneXRRx+t4nJY0YjgoYceqvE+99xzteMSqU8++WS59tpryyOPPDJcnTcIgmBEgJ9wHZ7zl9UGoVEhVnoB+Jsgu//++2t+cXBfeRXOWCDMPffcU7lZOOcefvjhcvXVV5cnnnhiuMaDTrjfGEC8qYMxIQCaSGWD+n/99ddHOF/dEJ9yvOOOO+pYN7RxuD+479577y033XRTLS/1NyJQp6+++moVvcZ45c9W9d0mJewdFyYkwwtlpDxol+uvv77qqJFZHuJXrw888EDtb8q9l8t7mIWqRoosjjjiiPK1r32tfO5znyuf/exny2c+85my77771u/OfeMb3yi/+93vqlAcE2KwVfRFF11UTj311FoZOsfLL79cv5900km1QyDBIAiC0QmDAv7hLTn55JPrQDSyhUqvwID44IMPlnPPPbdyMc7tK6/NiSDMGWecUcMNr7gaCMYFjpZjjjmm3HzzzXWQHt2QV16y888/v1xyySXVqzoq8tqLkM+nn366nHPOOdVLTrA7x4NIvB555JHliiuuyIrnKETTR5yNf//73+uExmSpVzHMQnXSSScts88+e/nkJz9Zfv3rX5fDDjus/OhHPyo77LBD2XTTTcvPf/7zeu4Xv/hF+fznP1/mm2++Mskkkwy5e8xj2mmnLcsuu2wV1GuuuWaZeuqph1wJgiAIglEP4+g888xTdt1117L99tuX6aabrkw00URDrgZB0IkJ/q2s3zNlIeAsRZx++unlfe8buo7lGbA8b/+KWdKee+5ZO93EE0/8rmq3bGOmxLsKM800U1lwwQXLvPPOWyaffPJ6/wknnFBF5BJLLFGWXnrp+pvCX2CBBcraa69d07EcwBvq3GyzzVbD9wX38fran3PxxRfXZf+FFlqorLrqqvVzyimnrMshRLR4hLcEY1bHHu5w54hYdgovb5aueGVnmWWWMv/889e4kIt8Cu8++bQ8Au4Vbo455igTTDBBPRcEwbiN3XbbrX7yDPUHvMiTdsMNN9Tve+yxR5lxxhnLhBNOOCTE/wK38D7iPvyDX2CGGWaoQgfHTDHFFNUrhbfdz1vnN48dPptrrrnKkksuWXkMX+FSfCY8bsZdOIpDQVrixHF+8/S2cLx+bFx44YUrd4tPXLygloZ5TeUFb+JGYfzGtbjYp9/rrLNO5WLcKA545pln6jKn5xSUibFHGNxvLJFv3p/ll1++2mbMkNc555yzpoXH5Y0XDv9Ki13SY/MiiyxSw8gfW6QjjLFkpZVWKsstt1wN0w1e3ccee6wuUbMRlL3yZEezvxuWs5WxNIxF6mSqqaYqiy66aJl77rnrd6t78ix/zgtjDGH/zDPPXMvcsxTGDnk0XknTb3WhTbCLR1h8008/fW0v7Jt11lnrOGsclY6yVpbqVHjpqDPXtJFWX+7tHKvEJy+8/mzl5FE3xkFlrUyVm3oQtzFUObW2Kpz2KW5piFs7Uf6WtJWvel588cVrfDzdDm129dVXrzYrCzCOK0/tWlmx1X2t7SoL5cJen9NMM02ZbLLJapraCgebA9ioXtTRUkstVTVLp97RTrQdnkZlpS2BfChL9gmv77R6bu1N+9c+lImyVYe0j7J2TdnIt7aj3sXVrWWkL7yVX+nvtNNONZz8KNNml7jZoR2zS5ryq3w6258yaekpT2Xd9JF01I16UBbiGJOQ9y233LK2Kw5PmPDb/0b9NgQEp0o00+tssP1BpBpFW1pfccUVa2FqGBqtRqVBWoJHzB6Ock6FajQasfsIRfcpRJ3MbySoASk4ndK+UhvDNVCdUqX3ZaP4NAadSzxITZrScqikE088sTYOJKaydWiELC+NLHU0DUpF6gTsZ4O4QKNFMhqFNGx8FsbGc/l0r4YqP0h0MOUZBMHYDdwCPGX9AW8asHGJ74QSbuocLAGH4if7/XGfAxe5z+CDv3CMQfLMM8+s4sOBy3ARcYHTcBAxg4fwmfj+8Y9/1IHKFoTGcc7jYNyIo10TD050jWhjo+s4mHjAsZ5JEMZSukEZx7INB9pbiv/ZIrz8EGuN/0G84ucgwd0GWXk0AMsf4e05BmOC+MUnXaKLd7IN0Abla665ppaTgZg9xg48LR5lbVsBjhaP8MYqthLoDW2CwBZ2yZ98SJOthJGxSTl087p7iU322u4gLXYQFuIkoNSFPKozdWdQNilQJ9ISzn3SFI8xTVrqUXrq2HUPIbPP+CMe45MyNzYqX/Yan9SV8aqJHOWjXts4R3DJj3DKqhPaIMFDOGsT2pYxXbrKTx0ak+VJPQnb2irRKX55U8bu187UgXiUgXpQB8pHe1Tvyo9NhJV43S8ucdoWYL+selD3yoV2sI1C3SuvJlq1D3bLMzuJPdAW2S//RFq3UJW2vCmjNqbLlzj1IfXAZraKQ7219iYfyrDVs98mWeJQF+JTT2wCZa78OtPXhoSVprwTkOrUuVZO4tE+hNF/lQHRzi4aTjloH628tGV16bp+aIuNe1vbUT4mHk3MjynI+9FHH13by+abb17PjTKhqtB1GB0VUZj977XXXmX99devjUulmvFpZAzTofoSqipbRSpwBWo2blYtnALvCxqJuM2UNSokZkay0UYb1YrUeFUiYvJbo0SyyMesYrvttiurrbZajcceMunw8oqD/a0RazjsZ5eGo0PaTvChD32orLvuunUgQsrC9UUAQRCMexiZQtUgRZQZUHDa3nvvXTbbbLNK4gZggzUOcp/JscEIp2277bZlq622qrxDPOArHIyDDHT2BhqQ2MgD7B48hhdXWGGFyrvCHXHEEVUsiOuDH/xgTVeawi622GJVsBAcOH333XcvW2yxReVbfEoYEgarrLJK5Vq2EEueZzDwSqPlF0e6xmOHb3mkPOuAd4VRVvY08hptsMEGlYvFqXyItuaRMyAbgIX5wAc+UMvKuMJeg7nxSZzKUlnIk8GQPZ38rE6Um/GL6MH7wq611lpVfBi/eKjkz7jRYCwjBggItrjODh4iHlGiAZQjqFf3yy8RQozJj7xtvPHGdTsdD7a4lIs6My57YJnA43XcZZddyhprrFHzyVkib8qpW6iqf0KKmNPubNfbZpttav0SW+JVD822hiZU1YExXl623nrrmrax1EGAsll7kAdj/0c+8pEaPyEoXfEbt9WB8m7t40tf+lIdL/UBK6omYNqR9iROv5WnvZTGdHGqV7Zq7+pV2aonbVYdKHNjufPapnJQb8pFObJTn9DmtGPXmt5R9/oWcUnQ6Q9s2XDDDWta9AzQFsrN2E8v6HObbLJJFXvyq9yVuTaq3olB+kB780kcu1/d9NWO+hKq8msiQxutt956Vadpk9oM3abutEt1II/i1cf1X2VJLDc9o4/oW8poxx13rPpIecjXmERfQvW9rDiS0TqgStGozaI1FJ8qSQVo0P1BZZhZEakaqw67zDLL1IodqDAVvsapwyLD1vkQuvN9QeXq2CrTp8pjq5kO4mUzMndOQxQPEcp+nV4H0eARpnvF40B+Zk7sD4IgGCwM/kSAwQp3EXG4BRfhGgLDgIp/iDQDreu8cy0ckWDiT6jhKgOve/BnG6TxmvB4zoCNPw16BlbciXelJT58jitdZxtec+ByXCctdhocDYaECQ7Goz7F75w4DJgN7m3XfEpXXMS7cMYSgy5b5InNbBJe+gSEOFznaCAueGPZrDzEwV6DoLHHwQbjgu/S6YSyxPHEE8HoE/c78Lp4lKdy973BfQ7ijkODE6eVi/IgGMQlf00YdYJ4E5YwkRahI09sFKf6I7B8EqadbcLhXue7QXyxxzjFJpMH8bq3jVVEqLbRH9Qf27UbbYV9fss/ESt+Y6e4lZl6Yr/wDvFLW/22sVkdsLmtkqpPdSG/wqgDGkDdua69ipfdylO9Goe1P3rB1ghtVJ1rI+Jmk3Ct/bODJ1f/ah77zrpwXpzGbW1OmspWmtqVMm+2u0Y0E9/san1K/5KeQ/nIn7ToA2Wi7ITX19ijHQ0NbJQ/5UvY00LsEk/Lo7JSDtqKftHpAdamTDLYqpwd2uFg9NGYxigTqgpVB1UhGpzZKVe1mTbiRSwOs4b+4B4ziDbb02gUeOfMY2RBY9U5VJiK1dlVnMrUCFxzXtoaqArVMRtJ8zLoBGZulifk08xLhzBIyGcnoQVBEAwEg40BzOBjkDYI4h+8ipf8NhDiH1yEI3GVARpH4Su8hccMhjhIeIO+cwY9191nsPK9CVXcTIy6z0oRLxzPLo8rUYLXxOMenCwt3MfzhbMNoOwwoI8MNLEnTmXBRnmQT/bLm7KRf145trOFt6stMStLZToYHha/MaAJeAKOV8z7vXnujE3KnKjpBnuUrfuIBp5u5deEj7Jhd18wrhA1xIy68Fvd+E6IqA/1TXgqW/mVb+H8dm9fYkOelZFyIXTVneVn5WMJnDBzXjmJu68yIiAJWumoD2OmNug7m8RvrFdHyo4XuDP+VmbDCvcZW9vKLW82LUFHqBc2C6NuW9lpI2xgY5uMGKuNxeLSD7RZddRdXvIhP/qd/DjkUTkThQSi+9SLT+eUqzpmlz4iDemJS1lqq+rK0exioziVd1/tqC/Ih/Tcr18qX150WkOfbcJY+9PWtD/lxDZlx97WtrTTsQWj1KMKyEEH94YAbwHwCitvCSDmNLyBwFOAFFR46zx9daBRAZXYjoHAHo2BUP3tb39bvvKVr5RPf/rT9fjVr35VBavGo8HKQxAEwbAABxlUCZUGvw14BBX+wS+DQeNPA51BsjPOTghHXBCnP/jBD8o+++xTjy984Qt1Pz/PHF7jlbPsafC0R/DHP/5x+eEPf1iXzAmf0cXXDQSYQdl4g4v322+/YncbgTnYMuoEEYTDjVny7mHj733ve1V8Eo19QZ3wXlmaJRgsIf/kJz+p99nLqFxGBMYR4kr9aweDFRzqQhlYlv7+979fx2Pj1Be/+MXyxz/+8d3XNRJNg6m3znbpu3u0Rfs/jz322PLNb36zlpfXWB511FEDemsHgvwSYrYleu2ldkhH2DLgnGt0hnDsUP4N7CPKTA7YZ7Kg/IUj+ghbYTqhjNSto8XZIC512sS49maJ/Ze//OW77e2rX/1qFdND0zfDCnYoXwLa9iLtyTYa5XHEEUfUiSLIv8ma9mdypw9rf9/5zndqW6SrxjaMMqFqdqMSNSSf3OMq06urvvWtb9X9HkObbWtc9gbZg6PwVYTGTrj2CjQehM/W/fffv+ZRp28HQth5553rrKyzAwVBEAwGTQDg1Aa/Dc4GVRzUPdj2B6ICX7nf0d/kWZy8tvbcHXTQQe/htD/84Q9VhFjGNFgb8O2RNGgeeOCBdW+iwZTw4V0dXeAtI8Lsz7PHkcD+/e9/Xz89Pc7WwULZEDScLMacj33sY3Ww925w5WHZuT+vqPpSV7xoxi/lorw+8YlP1LjYx9bBiMFuqBfePVB3/dVfX3CvMrD0+93vfrcceuih76nXr3/967W+xT+YsaqzXfrusAeSB5unlUA95JBDysEHH1zLjydveMAW99oDKq5Omw8//PAqhq3c9le/2rzrPpt3UX/hXdQXlEsnTALULQ+ytDvrSX7pD31P++AtJlTtmzXWa29e0Wm748haTWgwgVC29ifbfmi/uvaoP3rbEk8vsFe7kD6xStRrf14pSqRaoSbuh6XtjGmMMuWkELj5LROpXEsoZt4ehCLqdIbuBtINsxfua7MDDR8pm93aOzVYVzmwxb2dDW5kQYPXIMxc2Gsfik3cGiovA7LX4IUbWn6DIAgacAbu4MHh3fTAhEESnxKCvJquE0Q8pIOB8IQl54GB1hIlXrR0Kg1eIHyJy9rSJO8RDyExSuR0LkuzweAvHhxtzyIvK+5vy7UN4sXbTdj0B+GEGVq4brTtCvJivPHgjT2FxhAiRrydELdxQTrdEFZ8xhplTpTbG2h/IoFD9PRlm3PqR10RpARNKxd7F3nplLPPYclbgzahvgko+SR8lbXDcjUPcF/L603g8iBymqg/46oxeeWVV6516pp21J9I5W0llLQd5SYP8qlO2cQ2bYod2o6xXtz2EhN+yqwT8t9dz53nWn0ZX8WvDmkHdeCZF3WrbcqLa/2Nr9K15C5v6tOWBLYSe/LafZ82Lz39Tnk61Kl8WuEldC27a2uuyS8hrG+wSX3rG8NTvwNBmWg7NJVtB+pPmzRpUnet3oRr7U8dKTPtrz1w2N3+lPOo0kcjC6PUxafgGoFq3GbXChC5adBDKxwNSCNDrohSB+NS10h00oHgXocGo+J0aOSuokYmNGoNWmOQN15fSx++m90jcZ1DQw+CIOgEDsSNBh+c0Q4caQA0wBuQiCZ8QijYa4ZXhCMwDMI4cjAwqJtU411pilM8OMtT5HgVXxIa+JbokR5es2wqffcYsF3DxfY6WlpnE7sN4Hgb9+NfPEwkSZPYwcUtnU4IR0C4VzjjBaE7WO403khHukSy/LCP3QZnQoMNzR5p8TDhZ+XbjTZ+sUeYVkfibGKtr/HLwC8Mb6x9ssrFvUSNdNVVX568wYDNRAkhRWzw5rXxRpry059QVRdEO5FDxLDLvQ5eNvWsnPqDurD/UnlKT1tobyMgzohF5cVG4p7XmE3qUV10iiP3KF/hWnlqD+51Xv21JX35NblSR2y27YKt0pcPtrS67Qvy3spM3Wh/bOVE6gutjE24lKc05VmaPMYOtql/ZepQbuKVF+H0AXljU392DQ9a+5Y2DSU9+Zc2vpA/5agfdrc/+kfeWvtTzmzXv9yvfY5sfTSyMMpeT6VAHApVR/CaJ/sqNFgkpIA0HB1HwSHC1ngQqd8KEGHqBAhWWgpToxDWbKo/G51vhKcyvTiXfWySdvfrqfzWGcw6VKLGhZx0BLNzg4HroGGwg01sMzNjt85l7639Oe2vAsVvoJFHDSMIgnEbw/J6KoOet5p45QyOPOWUUyp32FeGl6zQ8NbgQgP0X/7yl/qaJiLA5Li9UgbXGJBwEj5yAAFgsDVw8argMWF4qYhNabHXHnucZgDE4dLEXeJpf/V63HHHVWGEy3Aa7vagCtsIHa+88gohduJMK0tWldqgiPvxqbzifjxvfGjA2fjZoCmcNDkBnGvC1dPczaPJVgJCWXBksNdArly9n9S7OgkpwswYRfTzxrHfYC6/7FU+0jAeNLBXOHUgXa/Lse9WORo/3CuPDnlp41Abd5SxODzoooy9H9YYQ/zwMrqPKFBWyqe9nspYxVZ10MYMNihfZaXO21jkfm1HmyFI5MMYJ0wbs4yj4m3jaFvhU99sUvceyGG3/GtvxtZOKCttiy7QHlrd0ArKW354r7UpcSsb+5XtZbY07j72GlPVuTbhPkJLmQinDNW1ulLGHFLuZbM2xm5x6C/y6x3p7HAPj61JFRvZSmSawKkHaHVickTs+s1m+VXv3XBdWSs/gtQDUtq+dstunmIrpmySJ/lgj/KQH3mgHVxvfVcbFa8+yBb9n7CUR2WqvtzXIF71Jk/Cad/yrw2zmS3qz55nfVwb0eaEaSu50iFWtT/1pS+41t74oB3rV/qQMNqOOpTvMQl573491Qj/M5UCl1nkoOPocArAva4pRJ3PdQWhABWoSlMxKkmjIHR1WI2MgQpPBWvACk584mrp6JQakU4gnU5IA6FZ1hAWQYoPsYqriWeNWVgNwm/26Kgao2IRNzJHgMK1hiQ+olSndE18Gorz7NNRdZj2hJ10xSnPQRCM2xjMP1PhLIMX3sMZncATxAIuwmO+GwyFwzFgQMIvBkL8Q9zgOJxk0HaA8zwpuNIkHL9KG3/hZefbAIUDiVLvjLSciHubE4Kw8R134zQHnubJwnfiEsZvgymxJAw7cbfzBAjRZ7wgdIVhewPOxZttvMC/RAHb8KvyMqATJwZhcQpHFBiA2SYv7ldOeF154F/nlaMyMD4RLOLD72xkq/LuBHtauYsTCD5jAWeJsUQeOgVGA28a+5Wd8meLciG82CNPbOL0MDawXxgivZWPstEWxEXQstt4yV7jmvJW58ZFcQhHVBHjxj5jsevKqQkQdUH4tLFKnbpXW2pC1u8GZaC9sFN+5EHemzhij3Lz6T55kgfpamPCs1cZiUe7VNbiZYP2IB/2VyoXGkA7FEcTdtosSNM19d2EmbTZLn5lrf00zdCEagOxb9le2XmHqLbQn8Zhn3JrbUnehW1juk9QFq19CM8mbcJ5+fadjmGz/Nj+0YSqsjeRUCbiU1YNLX3lLhxh6bq4mi6RhjiVPduUnbxL0/nu9qcv6D/KWZkK41rrl2zAJ+Ibk1A23f9MNcJCdXSDuRqpmarZBMGqcXZCgeusvA06aC/mIwiCcRODEapjCrjSQE2gGtQILwMcsdD+9Yf9BgncGfQWjH8GcvVFtBAcBIgx0bitzfEWEqpER/C/ZUao8TqbiBHk9AEnU9B76EuojnUKzizATNNbA7xuwVsEOp8CdDjvX0TabD4IgiD437+G5AE65phj6mSf18vAwPPCi8XbwzvFexf0HtSVOuSk4UziyTPx4NXmxeQB5tnsy8s7voJQ5Y3lGeXZJOBN0oKxB1FxQRAE4wksf9snyOtmWdGrm7zmxv5SAsdrdtoybtB74HhRh21rhuchvAfVu2stbdvTZxk93vD/haVt+729V9dkjCdV+1eGwdiDCNUgCILxBM1j6uEMe/Ts8bMUaj+j/aAEkH12WYnqTVhRVIfqzD5Wexd5CH2qO0v+tr7ZzhH83+sjlZfy0e61/+79q0FvY6zboxoEQdDL6OU9qkEQBL2McWKPahAEQRAEQTB+IEI1CIIgCIIg6ElEqAZBEAQ9Ba/R8q5TD8C097M62rs3PeluiTAIgnEfEapBEARBT4EQ9SJy/8TlVUxEq8O/TfknI+LVC+6DIBj3EaEaBEEQ9BTaM74+O5/35UXtev43CIJxHBGqQRAEQRAEQU8iQjUIgmAMwb5L/+XtH4UsZ/v0b1H+8tE+TZ/+07tzTyaPon8n8p/tzgvnmrD+gUcc/sfey879b3z7i2n/w+4eYfyTkXSc6wvtr1aFY5fD95Zef2Cbv/Z88cUXa/ru8zfX0mVf84Z25putLd/OZ+9pEASdmPDb/8aQ7xVnnXVWeeaZZ8quu+5aXy4cBEEQDB4nnnhi/dx+++3rZ38gyPydqX/O8VfQ/h3q4osvrsLNf/B7j7V9mkcffXTl4plmmqn+tSmh6F+IzjvvvCoK/de76x40Eof3tx5//PH1f8292HzGGWesYS644IJyySWX1P88P/fcc8sdd9xR93kuuOCC/8H1xLE0jjjiiJq+vaE333xz/TMAL0wXX19gG/uF/+tf/1qOO+64mi5B7B7/TS8t+bL39A9/+EP9O1f5Jmr9a5BwBC1xe+utt9Z8e6E9yBPB62X37Mg/aAXBuAV9H+fgLf+0BvGoBkEQjGY0kXr99dfXJ9v9K9Rmm21WVllllSrkrr322vrf7b4TebyTxCMS99t/lhOE/oGIF1Icp556ar3u71G32GKLMvfcc9c0rrvuuiruCD9ilkj0Tz3+mWquueYaYtH/gl28sESqw78cbbjhhmW99darIvKaa66pfwjT14NM0ha3+9gnfgPN2muvXW0njNnJe3rVVVdVW1ZYYYWy9dZb1/wTuZdeeml55JFHBvTaBkEwfiFCNQiCYDSCoCMuCT7Cjtj0TyxWsfzXvn9kue++++o1HsM55pijLrlbQnevpXvL5rylM888cxWhwvN4+jtNcey+++5lnXXWqVsEbrvttne3ABC+U045ZVlzzTXrwVPZ7U3lpRXe308SmTvvvHPZcccdqwAmfB3EMlsafHefV0fJF8/pRhttVPP0gQ98oOaBnVbr5MXBdiL1wx/+cBXWRPGNN95Y8ymuIAgCiFANgiAYjSDqeCQJOsvcBOXss89eBSTxttJKK9Ulfvs8CU3L3MITrsQmIUf0zTLLLGXaaaetnlJhLeEvtthiZbbZZiuTTTZZFaH+55yoJBCJY+msuuqqZb755ivTTTfdf/wnvO0Glvd5UYld/40uDfHw0E4++eQ1HnF2Qp7Y2vbFSkNawhOtG2ywQRW6xKjzxGsTsGy1vO+afIonHtUgCBoiVIMgCEYjiDpL7LyGhCGh5hN8EqkOEI6Y4z1tD0IRrLygRKl7hbGcfuGFF5bvfOc7ZZ999imf/vSnyxe/+MW6X5a3lXhs6fGUur/bk9ogjLTsZf3xj39c9t9//7LffvvVuO0ZFVc3mlD1rlOf4ujMk/1mBCpxLX3L+56H+Na3vlU+85nPlC996Ut1ny5BTaSKLwiCACJUgyAIxgCaUCTKOoVZE7KOzoehCECi00NHtgTYZ+pTPMIJw/vpQSz3EIXLLbdc9dA63x486k+ggjRtK+DtJUrZwsMqTnHwwPZ1v3MOorT7ut/EKfHtO6+r/apt20OzWTryEQRB0IkI1SAIgtEIYo0ga0/wW7bn7SQKffJY2sMJls4JOMvnrnswymuceFJtExAPEehBp9VXX73su+++1fP5ve99r3z3u98tBxxwQPnIRz5S5plnnnrP0MAer6GyV5Qgtjz/la98pXo+xb3QQgtVm7ohT+Jnq0+iuuVJnDy07Ba3B6rsmxVu7733rjZ+9atfrftgbUeIWA2CoBMRqkEQBKMRvI5Eqoem7PVsr2YiTj0d700A9moSbQQoTyihyft48skn1z2ihCvB2JbVCUQCkCfUNgAi0TYBwvbKK6+scfOWDg2EpfiBAG4eWyLzrrvuqk/zE6F9gfDkxWWLtxawQz7Ycdppp5Wzzz673H777TXPrQzET8jad+stB7y5fgdBEDREqAZBEIxmEIGEqoMH0ftPDznkkPr+QGLTA1QOy/mEooeNPCRF2HmoqXlTgaDl6VxttdXq1gDvL/35z39e36dKvErLIZ6hQZyEL2HsO3t++9vflr///e/1dVjEbvOS+mxoXuIFFligLLnkklVwuufQQw+t72K13O+BLPHassD+hx9+uMb9+9//vr7f1T3Qtj0EQRBAhGoQBMFoBo+ih6SWWWaZ+r5R3kfL4d4tyiPp/aKe2m8Ck8jzVL/XRS299NLVc9lAzHot1cYbb1zfHEAAWronWnktPcTEG+se33ljm8jthvOue1DLmwHsI2UXj6cX7BPPns7va6+q3/LkTQHez+rBKPeyw3n5lCe2EujyycPavKxsE7/9qgS5fBG17QEsh3jEzXurDIMgGPcxwb9nxe95vPKzn/1sndGffvrpIYIgCIJhxG677VY/eTSHhuY9bPs5iT282wRqpxjkxRTONWE6r7nX4XrzerpOeDqEdw1aGp33d0McLT0Q3uF8i7O/+9u9zevabQeI13VhoTP+lr+WH9/dCy3OVj5BEIxbwAHeK20y+4tf/KKeixINgiAYQyDCiC4eQntOffJWOt8txIg1HtK+RKLf7nFvZ1w8k86DdBx93d8N97hXPI62n9Tn0ERiu7c/O0Ac4uor/mZfy09Lz+G7cEOzPwiCcQcRqkEQBEEQBEFPIkI1CIIgCIIg6ElEqAZBEARBEAQ9iQjVIAiCIAiCoCcRoRoEQRAEQRD0JCJUgyAIgiAIgp5EhGoQBEEQBEHQk4hQDYIgCIIgCHoSff4z1S233FL/L7rzBc1BEATB0PGpT32qfvqf+yAIgmDw8M9Uu+yyS/0r5vbPVH0K1T//+c/176vy7x9BEATDhnvuuad++m/+IAiCYPAgSf2N/0c+8pGBheoZZ5xRdt111wjVIAiCYcTf/va3+vmBD3ygfgZBEASDA0l61FFHlS222GJgoUrNnn766Vn6D4IgGEbstttu9fPII4+sn0EQBMHgYOl/yy23rKv6TahGiQZBEARBEAQ9iQjVIAiCIAiCoCcRoRoEQRAEQRD0JCJUgyAIgiAIgp5EhGoQBEEQBEHQk4hQDYIgCIIgCHoSEapBEARBEARBTyJCNQiCIAiCIOhJRKgGQRAEQRAEPYlRKlT96dWrr75a7rvvvnL77beX119/vf7rQBAEQRAEQRAMDcMlVInNN954o4rQoR1PPfVUOe+88+r/Xz///PPl7bffHhJLEATB+It33nmnvPXWW+XNN9+sk/pu4Fl8KczomuCzQ3qcCo3D2cfW8QXKWhko+zhWgmDMY5j/659Affrpp8sJJ5xQbr755vLyyy8PufJeTDPNNGXeeecta6+9drn11lvLM888Uz7xiU+UGWaYoUwyySRDQgVBEIxbGMx//RNBN910U7n77rvr9y222KJMPfXUZcIJJxwSopQHH3yw3HnnneXZZ58tK620UllwwQWHXBk1IM6kdemll5brrruuPPTQQ2WiiSYqq6yySll55ZXL0ksvXX9PMMEEQ+4YN2H8u+GGG+pYtdhii5W55ppryJUgCEY1TA5H+L/+idfJJpuszD///GXZZZctyy23XFlooYXqeSJWx3ZumWWWqeenmGKKcZ7YgiAIhgX8Ay+88EJ55JFHysMPP1y9lt3gzXzyySdrmP4cAiMLBofHHnusXHPNNeWJJ54o008/fVlqqaUqn3My3HHHHeWBBx7o085xDS+99FItc2X/2muvDTkbBMGYwjB7VLvBG/Doo4+Ws846q3pa99xzzzLddNOViSeeuF5Dfq7p+Lvuumv1GCBF4pXXdaqppiqTTjppDWtrgFm9WTuCcG3aaaet9yBtBNIIe/LJJ3/3fnaKs8XxyiuvvBsPW4QZrBdXPJa9DCLi8ZvYbmXB6yFtcQdBEHRjMB5V/HTJJZdUz53ve+yxR5lxxhnf41ElDq+99toqHDfccMPqGMBHOBAX4kT0jY/wEj7EU86J88UXX6xhicvGt8Lhs27gTl7Uf/zjH2Xuuecuyy+/fHVGuNfqGU8r0brWWmvVeMQvbmn4zm7xSpsNLS/dTgr2C9/4VfzGCnY5jAW2Gbgm7jaOiHemmWaq1zvHJWUgrHSEE5+xQ7hWJs0LLG3XjRHuY4dxQZgpp5yypmUMu+qqq8oVV1xR88CTveSSS1bh3pluEASjBvppt0d1wm//G/XbEBCVZtBEZTfJ9AWRIk1LWDr/iiuuWD2uTZAiM9cIVWRjr+pf//rXum+VIEQSDrPXk046qZx//vnlnnvuKccff3y9d4455qhkgrBd/+1vf1vOOOOMOrt33nVEhIAQ+oknnlgHiGOOOaZceeWVNQ+WcAjWwQDJWW477rjjyv/8z/9Uey2B3XjjjdXb0AYFxBYEQdANHATbb799/ewLuNHS/uOPP16/W4XqnBAD0WSiT4gtsMACZZZZZqmcaWkePx1++OHllFNOqQ+rus9WK7xLgOFCPIkLHWeffXaNx6R9ttlm+w9ud08TnQTxnHPOWe0h3vC7e30aPIhAduPqP/zhD+XYY4+tNknz6quvro6OhRdeuIbrFN7Afnx68sknlyOOOKL85S9/qffgXTzNMUFIEouuy9sFF1xQRf188833H04H28+MJcYY4vK0006rNuFrwnX22WevnK185MG4YWwRN7uNK4QxTjeO/OlPf6r1Z+wQN2+3eIj0voR3EAQjF3Ti0UcfXSeKm2++eT03WoQq0rj//vsr+dkOsMQSS1SyRAJIxEzZtgFk5OGreeaZpyy++OJ1TxRiuuWWW+o+V/bY82qGi3iI2+ZxFdc555xT00SS9lUhqeeee67aJ05ENNCsGIkS1GeeeWYNZ/uC9NiKhO+6665qu3jZFQRB0I1RJVQJNPtacSH+WXPNNet9QGQ276D7cK573bfqqqtWPsWteBZnmmh3ikjcSlgaHPBd845Km9cXtxOKDt5VnGzijmtXX331ypWcBdIk7HgicXtnGsQo4UlMOk/8rbHGGlVgGydwr7SJZc6Kiy++uHKtvbnEs7S67SY8lYd4jS/COeSHAJUH59nGASFtZWcMMUbwHsuPMrMXlUOjpcE+/C8vJgnqJkI1CEYt+hKqo2UtQ8Jm5kjI0tFWW21VNthgg0rQCMIykDCARMza119//UquSMusF1EuuuiiZdttt62Ha4jP7N3WA0LVDBixidsgYbkMuRDJxLe4BgJBa7aP/JCWBxw++MEPVkJrYrrZGQRBMKIg0Iisiy66qE60O4/LL7+8CrbGW/iS4OJ5JJ622267yk94sQkxwpJoxYc4k9jCt9tss00NR4CKr5vHCDPL24So79K1DYAnlqB2HycDHse3bDbxJzTZsdlmm1XBSSz3x7N4Hr9yalgJ22STTcqOO+5YP2eeeeZqs3iVCeBuItODXOuuu24duKTfF9hMlBs3lAmHifvlgwOCGJUPv21p2HTTTWu4jTfeuHpT5clhXFlttdWqkFXGRD7nRNs+EATB6MdoEaqIgEdzhRVWqIKPGJ111lkrOSEAhIo4eQOQiP1RriEa5MaTidiQiHNm/n4Tk0QlArJchMTMvt0LZsHIF8HwviLzgSAtHgE2ImyiV3psRZjOd87mgyAIRgT4xtL1N7/5zbL//vvXZwTa8aMf/agu3+NHwGVEFNHJk4rXHHiOeG0cRyxa1SJYOQJMwAlNgtXkuwnKvsALaVJvm5XFtgMOOKCuJuFaHIgPCTrCj4jD6zyQ7QFbHNkfmueSF5NoFh/+99l+E5J4WHx416qaeNmPe/sSi9InZnlc2/MR7mnbCDgY5EF5ELPEO6eJcYQtfhPBt912WxX6QRD0FkaLUB0skBAi7CQjxMlzal/Rl7/85fKxj32sHkgUmSIgRG5Zy76igw46qOy99971VVif/OQn6/4sy1S2AAzNo8pjAUgRibElCIJgVIE4Ix5/9rOflcMOO6z88Y9/fPc48MAD6+oRIQYm80TXP//5z/qQwb777lt57gc/+EHdx9kgTitXPIIm+eL+3Oc+V58N8LsvsddADJro77zzzuXggw8uv/zlL6tI9Yct+JW3E0+Kg8OB0Bws2O8gkqXT+FVchKmtAkR1cyi43j0eDC8at/eVtnTxPYE8tDEiCILRj55XYogEGfKgmvl6ZYrDcvx6661X92mZeSMaXgUeVUs1wtg3ZfnfchCyRYYDAXkNC/EGQRCMCEyKCUtL1fZ6dh72WvL4NU4y2bZf1BI5ryEPIq7jJeQRBEIQF+JE/OfAmzyMJvO2B7i/W5DZV8rbaVmeGGYTLyXBKx1Cj1jlccTJI7KyJK4mWhucY0PDyBCnnWjx9Zc2h0gQBL2JnhaqyMUM2JKXTe0f/ehHy1e+8pXy1a9+tXzhC1+o3gT7myxlWXKyr2iXXXap3gNhhN1vv/3e3cdlUBgI0jK75sFFyG1Pqhm+I7PtIAjGBIgpQvKyyy6rXETI2h7wpS99qey00051ibzBChPvIN60t9Orr6wy2YLV9mk2r2UDkUjA8poK0wQp0WsLFK+uLQHCmfDjSr9xJZHHPntBB+JI9zjEzTMrfONXS/SW5m3/EmZkQ5zEtXQd0mQzjjcBYBNHR9sDy64maoMgGLPoaaGKNOwzIkRtwvfEK0JppOqpU/uKAAkjaO8e9PSoMMLyQHjVCSLsnLH3BSRp2ct2gs5XavktfQPF0OIIgiAYFSAIiTu8SEASksSdB5CIS8BXhKin2z0I5UFSgotIG8hL6RqOxKfXX3993TtLdBJy4id8rUrhSN5We0G9pcU1PMsu6eLI/kAIciiwFU/jcHzqzQc8vTiW91e4kQ37eI0lbOQZts+WWPXpN28z77NxBJSjPLEvYjUIxixGy+upkINPD1PxWFpiNxMnInk528Z2ZIWEEYYZsHDiQY7iRoqejvXaEumxj4i17GXGLy4E68XV9nERskgUOQon7rY3qS+0pX8DAvL0fj9pIXsPbcmDfV+2IdifFQRB0I1R+R5V1wk63Mm7eu+999ZwxBQ+tBUAX+Iw4YhOXOgdo4SXLQD4lbe1c/nevQ78R0CK333ePID3bEHA37YUNA43TnjririlIy8emML/HvqSn840xI2DfbLZ21wuvPDC+gyBtK2I2e7gHnHheOMJ/nZfX2CrAx8T0vKlLNjG0cB2ZatMxOEQt7HBWEKYG3vaVjHjSPPwyhMBqyxxvjyzMwiCUQf9d6S/nkrHRVyEoL1MBGbrzD6RlidDXUMIrbML53UnCLC9u87+Uk/bIxNhHM572h8B83YikEYeZt7IGwkhEvtVkRXi9wSssK65z8wYISJfL6ruPDyI4BrvBFK0rCYeHgXeVGnJo7iagA6CIBhe4BBETIDiveYh7QTxxXspDG8gEUa4OScssWcCb6JP5AlHHOJEogvvgnCWt3EtLsVt3cKPOMSh9qU2DsWzBJ/4eDrxNTvxNZubU4K3Fdf6jq87eb4TuJOttiNIA6+2NxXgfW8RwL+8mu2Jf/nuFLvdUCbyzXZ5B+kqO/k17rDL4bdXF7JBmvJmXPA6RHlpbwwwrtgqJt9gohCvahCMOYzwX6iODUA0PKKelDWLR6ydQISUu9e+IFHk5VzLP48xQUvkehoWsSG1IAiCbgzmL1THZhgyHMQsniQMCT/L+TywxLN9sSb2A4nMIAiCbuCV7r9QHS9cg82rS4T/6le/es8rYBz+itDDBgqGoOV2tpzFC6HQ2n5VpGu2z2MQBEEwPsK+ToLUFgfbomwpMJm3nG5ViscS52blKQiCkYHxwqM6WHhwwFI/76llf3upeAssa/m0FLTRRhvVpSHXgiAIujGue1RxpPexehaAILVcbhXKfloOAXtC7fkMRwZBMKwYbz2qgwVPqf2s9ivZLmDv6rHHHltJ2Z4p72ONSA2CYHyGvbUeyvLaKn9bfeqpp9bJvT2i9sq2vxwNgiAYGYhHtQuKw34rQrW9nsRDAEi4PcXa/ZBAEARBw/iwR9WDUPaiOnAkTuRdxZE+w5FBEAwP4lEdBBAszyrPqSdJLWXZc+XBgLYVIAiCYHwFDsSFOBE3eoLfmwh4Wr0dJRwZBMHIRIRqEARBEARB0JOIUA2CIAiCIAh6EhGqQRAEQRAEQU8iQjUIgiAIgiDoSfT51L//efYS/LywOQiCYNiw//7718//v737ALOkqvIAXsOYsygiCohgAEVBQFDSSBpyENgxjOuigCwqu+zuxy6ICiurLOsK7EeGHRSUzJAVGEBAgRXMOQcUc86B4PbvTp/mUrzX/br7dc/r6fP/vurXVXXDuefeOudf596qOvbYY8tvIpFIJHqDp/7322+/8j7meOq/I1FdtGhReZIzkUgkEuODF9+D94wmEolEYny46667mn333Xd0orpkyZJm//33z9eMJBKJxDhxzjnnlN+FCxeW30QikUj0BpT0jDPOaObPnz86UZ3NL/xPJBKJyWB5f+F/IpFITBXyhf+JRCKRSCQSiRmDJKqJRCKRSCQSiYFEEtVEIpFIJBKJxEAiiWoikUgkEolEYiCRRDWRSCQSiUQiMZBIoppIJBKJRCKRGEgkUU0kEolEIpFIDCSSqCYSiUQikUgkBhJJVBOJRCKRSCQSA4llQlR9DOvee+9tfv/73zd/+ctfyj78+c9/br73ve81N998c3PZZZc1l19+efORj3yk+dGPflTOJRKJRGJwwHbffffdze9+97vmnnvuKfu+LMOuf/3rX29uuumm5uKLLy72/OMf/3jz4x//uJxPJBKJXjFuohqGiGGqjVOcY6B+85vflHO1QQpiavvDH/5Qtrvuuqv5+c9/Xs7J6/9PfvKT5VvZJ598cnPqqac2l1xySfOd73ynpE8kEonlBW6+w452Im9sK7vnPDI4iCD3r371q+bOO+9sfvvb3xaZbWz5LbfcUj4je+KJJxZbfu211zbf/e53ZzRRJbu++PWvf9386U9/GvF9iURi6jDub/2H8UQg586d22y55ZbNKqus0jzsYQ8rJPTb3/52c+ONNzYrrrhis9tuuzWPetSjSrqf/vSnzUc/+tFykT/pSU9qVlpppeaqq65qnv/85zfz5s1rHvOYxzTXXXdduQtX1gtf+MJyzP/SPu5xjyv/JxKJxCCjl2/9s6Of/vSnm6985SvlRp2tfPzjH19sZYAt/fKXv1xI3yabbFK+fT1oEJS44447is3fZZddmuc+97mlPWw9+Z/whCc0G264YUnLnj/xiU8sWyffMhPgpgHZRrrXX3/90i98XCKR6A/cDE76W/9z5sxpHvKQh5TIqTtpBJTRBQT2m9/8ZvOZz3ym+epXv9r88pe/LEZLxS7wb3zjG4XMPvzhDy/k00W+1lprFQIqzS9+8YtSlmNrr71287znPa9Zc801iwFXZyKRSCwPEB9gE3/2s581P/nJT0ZsaA0RVzaUjf3jH/84fHSwwHavvvrqzWabbVYCFo94xCNKMMIUv/+f8YxnlGAEWy6dgMNMJanAn/FzP/jBD0pUld9KJBJTi3FbDEaGAUI0H/rQhxaDxDC5YF3ApukZVZu1pc5FFJZRdle98sorF/L5rGc9q3nKU55SSK/Igukj5Uknr7t10yuO+5+RSCQSidkI5JYNFGF10/+pT32q+cQnPlGCAsgsGyyNX3bz+9//fvPFL36xpJE27GhrEq2AvUaY2e+Y0ma7EWURROeClAk2sNOWbrHtfIHoh+ip6X/BCtFUdpys5GDjleV/+bvZcnVI961vfavIbOMbwpeQiy/xLIP20IP2k1G5NcimveRxXnpBFJFss4bkixsE9box0KbQ2Wc/+9mSL3SGmCpDlFteMpLN+U43GolEoj+Ye+QQhv8vuOaaa4pxWbhwYYmetuGYTRoRUEbFdI87a8bkYx/7WJn2f/KTn1zSu6MGBsAUkSn9pz71qcXQnXfeecWwMZKnnXZac+uttxZDwkg4JorKOJx99tnlThzBzen/RCIxyLAsCvbcc8/y2wmIERLEZvrfNLIp5DraiAz98Ic/LATMzJKbemTKtPr555/fnH766c0VV1xRymErpZEfaVKu5VtnnXVWWYKwZMmSYlPZ0ac97WkPsu2I32233dZ8+MMfLgGERz/60cU2I4o33HBDmT1zXPmWZ91+++3leYLHPvaxhSxecMEFhaiy3x6cUs7nPve5Qub4CrJ7mMrDVepXftuW0wMyyk8sXry4OeWUU5qrr766EFFtWm211cpsHLLoQVt1efDWA7cIMMKsngACiUjyH/IgnvyMJWfkUtbTn/708otIk1PfSU9n9CHqTWeixQiuB8MWLVpUyrOPBNOLNAI4iURicnBTeO6555YlojvuuGM5NuE5GEbhkY98ZLmTZ0gZNZs75Wc/+9kjZNTdr4tdGhFYBsoFzSgxDgymKaF99tmn2WabbZptt9222W+//Zrdd9+9LAFQHuOc0dREIjGbITAgEIAYimAedthhzVvf+tbyP+KEVLLBSBsSiZjutNNOJY1nD9jQz3/+84Vcsb01EC3Eka2OB4X8L/KoPmXaRyQRaAGKZz7zmWWGTLlhy9dbb71mr732arbaaquy7nbBggWFsCOQYfP9dorqIpaCFV/60peKfznkkEOaQw89tNl8881L24OQhk/wP2dmbSzfgQC3oT5kn14QeWUeeOCBJYBCR6bwkXARYOQfdt111+aII45o9t9//+KzkHJ6UL42yW/d7Ste8YqSBlHNdaqJxNRhwkTV3TOiyngxAggr48VwMQIMSBBUx6WxiN4deH0n7eEBx1/84heXCx7JtXbVuqaIyiYSicTyCORMxFD0UzRPJDG266+/vpC2mlSKnK666qrNRhtt1MyfP7/ZYYcdClFF/kQ62VvBAVP1/l9jjTXKw6rbbbdd84IXvKCrTRVAYJsRM0SVvWa/kVI2GrGMtbJBZAUYaoIm2ipCqR623LpUxNU+v1BHi9tAPhFGZFv01DMK2mfjG/iIL3zhC4V0BilWZvgLdVlO1gnqNcu3zjrrFEJr46O0AwG2Iaym9AVYrLcVydl6661LG+lT3SKv6nnpS19a+kAU/CUveUnRac70JRJThwkTVYYNUWVgGFsXuqkTF7ppEkaD8XROZJVRYMTywahEIpFYCkRQlPSkk05q3v3udzfHHHPMyHbmmWeWVzwhhSA4sMEGGxSiZbYJEUUm2WGEUVkinggVEodUIqwIJju9xRZblEinKXSEtIY8bLM6BBaUpWxAOgUeLDFgx5ULCJp8/QC5+QqRTX5i3XXXLW1SPlKJIGoHudSPfCKzlp3F7F79xoQAX4OkIrQiqva1kezaKzKLqKob2dRW+pEOOUZukVJEVds7RYITicTUYsJE1fR9bdiscXIXznAwDO7OnUdgTTVJY+qEQUkkEolEU2yi6fljjz22OeOMMwo5je0d73hHs8cee5SgACBJoommwL225U1velNZJnX00UeXNaEBRE9UUNRVlPW4445rDj744DK1bQq7vT4VED/EDEkTtUQYRTiD5CG+1nU6J+JpPyKw/YL2kQNJrIMZ6kBYnUNoI6Jqv1NbxgsBFVBPu0z+iq9D2nMJWiKxbDBhouru1bomd9oMmDVSDIhoKsPqnOhqPJ3pLtjDUElUE4lEYiniDSqig6KI9Sa6Z21nRArNWHnQyINSIoLeYW1N/8Ybb1ymqAHZQ7jYZQ+umppGWv0KJCCqnuyvlxME2GzEWeSQTTcTJpppQ0zVL+iAqJI5yGM/QX7EMcgj+F+dQRL7QU5rRHnqUb8toF7kOAhsv+tOJBJjY8JWxgXrjprBYtRMy8Q0C0PJsCGq7sBNPzEyjGe/pooSiURitgCJMkXtyXnEycM8++67b3PAAQeUiKyoZwAhZXPZWiTWA00+QsAmewBJ4EAZbQgwxJsFBBiUYY0rO+4ccmsdp1/H2Pt+ETdE0NS7ekQvtRVJ1G7T8kgywo7Y93s9KH9l0y4k3ZIK9dq31EBk2Y2BIEsQ806EOpFITA0mdTvM8ImSmtZnsJBWxxgwF3U8UCWayrhYCsAgJBKJRKJ3IEaIGxLJhiKhbC4SJ0KKWEY6UU+vYPL1JFP4ggRI3likko1mv6VVLsKLuMYyLr/eGoDIsfv9IqmgTZYe1G8wUI/2ap93m5JFvWTsJ7RN3ci711mpj675NWtTyWNtsDSIavSF9H4TicTUYlJE1d2tCKpF70iqaf8wiIye9aumkmzOI68xjZVIJBKJ3oAgIWkeiBJt9J7Bt7zlLc173/veQlLZYhFAET5rVD1tj2hal3r44Yc3Rx11VIkOipBaZtBpZottZsvZa2tVgxQikZYFeB0VOy66yLb3k6gqC2H0KipLHpBDMntNFMJNXg+RWeLQbx9Cdx602nvvvUtQ5aKLLiqv/rIOWDQVSbUUA1EnB59HB96zai2x13d5M0AikZgajPuF/zWcZ0AZSMbFFgbMxqC4mzdNxEAyMtLHlIm7UeufEFxRWBc7YyWdX2XEuiQPaTEO9SL7RCKRGDT08sJ/8DQ/EsiueYo/oqQBdtU+gsROSscuijQiVCJ6Zq0QUzbTeYTLMXlEI6WNejzBjnApy35dF9iPY8pAVqVlx9ltwQfBBkTXk/BssegiOZ1noyPqqG4RULbfMenIgQjzE+Rr23L72udX2xBydfMP8aorhJlP4DuUbZOnE6QLX0O/5Ik6yed/fin06jwZQ79IOp1Z66u9dKZtZAr/RSeiwNrjfCKRmBzYivYL/+cMHXzA+za8GNqCe+/1c1EmEolEondYDwq+bpRIJBKJ3uEmcOeddy43gGY1IJloIpFIJBKJRGIgkUQ1kUgkEolEIjGQSKKaSCQSiUQikRhIJFFNJBKJRCKRSAwkkqgmEolEIpFIJAYSSVQTiUQikUgkEgOJJKqJRCKRSCQSiYFEEtVEIpFIJBKJxEAiiWoikUgkEolEYiCRRDWRSCQSiUQiMZBIoppIJBKJRCKRGEh0/Nb/4sWLm/nz5zdz5swZPppIJBKJXnDzzTeX33nz5pXfRCKRSPQGlHTJkiXNXnvtNfKt/45E9cILL2w222yzJKqJRCIxTtxxxx3ld+ONNy6/iUQikegNKOmtt97aLFiwYHSi+rWvfa354Ac/2KywQq4MSCQSifHgNa95Tfn9wAc+UH4TiUQi0Rvuu+++Zuedd26e85znjBDVZKKJRCKRSCQSiYFEEtVEIpFIJBKJxEAiiWoikUgkEolEYiCRRDWRSCQSiUQiMZBIoppIJBKJRCKRGEgkUU0kEolEIpFIDCSSqCYSiUQikUgkBhJJVBOJRCKRSCQSA4kkqolEIpFIJBKJgcQyJao+inXvvfc299xzT/k/kUgkEveDXbz77rubX/ziF83Pf/7zYi9Hs5Vs6VhpesFU2WXl/eUvfylt0aZ+yJqYHOjfGBtPX0Sen/70p82vf/3r0qfdIJ3+/tWvftX86U9/Gj46fSDrWNeF49rwk5/8ZMz2DCK07ze/+U3zox/9qPnzn//ccz9OF3xt6ve//32R77vf/W7z4x//eFxyLlOiauBQLoOlIYOm3EQikViW4OQZ9SuuuKK57LLLirFnN9tgO9nQX/7yl8XRToYAyvfb3/622GX1K7dfQAA4q0suuaS56qqrSnv6WX5ifNDX+vhnP/tZ17HVCfpMnvPPP7/58Ic/3Nx1113DZx4M43fx4sXNDTfc0HzjG98YPjo90D5tMpZxjW7tc9y4fP/739/cfPPNzQ9+8IPhMzMDrnvfxz/99NObO++8c+CI9h/+8Ifms5/9bHPKKac0Rx55ZHPGGWc03/72t3seb3OHMh05/H/BNddcU+5+Fi5c2MyZM2f46IPxrW99q7nxxhub8847r/zabrrppuajH/1o8/Wvf7353e9+1zz2sY9tHvrQhzYrrPBgPkxA9XziE59ovvjFLzZPe9rTmoc97GHN3Llzh1MkEonEzAMSBnvuuWf5bUMkQeQG8fzgBz/YXHfddSM2tN7YRtGHRz7ykc1Xv/rVkm+99dZrHv7whz/IpoqoIJfIAGLwhCc8oeTrZHtHAwKCsNxxxx3NF77whWbFFVcs9bHj4wUbzxl95CMfKf+z7w95yEMKkea01PWCF7ygHB+vnKNBuZ/85CeLj9KWxz/+8QPnV0QWv//97xc5Eb6nPOUpRQej+dypAELzwx/+sPh9Y+hxj3tc86hHPWr4bHfQMeL3sY99rKRfZZVVmic/+cnDZx8IJPHTn/50GUPSSDtdQMKRONeY37guvvSlLzVf+cpXSpQXTzEuyak90jz1qU9tnvSkJw2XMvhw7Rvv7MT666/fPPGJTyxtGgTEWL/++uuLLXHNv+hFL2qe8YxnlLHTHvNuLs4999yi/x133LEcm7B1MLgNPuT0m9/8ZrkDccyGqH7uc59rPvOZz4zc3XeCwe7iiLv2iUYAEolEYqaArWPzOEakkhFnQ0VEbMgpe4rMcqTsZy+2McoNezpR1Ha517o7QV7+gPPXJqRxOkB+kTsBkO9973ulLYMGujVtjrAjF5PR82SgTnUjrPQ0mXEzqNA++o72abOo4+c///lyI/XHP/5xOGViKmBsuUmg61VXXbXZdtttm80226wQ0V5vUCd1G+sucOutt27e+c53Nqeeempz2mmnNSeeeGKzxx57lIFx6aWXlikBjNrgMEhiI6C7lp133rl57Wtf26y88srlzhraaW2dLuJ2uk5pRkPkr8uJMuKYQd4+B3Xe+L9TukA7TaTzW6NbukQisXxAREc04R//8R+b//mf/2lOPvnk5j/+4z+a3Xbbrdl1112b448/vtjTd7/73c0b3vCGYmdFR9iBtn0I2yBaxfC/+tWvbnbfffcyQxURlfHYFHZZBHKHHXYodvmZz3zmSIRtPOVAnK/z1enb59rnA+003dJBpPVb56vTx/FebHv7vN/6eJ0u0kC3dHGuPhb7cb5Gt3ORrz4eaeutfb6dRoRrzTXXbA488MBmq622alZaaaXh1GOXV6NT2rHQSZ5u5Qc6pYky6uP+t7kuRHCN5Z122qnwDBG8SB+/dV6Ic7G1z3dCO08v+ZyPrUb7uN8oM8ZtO08bkaedbqzjsbXPd0Kdp5tccdPLHj3mMY8p9qSXsmvMGcrwgByM59e+9rUyJTUa23Xn/6lPfapM3++zzz6FKYcxFSW45ZZbypSPJQSEFDXArKWXTvrnPe95hWWb+hDiNe0grfymvoTmRWRNP22xxRZl2sugUwcCLGpLjkgjnPzSl750xLB3g/zqkVf96lWXaYkNNtigedaznlX2Tb2561KWYxtvvHGpw8XtTn3JkiXFIYgUiIiQCfkWenfRP/rRjy51uZu47bbbSoRZ28jKODziEY8oHbvddtuVui2X+PKXv1zSfuc73ynn1Kfetddee4TIJxKJwcVrXvOa8vuBD3yg/I4FU/oiqNahshfsKYPO7rCZzl1++eUlAveSl7ykzGT5H+Fl79gsdlFkyBQuu/PiF7+42BllmxKMmS/7yMi8efOa5z//+SOOO8DmCCywQWyVdAiwss2Usemio5zSaqutVgIVbBNyGwg7T2ZLwdhYU5EbbbRRs8kmmzRrrbVWc+WVV5bpSrJrj+iyKVjtc4xdBdPL7Obtt99e5Nc2fuNlL3tZ8/SnP73oIKBtpnTVK4/yyU5H22yzTfOc5zynyKYsvkt5dPzCF76w6Iut1S6R2I9//OOlTWw6nYQNVia/IErMh9Cl49q7xhprFH2FfxAt5WPYdT5Ju8iiPx3XJ/pRu8mw9957Fz9jH8giMqyuZz/72UVv+gscFxXkW7bccssybvgs/SOKrV3k0W6+hu8gk6UG1mLSI52TnV7IYjzYjBv9jQdYAsLPaqs+0T/0ZHpcOe973/tKWXwoHfDz9pWjj7Rbey+++OKiK9O+9ECn5NdPdMGH1jrSb/VyDWPSDIPpYzdPxpJrxDFLVPhpN3nGJL3pN8f5WLzBkhhjkAzWoOp/eZGmTTfdtPAL51yz2qkN5NYe44Dc2kOu9jIYukfGjD36NT7skyXa015+ov1mS8jlnH7XLtei6861Rr/GOq7kmnMt6RNjcPXVVy9yK1+75KFHafbff//SH+TXd9qmfPXrV31K98aq8YTn6Tt6oTP/GwPGVXCuTtBnxpoxh7doj/LIFfn0g2UXrnftoT/8CN8zRsjeBt0IYBqXbuShfwuDKhjUNp0FLiYKdvG7aA0Cg0waDQkDarPPSLqIKFsnSRvLCRgug8fAZFBc1BTiQnShmkZBfEeDgUUZlEzBOscAUZ9z9pWjI0Q+kM8wUORznBzSkImx0bEMp0XDjsf6KO0gp2PK1h7luUgcZ3AMHumk+b//+79iTHW4TVsdZ2TInEgkZh84anaUE0ESOHUOhk1ia9hV9hQpZCvYFA7bDS8742Y+1gdyWGwxmyxfG+w2u8Mus2E25SJ4bBC7pH62jq1UjjzsG7Cl7LE00rLRbJ59NtZ58nFs2sR2IgnKVgeZ2Vvlax+7rm1sJ6dOBxwy5+x4QLl8CzvMIdqUq16EVn0ICpsbRNs5DhSpVB65lB9+gQzqlJ9fcRwh4ZMQGr9IBH9E7liPF1P6HLF0dG6frtQRfeE8OcmMNNVkRnvISRfykS98lz6O+vQtubQtIojK1V5ySMen8FnkdIwMZNeu8Fn0wAerU33aqc36UJnq5Z+MBTIF9GGML+1Ako1J+uMbY1wEjBUkihzq0f9tHfGHbZBLu+lXfcrlR/lg44Fv1i46MXadM3a13b465TEWyape/W+jC/oGbaa7kEu9xqA20WEbyneOvvQRHRir2unaw13IWyPqIq820Wn0rfrVpy7Xp/ElcEfn5DZujXvl0rH65atBB3RPl+qO82TCe1wDypaO3ujPceOB/K5ffaF8MnYq37jyIJ2+co2QS351uvlUrz6Na4COjSX/swnGSa+Y8MNUlEuBlKFhFEAwQhNUIwx6d6ouBGl1gDtwTN1dngGgg3XAhhtuWMrQ2e4y3Clsv/32ZT0DskixBo8BEMZCB5FTmRQQyg8j0k1+A0Ldyom7T9MC7poZOndFynY3IzriDlIb3P0xKjpF57nQlOWu1HTb5ptvXvK54LWFTC4Wdzo6WpR1r732KuXRn0HNsLj7oEflG6Dz588v04DuGg0iOlWeO67xdG4ikZh+jPUwVRtsERvIMYCIA0eBiMY5Non9E9lhH0Qm2SI39YgrWyOSh6yIIonAIT5BSNlNNkp0hWNma9hJBCQieMCesWHsEHu+7rrrlmMcLpLCHouGqJ/tYj9BtI9TYnP9qtsxxJT87KsIjsgO8iCqw4ayfew8P0EODlNbkAT+Q3SUDthWEUftYuNFAPkQ6bQX1EsnypSXDxABVL42s8XaQLdsfW2L+Sd5ySsdEkD/okP8C/3RI59Bbn7HTJioJRuNBMn/3Oc+t+iKgyePKWft5qyD6LDj6lcm0DE/Q0ayBehS2+MGJAI3julXepVXv+svfseyO+0VrZKPvM7LZ/wYR/IbQ9pGfr4NsUA0bPpO//A79l/xileUqCASgjBppzHHFxlHdC3Ct2DBgqJvbSULQql/5CMf36qNzhunSDMd/d3f/V3hBLWOYkyHD/fLh+oDOnKeHHStHHWJwMUND/mNJ3KRQfuU79qyPlLfKsO4owscgz759GiP65eOjHNjRLnkV14N40F/uxZcT2ZE5KMf8tI3WW2BaBe/TleuiXXWWaekRaq1Cf8gM97kuqCjXXbZpYwnejNmjVVjgMx04Bgu5TweJ3KqHHI55to2tvEN+bSN3bn66qsLj6ELm/R0q27XrGtM/oCy9f21115b2somsA3Gi752TeCFyqFb16I6Rb3ZIfo1LjuBvenbw1RASUjlYYcdVsLN++67b3PAAQc055xzTlG4jg6BXGQGscHkrsAxg6UGw6jDDGjKMVApSIMZCwqRR0e6mBgvA0d6d0k6SBnkcpFq8FigDMbbBYuA2meAEEXG2GAjO4XbDGYXdoDjYBRcFC5IBkE6MrjgDEKD3KBQh/bYdJ50ZDRYDTKGQTu1XXkcCaMrvQHoLoZeE4nE7AIbhJhxrJwX+8A+sn+cXm2TAo5z6mwMOyTyxdlwSNa+mspsO91OkIfdZac4G3aNzUVekD32k8ML59sLkAREVkCC3dW+aA+QlczIAecXhAwR4Q+kj4hTLyAbexvrgNlt5albeXSqbRw5sOV0zV9Jo/2cPl3yC2Tlg8iBYOgP55AWjlp59MPX0RVHbXqf41dPr/5JuXwFIhKRS79IJ9CNsvksBIlO1Ucu/wOZ9B1oK39Fn+GH637zv/7ma+mKP1IWX6RvkGw6qvWuHm2jM76KTPb5M+0le0B/Gqt0ZOzFNH83HQXIFP6V3twYaJc6jCWEhm4Ef5SPSJG5Joe9ws0GQqvd+ti40Qd03uk6I5dxjIAha+HjjRH5yNUpn2sGP8IxtEM6dehf6elbf5Hl4IMPLuPOuHJNK5fOpOt1LHVCjCltMC7oN/iJ+o374FM16BkX0vfGP/4V+eyTUzARn+sHJkVUXUSEevnLX9787d/+bbkzcgfpzlf0UIdTpsbqDOk1xv+OtWHw2wzKOp2LSYdSguMGPiVcdNFFzTHHHNMcddRR5QEED29FmL2t2G4IIqrz1WtTHzKsvHe9613lYTFrV9w1UXw9KOLilI+syjEAGQak0iY9YyctQ1CnA+fjjsidjQfSPFyhbvWa/nLhMRATHZCJRGLmIuwSx8lm2Wc//A+d7AI7wwZzovKJQp555pnN2WefXW582abIPxrkRW6RFo7UejMPzoociyKpxzYeolq3x//RnrCJ7DciYmbuQx/6UHPccccVO8/ei7bEbFgnAtAJQcDYXdEqZbCvtvAbbHboUXsQHTZbPscFCvyP/ChHGvth/6WhUzKZjr7gggtK+eQ+4YQTit5iBjGI41igI4SO/6ATbUbg1ec4QkBG50Rd9a2H8Gz+R65rv0FuOpdH33fqM8ekUxfdv+c97ynt8O5LEVnkpg6YRD/GGKAPvr72fzVCR6KXdHT00Uc/SEduQur+AGMDkVKHiB09GCP0gHgrE6kKood70Nt4Qf7od22iJ/ogN6LdhjR0QB5raP/7v/+76Ot///d/y4yH/u6WD8nWh+qSn871lzbZtAFcd54bwnPwEdefqLQxqey2jnsFHSPJuI3x8l//9V+lfG3QFn3hfJtPkVG9rhEy6pvQgzbRoRsO6fqBSRFVBI8BEzlFUIOoumONRb46INDpoqih4Z06VD4XAqVQiH2EEat3ITJmOplS3JW566a0XqCs2HS2jkdS3fEJiSvbpi51dpJvNMRAt3WTSb028utcF6E6OROD3MXmLrXWZSKRSIwGNk1ERvRQZJCN4QhNRyIcbCdHPxY4aUECU6aiRG6qzRIhi0ifcjoRkskibCJHGXaeTSQzexjRpV7AbiM/7Dq5EdOw7aJ3nQgv/dWwzwaHD+oGcvMVfFLIzX8gBeRGQEbLX0N9/B6/RseIgw05cAwhUBeSivhZ/uZ/etLX+qrdL2PJrh756Ym+lKcNAim9kmx1dKpH+bEJStFR9EOtIzcD7TL4T9FN+pdPW/WrMSmQBfpSOdLSG94w1TBGXQ/4An1Fe0R9EUz67AQy6j98BbHXr3SNFJp9xa/oQz9auqD8dl+0+3a8kF8dxj95Y7xqD9no1ljrxj2if9r9BNoxWfkCkyKq/QaFxB1EDY01GFx0BialMJpve9vbypcYRAls7mDe8Y53lGmQiF6OBwYUouiLKYyhqQ9fUlCu5Q3Whoxn4KtfB9sMhm4kVzqdyxkI8btrijbZ3B2b1mHgeomAJBKJBHtjQ+hMSbItbKZgAqco6scJjuVM2EX2yVSx6c1DDz20eetb31rWnbqpt+6To+tm3yYCNhEJNR1pWZnXdS1atGjEJoooCZCwmb2A/eWEfSGJjzEDGGUedNBB5XmAbgg7Th7/dyJ/gUhrWcURRxxRfEfIzFd5JMS5Xv2TNIiZKXf6dWMg+oXEaLtjQVIReks6RJ9POumk5u1vf3sJJPVK5kF5fJ+HZBAXsoqyiaaKtJliR6xGgzKQFL9tPWmPsURHZl3pqO7X0BFfS0c15DEG+WA3Hcgb3SC2scSCDpBswR3kbzxtnwi0zwwufSHIxpEItPEpSmxpDDm6gS5Mm7tG9asN17GuFFFEyPW5Ncn6Qh/oCzML3uggzWSgfv1p/SvuVPMp2+GHH16WHLTbIB+QlX3Q10AfbIGAH9ki3WQxUETV4HIX5A4Rq4/1LS4YX3FBIN1FGJjSeG2HOyhp4m5ZONzdwFjGtxMom0FTHkJI0S4sd0UGP5naIfDRIAzuArLWw8JjzkHZOjHueJWvLoNV+y2aZnh0NlnUyQi5u7WfSCQSY4H9Y6uQSFP0lg+xY+wNhx9perGTplI9EMpBiuqwTcqx9QJ1sHnjsZ1sLwcqrxkmtl1+9pPt9GyE39EiwuxlTI0GeZIfebFFYIKN5WO6IWx0EEPTuQgEPfA7bDO/xCkjV9bt0RlygThx5nQvnUi2ukLvzoWz7wb9JZJIDr6N34gpVtAu5Tlm87/69ZXf8ehdXrLIo74gG9oniicSzffWcLPCv4mQ0jcZ3QSJisY62EAnHcWytm46CpBHWUi6/kDqlBdLMcweIIvGuiUCyNVoY1Q7jR992q6rV8gnv3EVbSObsUFfor5j6V8Aiu83nuWR3thXjjFsi741FshM58agejtBWiQeP7LpPzo21tVD12QPzqXvXGPGFr2QX5/qC2nb3AOnkY8c+ozeyUJ+5ehb642l6QcGiqhqFBJqXRUFWK954YUXlveVWntC8e6a3CWa9mAkvKVAGk+HGvTubiY66Aw05XuyVEcxztYyWdulcw1IHTaaUalhUCGgsX6GgSMrwm36zeAA9bqwTM/J40Lz3jnfUfaOMp0/0TYlEonZBw6aXeHAOTa20c0+0uoGXwSHDeWoRnPmwGEqC0FhE0UllSXSw8maplRPuxy2DFlAVpAKT2IjOr3YT+XJJ6KqbrbTekZ20c0858sWd5LdMXk5Zs4WWedIY6kaX+LpdWUp17kgZ2x8JyhTVBNh5PQ97UyX1vEFYZYGQRANY/cRMGsuye1XEIUO2XK6IY9fkV7lIWediIdykVIbfdr0G1/lnD5A1rSXP7TmNnTkmDZpXy8+hK75WaTc/3yRZ0G8C5PPUkbbB6qD7KKKdMpfIuieX0EetTFAXuS3Fx11grGovYicdtEhXTiubxBF/ahe+ukG41/7EGrXgz5Q3nj9bPS5Bx1BUMln5fWnGwW6oa/RysZ7tKnuW1tcP9qqnfpC31o3jHCGnjr1raizfHiF53mMVVtE3skNdGTZBI7ihhDXIr96PPWPY9FTpA/Qn+veg9/IOE6Dr2i3a8E5OmlHxSeKCb+eykWgEaCRlK1BncAQuLhdaAYQ5VOsBrkroGjrqBzXIRTMsDEiDCx2bs2rEDTjyggZ7Op3Zx0vsDVgPCWP7Rus7pYRV+nqTQdrGwJoALkoXejKZCANEkRZ/YycgRaG04CKi89gYbys4yA3kFUdykU8XTw6lSymKpSnXmUyCDrSU33aFRePuxiGhpGlJ3W46A2+0fokkUgse3AI0OvrqdgKkSh2gQ1CztgGtoBtZCcRATaIrXUOHDf7wv7Y2GBOgy0SsfLL5rIZbA97xlGJkHhDilczxcMpAfaGbeK02FDEjj1mm9k8thZZZZ+lY5PjeYS2bSK/8jhrZEC92sfWidxwkuyadoEbd+1xno3VJmSG72ATESHRGvriLzhDcrXrtW8T2dNe9l6ZHDI775j3tfoFfoNtZ/cFSgQV+EDl8yWx3It+ESLyIGNIDv/luGPqoFcyKxMh4PgRDH2rHLY+zutHejbThtToM/7FuRraot6I2slPb2R2Tv3OaS9/KMKlDdrruF+bfuCf6F2/6k+6pB8yRDp6kAah9+EeutI+8kaUlAzS6a8gVUimMaafBXtM3/N/IZuxqE8diygoPdc6Um/oKMZFG8ad68L4pG99FtyDnPQXr8kil/r5c3XqU3XQG59sXNIV2ZzHI8hncwz4c22iK75Y+wPRN+rSl/iKcYp3kF876C14gvRtRD+wAdIbBziJtK4X5dOTa4+e1COdfMY/eyEtGSOS6ZrFLcigX/AONxrSk4e8bInxpj3a6yZSX7u+9atjxknot5Zducoih/FGj/Jqt/6zNNM1THbjTr+QG7Flc8KGdQKb0X491YS/TMVIUqwBY6ASqFMngIFgsFCsi1XaMIjOGXAGhfOO2zc41KF8jaIUeaOBGi8vBShHXp0qnQGvY9z5uwjboFyv0jIYyK5ciq8Nq3KVr2wdrnztU3/cJegU/6s35NLO0AsD4rj2kCPaqizRCINB+d5TZxDLI6+6lUMWZSuHjPIlEonBxni/TBW2MGZYEMxwDPU5/7NXYZcdD4fIObOrnBU7wRnb5wDZEvbUr302yXmbvG1IwwaxVWSJcthjcoRtCmfFBob9a0MZ8qmfXOyY9MrRPu0JvyGt9mgLu6d8NpHtjHqldT7q7WYTaxsecsrnOFnYWW1QhjLpVBvIRw75nAu9gvRkII/NvnThb/gTb7whe5RBBm0gp/LIQR510mn4Of8jDfJ287vhc6HuO3JE36gTnFOf9ipTu8ghXa13eaUJX2bTXsdC78aZ8uhHHueV6Vc+x4Bu5It+1lZ55KcHx6NvI/1oOuqmB7qlB3mNT+WRIa4TMuAT5HNc2a6LGPeOK0P76F9dfKzf9vgD5alP+fI7X4MOo25lapc08muT8/JpWzeQR36Ql/5AXudiLIeenDdmtE9fQuhE27U1rll5tUHakMH/dCcdRB/J73+6D97RTW7lK1c+9ZCNbvWffKE/xyOd47ZufQvKbX+ZasJEdZDhTtadUSxMboMivSMPOaS0qYS7UpFXunSH4S7BgLJUQaSZcfOggzucRCIx8zFeopqYGUBI2WxOWTSKA3fM9D8iZDrby/YRCUQgkUiMH7OGqA4SEGZT+MgzMuruxx2XqSyE2cuyrcmdasKcSCSmB0lUl0+YGrXez5pUTlTky/QxW86GW0ph2jVJaiIxcXQiqslEpxiittZsCKlzXP/8z/9cXgOBrDJs1lqNNiWQSCQSiWUPs1/WcJoR88rAQw45pHnve99bAg7WSlrPlyQ1keg/MqI6xXB3gJRadO8BNGtYTA1ZpG8TZU3jlkgsP8iI6vIJttw6O3bcEgBrB0VVLefy3IM1fekzE4nJISOqywAMl4ipp/423njj8pJjL9d1923xfJLURCKRGHyw5ZZueXLZU81ewO5b9RxqPACXSCT6j7yyEolEYgZApMHDoR7mMUsjoud1NPE08GwFvdABnUyFHkw6Rh2m/VuTkNMG9Xoi24Nb8XQ2kC222Y7QUTz9v6x0YiwaKzZRePI41g0xxsbbj9LGE/XxJorlEUlUE4lEYgaAs7Msy6uQvE/Uewl9otM7lz2sORvBMXvFkPeaeuWfh5v6DeRXHd4p6p2UyMeyIEDk8JaBs846q3wIJr7ehKR4rZIbmOWVqPQKOvKmHe+D925a5G26YWyo21jxoN0VV1xR3hXrBfrdQG7Xt5sQ/dgrpGUTvLvZRyyQ1uVxDCRRTSQSiWUADgXZQLJOPvnk5thjjy3fCPflGYRExDTA4XrNnReqg7eExNp3JCWia8s7OHQvj/cMhReNa7t3QVrv77g3rHD2o+mD3pFNhEZ6pMaL8r1UvdY5BPHRR4hEvD90WSzZIrc+tz5Wu5ESmw8XeNG8txLMlnEQQNK9htLrHuPzn9YNW1ZHH3Qz3hsLa5C9vN5NoO/2n3DCCeWLWz4aMBbxRRyNw/iMqHXLxmPMfHSDdsRXsny0o1d5tVedbtDUY4wkUU0kEonEpMGZcE4iLxGp41Tj6z5IGOIUjocT9oEQx5Cy+us4swkcM12IHnHodIg8+hISPXkdoOOjkQIOHekXgRXluvnmm8vXeJCJNlFFTkWu9Y2n+z00hRgPwrMF2ovQkFHEV5sdm01AHBFSNxoIpvbrJ8+A0ItzxgtCPxaMLXlck74AhTjafNXNjQDy6sayPUYC+sLMhpsfNxJe8u+tP25sxkLUPVv7cSwkUU0kEolpBqeGeCJLnNPBBx9cojdvfOMby5tAEFZkVTpRMu/v5CQ9iOkThPlKu/vhLSoeZooHVBFPhKFTVMoxejUVK5KKwDjWjXzQuQiZh6h8fhPxGBQgy8bB/Pnzmz322KN8zja+BjSbQQduKLxOzNhwLSGBY8FYcKPjpgXRPOigg5rjjz++Oeyww8rrx5BhxNXNUSeIdpsJsSzDw9M+AEGWXm5qvDliu+22K18289A1uRP3I19PlUgkEn1EL6+nQowQJSRIBMjrWJAtBMtUJmfJ0XFeokbXXnttmeLbbbfdSjSV2RYVPOOMMwpB8eEQ3+bmRJFaESBEWPTPuz85P0+rc5oRIVS+74RLY1rT995FFb2ZBOHj3JE6EUiOf7311nuQ09UOzt1aPPWSVd6NNtqovCNa9BdEu0SabOpHxn2v3jfZfSNfVBQhJ79vmiMEdGOJAxnVzZn7jjoiKupFD95Fre2evkf4Rb+uu+665pWvfGUpX1SrBr3RsY2siIT08r7qVa8qsqhTOvKY8qcb31/3PmznROiQESSRj3SzgeS4gfDCf5+wNPUbuiP/BhtsUM7RNWKsfm1Eokzlm66mM3UgWMo1nSviayxIr73ql8939LVZWmuWkSQkWpvJY7lC6Ni4ChJFLm321gJRQxF67UTMfMhAOjowpsgpImk8ktv4caNknJGjE7SXzKKP6tOuNddcs+RTrv5Qh/4zZnAN4xqx08cIoTSImv4xBrSPHMajrzv6qqT+0A9uOOhQe5WBtG+99dalLuPZOFeXz5TTlXZ0g7EnvXHsxmTXXXct8sd14Hr2pgfjrdMNC3n0jTGjPjdOoqOWDRgfxrh+NZ5cR+TVj2R1PsaLfbowBrWLPMYb+fSpdvifDow58qlTVNYbKPS/5Q5k3HTTTctsg2typsC4y9dTJRKJxDJEkCDkzbQgx8M5+x8BQAoZa84m1lJy7ogRh9PJ2UovDSeFWCAgnKy0yCeyg7giJAiANEgAkkAeZBNxsUZOXo6TM1SedbDkaEM+pBP5QQqAMyYHh20KnuycL/KJMChHWyMvuTh4xzlc+Thy/wfJRMgRb2SNo6cj7aIPW0QRrQdE+ulWm5XRBoKA8HLeiDTiI187gkU+utFHyIY+Uq+yyRHtoSNyKhfRQ6SRHcSXLvQBvSMhdIHYKxP5QNqVLY36HFMmgqpu+/Svz7SRjHRrX/+AflevOpRvX3/RoWhwpENi9IM+oU/tkM84IJt98konjZsB5+SPdusvBFT71VMjxl+URy/aFYTb8hbyGFtk1Z/2jXn60yZklE70m/GAwBsffpWjr7WBjuiGzshsMx6U43960h+uFcfUbzx0GsM1yGJsuKEwNrRbWeqmf+3x220qX9vI5+bMzUGMS3BOv9CvcvQvPWuHc2RD7PVb9KM0ri03X65ZbdQu5z1AKS8904P2GVcxVhxTH5Lv+uo2YzBTkEQ1kUgkphGcCMfBIXM8ojecYcAxaWyIAocT6TjiOm0AkeCkRF44JhEzU5b/9E//VCJvCA/HhkBx4MpAkuyTRR5EBAnh9JwjHzLLeYuikSFANk4XsRQVk2b//fdvDj300BJN4mQRIgRWudaUcr577rlnc9RRRzVveMMbSqSXvJwzB29DaKTbZpttmn//939v3vSmN5V0nLrjO+ywQ4lYi1CKgIqcaiu9IACIKpJAF5z4RKFt8iMI6tW+IB7arn2Ikwjgv/7rvzb/8A//UCJoooRIv4iY5RyHH354s9pqq5U+pA+ERHvdFGjvLrvsUvLTh3KdQ9j0g7L8Rpp99tmnkCiy2foB4wsZ23777cts6n777VeWOKgbIRKdNI7U7TiCFB87qBHjDzEyfpT3lre8pUyfi3ojuIixDfESdaUvOjryyCNLf5Pl+uuvL4SL7o09hFlE9oADDmiOOOKI0v/6A9kVLV64cGEZb/T95je/udl9991LRNL4RjQRVXolmz4bDfozovxmG0BdrhEyKc/Ykq4NdQRR1N/qra9TOgHy+zrlq1/96kJokXpjQ/4a6kWwXV+uTUsCjIHXv/71I+tv6xsx44T+fMqXHg488MASoadrBNhNxExGEtVEIpGYRnBKHJENOhHPAEIg8oRMjPYVOwSIQ0MYRAkRGg6VYzVFaOqVs5SGw0VWpeUMOVeObKWVVioOWjpRHo4dYY1IZQ2yO688sllaQD5lm440bUoG0SfkxLQ1J0oWkSHTkvZN7ymDk1cOsskB2/dLTssfXve615Wp0k4kIUCPyCQZtGesCNpoCIISETDlRj9FX4iyIiWOm+6nd9Pj6667bomKy0d32k5u5WmT/kTELLGQXxpEWD76QlaRQXXLi5ggPvoACUMY5ekHkCXkjJ6Rfe2yVEG/aJ8xob+0z2bM2GLsBug7CJe+FbGO8kQnFyxYUG44jC2EHYlSjzKVbyzQhfGm740telaePIiYsW9MWf5iarhNBtuQnz6V7zpqk+uxoG43Ksgioo1w07121ZCOTtx4kJ/O6mgqGBdurujGWKB3x7TTmJC/BlldN8rWD9Lqc9ezfTeO2h+gW+PHWInr23gkKwI7mWthEJBENZFIJKYZnG6QTs6oGxACTkZaDrcbIh3HHZGfcNQcHPLoPKfIiSIFnKPoH4IhH8eGYIikBZlSp/zKrIFERURWOaK96lIOB4qQcp7IFWccpFk52oLE2efUyaQs+6K/5FD/+eef35x99tkl+qg+cmtTNyhXGk4awVDuRKFPkAW/2tQmRPSCBNjUq+3+13b6CmJL3pCbnrSDbMiaNcrWGB933HHNSSedVNbKmup1k0AfoEzlyW+jN8dG08N4oB1kjr7zq8/0kz5zPtrnf/qIrQYyRG5t1F5lklGemE5HuuXTNn2kv5WrfHXayOC8Y8asNacgkrto0aLy7IxIKx1IK103qD/6hM6Nw16hn4wfEWKE0Y0HImi8tscCuP7oQPv1UTtNjP8YC34dU4+trc/Qk7SuLbqhq2iTOvwfiHGireqm95BDWeqYyUiimkgkEtMIzpWT4UhANKp2VJxevd92Yp0gjU3Zbecdjku5HCmHJypjH2Eyrc7ROYZcigwhA6JYImKcJMdaQ12cn/KUU0N9HCYHyxmPJhdZEEJlcbSiViJ8/rdswJpF6xmtfRT5Vd9oCBIg3Vhpe0E32dvoJU1AmUhQrD/UPr+i22Sn86iXjqYT42lHDfIiaiF3wP/ahJgiv/pbGu1qp4vNWNCPoobbbrttiSK7aTIG3LQYE8ZG3Eh0g7KUY+yPZzwYz8aatbDqJKtoqGvDuO6GkKVu12SgHPqyhW5mK5KoJhKJxDSC4+M8ETkwtRlkzy8HHPvhbGEsp6xcTt5Wp1UexwtIA4Isaqlc60c5fmTU1LqoF4fuuEhrREXbhElexIPjDsIdUHdMNypL3iAKIVekEZHliJXnGNktP7D+1BpV6xxNt3rIy9pNhGU0IP0IH6JL7skgyAG5Qu5+gL608e1vf3uJpJ555pkjm/Wa1lnSqzFQ62yQYTwjo35DX7HpU9FBbQHjQd87HnBO34l6Oh+kjB6sX7WW9V3velfzN3/zN6Us0eexblycU54xZiyMRjJruF4Q4csuu6xco/E2hvY4rxHXn1/9Ntk+U07UF/ZgsmXOZCRRTSQSiWkGYoYscs4edEKuOFVRTFEcThVpRLhEljh1jrmbs+LUTE9ylqbNlaE8kTtTl56eFqkznYpMRJQUmfSwhYgqoqE+v0iqtZLSi4q2oR7H1UmmeNJde5S3ePHiMl2LhCvDtDCiKYLL8WonMiBqpQxttS7TpyDjCXEyRRQO6Wg7a3UpK+A8AmSaV17bRKF/6MivMm3KnwyCfGir/rX2kX60T5/oJzo3FvSBuv1Pb8iZvtQvot3a2A2mmNXlITdjRh+LknuYTn1TAWPJ+kv1ktmSEjpTv7FhiYP69YmbHzdHIsrGDL16OCr63PpN/eyBK1+HMpaVRWf055x+j7Egv31bTX7r4+QjmxsdelZvnRaUpx7rUfWNGyQk1Q1cRDU7wXHnrbc1XrVfnZOBvo/rni6NC/1v0//GgTExW5BENZFIJKYZiJ6pdqSFM/e0s2+CezpeNDOm4Tk+DosTRTY4wE6EKaZXPUyB9Hh90pVXXlk+x2pameOL9y76H8kULUJqgrgiAoiC+hxTFxLZifCRXxprWq3bQzq14aqrrirvdAyionzrYTl95MC5Sy+9tKzPlAe58VS3dYygbZyyp71FtOLTpqZ/pSE3najTkgXv0JSerBFBQ+IQ7l4jaJ2gfWTXdjKRfbToXS9AaOhM33o4Rrt8hcznP/W9J+0REOncVCBI+tVNhr6kO6SVPN1IE9ApXSFMXpdlXWf9GrCpQIw/Y4zutEub9LM+0i9kNp7i3b2IK9mMBxFzsnl6n/z6OPQu/9VXX130hOAiherRNzEejGllIJhxQ2f8uZkBY0H91l+7NpDidn/adwNlKYabLONT3ca1Gy+bmyhEtw1tpnPXkbK1N4j0RKCNxribWf+7Hlxbrod4LVWbaC/PSKKaSCQS0wyODYHzgAbHzAmfcsopxRlxqBw2AldHqjhtJIyDss85I2SiTBy//72QHAkSrTr11FPLdDLH5qn/eAG/vNIr19PdnrjmZNVVEynkEpF2vBO0gfymscl00UUXNaeddlpx7NqmPuUjvl7Lg3whW8cee2xz4YUXFkLh1UvIrmgUx+zhGfVxzL7U9b73va8QuohsIddkUqdX+yD2yESQElEmv8pDGkYDPdgQniA79kHbkBv10Ylor3JDd6H3SA/kdtyv/AHpECrH44bBWxKQb8Tn5JNPLn0vAqpsZA5J9tJ9fWBdpogkQucmRv6IuEIQtugnNyP6j/zIvrw+GOF8kO9od+SLdkT75K3bpz3S0anzdbshxuLmm29e2oU0atM555xTiN1OO+1UxpmxZWx7aM7T/WeddVZ5mEwbjUHjxK/+0wbT/iKI73//+8tXoowf54xnbdE/xrFxjRQbN/EeUtFHhFEbjT1tEO33SjR6bBM9Nzvyqk8U1/ICfXPMMcc0//mf/1k2Y9y5TjB+yaZsdStfneq30Vsg9EnPfumvHifOa5vXn1mzjTi7ll03bszoP9Ip1/iNfoXoR/0V6WYy8stUiUQi0Uf08mWqAGKFgCJtIjqcC4fPsXJcgCAhGpwogoOocHDIGWcvvU1eZYi2iL5GFIvz40DlqZ0l0qt+edTH0XEHIltk4uw535rAtSG9MsivXnnUEdFabZCGrNIoV/ntdqpDOmSB7JHOcXIrj9Plk6RBBBBY59WjHFFcyyhE1axlpCfRqG5QH3lNhysT+SNX+D3nkBLLE8jjwZ5YriEP+ckUspNJOsdqYhKRcIRBnmiDtHSinfQrn3ZqrzLpTJnqUqf80UfSRH86T1Z6VIbz+t5x+e3LG1FK6ehL3ciU/ZDLvrz6Ul3kcdwYMV6UaUxoX+iphnbV4y/6j26VZ18dylJ/EDqyqcsmDX2o09hSVoxTZejvGFvgXLRV+xFd50SoRaDpzntdtd1NG9KHOCOB0UfgvL5wnWlDJyjftWRrQx7jRSTZDZibKenJpj1kp2egp9CzNM7RiePRRiC7NMpwTl8aN96I4U0K3nOrP+Q11vWrfom2sA8xpuq2DjLI3v4yVRLVRCKR6CPGQ1R7ARONfMWaQ1GmWGuauJ9geJWQaVfRNSQEYelGsHsFRy86jdzQu6hgJ5KSGBzEzZroKvIq6u+mxdgQhXfMS/3NWPST46hX9FjEFvFGtNQdxHs8MKYRWctbtAXpRXJd/9buWgriU7JunvoxzgcJnYhqMtFEIpEYYHBCpkxF80R7rGPkvBJLIfJo/aU1mSJplgmIIvXDeYtQmcpWHt3Hi/gTgwk3dQieh7NEWvUfwiMCDCKL8U7XfgfiYl2p8aduxFj0E/GaCIxrDx+KDFtnbrPMRVTYeFSX9ixPJLUbkqgmEonEgINj4nDnzZtXonzWwSWWEhMRMg5cJDW+kNWvaDPy4Qbh5S9/eSEO9C56O1HykZhaiGqaJvfQlfW9xgOSqh+teXX9iE66nqYCop6uU+uuRVLjLRfjBRJNRutTRfCtNz/kkEPK+m7LGaxFt9bXMoHZgJz6TyQSiT6i31P/AURJJFXESCQFIZvt4L4iooqQWO9n2rWfQEqRDdFUBHisdbuJZYeYMhfNdH1Y62l97nTCmLR+2phRN6JpvEwEbsLcmFp/LUpr/GkXEr4s2jYd6DT1n0Q1kUgk+oipIqqJRCKxvKMTUU0mmkgkErMU4hSmS0V/pmrtZUQ946nlQQOZyObJaboYTUbnONLxtkO5In3qkX+mgczaoB9novyJmY0kqolEIjFLgZyZQfOSc+9n7DeRRH4tV/AktFdHebik33VMFp6k9sCK93R6wt8rgTqB3KZfPbQlTa+EDTn12iLvhFWPl8rPNFj2oP+8WcEa0EHrw8TyjSSqiUQiMUtgLaeXsSNOCJOHTKzrjE+aevhD1Gw0ICpIi3c5esG/F5FbKhZPWgeQGaTOJzT9Iq2D+EotRNK7OrUfqe5GQD1EhdT7oIGHqkRIewE9IOheXYQUj6XfZQ3yegUSUh1f/YqHdvSxY/ozkZguJFFNJBKJWQJEVVTMe1k98OF1Tp5q9wAS8uG4Bzg6kTUEBllDVpBd7xb1iU6biKnX53h1ViwhEHVE6BxXvvc9euBppj6EhLDRmQdbEE/7yyP0vRsZX4vyHk/E2gNBXunkoSBPnbuhGWuZRCLRLyRRTSQSiVkKpNFDs76/7ilipDI+F9oGYuJpat9K95nJfffdt3zm9PDDDy8vULd8QKQVmUVgvHcUURVF9GAEQjyTn5QXed5iiy2aN7/5zeXzsPH1oNkA/eZGwydS9SuyOpl3hCYS40E+9Z9IJBJ9RK9P/TO98V3xiGSKXHnP44te9KLyGiQEwXEEUjrpESbvafTicl/X8YoahMFUtPdHSmeaWfRr7bXXLl/Hkc63y2+99dbydR6RTe9h3GyzzQr5EAUVQRMlRToRV9+cryGyZtrXJ0Wl96Um74003S/KaikAAudrOaJv6nLcdL+0lhn41jr54tv9ZESKo20bbLBBabe2IENk8noeZZBp/fXXL4QXafadfLqhI9P22og8IlJe32NbZZVViuwig8pXl7rJF1C+ae4LLrigfJKS31OeOhBsela39lvDSn/ez6ls8otE33777UVeSwe0S6RaFJms5KAzPlVZ+l0e0efVVlutHNNufdL2udKq10ve3QSQSxv0P13LG8sp4qtFxpKyyRbySy+dstxsGCfaQn/e12m8SWPNsqUNbjoQUXryXX5jhH7l97158GUk5c+Wd3kmpgdsWT71n0gkEssYjDFChSwgafE9cwQG2RAscB75iK/RIBhICjKEMCJxpvJFMBEOREm6WD8pnfKRXGUpH/lCMv3G/4BYeT+jqBkyac1qK4ZRSBSS7DOiCCNSiAxJZ0OYgzSZFicvORAcpE0a5SJBiDR5HCMnIqnd2iKNtlhegHBpm3Wx8RlZbVE+wqisWMagPOTK1Dydagc9ayPC7Ji8yFYbdIGkiSbrA3IrEzmkPzKSjW7VGWn8khMRRXil0ZfyIdLqJVfUQSfSqctx+aQlaye5pKEr63xNt9OFOrRR+42D0JmyEG51KN8Weo0Xz2ufdMYJnUpDJ0G0HZOOzupxQo/6Xz/6sIJ+62U9cyLRD8w9cgjD/xdcc8015QJduHDhjJ6mSSQSiWWBSy65pPzuueee5bcTOH9EE3lCAl73utc1O+20U4nGISZsMGKALIhUilyK9kmHJCJDCBOyiGAiMDfddFP5Fe2TbpNNNilET3nIheipT7Eik87tuOOOJa1Ip7qQYPkREOlXXXXVB/gAadQn4inyqw1IEmIU31D39Z+IvJFPGtE66RFZ6UXzlI8UaxeSFmseRe9EPhEuBOuVr3xl+SqUqCCChTCSQzQTeaMnEUHp1KNMJAqRQ6pEM0MWZE675UXMA8ig+n0bnvym9/faa68SsaQ7m2gjPWkr8ilK7aMLzp133nmFvO+6667NggULSpRU5NM55dEjAo0cqmvDDTcs5c+fP78QXW2gZ9FXUdUabkSQSIRT+1772tc2O+ywQ9GVvkUy1ae9t912W9l3nj60AymOGw+y0Km+okORf5ErYwLZphPt2GWXXcqYdHzLLbcs7SKbmxJy6gNyq8uXk+g5uUKiX3D9nnvuueVaZqMgI6qJRCIxjUACkEKEBzExhbriiiuW/31X3jS5qWBECNFAAtZaa60yFYYsIKYIArIkooYwSCM/sohE+EUCt99+++ZVr3pVyau80YDAIh3IpA0Z6gZyXXrppWV96lFHHVUeprJkAaFDgtQv4uh/cvhVPsJKFpE8JCyinXSy+uqrlzSIKnJpCQESJoqrzabspUO8RP3873yQT/UgrQiW86KDCCKSpj5Ek35rkhpwzFIH5DSm7k17r7zyyqVc5Kytjygb1InMqUNfIqfK0+6AMrVB+7VJfyHSHDJ9krmG+pSP9FrCIR9ZEH7EHRF1XN/TpfY6FhFsG1JMHqTZ+YD6EGQ61F7rjY07+hkL5FYnnUY/JBJTiSSqiUQiMY3g2BFVZAEZQSSQGCQUEUFeEFOkSzrkB7GxIQiIijyikogMUoiEIq4IE0Jy1VVXlUhfRGxFQpUzGpSLhARRRSK7wbpEZAxhQu6QMgRSlA9BRTQjP/JJbqSNnAiXdiFXZPdLNrLTAQKErHpoSxtOP/305qyzzmpuvPHGMvWvzQiSyAsyhuiRRxnkp5doB3lMdwOyiyh30gPZlEHnyiSHPrFJH/XV0EbH63zaKY/622s31aHf9LEy1UEf9EMf7fLpDxl2IyKP/pdPOaLaCCZSKr+2kiWItbKlpQtyieTanBc1dVxk283GlVdeWcaMcsg9FqSJfqKDJKqJqUYS1UQikZhGICRISEQtkZsAAoAIIDRITBA8WzsdYoGcKAM5QVRNDyMm1m3Ga6OQVYSnHRFsQx3KJJu0bQJCbjIjl9Jtuummzetf//qy+T8eNFJX5K1lBuQNwXIegUQkkSQyi0iSQT2ifZZGeLDnQx/6UHkQDLFCjLQ1SJ3y6zqQM6QcEdMOEWfT+sijqGuQrH6BvEGS222dLOhI/yL+bRJL//SApPs/9NBpnIROlUUHbiwsH0H4LSugY8sGLB9Q12hQdtSnPDpOopqYaiRRTSQSiWkE4oA4ie4hTrWjRyiQRIQBEQD7CEFNVkTgEEYEyQbSW4do/ePb3va25p3vfGeJnlnfiPR5MGs0yC/qRrYgXzXIEQ8qiWySG2HRDvUi14ik9bNBlshcy43kmFJXh3SIrXJjrW0QK0/Z/9u//Vtz4oknlg8KxHb00Uc3e++9dyG20rXhmMiwiLT/PQiFtGuPiG1N4iYLstqmiqzRv5sVetWWWo81ifW/c37bNxjGiY2MZHVOZNba5L//+79vPKLyxje+sYwl61eNldGgHnUqj2x0rdxEYiqRRDWRSCSmEUgHooY4IRYeshGFRPJMg99www0lEmrKF3lDChDEWMtpvWS8Jkp0UlTNutSIjIlSIn5BCBEaZCUIDLJhX901gvggdbY2AZHfefKKxFm6oBxRVtE5JBe5QoRE+5ShLsejbm13XGRPPtFS+yGr/BH51D4yKk97lKNt2joa4VSH6CxSTG+e1Eeo1NFPIGpk02/WgOo7fYWAk5N+anI5XtC//jdOtEMdEYV3s2AphIeg9IGlAJYfxDtupbPpK/KY8leWceOhMQ+rkTWWQ5BTO4yBgHqU3W5D9KebBXql70RiKpEjLJFIJKYRSBYSZa0mkmBtJ2KKaHqlURBXxC3WFNr3RSlvZTGl71VCiIyHqpAUQEwcR1aXLFlS3gKA1CEw1pAqDwFErpA39XhQB2FBRpBQpAZ5kaZNVBGSOI5Ek1k9CJNXLIn8eRhHfkRVWnmQ2CDF2o6MIpIhB/mRbWmVjZg5TxbEi15s/o9Xb41FAJWH3EZ96rL1E4iaJQait/rQO2jpA4lHKsk5GdAHci26TH/6K3ThLQbqcFz7PFTmQTZLJpyzVMINjyipfjfdbxzQGwIt0qzfpPE/ves/45HO/CKtbhb0rTxxsyEyrxxtR1RHu2lIJPqBfD1VIpFI9BG9vJ4qSAiIlnnZPAIiGuZhqnnz5hXigVzZlwap8HAR4oB0bLXVVuWl/QgZAurhJlFXBOTCCy8sL9x33BsErCFFrAChvfbaa8vaTSQVESIP4oMMefpepBbhrIHMIDAioMjn4sWLy0NbonNIzXbbbVfkQRKRpyCV/keU5QsoyznlvOxlLyt1IlSgDu0WzfOS/CuuuKK0hdzx9Lsyg4QhaepUJvBbbgSsfUWq1O2hL+S3k08jh/WyljPQlZsD5SNmpsJFsJFnekbY9BGdSYfcqd/6Wb6TPpB4NxbIur5TrweP6Fs58gVp9rorOlCXmw5R2hr6DyEkg+jpxRdfXPqXfNoUH12gM7Ig98bJ5ZdfXm5sjBNvlfDCfv0vDR14tddll11WZNZuN0OWA4RuyeO4myLtcTMRbwRAhEVfEXRtR1YTiX7BTVD79VT5ZapEIpHoI8bzZSoEBqESHEAaOX2kA4kNYocEOo/QSI+EIU0MOcKDoClLdE0EVXnSISTSISdBUJRlPSKCJF9EW6UXCUQIvVvTmlNydIK0CKC6kEnlIEvIjF/ygfWniK+6dt9990LYgkySQxnapX4EDUEKIKXIHmKISJI96tBm+6bXlaeNSJhjAUQLUbMhYR4eQqo6gSyIoLriNVd8nzK0kSx0gRTTHf0ij1Gn8/JqD33oQ6TSUgCvi0Io5dVW5WhrkHJtNJWu77WtE+lzDgHV/9Lr63a/AvJINumU6XgQWP2sTcrSf9pFXmNGf0njxoRs0skfY047yeaXntxU0ZEbDPqK/k4k+gHXXfvLVElUE4lEoo/olagOCrgAax4tG0BeREZjWncyQJqUa8peRFeEuN/rRDtBe7TDEgjRZy/W9xonZK2fQPqQOWRcNJvOREBFZ6+++uoSefWxApFHxHImg061VX+K2ouA+9Su9iZPSPQTnYhqjrBEIpGYpYgIWzyoZepbpLYf07mIoYibzRpOBC7Wqk4VRDRFN0VzRTRFLiP62W/Ql4ijSLTP3CJx6jWtLmKJxCHm/dDlsoZorTZpX6yHjehrIjHVyFGWSCQSsxRIajyYJUpmmrxeSzoZIDEijT7DidSJyJk6bk3i9RXIqZfYL1q0qPzvs7GmtetlBf2CMi1bsFbYWtbjjz++Oeigg8rHCRBjXwWzHjWm+WcyrFNFVC0BEOly85FITBdy6j+RSCT6iJk09S9SZv2jdZbIlWhqvdZzskBQrQH1YJUII9KIuPWzjhqm/D20hFipK6b8p8qXxZpfb09AjBF/6zc9NIWkq3uq2jqdcINhE7FGvqciQp1IQKep/ySqiUQi0UfMtDWqiUQiMSjoRFSTiSYSiUQikUgkBhJJVBOJRCKRSCQSA4kkqolEIpFIJBKJgUQS1UQikUgkEonEQCKJaiKRSCQSiURiIJFENZFIJBKJRCIxkOj4eqpbbrmlOfLII5eL978lEonEdOI973lP+f2Xf/mX8ptIJBKJ3oCS4p+bb7559/eoHnzwwc0JJ5wwvJdIJBKJRCKRSEwffOXN197gQUTVt3zvvPPO4b1EIpFIJBKJRGL64Otu66yzTvl/zlZbbfXXmOJvcdayH1+ninPStv9v57cf53xlQBmRLtJAp/yxXx+r0c4DsV/XFeiUHiJ9jXaZEMe6lemsM2W/nB2CPMPnnXP8vuH9AmWN9v/QbymP7oePSRFlKYfsUb+yodQ3/H8g0kDIUMvq/xWUV58bzqOkOB9pnQO/IUPZL3+HMLT/1+p4YKhF5bfUFbJLu7SSkq+gHFhavvrq/4f+lv8D991nf+n/UcTIWTtVuX8dSjvypbXhcqN8GKmjZFPX/YWtMGeFkbFS6hhOK/twkrIfehwZ73FuaPN/6CCO+095S9uxNEWcnbPCUFn30tPQ/8P1lePD55XV7fjwP1FUOTdyvML9x4cTDqdRZJFLW4ba7v+oZ2naoVxDuyuQceifqDvGkD1jVx56q/URpUDsx2/ZqjL8GdpV29C/5cgDMpX2D/0T462uK1COD+2X48PllF/Hh/U7pP7y69hwrqEy7it1ayPoo5JoCKXeSk611ddCSTd83jm/991379DvsC1Vf8nZ/v9+RFsCdZ1wr/P+Hz4Ozvgv0kU7o/yl/eN82R2GYw/UGUR98T+MlDv0G2N9BMNp/I1x8ABUZZXzw/+Xo85F+ijTfrf/h1Hkif+HtvvPDCHyDKcPmcv/5e8Qokyo0o+UO5xePvqGul2hj/r/9m/7XI1uecHv/Tbn/ryd8kB9vI06XY043i2v/RiDca5dZ6f89uPcA67/Ki90yh/79bEa7TwQ+92u/3Z6iPQ12mVCHBurzF7O12WN9r9fW623GvbJXueDyFujzhtldUoz2rEoo87fzhNpIM7XqMuq/4c6fbd0c9ZYY42/Usi9997bzJ07d6Tz6mNQF1Z3cH3cb63AGnEu/rfJq3y/kS/SxXkbWRyr5XMcpIvfyBv78Rt5tQdiAEQZNSIfOF+XYz9kK9vQ8VquSB/lRrp2PbEfckCd1uZ/aOcNXYTRlc5+G3UZdblkDblL3mGdgP3o9yjXfnFKw3WEzHFuaQ3312eDpeWXfwvq8w5HO8o5JGAIJe9wOukD0t5zz93N3KHfQKQpeYYQ/4escTywlJQsPS+tNEUXw+lBlvp8yChNKW+4DufLuaEyl+Z7YLkj6YfPOYb4FH1JN5wGQu7IF2X7rc/HFnnjvP8DUUYgynEs+jTKtzmmlPi/vr7qYxDlQKSRd+nxpf3ifFuGQJyL/23yKt8vIhDHo4yhEVtIDVkcq+WTp2Ao3dCfB+RdenipDH6VLa/2GHzKkz/KGC6pIPKB8/eXMyTD0H7IFsdDLnVE+ig30mkHRD1xPuSAUt4wYYxyIM4HSr8MywB+o80jGDoVZchdfofLjf6Mdtyfd6ms0e9xzn6dLmSOc6COqM8GUX6gfV7eKNM5cC7SxTGQ9p577hmpD+q0UJffrhvimE1a+3QR6aF9PmSM40HAna/lb+eL/TjnWOSJ/TjveH0s0vmtz8dWpwP/B+pyIcpxLPo0yreV62E4XVzrymgfgygHIg3Ux/22ZQjEufjfJq/y/Ua+SBfnbWRxrJbPcZAufiNv7Mdv5K3bG2W3EfnA+boc+yFbHK/livRRbqRr1xP7IQfUaW3+h3be0EWc92u/jbqMutzozyijzms/+j3O2a/ThcxxLhD12SDKD7TPRzvAOXAu0sUxWGGFFZr/BxjOf30fwrxfAAAAAElFTkSuQmCC)"
      ],
      "metadata": {
        "id": "fSYNUdvFqYdj"
      }
    },
    {
      "cell_type": "markdown",
      "source": [
        "### Check Unique Values for each variable."
      ],
      "metadata": {
        "id": "u3PMJOP6ngxN"
      }
    },
    {
      "cell_type": "code",
      "source": [
        "# Check Unique Values for each variable.\n",
        "df.nunique()"
      ],
      "metadata": {
        "id": "zms12Yq5n-jE"
      },
      "execution_count": null,
      "outputs": []
    },
    {
      "cell_type": "markdown",
      "source": [
        "### Variables Description \n"
      ],
      "metadata": {
        "id": "PBTbrJXOngz2"
      }
    },
    {
      "cell_type": "code",
      "source": [
        "# Dataset Describe\n",
        "df.describe()"
      ],
      "metadata": {
        "id": "DnOaZdaE5Q5t"
      },
      "execution_count": null,
      "outputs": []
    },
    {
      "cell_type": "markdown",
      "source": [
        "Here we can see that there are some entries in px_height and sc_w which are 0 and that is not possible so we will remove all these wrong data.\n",
        "\n"
      ],
      "metadata": {
        "id": "aJV4KIxSnxay"
      }
    },
    {
      "cell_type": "markdown",
      "source": [
        "## 3. ***Data Wrangling***"
      ],
      "metadata": {
        "id": "dauF4eBmngu3"
      }
    },
    {
      "cell_type": "markdown",
      "source": [
        "### Data Wrangling Code"
      ],
      "metadata": {
        "id": "bKJF3rekwFvQ"
      }
    },
    {
      "cell_type": "code",
      "source": [
        "# Write your code to make your dataset analysis ready.\n",
        "#Removing all the entries with screen width = 0\n",
        "df = df[df['sc_w'] != 0]\n",
        "#Removing all the entries with pixel height = 0\n",
        "df = df[df['px_height'] != 0]\n",
        "df.shape"
      ],
      "metadata": {
        "id": "wk-9a2fpoLcV"
      },
      "execution_count": null,
      "outputs": []
    },
    {
      "cell_type": "markdown",
      "source": [
        "## ***4. Data Vizualization, Storytelling & Experimenting with charts : Understand the relationships between variables***"
      ],
      "metadata": {
        "id": "GF8Ens_Soomf"
      }
    },
    {
      "cell_type": "markdown",
      "source": [
        "#### Chart - 1 Price range vs Ram"
      ],
      "metadata": {
        "id": "0wOQAZs5pc--"
      }
    },
    {
      "cell_type": "code",
      "source": [
        "sns.barplot(x=df['price_range'],y=df[\"ram\"])\n",
        "plt.title('Price range v/s Ram')"
      ],
      "metadata": {
        "id": "7v_ESjsspbW7"
      },
      "execution_count": null,
      "outputs": []
    },
    {
      "cell_type": "markdown",
      "source": [
        "##### 1. Why did you pick the specific chart?"
      ],
      "metadata": {
        "id": "K5QZ13OEpz2H"
      }
    },
    {
      "cell_type": "markdown",
      "source": [
        "To check relation betwwen price range and Ram."
      ],
      "metadata": {
        "id": "XESiWehPqBRc"
      }
    },
    {
      "cell_type": "markdown",
      "source": [
        "##### 2. What is/are the insight(s) found from the chart?"
      ],
      "metadata": {
        "id": "lQ7QKXXCp7Bj"
      }
    },
    {
      "cell_type": "markdown",
      "source": [
        "As the RAM size increases the price also increases."
      ],
      "metadata": {
        "id": "C_j1G7yiqdRP"
      }
    },
    {
      "cell_type": "markdown",
      "source": [
        "##### 3. Will the gained insights help creating a positive business impact? \n",
        "Are there any insights that lead to negative growth? Justify with specific reason."
      ],
      "metadata": {
        "id": "448CDAPjqfQr"
      }
    },
    {
      "cell_type": "markdown",
      "source": [
        "Yes, it will help."
      ],
      "metadata": {
        "id": "3cspy4FjqxJW"
      }
    },
    {
      "cell_type": "markdown",
      "source": [
        "#### Chart - 2 Price Range vs Primary Camera"
      ],
      "metadata": {
        "id": "KSlN3yHqYklG"
      }
    },
    {
      "cell_type": "code",
      "source": [
        "sns.pointplot(y=\"pc\", x=\"price_range\", data=df)"
      ],
      "metadata": {
        "id": "R4YgtaqtYklH"
      },
      "execution_count": null,
      "outputs": []
    },
    {
      "cell_type": "markdown",
      "source": [
        "##### 1. Why did you pick the specific chart?"
      ],
      "metadata": {
        "id": "t6dVpIINYklI"
      }
    },
    {
      "cell_type": "markdown",
      "source": [
        "To check relation between price and Primary Camera."
      ],
      "metadata": {
        "id": "5aaW0BYyYklI"
      }
    },
    {
      "cell_type": "markdown",
      "source": [
        "##### 2. What is/are the insight(s) found from the chart?"
      ],
      "metadata": {
        "id": "ijmpgYnKYklI"
      }
    },
    {
      "cell_type": "markdown",
      "source": [
        "With increase in primary camera mega pixels the price also increases."
      ],
      "metadata": {
        "id": "PSx9atu2YklI"
      }
    },
    {
      "cell_type": "markdown",
      "source": [
        "##### 3. Will the gained insights help creating a positive business impact? \n",
        "Are there any insights that lead to negative growth? Justify with specific reason."
      ],
      "metadata": {
        "id": "-JiQyfWJYklI"
      }
    },
    {
      "cell_type": "markdown",
      "source": [
        "Yes, it will help."
      ],
      "metadata": {
        "id": "BcBbebzrYklV"
      }
    },
    {
      "cell_type": "markdown",
      "source": [
        "#### Chart - 3 Price Range vs Number of Cores"
      ],
      "metadata": {
        "id": "EM7whBJCYoAo"
      }
    },
    {
      "cell_type": "code",
      "source": [
        "\n",
        "df.groupby([\"price_range\"])['n_cores'].value_counts().unstack().plot(kind = \"bar\",figsize=(20,8))\n",
        "#plt.figure(figsize=(20,8))\n",
        "plt.title('Price range v/s no. of cores')\n",
        "plt.show()"
      ],
      "metadata": {
        "id": "t6GMdE67YoAp"
      },
      "execution_count": null,
      "outputs": []
    },
    {
      "cell_type": "markdown",
      "source": [
        "##### 1. Why did you pick the specific chart?"
      ],
      "metadata": {
        "id": "fge-S5ZAYoAp"
      }
    },
    {
      "cell_type": "markdown",
      "source": [
        "To check connection between no. of cores and price range."
      ],
      "metadata": {
        "id": "5dBItgRVYoAp"
      }
    },
    {
      "cell_type": "markdown",
      "source": [
        "##### 2. What is/are the insight(s) found from the chart?"
      ],
      "metadata": {
        "id": "85gYPyotYoAp"
      }
    },
    {
      "cell_type": "markdown",
      "source": [
        "* In low range phones most mobiles have 8 cores.\n",
        "\n",
        "* In medium range phones most mobiles have 1 or 4 cores.\n",
        "\n",
        "* In high range phones most mobiles have 4 cores.\n",
        "\n",
        "* In very high range phones most mobiles have 5 cores."
      ],
      "metadata": {
        "id": "4jstXR6OYoAp"
      }
    },
    {
      "cell_type": "markdown",
      "source": [
        "#### Chart - 4 Battery Power vs Price Range\n",
        "\n"
      ],
      "metadata": {
        "id": "4Of9eVA-YrdM"
      }
    },
    {
      "cell_type": "code",
      "source": [
        "sns.pointplot(y=\"battery_power\", x=\"price_range\", data=df)"
      ],
      "metadata": {
        "id": "irlUoxc8YrdO"
      },
      "execution_count": null,
      "outputs": []
    },
    {
      "cell_type": "markdown",
      "source": [
        "##### 1. Why did you pick the specific chart?"
      ],
      "metadata": {
        "id": "iky9q4vBYrdO"
      }
    },
    {
      "cell_type": "markdown",
      "source": [
        "To check relation b/w price range and battery."
      ],
      "metadata": {
        "id": "aJRCwT6DYrdO"
      }
    },
    {
      "cell_type": "markdown",
      "source": [
        "##### 2. What is/are the insight(s) found from the chart?"
      ],
      "metadata": {
        "id": "F6T5p64dYrdO"
      }
    },
    {
      "cell_type": "markdown",
      "source": [
        "Low range mobile phones have low battery capacity.\n",
        "\n",
        "Medium and high range have almost equal battery power.\n",
        "\n",
        "Very high range mobiles have high battery power."
      ],
      "metadata": {
        "id": "Xx8WAJvtYrdO"
      }
    },
    {
      "cell_type": "markdown",
      "source": [
        "##### 3. Will the gained insights help creating a positive business impact? \n",
        "Are there any insights that lead to negative growth? Justify with specific reason."
      ],
      "metadata": {
        "id": "y-Ehk30pYrdP"
      }
    },
    {
      "cell_type": "markdown",
      "source": [
        "Yes, it will help."
      ],
      "metadata": {
        "id": "jLNxxz7MYrdP"
      }
    },
    {
      "cell_type": "markdown",
      "source": [
        "#### Chart - 5 Internal memory vs Price range"
      ],
      "metadata": {
        "id": "bamQiAODYuh1"
      }
    },
    {
      "cell_type": "code",
      "source": [
        "sns.pointplot(y=\"int_memory\", x=\"price_range\", data=df)"
      ],
      "metadata": {
        "id": "TIJwrbroYuh3"
      },
      "execution_count": null,
      "outputs": []
    },
    {
      "cell_type": "markdown",
      "source": [
        "##### 1. Why did you pick the specific chart?"
      ],
      "metadata": {
        "id": "QHF8YVU7Yuh3"
      }
    },
    {
      "cell_type": "markdown",
      "source": [
        "To check the relation between price range and internal memory."
      ],
      "metadata": {
        "id": "dcxuIMRPYuh3"
      }
    },
    {
      "cell_type": "markdown",
      "source": [
        "##### 2. What is/are the insight(s) found from the chart?"
      ],
      "metadata": {
        "id": "GwzvFGzlYuh3"
      }
    },
    {
      "cell_type": "markdown",
      "source": [
        "When we move to high range to very high range mobile the sudden increment in internal memory can be seen."
      ],
      "metadata": {
        "id": "uyqkiB8YYuh3"
      }
    },
    {
      "cell_type": "markdown",
      "source": [
        "##### 3. Will the gained insights help creating a positive business impact? \n",
        "Are there any insights that lead to negative growth? Justify with specific reason."
      ],
      "metadata": {
        "id": "qYpmQ266Yuh3"
      }
    },
    {
      "cell_type": "markdown",
      "source": [
        "Yes, it will help."
      ],
      "metadata": {
        "id": "_WtzZ_hCYuh4"
      }
    },
    {
      "cell_type": "markdown",
      "source": [
        "#### Chart - 6 Talk Time vs Price Range"
      ],
      "metadata": {
        "id": "OH-pJp9IphqM"
      }
    },
    {
      "cell_type": "code",
      "source": [
        "# Chart - 6 visualization code\n",
        "sns.pointplot(y=\"talk_time\", x=\"price_range\", data=df)"
      ],
      "metadata": {
        "id": "kuRf4wtuphqN"
      },
      "execution_count": null,
      "outputs": []
    },
    {
      "cell_type": "markdown",
      "source": [
        "##### 1. Why did you pick the specific chart?"
      ],
      "metadata": {
        "id": "bbFf2-_FphqN"
      }
    },
    {
      "cell_type": "markdown",
      "source": [
        "To check relation between talk time and price range."
      ],
      "metadata": {
        "id": "loh7H2nzphqN"
      }
    },
    {
      "cell_type": "markdown",
      "source": [
        "##### 2. What is/are the insight(s) found from the chart?"
      ],
      "metadata": {
        "id": "_ouA3fa0phqN"
      }
    },
    {
      "cell_type": "markdown",
      "source": [
        "* Low range phones have low talk time.\n",
        "\n",
        "* Medium range phones have highest talk time.\n",
        "\n",
        "* High and very high range phones have moderate talk time.\n",
        "\n",
        "* This result is may be due to the more features in high range phones which drains more battery that's why it is possible to have low talk time while having high battery power."
      ],
      "metadata": {
        "id": "VECbqPI7phqN"
      }
    },
    {
      "cell_type": "markdown",
      "source": [
        "##### 3. Will the gained insights help creating a positive business impact? \n",
        "Are there any insights that lead to negative growth? Justify with specific reason."
      ],
      "metadata": {
        "id": "Seke61FWphqN"
      }
    },
    {
      "cell_type": "markdown",
      "source": [
        "Yes, it will help."
      ],
      "metadata": {
        "id": "DW4_bGpfphqN"
      }
    },
    {
      "cell_type": "markdown",
      "source": [
        "#### Chart - 7 Mobile Weight vs Price Range"
      ],
      "metadata": {
        "id": "PIIx-8_IphqN"
      }
    },
    {
      "cell_type": "code",
      "source": [
        "sns.pointplot(y=\"mobile_wt\", x=\"price_range\", data=df)"
      ],
      "metadata": {
        "id": "lqAIGUfyphqO"
      },
      "execution_count": null,
      "outputs": []
    },
    {
      "cell_type": "markdown",
      "source": [
        "##### 1. Why did you pick the specific chart?"
      ],
      "metadata": {
        "id": "t27r6nlMphqO"
      }
    },
    {
      "cell_type": "markdown",
      "source": [
        "To check the relation between mobile weight and price range."
      ],
      "metadata": {
        "id": "iv6ro40sphqO"
      }
    },
    {
      "cell_type": "markdown",
      "source": [
        "##### 2. What is/are the insight(s) found from the chart?"
      ],
      "metadata": {
        "id": "r2jJGEOYphqO"
      }
    },
    {
      "cell_type": "markdown",
      "source": [
        "Very high range phones have very low weight."
      ],
      "metadata": {
        "id": "Po6ZPi4hphqO"
      }
    },
    {
      "cell_type": "markdown",
      "source": [
        "##### 3. Will the gained insights help creating a positive business impact? \n",
        "Are there any insights that lead to negative growth? Justify with specific reason."
      ],
      "metadata": {
        "id": "b0JNsNcRphqO"
      }
    },
    {
      "cell_type": "markdown",
      "source": [
        "Yes, it will help."
      ],
      "metadata": {
        "id": "xvSq8iUTphqO"
      }
    },
    {
      "cell_type": "markdown",
      "source": [
        "#### Chart - 8 Pixel Height and Width vs Price Range"
      ],
      "metadata": {
        "id": "BZR9WyysphqO"
      }
    },
    {
      "cell_type": "code",
      "source": [
        "# Chart - 8 visualization code\n",
        "sns.pointplot(y=\"px_width\", x=\"price_range\", data=df)\n",
        "plt.show()\n",
        "sns.pointplot(y=\"px_height\", x=\"price_range\", data=df)"
      ],
      "metadata": {
        "id": "TdPTWpAVphqO"
      },
      "execution_count": null,
      "outputs": []
    },
    {
      "cell_type": "markdown",
      "source": [
        "##### 1. Why did you pick the specific chart?"
      ],
      "metadata": {
        "id": "jj7wYXLtphqO"
      }
    },
    {
      "cell_type": "markdown",
      "source": [
        "To check relation between Pixel Height and Width vs Price Range"
      ],
      "metadata": {
        "id": "Ob8u6rCTphqO"
      }
    },
    {
      "cell_type": "markdown",
      "source": [
        "##### 2. What is/are the insight(s) found from the chart?"
      ],
      "metadata": {
        "id": "eZrbJ2SmphqO"
      }
    },
    {
      "cell_type": "markdown",
      "source": [
        "Low range phones have low pixel height and width.\n",
        "\n",
        "Medium and high range phones have moderate pixel height and width.\n",
        "\n",
        "Very high range phones have high pixel height and width."
      ],
      "metadata": {
        "id": "mZtgC_hjphqO"
      }
    },
    {
      "cell_type": "markdown",
      "source": [
        "##### 3. Will the gained insights help creating a positive business impact? \n",
        "Are there any insights that lead to negative growth? Justify with specific reason."
      ],
      "metadata": {
        "id": "rFu4xreNphqO"
      }
    },
    {
      "cell_type": "markdown",
      "source": [
        "Yes, it will help."
      ],
      "metadata": {
        "id": "ey_0qi68phqO"
      }
    },
    {
      "cell_type": "markdown",
      "source": [
        "#### Chart - 9 Value Counts of different features"
      ],
      "metadata": {
        "id": "YJ55k-q6phqO"
      }
    },
    {
      "cell_type": "code",
      "source": [
        "# Chart - 9 visualization code\n",
        "for i in [\"blue\",'dual_sim','four_g','n_cores','three_g','touch_screen','wifi','price_range']:\n",
        "  df[i].value_counts().plot(kind = \"pie\",autopct='%1.1f%%')\n",
        "  plt.show()"
      ],
      "metadata": {
        "id": "B2aS4O1ophqO"
      },
      "execution_count": null,
      "outputs": []
    },
    {
      "cell_type": "markdown",
      "source": [
        "##### 1. Why did you pick the specific chart?"
      ],
      "metadata": {
        "id": "gCFgpxoyphqP"
      }
    },
    {
      "cell_type": "markdown",
      "source": [
        "To examine value counts of different features."
      ],
      "metadata": {
        "id": "TVxDimi2phqP"
      }
    },
    {
      "cell_type": "markdown",
      "source": [
        "##### 2. What is/are the insight(s) found from the chart?"
      ],
      "metadata": {
        "id": "OVtJsKN_phqQ"
      }
    },
    {
      "cell_type": "markdown",
      "source": [
        "76% phones have 3G while 24% do not and all other features are almost balanced."
      ],
      "metadata": {
        "id": "ngGi97qjphqQ"
      }
    },
    {
      "cell_type": "markdown",
      "source": [
        "#### Chart - 10 Correlation "
      ],
      "metadata": {
        "id": "U2RJ9gkRphqQ"
      }
    },
    {
      "cell_type": "code",
      "source": [
        "# Chart - 10 visualization code\n",
        "plt.figure(figsize=(20, 15))\n",
        "sns.heatmap(df.corr(), cmap='coolwarm', annot = True)"
      ],
      "metadata": {
        "id": "GM7a4YP4phqQ"
      },
      "execution_count": null,
      "outputs": []
    },
    {
      "cell_type": "markdown",
      "source": [
        "##### 1. Why did you pick the specific chart?"
      ],
      "metadata": {
        "id": "1M8mcRywphqQ"
      }
    },
    {
      "cell_type": "markdown",
      "source": [
        "To check the multicollinearity."
      ],
      "metadata": {
        "id": "8agQvks0phqQ"
      }
    },
    {
      "cell_type": "markdown",
      "source": [
        "##### 2. What is/are the insight(s) found from the chart?"
      ],
      "metadata": {
        "id": "tgIPom80phqQ"
      }
    },
    {
      "cell_type": "markdown",
      "source": [
        "RAM is the most influential feature in price prediction.\n",
        "\n",
        "3G & 4G, pixel height & width, screen height & width and front camera & primary camera are correlated which is obvious.\n",
        "\n",
        "We will merge this columns in feature manipulation section."
      ],
      "metadata": {
        "id": "Qp13pnNzphqQ"
      }
    },
    {
      "cell_type": "markdown",
      "source": [
        "##### 3. Will the gained insights help creating a positive business impact? \n",
        "Are there any insights that lead to negative growth? Justify with specific reason."
      ],
      "metadata": {
        "id": "JMzcOPDDphqR"
      }
    },
    {
      "cell_type": "markdown",
      "source": [
        "Yes, it will help."
      ],
      "metadata": {
        "id": "R4Ka1PC2phqR"
      }
    },
    {
      "cell_type": "markdown",
      "source": [
        "#### Chart - 11 Pair Plot"
      ],
      "metadata": {
        "id": "x-EpHcCOp1ci"
      }
    },
    {
      "cell_type": "code",
      "source": [
        "# Chart - 11 visualization code\n",
        "sns.pairplot(df, hue=\"price_range\")"
      ],
      "metadata": {
        "id": "mAQTIvtqp1cj"
      },
      "execution_count": null,
      "outputs": []
    },
    {
      "cell_type": "markdown",
      "source": [
        "## ***6. Feature Engineering & Data Pre-processing***"
      ],
      "metadata": {
        "id": "yLjJCtPM0KBk"
      }
    },
    {
      "cell_type": "markdown",
      "source": [
        "### 1. Handling Missing Values"
      ],
      "metadata": {
        "id": "xiyOF9F70UgQ"
      }
    },
    {
      "cell_type": "code",
      "source": [
        "# There are no missing values but there were some wrong entries which is already handled"
      ],
      "metadata": {
        "id": "iRsAHk1K0fpS"
      },
      "execution_count": null,
      "outputs": []
    },
    {
      "cell_type": "markdown",
      "source": [
        "### 2. Handling Outliers"
      ],
      "metadata": {
        "id": "id1riN9m0vUs"
      }
    },
    {
      "cell_type": "code",
      "source": [
        "#Checking for outliers using boxplot\n",
        "for i in list(df.columns):\n",
        "  sns.boxplot(x=i,data=df)\n",
        "  plt.show()"
      ],
      "metadata": {
        "id": "M6w2CzZf04JK"
      },
      "execution_count": null,
      "outputs": []
    },
    {
      "cell_type": "markdown",
      "source": [
        "There aren't any outliers."
      ],
      "metadata": {
        "id": "578E2V7j08f6"
      }
    },
    {
      "cell_type": "markdown",
      "source": [
        "### 4. Feature Manipulation & Selection"
      ],
      "metadata": {
        "id": "-oLEiFgy-5Pf"
      }
    },
    {
      "cell_type": "markdown",
      "source": [
        "#### 1. Feature Manipulation"
      ],
      "metadata": {
        "id": "C74aWNz2AliB"
      }
    },
    {
      "cell_type": "code",
      "source": [
        "dfn = df.copy()"
      ],
      "metadata": {
        "id": "J_A9CclOCO1t"
      },
      "execution_count": null,
      "outputs": []
    },
    {
      "cell_type": "code",
      "source": [
        "# Manipulate Features to minimize feature correlation and create new features\n",
        "df['Screen Size']= round(np.sqrt(df['sc_h']**2+df['sc_w']**2),2)\n",
        "\n",
        "df['Pixels']=df['px_height']*df['px_width']"
      ],
      "metadata": {
        "id": "h1qC4yhBApWC"
      },
      "execution_count": null,
      "outputs": []
    },
    {
      "cell_type": "markdown",
      "source": [
        "#### 2. Feature Selection"
      ],
      "metadata": {
        "id": "2DejudWSA-a0"
      }
    },
    {
      "cell_type": "code",
      "source": [
        "# Select your features wisely to avoid overfitting\n",
        "df.drop(columns=[\"sc_h\",'sc_w','px_height','px_width'],axis=1,inplace=True)"
      ],
      "metadata": {
        "id": "YLhe8UmaBCEE"
      },
      "execution_count": null,
      "outputs": []
    },
    {
      "cell_type": "markdown",
      "source": [
        "### 5. Data Transformation"
      ],
      "metadata": {
        "id": "TNVZ9zx19K6k"
      }
    },
    {
      "cell_type": "markdown",
      "source": [
        "#### Do you think that your data needs to be transformed? If yes, which transformation have you used. Explain Why?"
      ],
      "metadata": {
        "id": "nqoHp30x9hH9"
      }
    },
    {
      "cell_type": "code",
      "source": [
        "X=df.drop(columns = ['price_range'])\n",
        "y=df['price_range']"
      ],
      "metadata": {
        "id": "I6quWQ1T9rtH"
      },
      "execution_count": null,
      "outputs": []
    },
    {
      "cell_type": "markdown",
      "source": [
        "### 8. Data Splitting"
      ],
      "metadata": {
        "id": "BhH2vgX9EjGr"
      }
    },
    {
      "cell_type": "code",
      "source": [
        "#train test split of data\n",
        "X_train, X_test, y_train, y_test= train_test_split(X, y, test_size=0.2, random_state=42)"
      ],
      "metadata": {
        "id": "0CTyd2UwEyNM"
      },
      "execution_count": null,
      "outputs": []
    },
    {
      "cell_type": "markdown",
      "source": [
        "##### What data splitting ratio have you used and why? "
      ],
      "metadata": {
        "id": "qjKvONjwE8ra"
      }
    },
    {
      "cell_type": "markdown",
      "source": [
        "Answer Here."
      ],
      "metadata": {
        "id": "Y2lJ8cobFDb_"
      }
    },
    {
      "cell_type": "markdown",
      "source": [
        "### 6. Data Scaling"
      ],
      "metadata": {
        "id": "rMDnDkt2B6du"
      }
    },
    {
      "cell_type": "code",
      "source": [
        "scaler = MinMaxScaler()\n",
        "X_train = scaler.fit_transform(X_train)\n",
        "X_test = scaler.transform(X_test)"
      ],
      "metadata": {
        "id": "dL9LWpySC6x_"
      },
      "execution_count": null,
      "outputs": []
    },
    {
      "cell_type": "markdown",
      "source": [
        "### 9. Handling Imbalanced Dataset"
      ],
      "metadata": {
        "id": "P1XJ9OREExlT"
      }
    },
    {
      "cell_type": "markdown",
      "source": [
        "We have a balanced dataset."
      ],
      "metadata": {
        "id": "VFOzZv6IFROw"
      }
    },
    {
      "cell_type": "markdown",
      "source": [
        "## ***7. ML Model Implementation***"
      ],
      "metadata": {
        "id": "VfCC591jGiD4"
      }
    },
    {
      "cell_type": "markdown",
      "source": [
        "### Function of Confusion matrix"
      ],
      "metadata": {
        "id": "4TgCVsV1FOIe"
      }
    },
    {
      "cell_type": "code",
      "source": [
        "def my_confusion_matrix(y_test, y_pred, plt_title):\n",
        "    cm=confusion_matrix(y_test, y_pred)\n",
        "    print(classification_report(y_test, y_pred))\n",
        "    sns.heatmap(cm, annot=True, fmt='g', cbar=False, cmap='BuPu')\n",
        "    plt.xlabel('Predicted Values')\n",
        "    plt.ylabel('Actual Values')\n",
        "    plt.title(plt_title)\n",
        "    plt.show()\n",
        "    return cm"
      ],
      "metadata": {
        "id": "L4CYwxilFT-Z"
      },
      "execution_count": null,
      "outputs": []
    },
    {
      "cell_type": "markdown",
      "source": [
        "### ML Model - 1 Random Forest Classifier"
      ],
      "metadata": {
        "id": "OB4l2ZhMeS1U"
      }
    },
    {
      "cell_type": "code",
      "source": [
        "rf=RandomForestClassifier()\n",
        "\n",
        "rf.fit(X_train, y_train)\n",
        "y_pred_rf=rf.predict(X_test)\n",
        "\n",
        "print('Random Forest Classifier Test Accuracy Score: ',accuracy_score(y_test,y_pred_rf))\n",
        "cm_rfc=my_confusion_matrix(y_test, y_pred_rf, 'Random Forest Confusion Matrix')"
      ],
      "metadata": {
        "id": "7ebyywQieS1U"
      },
      "execution_count": null,
      "outputs": []
    },
    {
      "cell_type": "markdown",
      "source": [
        "#### 1. Explain the ML Model used and it's performance using Evaluation metric Score Chart."
      ],
      "metadata": {
        "id": "ArJBuiUVfxKd"
      }
    },
    {
      "cell_type": "markdown",
      "source": [
        "**Random Forest Classifier has good test accuracy score of 86%.**"
      ],
      "metadata": {
        "id": "lVCNWkuzMMmr"
      }
    },
    {
      "cell_type": "markdown",
      "source": [
        "#### 2. Feature Importance"
      ],
      "metadata": {
        "id": "HvGl1hHyA_VK"
      }
    },
    {
      "cell_type": "code",
      "source": [
        "feature = df.drop(columns = [\"price_range\"]).columns\n",
        "importances = rf.feature_importances_\n",
        "\n",
        "\n",
        "importance_dict = {'Feature' : list(feature),\n",
        "                   'Feature Importance' : importances}\n",
        "\n",
        "importance_df = pd.DataFrame(importance_dict)\n",
        "\n",
        "\n",
        "importance_df['Feature Importance'] = round(importance_df['Feature Importance'],2)\n",
        "pd.set_option('display.max_columns', 200)\n",
        "pd.set_option('display.max_rows', 200)\n",
        "print(importance_df.sort_values(by=['Feature Importance'],ascending=False))"
      ],
      "metadata": {
        "id": "uR01OsPEJY_f"
      },
      "execution_count": null,
      "outputs": []
    },
    {
      "cell_type": "markdown",
      "source": [
        "From here we can clearly see that the RAM is the most important feature."
      ],
      "metadata": {
        "id": "6ksF5Q1LKTVm"
      }
    },
    {
      "cell_type": "markdown",
      "source": [
        "### ML Model - 2 Naive Bayes Classifier"
      ],
      "metadata": {
        "id": "dJ2tPlVmpsJ0"
      }
    },
    {
      "cell_type": "code",
      "source": [
        "nb = GaussianNB()\n",
        "\n",
        "nb.fit(X_train, y_train)\n",
        "y_pred_nb=nb.predict(X_test)\n",
        "\n",
        "print('Gaussian Naive Bayes Classifier Accuracy Score: ',accuracy_score(y_test,y_pred_nb))\n",
        "cm_rfc=my_confusion_matrix(y_test, y_pred_nb, 'Gaussian Naive Bayes Confusion Matrix')"
      ],
      "metadata": {
        "id": "yEl-hgQWpsJ1"
      },
      "execution_count": null,
      "outputs": []
    },
    {
      "cell_type": "markdown",
      "source": [
        "NB Classifier also have a good test accuracy score of 79%."
      ],
      "metadata": {
        "id": "ERLqCZ33M2Tk"
      }
    },
    {
      "cell_type": "markdown",
      "source": [
        "### ML Model - 3 KNN"
      ],
      "metadata": {
        "id": "Fze-IPXLpx6K"
      }
    },
    {
      "cell_type": "code",
      "source": [
        "knn = KNeighborsClassifier()\n",
        "\n",
        "knn.fit(X_train, y_train)\n",
        "y_pred_knn=knn.predict(X_test)\n",
        "\n",
        "print('KNN Classifier Accuracy Score: ',accuracy_score(y_test,y_pred_knn))\n",
        "cm_rfc=my_confusion_matrix(y_test, y_pred_knn, 'KNN Confusion Matrix')"
      ],
      "metadata": {
        "id": "FFrSXAtrpx6M"
      },
      "execution_count": null,
      "outputs": []
    },
    {
      "cell_type": "markdown",
      "source": [
        "KNN has got bad accuracy of only 39%."
      ],
      "metadata": {
        "id": "-vMP4aSwNIA2"
      }
    },
    {
      "cell_type": "markdown",
      "source": [
        "### ML Model - 4 Support Vector Machine"
      ],
      "metadata": {
        "id": "7AN1z2sKpx6M"
      }
    },
    {
      "cell_type": "code",
      "source": [
        "svmc = svm.SVC()\n",
        "\n",
        "svmc.fit(X_train, y_train)\n",
        "y_pred_svm=svmc.predict(X_test)\n",
        "\n",
        "print('SVM Classifier Accuracy Score: ',accuracy_score(y_test,y_pred_svm))\n",
        "cm_rfc=my_confusion_matrix(y_test, y_pred_svm, 'SVM Confusion Matrix')"
      ],
      "metadata": {
        "id": "xIY4lxxGpx6M"
      },
      "execution_count": null,
      "outputs": []
    },
    {
      "cell_type": "markdown",
      "source": [
        "SVM has a good accuracy score of 85%."
      ],
      "metadata": {
        "id": "xpl0KoTwNWdd"
      }
    },
    {
      "cell_type": "markdown",
      "source": [
        "## ML Model - 5 Logistic Regression"
      ],
      "metadata": {
        "id": "TexvqGpvHLWY"
      }
    },
    {
      "cell_type": "code",
      "source": [
        "from sklearn.linear_model import LogisticRegression\n",
        "LR = LogisticRegression(fit_intercept=True, max_iter=10000)\n",
        "\n",
        "LR.fit(X_train, y_train)\n",
        "y_pred_LR=LR.predict(X_test)\n",
        "\n",
        "print('Logistic Regression Accuracy Score: ',accuracy_score(y_test,y_pred_LR))\n",
        "cm_rfc=my_confusion_matrix(y_test, y_pred_LR, 'LR Confusion Matrix')"
      ],
      "metadata": {
        "id": "ZPncig0kHN5v"
      },
      "execution_count": null,
      "outputs": []
    },
    {
      "cell_type": "markdown",
      "source": [
        "It has a very good accuracy score of 88%."
      ],
      "metadata": {
        "id": "qHj4N-gBNlQx"
      }
    },
    {
      "cell_type": "markdown",
      "source": [
        "### 2. Cross- Validation & Hyperparameter Tuning"
      ],
      "metadata": {
        "id": "9PIHJqyupx6M"
      }
    },
    {
      "cell_type": "code",
      "source": [
        "# creating parameters\n",
        "\n",
        "model = LogisticRegression()\n",
        "penalty = ['l2','l1']\n",
        "c_values = [100, 10, 1.0, 0.1, 0.01]\n",
        "# define grid search\n",
        "grid = dict(penalty=penalty,C=c_values)\n",
        "grid_search = GridSearchCV(estimator=model, param_grid=grid, cv=3, scoring='accuracy')\n",
        "grid_search.fit(X_train, y_train)"
      ],
      "metadata": {
        "id": "eSVXuaSKpx6M"
      },
      "execution_count": null,
      "outputs": []
    },
    {
      "cell_type": "code",
      "source": [
        "print(\"Best parameters are  \\n\",grid_search.best_params_)\n",
        "\n",
        "# predit \n",
        "y_train_preds = grid_search.best_estimator_.predict(X_train)\n",
        "y_test_preds = grid_search.best_estimator_.predict(X_test)\n",
        "\n",
        "print(\"\\n \\n\")\n",
        "TrainAccuracy = accuracy_score(y_train,y_train_preds)\n",
        "\n",
        "\n",
        "TestAccuracy= accuracy_score(y_test, y_test_preds)\n",
        "\n",
        "print(f\"Train_Accuracy  {TrainAccuracy}\")\n",
        "print(f\"Test_Accuracy  {TestAccuracy}\")"
      ],
      "metadata": {
        "id": "7ZCHpR2iRivS"
      },
      "execution_count": null,
      "outputs": []
    },
    {
      "cell_type": "markdown",
      "source": [
        "After applying hyperparameter tuning on Logistic Regression we got a very high test accuracy of 93%."
      ],
      "metadata": {
        "id": "lQMffxkwpx6N"
      }
    },
    {
      "cell_type": "markdown",
      "source": [
        "# **Conclusion**"
      ],
      "metadata": {
        "id": "gCX9965dhzqZ"
      }
    },
    {
      "cell_type": "markdown",
      "source": [
        "In our analysis, we initially did EDA on all the features of our datset. We handled wrong entries in different variables. Then checked outliers in our dataset. Then dropped features that are of no use. Next found out the correlation, distribution and their relationship with the dependent variable. \n",
        "\n",
        "\n",
        "Next we implemented five machine learning algorithms random forest classifier, naive bayes classifier, KNN, Support vector machine and logistic regression. We did hyperparameter tuning to improve our model performance. The results of our evaluation are:\n",
        "\n",
        "* Random forest and logistic regression have high accuracy of 85% and 88%.\n",
        "\n",
        "* After hyperparameter tuning on logistic regression the accuracy increases to 93%.\n",
        "\n",
        "* RAM is the most influential feature."
      ],
      "metadata": {
        "id": "Fjb1IsQkh3yE"
      }
    },
    {
      "cell_type": "markdown",
      "source": [
        "### ***Hurrah! You have successfully completed your Machine Learning Capstone Project !!!***"
      ],
      "metadata": {
        "id": "gIfDvo9L0UH2"
      }
    }
  ]
}